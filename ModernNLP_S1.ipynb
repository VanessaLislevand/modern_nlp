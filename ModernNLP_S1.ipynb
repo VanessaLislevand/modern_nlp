{
  "nbformat": 4,
  "nbformat_minor": 0,
  "metadata": {
    "colab": {
      "name": "ModernNLP-S1.ipynb",
      "provenance": [],
      "collapsed_sections": [],
      "authorship_tag": "ABX9TyN1GVTJjQEpjN8G2Mg10ApX",
      "include_colab_link": true
    },
    "kernelspec": {
      "name": "python3",
      "display_name": "Python 3"
    },
    "language_info": {
      "name": "python"
    }
  },
  "cells": [
    {
      "cell_type": "markdown",
      "metadata": {
        "id": "view-in-github",
        "colab_type": "text"
      },
      "source": [
        "<a href=\"https://colab.research.google.com/github/ipavlopoulos/modern_nlp/blob/main/ModernNLP_S1.ipynb\" target=\"_parent\"><img src=\"https://colab.research.google.com/assets/colab-badge.svg\" alt=\"Open In Colab\"/></a>"
      ]
    },
    {
      "cell_type": "markdown",
      "metadata": {
        "id": "Khz58hzullVA"
      },
      "source": [
        "# ModernNLP: #1\n",
        "* Talk about word usage change and this recent [Simple, Interpretable and Stable Method for Detecting Words with Usage Change across Corpora](https://www.aclweb.org/anthology/2020.acl-main.51.pdf).\n",
        "* As background, read Mikolov's [ICLR](https://research.google/pubs/pub41224/) and [NIPS](https://papers.nips.cc/paper/2013/hash/9aa42b31882ec039965f3c4923ce901b-Abstract.html) papers, and alingment models such as [Procrustes](https://www.aclweb.org/anthology/K18-1021.pdf) and [Compass](https://arxiv.org/abs/1906.02376).\n",
        "* Whoever interested take a look [subword embeddings](https://www.aclweb.org/anthology/P16-1162.pdf). \n",
        "* Import Gensim's Word2Vec.\n",
        "```\n",
        "John Pavlopoulos, Senior Lecturer (fixed-term) \n",
        "Stockholm University, Sweden\n",
        "```"
      ]
    },
    {
      "cell_type": "markdown",
      "metadata": {
        "id": "CugxAyye9JCX"
      },
      "source": [
        "\n",
        "\n",
        "\n",
        "---\n",
        "\n"
      ]
    },
    {
      "cell_type": "markdown",
      "metadata": {
        "id": "49cNW9DM9e63"
      },
      "source": [
        "Load Word2Vec "
      ]
    },
    {
      "cell_type": "code",
      "metadata": {
        "id": "Qh0PTCQpqTZR"
      },
      "source": [
        "%%capture\n",
        "from gensim.models import word2vec\n",
        "import logging\n",
        "logging.basicConfig(format='%(asctime)s : %(levelname)s : %(message)s', level=logging.INFO)"
      ],
      "execution_count": 5,
      "outputs": []
    },
    {
      "cell_type": "markdown",
      "metadata": {
        "id": "wmcdMVSJuxkR"
      },
      "source": [
        "Import NLTK and download the Brown corpus. "
      ]
    },
    {
      "cell_type": "code",
      "metadata": {
        "colab": {
          "base_uri": "https://localhost:8080/"
        },
        "id": "Fu5R-yQxut6g",
        "outputId": "257c049d-50bf-4cdf-d6f3-e65a0365a324"
      },
      "source": [
        "import nltk; nltk.download('brown')\n",
        "from nltk.corpus import brown\n",
        "\n",
        "print(brown.sents()[0])"
      ],
      "execution_count": 7,
      "outputs": [
        {
          "output_type": "stream",
          "text": [
            "['The', 'Fulton', 'County', 'Grand', 'Jury', 'said', 'Friday', 'an', 'investigation', 'of', \"Atlanta's\", 'recent', 'primary', 'election', 'produced', '``', 'no', 'evidence', \"''\", 'that', 'any', 'irregularities', 'took', 'place', '.']\n"
          ],
          "name": "stdout"
        }
      ]
    },
    {
      "cell_type": "markdown",
      "metadata": {
        "id": "9c4Tbcvju7qO"
      },
      "source": [
        "Build a vector space model."
      ]
    },
    {
      "cell_type": "code",
      "metadata": {
        "colab": {
          "base_uri": "https://localhost:8080/"
        },
        "id": "QGrrtGq_u6_w",
        "outputId": "8dae97a7-6056-4dd2-f857-3532bb6e27af"
      },
      "source": [
        "# the embedding\n",
        "space.wv[\"cool\"]"
      ],
      "execution_count": 20,
      "outputs": [
        {
          "output_type": "execute_result",
          "data": {
            "text/plain": [
              "array([ 4.69192415e-02,  3.84599835e-01, -1.17444091e-01,  3.90834779e-01,\n",
              "       -1.74343064e-01, -1.46316802e-02, -1.44882098e-01, -1.53415769e-01,\n",
              "        1.25329658e-01, -9.56843793e-02,  2.14113891e-01,  1.90838084e-01,\n",
              "        9.64790657e-02,  6.41203746e-02,  3.20920855e-01,  2.35891804e-01,\n",
              "       -1.29782259e-02, -1.53746381e-01,  3.48067433e-01,  1.30042687e-01,\n",
              "        3.87522757e-01,  2.86956757e-01, -1.90682393e-02,  2.16638207e-01,\n",
              "        5.02827913e-02, -2.63031125e-01,  1.69103637e-01,  3.15437287e-01,\n",
              "        1.41841754e-01, -9.12493840e-02,  1.45683557e-01, -2.29295686e-01,\n",
              "        1.23761512e-01, -2.32542604e-01, -1.84404477e-01, -1.19114019e-01,\n",
              "        2.78509855e-01,  3.56924146e-01, -1.99878648e-01, -8.17644075e-02,\n",
              "       -1.48084342e-01, -1.89105719e-01, -6.03681281e-02, -2.63012677e-01,\n",
              "        2.27178290e-01, -3.16896409e-01, -2.89968222e-01, -2.03095600e-02,\n",
              "       -1.02955811e-01, -1.53868094e-01, -2.43482083e-01,  8.94452408e-02,\n",
              "        5.99595066e-03,  2.56311804e-01, -4.93961185e-01,  1.52166947e-04,\n",
              "        8.12050253e-02,  7.94706568e-02, -7.26862773e-02,  8.43071565e-02,\n",
              "        1.22798443e-01,  3.12545508e-01,  1.25519156e-01,  2.07054675e-01,\n",
              "       -2.12789662e-02,  5.04522622e-01,  4.41523492e-02,  2.57663399e-01,\n",
              "       -2.36922771e-01, -2.68813163e-01, -1.03028946e-01,  1.04287460e-01,\n",
              "       -2.27231354e-01,  3.11910603e-02,  6.10483624e-02, -4.85962033e-02,\n",
              "       -4.15100247e-01, -1.49574995e-01, -1.83637187e-01,  6.11335784e-02,\n",
              "        2.40485758e-01,  9.29984376e-02, -1.09284602e-01,  1.82455853e-01,\n",
              "        8.54637846e-02,  2.76913326e-02, -2.56970376e-01, -5.32895029e-01,\n",
              "        8.60639736e-02, -6.07012697e-02, -2.00341538e-01, -4.70929220e-02,\n",
              "        1.53674513e-01,  1.55627385e-01, -2.87044883e-01, -1.51813686e-01,\n",
              "       -2.00649798e-01, -2.36217305e-01, -2.07441181e-01,  1.51491582e-01],\n",
              "      dtype=float32)"
            ]
          },
          "metadata": {
            "tags": []
          },
          "execution_count": 20
        }
      ]
    },
    {
      "cell_type": "code",
      "metadata": {
        "colab": {
          "base_uri": "https://localhost:8080/"
        },
        "id": "2lEJlXSR9q-i",
        "outputId": "ed27162f-f858-4ce0-9c6f-0d6318fecc4e"
      },
      "source": [
        "# top-3 neighbors\n",
        "space.wv.most_similar(positive=[\"nice\"], topn=3)"
      ],
      "execution_count": 17,
      "outputs": [
        {
          "output_type": "execute_result",
          "data": {
            "text/plain": [
              "[('lonely', 0.9283513426780701),\n",
              " ('happy', 0.9280937314033508),\n",
              " ('fine', 0.9277538657188416)]"
            ]
          },
          "metadata": {
            "tags": []
          },
          "execution_count": 17
        }
      ]
    },
    {
      "cell_type": "markdown",
      "metadata": {
        "id": "HcTTF5AR-KSa"
      },
      "source": [
        "### Experiment\n",
        "* Try to build many (word embedding) spaces, 10 or 100.\n",
        "* Compute the mean pairwise similarity for the same word.\n",
        "* Take the same word and compute one embedding per space; then, how similar are the neighbours of that word across the different spaces? "
      ]
    },
    {
      "cell_type": "code",
      "metadata": {
        "id": "Xok2vemkmrnD"
      },
      "source": [
        "# the target word\n",
        "target = \"gay\"\n",
        "\n",
        "# the neighbors\n",
        "k = 1000\n",
        "neighbors = {}\n",
        "\n",
        "# different spaces\n",
        "for i in range(10):\n",
        "  space = word2vec.Word2Vec(brown.sents(), seed=i)\n",
        "  neighbors[i] = space.wv.most_similar(positive=[target], topn=k)"
      ],
      "execution_count": 21,
      "outputs": []
    },
    {
      "cell_type": "code",
      "metadata": {
        "colab": {
          "base_uri": "https://localhost:8080/",
          "height": 265
        },
        "id": "IaLJ7DJ3w_xL",
        "outputId": "8403e196-d6b6-4e56-8d9e-8d3039ab7f88"
      },
      "source": [
        "import numpy as np\n",
        "import pandas as pd\n",
        "\n",
        "def overlap(v1, v2):\n",
        "  \"\"\"Overlap between two (2D) lists\"\"\"\n",
        "  assert len(v1) == len(v2)\n",
        "  pool = set([j[0] for j in v2])\n",
        "  return len([1 for i,j in zip(v1,v2) if i[0] in pool])/len(v1)\n",
        "\n",
        "mean_overlaps = []\n",
        "for n in range(10, 1000):\n",
        "  overlaps = []\n",
        "  for i in neighbors:\n",
        "    for j in neighbors:\n",
        "      if i<j: \n",
        "        # compare only the top n items in the lists\n",
        "        overlaps.append(overlap(neighbors[i][:n], neighbors[j][:n]))\n",
        "  mean_overlaps.append(np.mean(overlaps))\n",
        "\n",
        "# Plot the mean relative overlap of a word with its self (self-similarity), \n",
        "# for a varying number of neighbors.\n",
        "pd.DataFrame({\"self similariry\": mean_overlaps}).plot();"
      ],
      "execution_count": 22,
      "outputs": [
        {
          "output_type": "display_data",
          "data": {
            "image/png": "[encoded data removed]",
            "text/plain": [
              "<Figure size 432x288 with 1 Axes>"
            ]
          },
          "metadata": {
            "tags": [],
            "needs_background": "light"
          }
        }
      ]
    },
    {
      "cell_type": "code",
      "metadata": {
        "colab": {
          "base_uri": "https://localhost:8080/",
          "height": 195
        },
        "id": "GfDCRPt_5Uzg",
        "outputId": "0ced6230-3f44-4aa1-ce81-57030b443e7e"
      },
      "source": [
        "top10 = pd.DataFrame({i:[n[0] for n in neighbors[i][:10]] for i in neighbors})\n",
        "top10.head()"
      ],
      "execution_count": 23,
      "outputs": [
        {
          "output_type": "execute_result",
          "data": {
            "text/html": [
              "<div>\n",
              "<style scoped>\n",
              "    .dataframe tbody tr th:only-of-type {\n",
              "        vertical-align: middle;\n",
              "    }\n",
              "\n",
              "    .dataframe tbody tr th {\n",
              "        vertical-align: top;\n",
              "    }\n",
              "\n",
              "    .dataframe thead th {\n",
              "        text-align: right;\n",
              "    }\n",
              "</style>\n",
              "<table border=\"1\" class=\"dataframe\">\n",
              "  <thead>\n",
              "    <tr style=\"text-align: right;\">\n",
              "      <th></th>\n",
              "      <th>0</th>\n",
              "      <th>1</th>\n",
              "      <th>2</th>\n",
              "      <th>3</th>\n",
              "      <th>4</th>\n",
              "      <th>5</th>\n",
              "      <th>6</th>\n",
              "      <th>7</th>\n",
              "      <th>8</th>\n",
              "      <th>9</th>\n",
              "    </tr>\n",
              "  </thead>\n",
              "  <tbody>\n",
              "    <tr>\n",
              "      <th>0</th>\n",
              "      <td>rich</td>\n",
              "      <td>witty</td>\n",
              "      <td>Mao</td>\n",
              "      <td>reactionary</td>\n",
              "      <td>lacking</td>\n",
              "      <td>saint</td>\n",
              "      <td>Bible</td>\n",
              "      <td>cancer</td>\n",
              "      <td>tone</td>\n",
              "      <td>inorganic</td>\n",
              "    </tr>\n",
              "    <tr>\n",
              "      <th>1</th>\n",
              "      <td>laissez-faire</td>\n",
              "      <td>Hearst</td>\n",
              "      <td>unhappy</td>\n",
              "      <td>surely</td>\n",
              "      <td>circus</td>\n",
              "      <td>Marx</td>\n",
              "      <td>rich</td>\n",
              "      <td>landscape</td>\n",
              "      <td>nominated</td>\n",
              "      <td>fragile</td>\n",
              "    </tr>\n",
              "    <tr>\n",
              "      <th>2</th>\n",
              "      <td>saint</td>\n",
              "      <td>absent</td>\n",
              "      <td>dull</td>\n",
              "      <td>spoken</td>\n",
              "      <td>evil</td>\n",
              "      <td>irony</td>\n",
              "      <td>mine</td>\n",
              "      <td>gaiety</td>\n",
              "      <td>confronted</td>\n",
              "      <td>Milton</td>\n",
              "    </tr>\n",
              "    <tr>\n",
              "      <th>3</th>\n",
              "      <td>fragile</td>\n",
              "      <td>awful</td>\n",
              "      <td>unfortunately</td>\n",
              "      <td>anxious</td>\n",
              "      <td>misleading</td>\n",
              "      <td>Karl</td>\n",
              "      <td>sharpened</td>\n",
              "      <td>author</td>\n",
              "      <td>engineer</td>\n",
              "      <td>Romans</td>\n",
              "    </tr>\n",
              "    <tr>\n",
              "      <th>4</th>\n",
              "      <td>grotesque</td>\n",
              "      <td>weak</td>\n",
              "      <td>complicated</td>\n",
              "      <td>Unfortunately</td>\n",
              "      <td>yours</td>\n",
              "      <td>awkward</td>\n",
              "      <td>scandals</td>\n",
              "      <td>interior</td>\n",
              "      <td>actuality</td>\n",
              "      <td>disgusted</td>\n",
              "    </tr>\n",
              "  </tbody>\n",
              "</table>\n",
              "</div>"
            ],
            "text/plain": [
              "               0       1              2  ...          7           8          9\n",
              "0           rich   witty            Mao  ...     cancer        tone  inorganic\n",
              "1  laissez-faire  Hearst        unhappy  ...  landscape   nominated    fragile\n",
              "2          saint  absent           dull  ...     gaiety  confronted     Milton\n",
              "3        fragile   awful  unfortunately  ...     author    engineer     Romans\n",
              "4      grotesque    weak    complicated  ...   interior   actuality  disgusted\n",
              "\n",
              "[5 rows x 10 columns]"
            ]
          },
          "metadata": {
            "tags": []
          },
          "execution_count": 23
        }
      ]
    }
  ]
}
