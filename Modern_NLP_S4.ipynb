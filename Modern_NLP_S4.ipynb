{
 "cells": [
  {
   "cell_type": "markdown",
   "metadata": {},
   "source": [
    "# Basic usage of modified transformers library (modification have been done only for BERT) \n"
   ]
  },
  {
   "cell_type": "markdown",
   "metadata": {},
   "source": [
    "### To run this notebook: Clone this repo and install the modified library."
   ]
  },
  {
   "cell_type": "markdown",
   "metadata": {},
   "source": [
    "### https://github.com/gorokoba560/norm-analysis-of-transformer"
   ]
  },
  {
   "cell_type": "markdown",
   "metadata": {},
   "source": [
    "## Install the changed library (only first once)"
   ]
  },
  {
   "cell_type": "markdown",
   "metadata": {},
   "source": [
    "1. move into the modified library\n",
    "> $ cd transformers\n",
    "\n",
    "1. install using pip (I recommend editable mode (-e option).)\n",
    "> $ pip install -e .\n",
    "\n",
    "1. please install pytorch (https://pytorch.org/) \\\n",
    " e.g., \n",
    " > $ pip install torch torchvision"
   ]
  },
  {
   "cell_type": "markdown",
   "metadata": {},
   "source": [
    "## Usage"
   ]
  },
  {
   "cell_type": "code",
   "execution_count": 151,
   "metadata": {},
   "outputs": [],
   "source": [
    "%load_ext autoreload\n",
    "%autoreload 2"
   ]
  },
  {
   "cell_type": "code",
   "execution_count": 156,
   "metadata": {},
   "outputs": [],
   "source": [
    "import torch\n",
    "import numpy as np\n",
    "import pandas as pd\n",
    "import torch.nn as nn\n",
    "\n",
    "import transformers\n",
    "from sklearn.metrics import *\n",
    "from transformers import AdamW\n",
    "from tqdm.notebook import tqdm\n",
    "from scipy.special import softmax\n",
    "from sklearn.metrics import classification_report\n",
    "from sklearn.model_selection import train_test_split as tts\n",
    "from transformers import BertTokenizerFast, BertTokenizer, BertModel, BertConfig, BertForSequenceClassification, AutoModel\n",
    "from torch.utils.data import TensorDataset, DataLoader, RandomSampler, SequentialSampler\n",
    "\n",
    "device = \"cuda\" if torch.cuda.is_available() else \"cpu\""
   ]
  },
  {
   "cell_type": "code",
   "execution_count": 119,
   "metadata": {},
   "outputs": [
    {
     "name": "stdout",
     "output_type": "stream",
     "text": [
      "tensor([[  101,  2182,  2003,  2070,  3793,  2000,  4372, 16044,   102]])\n",
      "['[CLS]', 'here', 'is', 'some', 'text', 'to', 'en', '##code', '[SEP]']\n"
     ]
    }
   ],
   "source": [
    "# Load pretrained model/tokenizer\n",
    "tokenizer = BertTokenizer.from_pretrained(\"bert-base-uncased\")\n",
    "model = BertModel.from_pretrained(\"bert-base-uncased\").to(device)\n",
    "model.eval()\n",
    "\n",
    "# Tokenize text and convert to ids.\n",
    "input_ids = torch.tensor([tokenizer.encode(\"Here is some text to encode\", add_special_tokens=True)]).to(device)\n",
    "print(input_ids)\n",
    "tokenized_text = tokenizer.convert_ids_to_tokens(input_ids[0])\n",
    "print(tokenized_text)"
   ]
  },
  {
   "cell_type": "code",
   "execution_count": 120,
   "metadata": {},
   "outputs": [],
   "source": [
    "# If you want to extract vector norms (i.e., ||f(x)||, ||αf(x)||, ||Σαf(x)||), please set the argument \"output_norms\" to True.\n",
    "with torch.no_grad():\n",
    "    last_hidden_state, pooler_output, hidden_states, attentions, norms = model(input_ids=input_ids, output_hidden_states=True, output_attentions=True, output_norms=True)"
   ]
  },
  {
   "cell_type": "code",
   "execution_count": 121,
   "metadata": {},
   "outputs": [
    {
     "name": "stdout",
     "output_type": "stream",
     "text": [
      "<class 'tuple'>\n",
      "12\n"
     ]
    }
   ],
   "source": [
    "# Returned variable \"norms\" is a tuple which has 12 elements (equal to the number of layers).\n",
    "print(type(norms))\n",
    "print(len(norms))"
   ]
  },
  {
   "cell_type": "code",
   "execution_count": 122,
   "metadata": {},
   "outputs": [
    {
     "name": "stdout",
     "output_type": "stream",
     "text": [
      "<class 'tuple'>\n",
      "3\n"
     ]
    }
   ],
   "source": [
    "# Each element is a tuple which consists of 3 elements: ||f(x)||, ||αf(x)||, and ||Σαf(x)||.\n",
    "layer = 5\n",
    "print(type(norms[layer-1]))\n",
    "print(len(norms[layer-1]))\n",
    "\n",
    "fx_norm, afx_norm, summed_afx_norm = norms[layer-1]"
   ]
  },
  {
   "cell_type": "code",
   "execution_count": 123,
   "metadata": {},
   "outputs": [
    {
     "name": "stdout",
     "output_type": "stream",
     "text": [
      "shape of ||f(x)||: torch.Size([1, 12, 9])\n"
     ]
    }
   ],
   "source": [
    "# shape of fx_norm (||f(x)||) is (batch, num_heads, seq_length)\n",
    "print(\"shape of ||f(x)||:\", fx_norm.size())"
   ]
  },
  {
   "cell_type": "code",
   "execution_count": 124,
   "metadata": {},
   "outputs": [
    {
     "name": "stdout",
     "output_type": "stream",
     "text": [
      "shape of ||αf(x)||: torch.Size([1, 12, 9, 9])\n"
     ]
    }
   ],
   "source": [
    "# shape of afx_norm (||αf(x)||) is (batch, num_heads, seq_length, seq_length)\n",
    "print(\"shape of ||αf(x)||:\", afx_norm.size())"
   ]
  },
  {
   "cell_type": "code",
   "execution_count": 125,
   "metadata": {},
   "outputs": [
    {
     "name": "stdout",
     "output_type": "stream",
     "text": [
      "shape of ||Σαf(x)||: torch.Size([1, 9, 9])\n"
     ]
    }
   ],
   "source": [
    "# shape of summed_afx_norm (||Σαf(x)||) is (batch, seq_length, seq_length)\n",
    "print(\"shape of ||Σαf(x)||:\", summed_afx_norm.size())"
   ]
  },
  {
   "cell_type": "markdown",
   "metadata": {},
   "source": [
    "## Comparison with attention weight"
   ]
  },
  {
   "cell_type": "code",
   "execution_count": 126,
   "metadata": {},
   "outputs": [],
   "source": [
    "import seaborn as sns\n",
    "import pandas as pd\n",
    "import numpy as np\n",
    "import matplotlib.pyplot as plt\n",
    "\n",
    "# Set the layer and head you want to check. (layer: 1~12, head: 1~12)\n",
    "layer = 8\n",
    "head = 5"
   ]
  },
  {
   "cell_type": "markdown",
   "metadata": {},
   "source": [
    "### Attention weight visualization (Head-level visualization)"
   ]
  },
  {
   "cell_type": "code",
   "execution_count": 127,
   "metadata": {},
   "outputs": [
    {
     "data": {
      "image/png": "[encoded data removed]",
      "text/plain": [
       "<Figure size 432x288 with 2 Axes>"
      ]
     },
     "metadata": {
      "needs_background": "light"
     },
     "output_type": "display_data"
    }
   ],
   "source": [
    "plt.figure() \n",
    "attention = attentions[layer-1][0][head-1].cpu().numpy()\n",
    "df = pd.DataFrame(attention,columns=tokenized_text,index=tokenized_text)\n",
    "sns.heatmap(df,cmap=\"Reds\",square=True)\n",
    "plt.gcf().subplots_adjust(bottom=0.2)"
   ]
  },
  {
   "cell_type": "markdown",
   "metadata": {},
   "source": [
    "### Norm of the weighted vectors (||αf(x)||) visualization (Head-level visualization)"
   ]
  },
  {
   "cell_type": "code",
   "execution_count": 128,
   "metadata": {},
   "outputs": [
    {
     "data": {
      "image/png": "[encoded data removed]",
      "text/plain": [
       "<Figure size 432x288 with 2 Axes>"
      ]
     },
     "metadata": {
      "needs_background": "light"
     },
     "output_type": "display_data"
    }
   ],
   "source": [
    "plt.figure() \n",
    "afx_norm = norms[layer-1][1]\n",
    "norm = afx_norm[0][head-1].cpu().numpy()\n",
    "df = pd.DataFrame(norm,columns=tokenized_text,index=tokenized_text)\n",
    "sns.heatmap(df,cmap=\"Reds\",square=True)\n",
    "plt.gcf().subplots_adjust(bottom=0.2)"
   ]
  },
  {
   "cell_type": "markdown",
   "metadata": {},
   "source": [
    "### Attention weight visualization (Layer-level visualization)"
   ]
  },
  {
   "cell_type": "code",
   "execution_count": 129,
   "metadata": {},
   "outputs": [
    {
     "data": {
      "image/png": "[encoded data removed]",
      "text/plain": [
       "<Figure size 432x288 with 2 Axes>"
      ]
     },
     "metadata": {
      "needs_background": "light"
     },
     "output_type": "display_data"
    }
   ],
   "source": [
    "plt.figure() \n",
    "attention = attentions[layer-1][0].mean(0).cpu().numpy()\n",
    "df = pd.DataFrame(attention,columns=tokenized_text,index=tokenized_text)\n",
    "sns.heatmap(df,cmap=\"Reds\",square=True)\n",
    "plt.gcf().subplots_adjust(bottom=0.2)"
   ]
  },
  {
   "cell_type": "markdown",
   "metadata": {},
   "source": [
    "### Norm of the summed weighted vectors (||Σ αf(x)||) visualization (Layer-level visualization)"
   ]
  },
  {
   "cell_type": "code",
   "execution_count": 130,
   "metadata": {},
   "outputs": [
    {
     "data": {
      "image/png": "[encoded data removed]",
      "text/plain": [
       "<Figure size 432x288 with 2 Axes>"
      ]
     },
     "metadata": {
      "needs_background": "light"
     },
     "output_type": "display_data"
    }
   ],
   "source": [
    "plt.figure() \n",
    "summed_afx_norm = norms[layer-1][2]\n",
    "norm = summed_afx_norm[0].cpu().numpy()\n",
    "df = pd.DataFrame(norm,columns=tokenized_text,index=tokenized_text)\n",
    "sns.heatmap(df,cmap=\"Reds\",square=True)\n",
    "plt.gcf().subplots_adjust(bottom=0.2)"
   ]
  },
  {
   "cell_type": "markdown",
   "metadata": {},
   "source": [
    "## Experiment with S3 code"
   ]
  },
  {
   "cell_type": "markdown",
   "metadata": {},
   "source": [
    "## Prepare the data "
   ]
  },
  {
   "cell_type": "code",
   "execution_count": 14,
   "metadata": {},
   "outputs": [
    {
     "name": "stdout",
     "output_type": "stream",
     "text": [
      "\n",
      "There are 200000 sentences\n"
     ]
    },
    {
     "data": {
      "text/html": [
       "<div>\n",
       "<style scoped>\n",
       "    .dataframe tbody tr th:only-of-type {\n",
       "        vertical-align: middle;\n",
       "    }\n",
       "\n",
       "    .dataframe tbody tr th {\n",
       "        vertical-align: top;\n",
       "    }\n",
       "\n",
       "    .dataframe thead th {\n",
       "        text-align: right;\n",
       "    }\n",
       "</style>\n",
       "<table border=\"1\" class=\"dataframe\">\n",
       "  <thead>\n",
       "    <tr style=\"text-align: right;\">\n",
       "      <th></th>\n",
       "      <th>text</th>\n",
       "      <th>humor</th>\n",
       "      <th>label</th>\n",
       "    </tr>\n",
       "  </thead>\n",
       "  <tbody>\n",
       "    <tr>\n",
       "      <th>0</th>\n",
       "      <td>Joe biden rules out 2020 bid: 'guys, i'm not r...</td>\n",
       "      <td>False</td>\n",
       "      <td>0</td>\n",
       "    </tr>\n",
       "    <tr>\n",
       "      <th>1</th>\n",
       "      <td>Watch: darvish gave hitter whiplash with slow ...</td>\n",
       "      <td>False</td>\n",
       "      <td>0</td>\n",
       "    </tr>\n",
       "    <tr>\n",
       "      <th>2</th>\n",
       "      <td>What do you call a turtle without its shell? d...</td>\n",
       "      <td>True</td>\n",
       "      <td>1</td>\n",
       "    </tr>\n",
       "    <tr>\n",
       "      <th>3</th>\n",
       "      <td>5 reasons the 2016 election feels so personal</td>\n",
       "      <td>False</td>\n",
       "      <td>0</td>\n",
       "    </tr>\n",
       "    <tr>\n",
       "      <th>4</th>\n",
       "      <td>Pasco police shot mexican migrant from behind,...</td>\n",
       "      <td>False</td>\n",
       "      <td>0</td>\n",
       "    </tr>\n",
       "  </tbody>\n",
       "</table>\n",
       "</div>"
      ],
      "text/plain": [
       "                                                text  humor  label\n",
       "0  Joe biden rules out 2020 bid: 'guys, i'm not r...  False      0\n",
       "1  Watch: darvish gave hitter whiplash with slow ...  False      0\n",
       "2  What do you call a turtle without its shell? d...   True      1\n",
       "3      5 reasons the 2016 election feels so personal  False      0\n",
       "4  Pasco police shot mexican migrant from behind,...  False      0"
      ]
     },
     "execution_count": 14,
     "metadata": {},
     "output_type": "execute_result"
    }
   ],
   "source": [
    "# Download humor detection data\n",
    "# Paper: https://arxiv.org/abs/2004.12765\n",
    "#data = pd.read_csv(\"https://raw.githubusercontent.com/Moradnejad/ColBERT-Using-BERT-Sentence-Embedding-for-Humor-Detection/master/Data/dataset.csv\")\n",
    "#print(\"\\nThere are\", len(data), \"sentences\")\n",
    "\n",
    "# Use the standard text/label columns\n",
    "# Create labels: 1 --> humorous, 0 --> not humorous\n",
    "#data[\"label\"] = data[\"humor\"].apply(int)\n",
    "#data.head()"
   ]
  },
  {
   "cell_type": "code",
   "execution_count": 77,
   "metadata": {},
   "outputs": [
    {
     "name": "stdout",
     "output_type": "stream",
     "text": [
      "\n",
      "There are 28350 sentences\n",
      "        type                                               text  label\n",
      "0    correct                              Dear Sir or Madam ,\\n      0\n",
      "1  erroneous  I am writing in order to express my disappoint...      1\n",
      "2  erroneous  I saws the show 's advertisement hanging up of...      1\n",
      "3  erroneous  The problems started in the box office , where...      1\n",
      "4    correct  Moreover , the show was delayed forty - five m...      0\n"
     ]
    }
   ],
   "source": [
    "# # Read GEC dataset\n",
    "data = pd.read_csv(\"GEC_sentences.csv\")\n",
    "print(\"\\nThere are\", len(data), \"sentences\")\n",
    "\n",
    " # Assign 1 to the erroneous sentences and zero to the rest\n",
    "data[\"text\"], data[\"label\"] = data.sentence, data[\"type\"].apply(lambda x: 1 if x==\"erroneous\" else 0)\n",
    "del data[\"sentence\"]\n",
    "print(data.head())"
   ]
  },
  {
   "cell_type": "code",
   "execution_count": 78,
   "metadata": {},
   "outputs": [],
   "source": [
    "# Use a subset for quick experiments\n",
    "subset_data = data[:10000]\n",
    "\n",
    "# Split to train, val and test\n",
    "train, test = tts(subset_data[[\"text\", \"label\"]], random_state=42, test_size=0.1)\n",
    "train, val = tts(train, random_state=42, test_size=test.shape[0])"
   ]
  },
  {
   "cell_type": "markdown",
   "metadata": {},
   "source": [
    "#### Tokenize and encode with BERT tokenizer"
   ]
  },
  {
   "cell_type": "code",
   "execution_count": 79,
   "metadata": {},
   "outputs": [
    {
     "name": "stdout",
     "output_type": "stream",
     "text": [
      "{'input_ids': [[101, 6737, 2144, 11657, 2135, 1010, 102]], 'token_type_ids': [[0, 0, 0, 0, 0, 0, 0]], 'attention_mask': [[1, 1, 1, 1, 1, 1, 1]]}\n"
     ]
    }
   ],
   "source": [
    "bert_tokenizer = BertTokenizerFast.from_pretrained('bert-base-uncased')\n",
    "\n",
    "# A sanity check of the tokenizer\n",
    "encoded_instance = bert_tokenizer.batch_encode_plus([train.iloc[0].text], padding=True)\n",
    "print(encoded_instance)"
   ]
  },
  {
   "cell_type": "code",
   "execution_count": 80,
   "metadata": {},
   "outputs": [
    {
     "name": "stdout",
     "output_type": "stream",
     "text": [
      "Original text: Yours sincerately ,\n",
      "\n",
      "BERT BPEs: ['[CLS]', 'yours', 'since', '##rate', '##ly', ',', '[SEP]']\n"
     ]
    }
   ],
   "source": [
    "print(\"Original text:\", train.iloc[0].text)\n",
    "print(\"BERT BPEs:\", bert_tokenizer.convert_ids_to_tokens(encoded_instance[\"input_ids\"][0]))"
   ]
  },
  {
   "cell_type": "code",
   "execution_count": 81,
   "metadata": {},
   "outputs": [
    {
     "name": "stdout",
     "output_type": "stream",
     "text": [
      "The maximum sentence length in training based on BERT BPEs is 138\n"
     ]
    }
   ],
   "source": [
    "# Set max_len to the maximum length of the training data \n",
    "max_len = max([len(bert_tokenizer.encode(s)) for s in train.text.to_list()])\n",
    "print(\"The maximum sentence length in training based on BERT BPEs is\", max_len)"
   ]
  },
  {
   "cell_type": "code",
   "execution_count": 82,
   "metadata": {},
   "outputs": [],
   "source": [
    "# Tokenize and encode sentences in each set\n",
    "x_train = bert_tokenizer.batch_encode_plus(\n",
    "    train.text.tolist(),\n",
    "    max_length = max_len,\n",
    "    padding=True,\n",
    "    truncation=True\n",
    ")\n",
    "x_val = bert_tokenizer.batch_encode_plus(\n",
    "    val.text.tolist(),\n",
    "    max_length = max_len,\n",
    "    padding=True,\n",
    "    truncation=True\n",
    ")\n",
    "x_test = bert_tokenizer.batch_encode_plus(\n",
    "    test.text.tolist(),\n",
    "    max_length = max_len,\n",
    "    padding=True,\n",
    "    truncation=True\n",
    ")"
   ]
  },
  {
   "cell_type": "code",
   "execution_count": 83,
   "metadata": {},
   "outputs": [],
   "source": [
    "# Convert lists to tensors in order to feed them to our PyTorch model\n",
    "train_seq = torch.tensor(x_train['input_ids'])\n",
    "train_mask = torch.tensor(x_train['attention_mask'])\n",
    "train_y = torch.tensor(train.label.tolist())\n",
    "\n",
    "val_seq = torch.tensor(x_val['input_ids'])\n",
    "val_mask = torch.tensor(x_val['attention_mask'])\n",
    "val_y = torch.tensor(val.label.tolist())\n",
    "\n",
    "test_seq = torch.tensor(x_test['input_ids'])\n",
    "test_mask = torch.tensor(x_test['attention_mask'])\n",
    "test_y = torch.tensor(test.label.tolist())"
   ]
  },
  {
   "cell_type": "code",
   "execution_count": 84,
   "metadata": {},
   "outputs": [],
   "source": [
    "batch_size = 32\n",
    "\n",
    "# Create a dataloader for each set\n",
    "\n",
    "# TensorDataset: Creates a PyTorch dataset object to load data from\n",
    "train_data = TensorDataset(train_seq, train_mask, train_y)\n",
    "# RandomSampler: specify the sequence of indices/keys used in data loading\n",
    "train_sampler = RandomSampler(train_data)\n",
    "# DataLoader: a Python iterable over a dataset\n",
    "train_dataloader = DataLoader(train_data, sampler=train_sampler, batch_size=batch_size)\n",
    "\n",
    "val_data = TensorDataset(val_seq, val_mask, val_y)\n",
    "val_sampler = SequentialSampler(val_data)\n",
    "val_dataloader = DataLoader(val_data, sampler=val_sampler, batch_size=batch_size)\n",
    "\n",
    "test_data = TensorDataset(test_seq, test_mask, test_y)\n",
    "test_sampler = SequentialSampler(test_data)\n",
    "test_dataloader = DataLoader(test_data, sampler=test_sampler, batch_size=1)"
   ]
  },
  {
   "cell_type": "markdown",
   "metadata": {},
   "source": [
    "### Build and train the model"
   ]
  },
  {
   "cell_type": "code",
   "execution_count": 85,
   "metadata": {},
   "outputs": [
    {
     "name": "stderr",
     "output_type": "stream",
     "text": [
      "Some weights of the model checkpoint at bert-base-uncased were not used when initializing BertForSequenceClassification: ['cls.predictions.bias', 'cls.predictions.transform.dense.weight', 'cls.predictions.transform.dense.bias', 'cls.predictions.decoder.weight', 'cls.seq_relationship.weight', 'cls.seq_relationship.bias', 'cls.predictions.transform.LayerNorm.weight', 'cls.predictions.transform.LayerNorm.bias']\n",
      "- This IS expected if you are initializing BertForSequenceClassification from the checkpoint of a model trained on another task or with another architecture (e.g. initializing a BertForSequenceClassification model from a BertForPretraining model).\n",
      "- This IS NOT expected if you are initializing BertForSequenceClassification from the checkpoint of a model that you expect to be exactly identical (initializing a BertForSequenceClassification model from a BertForSequenceClassification model).\n",
      "Some weights of BertForSequenceClassification were not initialized from the model checkpoint at bert-base-uncased and are newly initialized: ['classifier.weight', 'classifier.bias']\n",
      "You should probably TRAIN this model on a down-stream task to be able to use it for predictions and inference.\n"
     ]
    }
   ],
   "source": [
    "# Define which BERT model to use\n",
    "# We will use BERT base pre-trained on uncased text\n",
    "model_name = \"bert-base-uncased\"\n",
    "# The BertForSequenceClassification class creates a model with BERT and a classifier on top\n",
    "# The classifier is a linear layer with two outputs (two is the default, if you have more labels change the config)\n",
    "# It uses the CrossEntropyLoss from PyTorch\n",
    "# from_pretrained() is used to load pre-trained weights\n",
    "\n",
    "#N.B This is now the modified version of BERT that can output the norm of the vectors.\n",
    "\n",
    "model = BertForSequenceClassification.from_pretrained(model_name, output_attentions=True)"
   ]
  },
  {
   "cell_type": "code",
   "execution_count": 86,
   "metadata": {},
   "outputs": [],
   "source": [
    "# Training method\n",
    "def training():\n",
    "  # Set to train mode\n",
    "  model.train()\n",
    "  total_loss, total_accuracy = 0, 0\n",
    "  # Iterate through the training batches\n",
    "  for batch in tqdm(train_dataloader, desc=\"Iteration\"):    \n",
    "    # Push the batch to gpu\n",
    "    batch = [r.to(device) for r in batch] \n",
    "    sent_id, mask, labels = batch\n",
    "    # Clear gradients \n",
    "    model.zero_grad()\n",
    "    # Get model outputs\n",
    "    outputs = model(sent_id, attention_mask=mask, labels=labels)\n",
    "    #print(outputs[1])\n",
    "    # Get loss\n",
    "    loss = outputs[0]\n",
    "    # Add to the total loss\n",
    "    total_loss = total_loss + loss\n",
    "    # Backward pass to calculate the gradients\n",
    "    loss.backward()\n",
    "    # Update parameters\n",
    "    optimizer.step()\n",
    "  # Compute the training loss of the epoch\n",
    "  epoch_loss = total_loss / len(train_dataloader)\n",
    "\n",
    "  return epoch_loss"
   ]
  },
  {
   "cell_type": "code",
   "execution_count": 87,
   "metadata": {},
   "outputs": [],
   "source": [
    "# Evaluation method\n",
    "def evaluate():  \n",
    "  print(\"\\nEvaluating...\")  \n",
    "  # Set to eval mode\n",
    "  model.eval()\n",
    "  total_loss, total_accuracy = 0, 0\n",
    "  predictions, targets = [], []\n",
    "  # Iterate through the validation batches\n",
    "  for batch in val_dataloader:\n",
    "    # Push the batch to gpu\n",
    "    batch = [t.to(device) for t in batch]\n",
    "    sent_id, mask, labels = batch\n",
    "    # Save the gold labels to use them for evaluation\n",
    "    targets.extend(labels.detach().cpu().numpy())\n",
    "    # Deactivate autograd\n",
    "    with torch.no_grad():\n",
    "      # Get model outputs\n",
    "      outputs = model(sent_id, attention_mask=mask, labels=labels)\n",
    "      # Get loss\n",
    "      loss = outputs[0]\n",
    "      total_loss = total_loss + loss\n",
    "      logits = outputs[1]\n",
    "      # Apply softmax to the output of the model\n",
    "      output_probs = softmax(logits.detach().cpu().numpy(), axis=1)\n",
    "      # Get the index with the largest probability as the predicted label\n",
    "      predictions.extend(np.argmax(output_probs, axis=1))\n",
    "  # Compute the validation loss of the epoch\n",
    "  epoch_loss = total_loss / len(val_dataloader)\n",
    "\n",
    "  return epoch_loss, targets, predictions"
   ]
  },
  {
   "cell_type": "code",
   "execution_count": 88,
   "metadata": {},
   "outputs": [
    {
     "name": "stdout",
     "output_type": "stream",
     "text": [
      "\n",
      " Epoch 1 / 7\n"
     ]
    },
    {
     "data": {
      "application/vnd.jupyter.widget-view+json": {
       "model_id": "8ea1fb915c3b4c2b82b4273343b349e2",
       "version_major": 2,
       "version_minor": 0
      },
      "text/plain": [
       "Iteration:   0%|          | 0/250 [00:00<?, ?it/s]"
      ]
     },
     "metadata": {},
     "output_type": "display_data"
    },
    {
     "name": "stdout",
     "output_type": "stream",
     "text": [
      "output shape: 2\n",
      "output shape: 2\n",
      "output shape: 2\n",
      "output shape: 2\n",
      "output shape: 2\n",
      "output shape: 2\n",
      "output shape: 2\n",
      "output shape: 2\n",
      "output shape: 2\n",
      "output shape: 2\n",
      "output shape: 2\n",
      "output shape: 2\n",
      "output shape: 2\n",
      "output shape: 2\n",
      "output shape: 2\n",
      "output shape: 2\n",
      "output shape: 2\n",
      "output shape: 2\n",
      "output shape: 2\n",
      "output shape: 2\n",
      "output shape: 2\n",
      "output shape: 2\n",
      "output shape: 2\n",
      "output shape: 2\n",
      "output shape: 2\n",
      "output shape: 2\n",
      "output shape: 2\n",
      "output shape: 2\n",
      "output shape: 2\n",
      "output shape: 2\n",
      "output shape: 2\n",
      "output shape: 2\n",
      "output shape: 2\n",
      "output shape: 2\n",
      "output shape: 2\n",
      "output shape: 2\n",
      "output shape: 2\n",
      "output shape: 2\n",
      "output shape: 2\n",
      "output shape: 2\n",
      "output shape: 2\n",
      "output shape: 2\n",
      "output shape: 2\n",
      "output shape: 2\n",
      "output shape: 2\n",
      "output shape: 2\n",
      "output shape: 2\n",
      "output shape: 2\n",
      "output shape: 2\n",
      "output shape: 2\n",
      "output shape: 2\n",
      "output shape: 2\n",
      "output shape: 2\n",
      "output shape: 2\n",
      "output shape: 2\n",
      "output shape: 2\n",
      "output shape: 2\n",
      "output shape: 2\n",
      "output shape: 2\n",
      "output shape: 2\n",
      "output shape: 2\n",
      "output shape: 2\n",
      "output shape: 2\n",
      "output shape: 2\n",
      "output shape: 2\n",
      "output shape: 2\n",
      "output shape: 2\n",
      "output shape: 2\n",
      "output shape: 2\n",
      "output shape: 2\n",
      "output shape: 2\n",
      "output shape: 2\n",
      "output shape: 2\n",
      "output shape: 2\n",
      "output shape: 2\n",
      "output shape: 2\n",
      "output shape: 2\n",
      "output shape: 2\n",
      "output shape: 2\n",
      "output shape: 2\n",
      "output shape: 2\n",
      "output shape: 2\n",
      "output shape: 2\n",
      "output shape: 2\n",
      "output shape: 2\n",
      "output shape: 2\n",
      "output shape: 2\n",
      "output shape: 2\n",
      "output shape: 2\n",
      "output shape: 2\n",
      "output shape: 2\n",
      "output shape: 2\n",
      "output shape: 2\n",
      "output shape: 2\n",
      "output shape: 2\n",
      "output shape: 2\n",
      "output shape: 2\n",
      "output shape: 2\n",
      "output shape: 2\n",
      "output shape: 2\n",
      "output shape: 2\n",
      "output shape: 2\n",
      "output shape: 2\n",
      "output shape: 2\n",
      "output shape: 2\n",
      "output shape: 2\n",
      "output shape: 2\n",
      "output shape: 2\n",
      "output shape: 2\n",
      "output shape: 2\n",
      "output shape: 2\n",
      "output shape: 2\n",
      "output shape: 2\n",
      "output shape: 2\n",
      "output shape: 2\n",
      "output shape: 2\n",
      "output shape: 2\n",
      "output shape: 2\n",
      "output shape: 2\n",
      "output shape: 2\n",
      "output shape: 2\n",
      "output shape: 2\n",
      "output shape: 2\n",
      "output shape: 2\n",
      "output shape: 2\n",
      "output shape: 2\n",
      "output shape: 2\n",
      "output shape: 2\n",
      "output shape: 2\n",
      "output shape: 2\n",
      "output shape: 2\n",
      "output shape: 2\n",
      "output shape: 2\n",
      "output shape: 2\n",
      "output shape: 2\n",
      "output shape: 2\n",
      "output shape: 2\n",
      "output shape: 2\n",
      "output shape: 2\n",
      "output shape: 2\n",
      "output shape: 2\n",
      "output shape: 2\n",
      "output shape: 2\n",
      "output shape: 2\n",
      "output shape: 2\n",
      "output shape: 2\n",
      "output shape: 2\n",
      "output shape: 2\n",
      "output shape: 2\n",
      "output shape: 2\n",
      "output shape: 2\n",
      "output shape: 2\n",
      "output shape: 2\n",
      "output shape: 2\n",
      "output shape: 2\n",
      "output shape: 2\n",
      "output shape: 2\n",
      "output shape: 2\n",
      "output shape: 2\n",
      "output shape: 2\n",
      "output shape: 2\n",
      "output shape: 2\n",
      "output shape: 2\n",
      "output shape: 2\n",
      "output shape: 2\n",
      "output shape: 2\n",
      "output shape: 2\n",
      "output shape: 2\n",
      "output shape: 2\n",
      "output shape: 2\n",
      "output shape: 2\n",
      "output shape: 2\n",
      "output shape: 2\n",
      "output shape: 2\n",
      "output shape: 2\n",
      "output shape: 2\n",
      "output shape: 2\n",
      "output shape: 2\n",
      "output shape: 2\n",
      "output shape: 2\n",
      "output shape: 2\n",
      "output shape: 2\n",
      "output shape: 2\n",
      "output shape: 2\n",
      "output shape: 2\n",
      "output shape: 2\n",
      "output shape: 2\n",
      "output shape: 2\n",
      "output shape: 2\n",
      "output shape: 2\n",
      "output shape: 2\n",
      "output shape: 2\n",
      "output shape: 2\n",
      "output shape: 2\n",
      "output shape: 2\n",
      "output shape: 2\n",
      "output shape: 2\n",
      "output shape: 2\n",
      "output shape: 2\n",
      "output shape: 2\n",
      "output shape: 2\n",
      "output shape: 2\n",
      "output shape: 2\n",
      "output shape: 2\n",
      "output shape: 2\n",
      "output shape: 2\n",
      "output shape: 2\n",
      "output shape: 2\n",
      "output shape: 2\n",
      "output shape: 2\n",
      "output shape: 2\n",
      "output shape: 2\n",
      "output shape: 2\n",
      "output shape: 2\n",
      "output shape: 2\n",
      "output shape: 2\n",
      "output shape: 2\n",
      "output shape: 2\n",
      "output shape: 2\n",
      "output shape: 2\n",
      "output shape: 2\n",
      "output shape: 2\n",
      "output shape: 2\n",
      "output shape: 2\n",
      "output shape: 2\n",
      "output shape: 2\n",
      "output shape: 2\n",
      "output shape: 2\n",
      "output shape: 2\n",
      "output shape: 2\n",
      "output shape: 2\n",
      "output shape: 2\n",
      "output shape: 2\n",
      "output shape: 2\n",
      "output shape: 2\n",
      "output shape: 2\n",
      "output shape: 2\n",
      "output shape: 2\n",
      "output shape: 2\n",
      "output shape: 2\n",
      "output shape: 2\n",
      "output shape: 2\n",
      "output shape: 2\n",
      "output shape: 2\n",
      "output shape: 2\n",
      "output shape: 2\n",
      "output shape: 2\n",
      "output shape: 2\n",
      "output shape: 2\n",
      "output shape: 2\n",
      "\n",
      "Evaluating...\n",
      "output shape: 2\n",
      "output shape: 2\n",
      "output shape: 2\n",
      "output shape: 2\n",
      "output shape: 2\n",
      "output shape: 2\n",
      "output shape: 2\n",
      "output shape: 2\n",
      "output shape: 2\n",
      "output shape: 2\n",
      "output shape: 2\n",
      "output shape: 2\n",
      "output shape: 2\n",
      "output shape: 2\n",
      "output shape: 2\n",
      "output shape: 2\n",
      "output shape: 2\n",
      "output shape: 2\n",
      "output shape: 2\n",
      "output shape: 2\n",
      "output shape: 2\n",
      "output shape: 2\n",
      "output shape: 2\n",
      "output shape: 2\n",
      "output shape: 2\n",
      "output shape: 2\n",
      "output shape: 2\n",
      "output shape: 2\n",
      "output shape: 2\n",
      "output shape: 2\n",
      "output shape: 2\n",
      "output shape: 2\n",
      "\n",
      "Training Loss: tensor(0.4395, grad_fn=<DivBackward0>)\n",
      "Validation Loss: tensor(0.3850)\n",
      "F1 score: 0.851\n",
      "\n",
      " Epoch 2 / 7\n"
     ]
    },
    {
     "data": {
      "application/vnd.jupyter.widget-view+json": {
       "model_id": "f9b0f250680d4178bd6462b70acaf423",
       "version_major": 2,
       "version_minor": 0
      },
      "text/plain": [
       "Iteration:   0%|          | 0/250 [00:00<?, ?it/s]"
      ]
     },
     "metadata": {},
     "output_type": "display_data"
    },
    {
     "name": "stdout",
     "output_type": "stream",
     "text": [
      "output shape: 2\n",
      "output shape: 2\n",
      "output shape: 2\n",
      "output shape: 2\n",
      "output shape: 2\n",
      "output shape: 2\n",
      "output shape: 2\n",
      "output shape: 2\n",
      "output shape: 2\n",
      "output shape: 2\n",
      "output shape: 2\n",
      "output shape: 2\n",
      "output shape: 2\n",
      "output shape: 2\n",
      "output shape: 2\n",
      "output shape: 2\n",
      "output shape: 2\n",
      "output shape: 2\n",
      "output shape: 2\n",
      "output shape: 2\n",
      "output shape: 2\n",
      "output shape: 2\n",
      "output shape: 2\n",
      "output shape: 2\n",
      "output shape: 2\n",
      "output shape: 2\n",
      "output shape: 2\n",
      "output shape: 2\n",
      "output shape: 2\n",
      "output shape: 2\n",
      "output shape: 2\n",
      "output shape: 2\n",
      "output shape: 2\n",
      "output shape: 2\n",
      "output shape: 2\n",
      "output shape: 2\n",
      "output shape: 2\n",
      "output shape: 2\n",
      "output shape: 2\n",
      "output shape: 2\n",
      "output shape: 2\n",
      "output shape: 2\n",
      "output shape: 2\n",
      "output shape: 2\n",
      "output shape: 2\n",
      "output shape: 2\n",
      "output shape: 2\n",
      "output shape: 2\n",
      "output shape: 2\n",
      "output shape: 2\n",
      "output shape: 2\n",
      "output shape: 2\n",
      "output shape: 2\n",
      "output shape: 2\n",
      "output shape: 2\n",
      "output shape: 2\n",
      "output shape: 2\n",
      "output shape: 2\n",
      "output shape: 2\n",
      "output shape: 2\n",
      "output shape: 2\n",
      "output shape: 2\n",
      "output shape: 2\n",
      "output shape: 2\n",
      "output shape: 2\n",
      "output shape: 2\n",
      "output shape: 2\n",
      "output shape: 2\n",
      "output shape: 2\n",
      "output shape: 2\n",
      "output shape: 2\n",
      "output shape: 2\n",
      "output shape: 2\n",
      "output shape: 2\n",
      "output shape: 2\n",
      "output shape: 2\n",
      "output shape: 2\n",
      "output shape: 2\n",
      "output shape: 2\n",
      "output shape: 2\n",
      "output shape: 2\n",
      "output shape: 2\n",
      "output shape: 2\n",
      "output shape: 2\n",
      "output shape: 2\n",
      "output shape: 2\n",
      "output shape: 2\n",
      "output shape: 2\n",
      "output shape: 2\n",
      "output shape: 2\n",
      "output shape: 2\n",
      "output shape: 2\n",
      "output shape: 2\n",
      "output shape: 2\n",
      "output shape: 2\n",
      "output shape: 2\n",
      "output shape: 2\n",
      "output shape: 2\n",
      "output shape: 2\n",
      "output shape: 2\n",
      "output shape: 2\n",
      "output shape: 2\n",
      "output shape: 2\n",
      "output shape: 2\n",
      "output shape: 2\n",
      "output shape: 2\n",
      "output shape: 2\n",
      "output shape: 2\n",
      "output shape: 2\n",
      "output shape: 2\n",
      "output shape: 2\n",
      "output shape: 2\n",
      "output shape: 2\n",
      "output shape: 2\n",
      "output shape: 2\n",
      "output shape: 2\n",
      "output shape: 2\n",
      "output shape: 2\n",
      "output shape: 2\n",
      "output shape: 2\n",
      "output shape: 2\n",
      "output shape: 2\n",
      "output shape: 2\n",
      "output shape: 2\n",
      "output shape: 2\n",
      "output shape: 2\n",
      "output shape: 2\n",
      "output shape: 2\n",
      "output shape: 2\n",
      "output shape: 2\n",
      "output shape: 2\n",
      "output shape: 2\n",
      "output shape: 2\n",
      "output shape: 2\n",
      "output shape: 2\n",
      "output shape: 2\n",
      "output shape: 2\n",
      "output shape: 2\n",
      "output shape: 2\n",
      "output shape: 2\n",
      "output shape: 2\n",
      "output shape: 2\n",
      "output shape: 2\n",
      "output shape: 2\n",
      "output shape: 2\n",
      "output shape: 2\n",
      "output shape: 2\n",
      "output shape: 2\n",
      "output shape: 2\n",
      "output shape: 2\n",
      "output shape: 2\n",
      "output shape: 2\n",
      "output shape: 2\n",
      "output shape: 2\n",
      "output shape: 2\n",
      "output shape: 2\n",
      "output shape: 2\n",
      "output shape: 2\n",
      "output shape: 2\n",
      "output shape: 2\n",
      "output shape: 2\n",
      "output shape: 2\n",
      "output shape: 2\n",
      "output shape: 2\n",
      "output shape: 2\n",
      "output shape: 2\n",
      "output shape: 2\n",
      "output shape: 2\n",
      "output shape: 2\n",
      "output shape: 2\n",
      "output shape: 2\n",
      "output shape: 2\n",
      "output shape: 2\n",
      "output shape: 2\n",
      "output shape: 2\n",
      "output shape: 2\n",
      "output shape: 2\n",
      "output shape: 2\n",
      "output shape: 2\n",
      "output shape: 2\n",
      "output shape: 2\n",
      "output shape: 2\n",
      "output shape: 2\n",
      "output shape: 2\n",
      "output shape: 2\n",
      "output shape: 2\n",
      "output shape: 2\n",
      "output shape: 2\n",
      "output shape: 2\n",
      "output shape: 2\n",
      "output shape: 2\n",
      "output shape: 2\n",
      "output shape: 2\n",
      "output shape: 2\n",
      "output shape: 2\n",
      "output shape: 2\n",
      "output shape: 2\n",
      "output shape: 2\n",
      "output shape: 2\n",
      "output shape: 2\n",
      "output shape: 2\n",
      "output shape: 2\n",
      "output shape: 2\n",
      "output shape: 2\n",
      "output shape: 2\n",
      "output shape: 2\n",
      "output shape: 2\n",
      "output shape: 2\n",
      "output shape: 2\n",
      "output shape: 2\n",
      "output shape: 2\n",
      "output shape: 2\n",
      "output shape: 2\n",
      "output shape: 2\n",
      "output shape: 2\n",
      "output shape: 2\n",
      "output shape: 2\n",
      "output shape: 2\n",
      "output shape: 2\n",
      "output shape: 2\n",
      "output shape: 2\n",
      "output shape: 2\n",
      "output shape: 2\n",
      "output shape: 2\n",
      "output shape: 2\n",
      "output shape: 2\n",
      "output shape: 2\n",
      "output shape: 2\n",
      "output shape: 2\n",
      "output shape: 2\n",
      "output shape: 2\n",
      "output shape: 2\n",
      "output shape: 2\n",
      "output shape: 2\n",
      "output shape: 2\n",
      "output shape: 2\n",
      "output shape: 2\n",
      "output shape: 2\n",
      "output shape: 2\n",
      "output shape: 2\n",
      "output shape: 2\n",
      "output shape: 2\n",
      "output shape: 2\n",
      "output shape: 2\n",
      "output shape: 2\n",
      "output shape: 2\n",
      "output shape: 2\n",
      "output shape: 2\n",
      "output shape: 2\n",
      "output shape: 2\n",
      "\n",
      "Evaluating...\n",
      "output shape: 2\n",
      "output shape: 2\n",
      "output shape: 2\n",
      "output shape: 2\n",
      "output shape: 2\n",
      "output shape: 2\n",
      "output shape: 2\n",
      "output shape: 2\n",
      "output shape: 2\n",
      "output shape: 2\n",
      "output shape: 2\n",
      "output shape: 2\n",
      "output shape: 2\n",
      "output shape: 2\n",
      "output shape: 2\n",
      "output shape: 2\n",
      "output shape: 2\n",
      "output shape: 2\n",
      "output shape: 2\n",
      "output shape: 2\n",
      "output shape: 2\n",
      "output shape: 2\n",
      "output shape: 2\n",
      "output shape: 2\n",
      "output shape: 2\n",
      "output shape: 2\n",
      "output shape: 2\n",
      "output shape: 2\n",
      "output shape: 2\n",
      "output shape: 2\n",
      "output shape: 2\n",
      "output shape: 2\n",
      "\n",
      "Training Loss: tensor(0.2925, grad_fn=<DivBackward0>)\n",
      "Validation Loss: tensor(0.4280)\n",
      "F1 score: 0.819\n",
      "\n",
      " Epoch 3 / 7\n"
     ]
    },
    {
     "data": {
      "application/vnd.jupyter.widget-view+json": {
       "model_id": "850874f1b21c402fa5fc200f868a53fe",
       "version_major": 2,
       "version_minor": 0
      },
      "text/plain": [
       "Iteration:   0%|          | 0/250 [00:00<?, ?it/s]"
      ]
     },
     "metadata": {},
     "output_type": "display_data"
    },
    {
     "name": "stdout",
     "output_type": "stream",
     "text": [
      "output shape: 2\n",
      "output shape: 2\n",
      "output shape: 2\n",
      "output shape: 2\n",
      "output shape: 2\n",
      "output shape: 2\n",
      "output shape: 2\n",
      "output shape: 2\n",
      "output shape: 2\n",
      "output shape: 2\n",
      "output shape: 2\n",
      "output shape: 2\n",
      "output shape: 2\n",
      "output shape: 2\n",
      "output shape: 2\n",
      "output shape: 2\n",
      "output shape: 2\n",
      "output shape: 2\n",
      "output shape: 2\n",
      "output shape: 2\n",
      "output shape: 2\n",
      "output shape: 2\n",
      "output shape: 2\n",
      "output shape: 2\n",
      "output shape: 2\n",
      "output shape: 2\n",
      "output shape: 2\n",
      "output shape: 2\n",
      "output shape: 2\n",
      "output shape: 2\n",
      "output shape: 2\n",
      "output shape: 2\n",
      "output shape: 2\n",
      "output shape: 2\n",
      "output shape: 2\n",
      "output shape: 2\n",
      "output shape: 2\n",
      "output shape: 2\n",
      "output shape: 2\n",
      "output shape: 2\n",
      "output shape: 2\n",
      "output shape: 2\n",
      "output shape: 2\n",
      "output shape: 2\n",
      "output shape: 2\n",
      "output shape: 2\n",
      "output shape: 2\n",
      "output shape: 2\n",
      "output shape: 2\n",
      "output shape: 2\n",
      "output shape: 2\n",
      "output shape: 2\n",
      "output shape: 2\n",
      "output shape: 2\n",
      "output shape: 2\n",
      "output shape: 2\n",
      "output shape: 2\n",
      "output shape: 2\n",
      "output shape: 2\n",
      "output shape: 2\n",
      "output shape: 2\n",
      "output shape: 2\n",
      "output shape: 2\n",
      "output shape: 2\n",
      "output shape: 2\n",
      "output shape: 2\n",
      "output shape: 2\n",
      "output shape: 2\n",
      "output shape: 2\n",
      "output shape: 2\n",
      "output shape: 2\n",
      "output shape: 2\n",
      "output shape: 2\n",
      "output shape: 2\n",
      "output shape: 2\n",
      "output shape: 2\n",
      "output shape: 2\n",
      "output shape: 2\n",
      "output shape: 2\n",
      "output shape: 2\n",
      "output shape: 2\n",
      "output shape: 2\n",
      "output shape: 2\n",
      "output shape: 2\n",
      "output shape: 2\n",
      "output shape: 2\n",
      "output shape: 2\n",
      "output shape: 2\n",
      "output shape: 2\n",
      "output shape: 2\n",
      "output shape: 2\n",
      "output shape: 2\n",
      "output shape: 2\n",
      "output shape: 2\n",
      "output shape: 2\n",
      "output shape: 2\n",
      "output shape: 2\n",
      "output shape: 2\n",
      "output shape: 2\n",
      "output shape: 2\n",
      "output shape: 2\n",
      "output shape: 2\n",
      "output shape: 2\n",
      "output shape: 2\n",
      "output shape: 2\n",
      "output shape: 2\n",
      "output shape: 2\n",
      "output shape: 2\n",
      "output shape: 2\n",
      "output shape: 2\n",
      "output shape: 2\n",
      "output shape: 2\n",
      "output shape: 2\n",
      "output shape: 2\n",
      "output shape: 2\n",
      "output shape: 2\n",
      "output shape: 2\n",
      "output shape: 2\n",
      "output shape: 2\n",
      "output shape: 2\n",
      "output shape: 2\n",
      "output shape: 2\n",
      "output shape: 2\n",
      "output shape: 2\n",
      "output shape: 2\n",
      "output shape: 2\n",
      "output shape: 2\n",
      "output shape: 2\n",
      "output shape: 2\n",
      "output shape: 2\n",
      "output shape: 2\n",
      "output shape: 2\n",
      "output shape: 2\n",
      "output shape: 2\n",
      "output shape: 2\n",
      "output shape: 2\n",
      "output shape: 2\n",
      "output shape: 2\n",
      "output shape: 2\n",
      "output shape: 2\n",
      "output shape: 2\n",
      "output shape: 2\n",
      "output shape: 2\n",
      "output shape: 2\n",
      "output shape: 2\n",
      "output shape: 2\n",
      "output shape: 2\n",
      "output shape: 2\n",
      "output shape: 2\n",
      "output shape: 2\n",
      "output shape: 2\n",
      "output shape: 2\n",
      "output shape: 2\n",
      "output shape: 2\n",
      "output shape: 2\n",
      "output shape: 2\n",
      "output shape: 2\n",
      "output shape: 2\n",
      "output shape: 2\n",
      "output shape: 2\n",
      "output shape: 2\n",
      "output shape: 2\n",
      "output shape: 2\n",
      "output shape: 2\n",
      "output shape: 2\n",
      "output shape: 2\n",
      "output shape: 2\n",
      "output shape: 2\n",
      "output shape: 2\n",
      "output shape: 2\n",
      "output shape: 2\n",
      "output shape: 2\n",
      "output shape: 2\n",
      "output shape: 2\n",
      "output shape: 2\n",
      "output shape: 2\n",
      "output shape: 2\n",
      "output shape: 2\n",
      "output shape: 2\n",
      "output shape: 2\n",
      "output shape: 2\n",
      "output shape: 2\n",
      "output shape: 2\n",
      "output shape: 2\n",
      "output shape: 2\n",
      "output shape: 2\n",
      "output shape: 2\n",
      "output shape: 2\n",
      "output shape: 2\n",
      "output shape: 2\n",
      "output shape: 2\n",
      "output shape: 2\n",
      "output shape: 2\n",
      "output shape: 2\n",
      "output shape: 2\n",
      "output shape: 2\n",
      "output shape: 2\n",
      "output shape: 2\n",
      "output shape: 2\n",
      "output shape: 2\n",
      "output shape: 2\n",
      "output shape: 2\n",
      "output shape: 2\n",
      "output shape: 2\n",
      "output shape: 2\n",
      "output shape: 2\n",
      "output shape: 2\n",
      "output shape: 2\n",
      "output shape: 2\n",
      "output shape: 2\n",
      "output shape: 2\n",
      "output shape: 2\n",
      "output shape: 2\n",
      "output shape: 2\n",
      "output shape: 2\n",
      "output shape: 2\n",
      "output shape: 2\n",
      "output shape: 2\n",
      "output shape: 2\n",
      "output shape: 2\n",
      "output shape: 2\n",
      "output shape: 2\n",
      "output shape: 2\n",
      "output shape: 2\n",
      "output shape: 2\n",
      "output shape: 2\n",
      "output shape: 2\n",
      "output shape: 2\n",
      "output shape: 2\n",
      "output shape: 2\n",
      "output shape: 2\n",
      "output shape: 2\n",
      "output shape: 2\n",
      "output shape: 2\n",
      "output shape: 2\n",
      "output shape: 2\n",
      "output shape: 2\n",
      "output shape: 2\n",
      "output shape: 2\n",
      "output shape: 2\n",
      "output shape: 2\n",
      "output shape: 2\n",
      "output shape: 2\n",
      "output shape: 2\n",
      "output shape: 2\n",
      "output shape: 2\n",
      "output shape: 2\n",
      "output shape: 2\n",
      "output shape: 2\n",
      "output shape: 2\n",
      "\n",
      "Evaluating...\n",
      "output shape: 2\n",
      "output shape: 2\n",
      "output shape: 2\n",
      "output shape: 2\n",
      "output shape: 2\n",
      "output shape: 2\n",
      "output shape: 2\n",
      "output shape: 2\n",
      "output shape: 2\n",
      "output shape: 2\n",
      "output shape: 2\n",
      "output shape: 2\n",
      "output shape: 2\n",
      "output shape: 2\n",
      "output shape: 2\n",
      "output shape: 2\n",
      "output shape: 2\n",
      "output shape: 2\n",
      "output shape: 2\n",
      "output shape: 2\n",
      "output shape: 2\n",
      "output shape: 2\n",
      "output shape: 2\n",
      "output shape: 2\n",
      "output shape: 2\n",
      "output shape: 2\n",
      "output shape: 2\n",
      "output shape: 2\n",
      "output shape: 2\n",
      "output shape: 2\n",
      "output shape: 2\n",
      "output shape: 2\n",
      "\n",
      "Training Loss: tensor(0.1851, grad_fn=<DivBackward0>)\n",
      "Validation Loss: tensor(0.4805)\n",
      "F1 score: 0.804\n",
      "\n",
      " Epoch 4 / 7\n"
     ]
    },
    {
     "data": {
      "application/vnd.jupyter.widget-view+json": {
       "model_id": "826c2ee9eb9f47f48641990586b6cd04",
       "version_major": 2,
       "version_minor": 0
      },
      "text/plain": [
       "Iteration:   0%|          | 0/250 [00:00<?, ?it/s]"
      ]
     },
     "metadata": {},
     "output_type": "display_data"
    },
    {
     "name": "stdout",
     "output_type": "stream",
     "text": [
      "output shape: 2\n",
      "output shape: 2\n",
      "output shape: 2\n",
      "output shape: 2\n",
      "output shape: 2\n",
      "output shape: 2\n",
      "output shape: 2\n",
      "output shape: 2\n",
      "output shape: 2\n",
      "output shape: 2\n",
      "output shape: 2\n",
      "output shape: 2\n",
      "output shape: 2\n",
      "output shape: 2\n",
      "output shape: 2\n",
      "output shape: 2\n",
      "output shape: 2\n",
      "output shape: 2\n",
      "output shape: 2\n",
      "output shape: 2\n",
      "output shape: 2\n",
      "output shape: 2\n",
      "output shape: 2\n",
      "output shape: 2\n",
      "output shape: 2\n",
      "output shape: 2\n",
      "output shape: 2\n",
      "output shape: 2\n",
      "output shape: 2\n",
      "output shape: 2\n",
      "output shape: 2\n",
      "output shape: 2\n",
      "output shape: 2\n",
      "output shape: 2\n",
      "output shape: 2\n",
      "output shape: 2\n",
      "output shape: 2\n",
      "output shape: 2\n",
      "output shape: 2\n",
      "output shape: 2\n",
      "output shape: 2\n",
      "output shape: 2\n",
      "output shape: 2\n",
      "output shape: 2\n",
      "output shape: 2\n",
      "output shape: 2\n",
      "output shape: 2\n",
      "output shape: 2\n",
      "output shape: 2\n",
      "output shape: 2\n",
      "output shape: 2\n",
      "output shape: 2\n",
      "output shape: 2\n",
      "output shape: 2\n",
      "output shape: 2\n",
      "output shape: 2\n",
      "output shape: 2\n",
      "output shape: 2\n",
      "output shape: 2\n",
      "output shape: 2\n",
      "output shape: 2\n",
      "output shape: 2\n",
      "output shape: 2\n",
      "output shape: 2\n",
      "output shape: 2\n",
      "output shape: 2\n",
      "output shape: 2\n",
      "output shape: 2\n",
      "output shape: 2\n",
      "output shape: 2\n",
      "output shape: 2\n",
      "output shape: 2\n",
      "output shape: 2\n",
      "output shape: 2\n",
      "output shape: 2\n",
      "output shape: 2\n",
      "output shape: 2\n",
      "output shape: 2\n",
      "output shape: 2\n",
      "output shape: 2\n",
      "output shape: 2\n",
      "output shape: 2\n",
      "output shape: 2\n",
      "output shape: 2\n",
      "output shape: 2\n",
      "output shape: 2\n",
      "output shape: 2\n",
      "output shape: 2\n",
      "output shape: 2\n",
      "output shape: 2\n",
      "output shape: 2\n",
      "output shape: 2\n",
      "output shape: 2\n",
      "output shape: 2\n",
      "output shape: 2\n",
      "output shape: 2\n",
      "output shape: 2\n",
      "output shape: 2\n",
      "output shape: 2\n",
      "output shape: 2\n",
      "output shape: 2\n",
      "output shape: 2\n",
      "output shape: 2\n",
      "output shape: 2\n",
      "output shape: 2\n",
      "output shape: 2\n",
      "output shape: 2\n",
      "output shape: 2\n",
      "output shape: 2\n",
      "output shape: 2\n",
      "output shape: 2\n",
      "output shape: 2\n",
      "output shape: 2\n",
      "output shape: 2\n",
      "output shape: 2\n",
      "output shape: 2\n",
      "output shape: 2\n",
      "output shape: 2\n",
      "output shape: 2\n",
      "output shape: 2\n",
      "output shape: 2\n",
      "output shape: 2\n",
      "output shape: 2\n",
      "output shape: 2\n",
      "output shape: 2\n",
      "output shape: 2\n",
      "output shape: 2\n",
      "output shape: 2\n",
      "output shape: 2\n",
      "output shape: 2\n",
      "output shape: 2\n",
      "output shape: 2\n",
      "output shape: 2\n",
      "output shape: 2\n",
      "output shape: 2\n",
      "output shape: 2\n",
      "output shape: 2\n",
      "output shape: 2\n",
      "output shape: 2\n",
      "output shape: 2\n",
      "output shape: 2\n",
      "output shape: 2\n",
      "output shape: 2\n",
      "output shape: 2\n",
      "output shape: 2\n",
      "output shape: 2\n",
      "output shape: 2\n",
      "output shape: 2\n",
      "output shape: 2\n",
      "output shape: 2\n",
      "output shape: 2\n",
      "output shape: 2\n",
      "output shape: 2\n",
      "output shape: 2\n",
      "output shape: 2\n",
      "output shape: 2\n",
      "output shape: 2\n",
      "output shape: 2\n",
      "output shape: 2\n",
      "output shape: 2\n",
      "output shape: 2\n",
      "output shape: 2\n",
      "output shape: 2\n",
      "output shape: 2\n",
      "output shape: 2\n",
      "output shape: 2\n",
      "output shape: 2\n",
      "output shape: 2\n",
      "output shape: 2\n",
      "output shape: 2\n",
      "output shape: 2\n",
      "output shape: 2\n",
      "output shape: 2\n",
      "output shape: 2\n",
      "output shape: 2\n",
      "output shape: 2\n",
      "output shape: 2\n",
      "output shape: 2\n",
      "output shape: 2\n",
      "output shape: 2\n",
      "output shape: 2\n",
      "output shape: 2\n",
      "output shape: 2\n",
      "output shape: 2\n",
      "output shape: 2\n",
      "output shape: 2\n",
      "output shape: 2\n",
      "output shape: 2\n",
      "output shape: 2\n",
      "output shape: 2\n",
      "output shape: 2\n",
      "output shape: 2\n",
      "output shape: 2\n",
      "output shape: 2\n",
      "output shape: 2\n",
      "output shape: 2\n",
      "output shape: 2\n",
      "output shape: 2\n",
      "output shape: 2\n",
      "output shape: 2\n",
      "output shape: 2\n",
      "output shape: 2\n",
      "output shape: 2\n",
      "output shape: 2\n",
      "output shape: 2\n",
      "output shape: 2\n",
      "output shape: 2\n",
      "output shape: 2\n",
      "output shape: 2\n",
      "output shape: 2\n",
      "output shape: 2\n",
      "output shape: 2\n",
      "output shape: 2\n",
      "output shape: 2\n",
      "output shape: 2\n",
      "output shape: 2\n",
      "output shape: 2\n",
      "output shape: 2\n",
      "output shape: 2\n",
      "output shape: 2\n",
      "output shape: 2\n",
      "output shape: 2\n",
      "output shape: 2\n",
      "output shape: 2\n",
      "output shape: 2\n",
      "output shape: 2\n",
      "output shape: 2\n",
      "output shape: 2\n",
      "output shape: 2\n",
      "output shape: 2\n",
      "output shape: 2\n",
      "output shape: 2\n",
      "output shape: 2\n",
      "output shape: 2\n",
      "output shape: 2\n",
      "output shape: 2\n",
      "output shape: 2\n",
      "output shape: 2\n",
      "output shape: 2\n",
      "output shape: 2\n",
      "output shape: 2\n",
      "output shape: 2\n",
      "output shape: 2\n",
      "output shape: 2\n",
      "output shape: 2\n",
      "output shape: 2\n",
      "output shape: 2\n",
      "output shape: 2\n",
      "output shape: 2\n",
      "output shape: 2\n",
      "\n",
      "Evaluating...\n",
      "output shape: 2\n",
      "output shape: 2\n",
      "output shape: 2\n",
      "output shape: 2\n",
      "output shape: 2\n",
      "output shape: 2\n",
      "output shape: 2\n",
      "output shape: 2\n",
      "output shape: 2\n",
      "output shape: 2\n",
      "output shape: 2\n",
      "output shape: 2\n",
      "output shape: 2\n",
      "output shape: 2\n",
      "output shape: 2\n",
      "output shape: 2\n",
      "output shape: 2\n",
      "output shape: 2\n",
      "output shape: 2\n",
      "output shape: 2\n",
      "output shape: 2\n",
      "output shape: 2\n",
      "output shape: 2\n",
      "output shape: 2\n",
      "output shape: 2\n",
      "output shape: 2\n",
      "output shape: 2\n",
      "output shape: 2\n",
      "output shape: 2\n",
      "output shape: 2\n",
      "output shape: 2\n",
      "output shape: 2\n",
      "\n",
      "Training Loss: tensor(0.1277, grad_fn=<DivBackward0>)\n",
      "Validation Loss: tensor(0.5314)\n",
      "F1 score: 0.835\n",
      "No improvement in 3 epochs. Stopped training.\n"
     ]
    }
   ],
   "source": [
    "# Push model to gpu\n",
    "#model = model.to(device)\n",
    "# Define the optimizer and the learning rate\n",
    "optimizer = AdamW(model.parameters(), lr = 2e-5)\n",
    "\n",
    "best_val_loss = float('inf')\n",
    "best_epoch = -1\n",
    "train_losses=[]\n",
    "val_losses=[]\n",
    "epochs = 7\n",
    "# Define the number of epochs to wait for early stopping\n",
    "patience = 3\n",
    "\n",
    "# Train the model\n",
    "for epoch in range(epochs):     \n",
    "  print('\\n Epoch {:} / {:}'.format(epoch + 1, epochs))    \n",
    "  train_loss = training()\n",
    "  val_loss, val_targets, val_predictions = evaluate()\n",
    "\n",
    "  train_losses.append(train_loss)\n",
    "  val_losses.append(val_loss)\n",
    "\n",
    "  print(\"\\nTraining Loss:\", train_loss)\n",
    "  print(\"Validation Loss:\", val_loss)\n",
    "  # Calculate the validation F1 score for the current epoch\n",
    "  f1 = f1_score(val_targets, val_predictions, average=\"binary\")\n",
    "  print(\"F1 score:\", round(f1, 3))\n",
    "\n",
    "  # Save the model with the best validation loss\n",
    "  if val_loss < best_val_loss:\n",
    "    best_val_loss = val_loss\n",
    "    best_epoch = epoch\n",
    "    torch.save(model.state_dict(), 'saved_weights.pt')\n",
    "\n",
    "  # Early stopping\n",
    "  if ((epoch - best_epoch) >= patience):\n",
    "    print(\"No improvement in\", patience, \"epochs. Stopped training.\")\n",
    "    break"
   ]
  },
  {
   "cell_type": "markdown",
   "metadata": {},
   "source": [
    "## Inference "
   ]
  },
  {
   "cell_type": "code",
   "execution_count": 157,
   "metadata": {},
   "outputs": [
    {
     "name": "stderr",
     "output_type": "stream",
     "text": [
      "Some weights of the model checkpoint at bert-base-uncased were not used when initializing BertForSequenceClassification: ['cls.predictions.bias', 'cls.predictions.transform.dense.weight', 'cls.predictions.transform.dense.bias', 'cls.predictions.decoder.weight', 'cls.seq_relationship.weight', 'cls.seq_relationship.bias', 'cls.predictions.transform.LayerNorm.weight', 'cls.predictions.transform.LayerNorm.bias']\n",
      "- This IS expected if you are initializing BertForSequenceClassification from the checkpoint of a model trained on another task or with another architecture (e.g. initializing a BertForSequenceClassification model from a BertForPretraining model).\n",
      "- This IS NOT expected if you are initializing BertForSequenceClassification from the checkpoint of a model that you expect to be exactly identical (initializing a BertForSequenceClassification model from a BertForSequenceClassification model).\n",
      "Some weights of BertForSequenceClassification were not initialized from the model checkpoint at bert-base-uncased and are newly initialized: ['classifier.weight', 'classifier.bias']\n",
      "You should probably TRAIN this model on a down-stream task to be able to use it for predictions and inference.\n"
     ]
    },
    {
     "data": {
      "text/plain": [
       "<All keys matched successfully>"
      ]
     },
     "execution_count": 157,
     "metadata": {},
     "output_type": "execute_result"
    }
   ],
   "source": [
    "# Create the model\n",
    "model_e = BertForSequenceClassification.from_pretrained(\"bert-base-uncased\", output_attentions=True)\n",
    "# Load pre-trained weights\n",
    "checkpoint = torch.load(\"saved_weights.pt\", map_location=\"cpu\")\n",
    "# Add them to the model\n",
    "model_e.load_state_dict(checkpoint)\n",
    "#model_e = model_e.to(device)"
   ]
  },
  {
   "cell_type": "code",
   "execution_count": 158,
   "metadata": {},
   "outputs": [],
   "source": [
    "# Predict for the test set and save the results\n",
    "model_e.eval()\n",
    "test_predictions = []\n",
    "test_targets = []\n",
    "test_attentions = []\n",
    "test_inputs = []\n",
    "\n",
    "for batch in test_dataloader:\n",
    "  batch = [t.to(device) for t in batch]\n",
    "  sent_id, mask, labels = batch\n",
    "  # Get gold labels\n",
    "  test_targets.extend(labels.detach().cpu().numpy())\n",
    "  # Get input words\n",
    "  test_inputs.append(bert_tokenizer.convert_ids_to_tokens(sent_id.detach().cpu().numpy()[0]))\n",
    "  with torch.no_grad():\n",
    "    # Get predictions\n",
    "    probs, attention, norms = model_e(sent_id, attention_mask=mask, output_norms=True, output_attentions=True)\n",
    "    # Apply softmax to the outputs\n",
    "    output_probs = softmax(outputs[0].detach().cpu().numpy(), axis=1)\n",
    "    # Get the with the highest probability as the predicted label\n",
    "    test_predictions.extend(np.argmax(output_probs, axis=1))\n",
    "    # Get attention weights\n",
    "    # Attention weights from all layers are returned in a tuple\n",
    "    # The weights from each layer are in a tensor with shape (batch_size, attention_heads, max_len, max_len)\n",
    "    test_attentions.append(outputs[1])"
   ]
  },
  {
   "cell_type": "markdown",
   "metadata": {},
   "source": [
    "## Attention and norm analysis"
   ]
  },
  {
   "cell_type": "code",
   "execution_count": 62,
   "metadata": {},
   "outputs": [],
   "source": [
    "# Get attention heatmaps\n",
    "import matplotlib\n",
    "from IPython.core.display import display, HTML\n",
    "def colorize(words, color_array):\n",
    "    cmap=matplotlib.cm.Reds\n",
    "    template = '<span class=\"barcode\"; style=\"color: black; background-color: {}\">{}</span>'\n",
    "    colored_string = ''\n",
    "    for word, color in zip(words, color_array):\n",
    "        color = matplotlib.colors.rgb2hex(cmap(color)[:3])\n",
    "        colored_string += template.format(color, '&nbsp' + word + '&nbsp')\n",
    "    return colored_string"
   ]
  },
  {
   "cell_type": "code",
   "execution_count": 160,
   "metadata": {},
   "outputs": [
    {
     "name": "stdout",
     "output_type": "stream",
     "text": [
      "12\n",
      "torch.Size([1, 12, 84, 84])\n"
     ]
    }
   ],
   "source": [
    "print(len(attention))\n",
    "print(attention[layer-1].shape)"
   ]
  },
  {
   "cell_type": "code",
   "execution_count": 161,
   "metadata": {},
   "outputs": [
    {
     "name": "stdout",
     "output_type": "stream",
     "text": [
      "12\n",
      "3\n"
     ]
    },
    {
     "data": {
      "text/plain": [
       "torch.Size([1, 12, 84])"
      ]
     },
     "execution_count": 161,
     "metadata": {},
     "output_type": "execute_result"
    }
   ],
   "source": [
    "print(len(norms))\n",
    "print(len(norms[layer-1]))\n",
    "norms[layer-1][0].shape"
   ]
  },
  {
   "cell_type": "code",
   "execution_count": 100,
   "metadata": {},
   "outputs": [],
   "source": [
    "# Lack of Subject-Verb Agreement\n",
    "sentence1 = \"She are going to the park.\"\n",
    "# Pronoun Disagreement\n",
    "sentence2 = \"All girl brings their own lunch.\""
   ]
  },
  {
   "cell_type": "markdown",
   "metadata": {},
   "source": [
    "### Sentence 1 "
   ]
  },
  {
   "cell_type": "code",
   "execution_count": 93,
   "metadata": {},
   "outputs": [
    {
     "name": "stdout",
     "output_type": "stream",
     "text": [
      "output shape: 3\n"
     ]
    }
   ],
   "source": [
    "# Encode the first sentence\n",
    "encoded_sentence1 = bert_tokenizer.batch_encode_plus([sentence1], padding=True)\n",
    "\n",
    "# Give as input to the model and get the outputs\n",
    "inputs = torch.tensor(encoded_sentence1[\"input_ids\"]).to(device)\n",
    "att = torch.tensor(encoded_sentence1[\"attention_mask\"]).to(device)\n",
    "probs, attentions, norms = model_e(inputs, attention_mask=att, output_attentions=True, output_norms=True)"
   ]
  },
  {
   "cell_type": "code",
   "execution_count": 102,
   "metadata": {},
   "outputs": [
    {
     "name": "stdout",
     "output_type": "stream",
     "text": [
      "She are going to the park. : 1\n"
     ]
    }
   ],
   "source": [
    "# Get the predictions\n",
    "output_probs = softmax(probs.detach().cpu().numpy(), axis=1)\n",
    "predictions = (np.argmax(output_probs, axis=1))\n",
    "print(sentence1, \":\", predictions[0])"
   ]
  },
  {
   "cell_type": "markdown",
   "metadata": {},
   "source": [
    "### What does the CLS token attend to? How does it differ between weight based and norm-based analysis? "
   ]
  },
  {
   "cell_type": "code",
   "execution_count": 95,
   "metadata": {},
   "outputs": [
    {
     "name": "stdout",
     "output_type": "stream",
     "text": [
      "\n",
      "Layer 1\n",
      "Head 1\n"
     ]
    },
    {
     "data": {
      "text/html": [
       "<span class=\"barcode\"; style=\"color: black; background-color: #fee7dc\">&nbsp[CLS]&nbsp</span><span class=\"barcode\"; style=\"color: black; background-color: #ffefe8\">&nbspshe&nbsp</span><span class=\"barcode\"; style=\"color: black; background-color: #ffebe2\">&nbspare&nbsp</span><span class=\"barcode\"; style=\"color: black; background-color: #ffece4\">&nbspgoing&nbsp</span><span class=\"barcode\"; style=\"color: black; background-color: #fedaca\">&nbspto&nbsp</span><span class=\"barcode\"; style=\"color: black; background-color: #fdd5c4\">&nbspthe&nbsp</span><span class=\"barcode\"; style=\"color: black; background-color: #ffece4\">&nbsppark&nbsp</span><span class=\"barcode\"; style=\"color: black; background-color: #fedaca\">&nbsp.&nbsp</span><span class=\"barcode\"; style=\"color: black; background-color: #fcb99f\">&nbsp[SEP]&nbsp</span>"
      ],
      "text/plain": [
       "<IPython.core.display.HTML object>"
      ]
     },
     "metadata": {},
     "output_type": "display_data"
    },
    {
     "name": "stdout",
     "output_type": "stream",
     "text": [
      "Head 2\n"
     ]
    },
    {
     "data": {
      "text/html": [
       "<span class=\"barcode\"; style=\"color: black; background-color: #fb7252\">&nbsp[CLS]&nbsp</span><span class=\"barcode\"; style=\"color: black; background-color: #fff4ee\">&nbspshe&nbsp</span><span class=\"barcode\"; style=\"color: black; background-color: #fff4ef\">&nbspare&nbsp</span><span class=\"barcode\"; style=\"color: black; background-color: #fff4ef\">&nbspgoing&nbsp</span><span class=\"barcode\"; style=\"color: black; background-color: #fb7757\">&nbspto&nbsp</span><span class=\"barcode\"; style=\"color: black; background-color: #fff3ed\">&nbspthe&nbsp</span><span class=\"barcode\"; style=\"color: black; background-color: #fff5f0\">&nbsppark&nbsp</span><span class=\"barcode\"; style=\"color: black; background-color: #fff1ea\">&nbsp.&nbsp</span><span class=\"barcode\"; style=\"color: black; background-color: #fff4ef\">&nbsp[SEP]&nbsp</span>"
      ],
      "text/plain": [
       "<IPython.core.display.HTML object>"
      ]
     },
     "metadata": {},
     "output_type": "display_data"
    },
    {
     "name": "stdout",
     "output_type": "stream",
     "text": [
      "Head 3\n"
     ]
    },
    {
     "data": {
      "text/html": [
       "<span class=\"barcode\"; style=\"color: black; background-color: #c7171c\">&nbsp[CLS]&nbsp</span><span class=\"barcode\"; style=\"color: black; background-color: #ffefe8\">&nbspshe&nbsp</span><span class=\"barcode\"; style=\"color: black; background-color: #fff2eb\">&nbspare&nbsp</span><span class=\"barcode\"; style=\"color: black; background-color: #fff2ec\">&nbspgoing&nbsp</span><span class=\"barcode\"; style=\"color: black; background-color: #fff1ea\">&nbspto&nbsp</span><span class=\"barcode\"; style=\"color: black; background-color: #fff1ea\">&nbspthe&nbsp</span><span class=\"barcode\"; style=\"color: black; background-color: #fff3ed\">&nbsppark&nbsp</span><span class=\"barcode\"; style=\"color: black; background-color: #ffefe8\">&nbsp.&nbsp</span><span class=\"barcode\"; style=\"color: black; background-color: #ffebe2\">&nbsp[SEP]&nbsp</span>"
      ],
      "text/plain": [
       "<IPython.core.display.HTML object>"
      ]
     },
     "metadata": {},
     "output_type": "display_data"
    },
    {
     "name": "stdout",
     "output_type": "stream",
     "text": [
      "Head 4\n"
     ]
    },
    {
     "data": {
      "text/html": [
       "<span class=\"barcode\"; style=\"color: black; background-color: #ce1a1e\">&nbsp[CLS]&nbsp</span><span class=\"barcode\"; style=\"color: black; background-color: #ffeee6\">&nbspshe&nbsp</span><span class=\"barcode\"; style=\"color: black; background-color: #fff0e8\">&nbspare&nbsp</span><span class=\"barcode\"; style=\"color: black; background-color: #fff0e8\">&nbspgoing&nbsp</span><span class=\"barcode\"; style=\"color: black; background-color: #ffefe8\">&nbspto&nbsp</span><span class=\"barcode\"; style=\"color: black; background-color: #fff1ea\">&nbspthe&nbsp</span><span class=\"barcode\"; style=\"color: black; background-color: #fff2ec\">&nbsppark&nbsp</span><span class=\"barcode\"; style=\"color: black; background-color: #fff1ea\">&nbsp.&nbsp</span><span class=\"barcode\"; style=\"color: black; background-color: #ffeee6\">&nbsp[SEP]&nbsp</span>"
      ],
      "text/plain": [
       "<IPython.core.display.HTML object>"
      ]
     },
     "metadata": {},
     "output_type": "display_data"
    },
    {
     "name": "stdout",
     "output_type": "stream",
     "text": [
      "Head 5\n"
     ]
    },
    {
     "data": {
      "text/html": [
       "<span class=\"barcode\"; style=\"color: black; background-color: #de2b25\">&nbsp[CLS]&nbsp</span><span class=\"barcode\"; style=\"color: black; background-color: #fff1ea\">&nbspshe&nbsp</span><span class=\"barcode\"; style=\"color: black; background-color: #fff0e9\">&nbspare&nbsp</span><span class=\"barcode\"; style=\"color: black; background-color: #ffeee6\">&nbspgoing&nbsp</span><span class=\"barcode\"; style=\"color: black; background-color: #ffefe8\">&nbspto&nbsp</span><span class=\"barcode\"; style=\"color: black; background-color: #fff2eb\">&nbspthe&nbsp</span><span class=\"barcode\"; style=\"color: black; background-color: #ffede5\">&nbsppark&nbsp</span><span class=\"barcode\"; style=\"color: black; background-color: #ffeee7\">&nbsp.&nbsp</span><span class=\"barcode\"; style=\"color: black; background-color: #feeae0\">&nbsp[SEP]&nbsp</span>"
      ],
      "text/plain": [
       "<IPython.core.display.HTML object>"
      ]
     },
     "metadata": {},
     "output_type": "display_data"
    },
    {
     "name": "stdout",
     "output_type": "stream",
     "text": [
      "Head 6\n"
     ]
    },
    {
     "data": {
      "text/html": [
       "<span class=\"barcode\"; style=\"color: black; background-color: #fc9272\">&nbsp[CLS]&nbsp</span><span class=\"barcode\"; style=\"color: black; background-color: #fee8de\">&nbspshe&nbsp</span><span class=\"barcode\"; style=\"color: black; background-color: #fff2eb\">&nbspare&nbsp</span><span class=\"barcode\"; style=\"color: black; background-color: #fff4ee\">&nbspgoing&nbsp</span><span class=\"barcode\"; style=\"color: black; background-color: #fff2eb\">&nbspto&nbsp</span><span class=\"barcode\"; style=\"color: black; background-color: #ffeee6\">&nbspthe&nbsp</span><span class=\"barcode\"; style=\"color: black; background-color: #fff4ee\">&nbsppark&nbsp</span><span class=\"barcode\"; style=\"color: black; background-color: #fc9373\">&nbsp.&nbsp</span><span class=\"barcode\"; style=\"color: black; background-color: #ffebe2\">&nbsp[SEP]&nbsp</span>"
      ],
      "text/plain": [
       "<IPython.core.display.HTML object>"
      ]
     },
     "metadata": {},
     "output_type": "display_data"
    },
    {
     "name": "stdout",
     "output_type": "stream",
     "text": [
      "Head 7\n"
     ]
    },
    {
     "data": {
      "text/html": [
       "<span class=\"barcode\"; style=\"color: black; background-color: #fdcdb9\">&nbsp[CLS]&nbsp</span><span class=\"barcode\"; style=\"color: black; background-color: #fff5f0\">&nbspshe&nbsp</span><span class=\"barcode\"; style=\"color: black; background-color: #fff4ef\">&nbspare&nbsp</span><span class=\"barcode\"; style=\"color: black; background-color: #fff5f0\">&nbspgoing&nbsp</span><span class=\"barcode\"; style=\"color: black; background-color: #fff1ea\">&nbspto&nbsp</span><span class=\"barcode\"; style=\"color: black; background-color: #cc191e\">&nbspthe&nbsp</span><span class=\"barcode\"; style=\"color: black; background-color: #fff3ed\">&nbsppark&nbsp</span><span class=\"barcode\"; style=\"color: black; background-color: #fff4ee\">&nbsp.&nbsp</span><span class=\"barcode\"; style=\"color: black; background-color: #fff5f0\">&nbsp[SEP]&nbsp</span>"
      ],
      "text/plain": [
       "<IPython.core.display.HTML object>"
      ]
     },
     "metadata": {},
     "output_type": "display_data"
    },
    {
     "name": "stdout",
     "output_type": "stream",
     "text": [
      "Head 8\n"
     ]
    },
    {
     "data": {
      "text/html": [
       "<span class=\"barcode\"; style=\"color: black; background-color: #fb6e4e\">&nbsp[CLS]&nbsp</span><span class=\"barcode\"; style=\"color: black; background-color: #fee9df\">&nbspshe&nbsp</span><span class=\"barcode\"; style=\"color: black; background-color: #fff1ea\">&nbspare&nbsp</span><span class=\"barcode\"; style=\"color: black; background-color: #fff2ec\">&nbspgoing&nbsp</span><span class=\"barcode\"; style=\"color: black; background-color: #fff1ea\">&nbspto&nbsp</span><span class=\"barcode\"; style=\"color: black; background-color: #fff5f0\">&nbspthe&nbsp</span><span class=\"barcode\"; style=\"color: black; background-color: #fff2ec\">&nbsppark&nbsp</span><span class=\"barcode\"; style=\"color: black; background-color: #fee7dc\">&nbsp.&nbsp</span><span class=\"barcode\"; style=\"color: black; background-color: #fcb398\">&nbsp[SEP]&nbsp</span>"
      ],
      "text/plain": [
       "<IPython.core.display.HTML object>"
      ]
     },
     "metadata": {},
     "output_type": "display_data"
    },
    {
     "name": "stdout",
     "output_type": "stream",
     "text": [
      "Head 9\n"
     ]
    },
    {
     "data": {
      "text/html": [
       "<span class=\"barcode\"; style=\"color: black; background-color: #fc9b7c\">&nbsp[CLS]&nbsp</span><span class=\"barcode\"; style=\"color: black; background-color: #fff4ee\">&nbspshe&nbsp</span><span class=\"barcode\"; style=\"color: black; background-color: #fff4ef\">&nbspare&nbsp</span><span class=\"barcode\"; style=\"color: black; background-color: #fff2eb\">&nbspgoing&nbsp</span><span class=\"barcode\"; style=\"color: black; background-color: #ffefe8\">&nbspto&nbsp</span><span class=\"barcode\"; style=\"color: black; background-color: #fa6547\">&nbspthe&nbsp</span><span class=\"barcode\"; style=\"color: black; background-color: #fff0e8\">&nbsppark&nbsp</span><span class=\"barcode\"; style=\"color: black; background-color: #fff4ee\">&nbsp.&nbsp</span><span class=\"barcode\"; style=\"color: black; background-color: #fff3ed\">&nbsp[SEP]&nbsp</span>"
      ],
      "text/plain": [
       "<IPython.core.display.HTML object>"
      ]
     },
     "metadata": {},
     "output_type": "display_data"
    },
    {
     "name": "stdout",
     "output_type": "stream",
     "text": [
      "Head 10\n"
     ]
    },
    {
     "data": {
      "text/html": [
       "<span class=\"barcode\"; style=\"color: black; background-color: #fee3d6\">&nbsp[CLS]&nbsp</span><span class=\"barcode\"; style=\"color: black; background-color: #fcc3ab\">&nbspshe&nbsp</span><span class=\"barcode\"; style=\"color: black; background-color: #ffebe2\">&nbspare&nbsp</span><span class=\"barcode\"; style=\"color: black; background-color: #fee1d3\">&nbspgoing&nbsp</span><span class=\"barcode\"; style=\"color: black; background-color: #fdcebb\">&nbspto&nbsp</span><span class=\"barcode\"; style=\"color: black; background-color: #fee4d8\">&nbspthe&nbsp</span><span class=\"barcode\"; style=\"color: black; background-color: #feeae0\">&nbsppark&nbsp</span><span class=\"barcode\"; style=\"color: black; background-color: #fee8dd\">&nbsp.&nbsp</span><span class=\"barcode\"; style=\"color: black; background-color: #ffefe8\">&nbsp[SEP]&nbsp</span>"
      ],
      "text/plain": [
       "<IPython.core.display.HTML object>"
      ]
     },
     "metadata": {},
     "output_type": "display_data"
    },
    {
     "name": "stdout",
     "output_type": "stream",
     "text": [
      "Head 11\n"
     ]
    },
    {
     "data": {
      "text/html": [
       "<span class=\"barcode\"; style=\"color: black; background-color: #c9181d\">&nbsp[CLS]&nbsp</span><span class=\"barcode\"; style=\"color: black; background-color: #ffeee7\">&nbspshe&nbsp</span><span class=\"barcode\"; style=\"color: black; background-color: #fff0e9\">&nbspare&nbsp</span><span class=\"barcode\"; style=\"color: black; background-color: #fff3ed\">&nbspgoing&nbsp</span><span class=\"barcode\"; style=\"color: black; background-color: #fff0e9\">&nbspto&nbsp</span><span class=\"barcode\"; style=\"color: black; background-color: #fff0e8\">&nbspthe&nbsp</span><span class=\"barcode\"; style=\"color: black; background-color: #ffeee7\">&nbsppark&nbsp</span><span class=\"barcode\"; style=\"color: black; background-color: #fff0e9\">&nbsp.&nbsp</span><span class=\"barcode\"; style=\"color: black; background-color: #fff1ea\">&nbsp[SEP]&nbsp</span>"
      ],
      "text/plain": [
       "<IPython.core.display.HTML object>"
      ]
     },
     "metadata": {},
     "output_type": "display_data"
    },
    {
     "name": "stdout",
     "output_type": "stream",
     "text": [
      "Head 12\n"
     ]
    },
    {
     "data": {
      "text/html": [
       "<span class=\"barcode\"; style=\"color: black; background-color: #d72322\">&nbsp[CLS]&nbsp</span><span class=\"barcode\"; style=\"color: black; background-color: #fff4ee\">&nbspshe&nbsp</span><span class=\"barcode\"; style=\"color: black; background-color: #fff5f0\">&nbspare&nbsp</span><span class=\"barcode\"; style=\"color: black; background-color: #fff4ef\">&nbspgoing&nbsp</span><span class=\"barcode\"; style=\"color: black; background-color: #fff3ed\">&nbspto&nbsp</span><span class=\"barcode\"; style=\"color: black; background-color: #fcc3ab\">&nbspthe&nbsp</span><span class=\"barcode\"; style=\"color: black; background-color: #fff5f0\">&nbsppark&nbsp</span><span class=\"barcode\"; style=\"color: black; background-color: #fff5f0\">&nbsp.&nbsp</span><span class=\"barcode\"; style=\"color: black; background-color: #fff0e8\">&nbsp[SEP]&nbsp</span>"
      ],
      "text/plain": [
       "<IPython.core.display.HTML object>"
      ]
     },
     "metadata": {},
     "output_type": "display_data"
    },
    {
     "name": "stdout",
     "output_type": "stream",
     "text": [
      "\n",
      "Layer 2\n",
      "Head 1\n"
     ]
    },
    {
     "data": {
      "text/html": [
       "<span class=\"barcode\"; style=\"color: black; background-color: #fcb89e\">&nbsp[CLS]&nbsp</span><span class=\"barcode\"; style=\"color: black; background-color: #fff4ee\">&nbspshe&nbsp</span><span class=\"barcode\"; style=\"color: black; background-color: #fff5f0\">&nbspare&nbsp</span><span class=\"barcode\"; style=\"color: black; background-color: #fff0e9\">&nbspgoing&nbsp</span><span class=\"barcode\"; style=\"color: black; background-color: #fdc7b2\">&nbspto&nbsp</span><span class=\"barcode\"; style=\"color: black; background-color: #fee8de\">&nbspthe&nbsp</span><span class=\"barcode\"; style=\"color: black; background-color: #fdd1be\">&nbsppark&nbsp</span><span class=\"barcode\"; style=\"color: black; background-color: #fdcebb\">&nbsp.&nbsp</span><span class=\"barcode\"; style=\"color: black; background-color: #ffece4\">&nbsp[SEP]&nbsp</span>"
      ],
      "text/plain": [
       "<IPython.core.display.HTML object>"
      ]
     },
     "metadata": {},
     "output_type": "display_data"
    },
    {
     "name": "stdout",
     "output_type": "stream",
     "text": [
      "Head 2\n"
     ]
    },
    {
     "data": {
      "text/html": [
       "<span class=\"barcode\"; style=\"color: black; background-color: #e02c26\">&nbsp[CLS]&nbsp</span><span class=\"barcode\"; style=\"color: black; background-color: #ffeee7\">&nbspshe&nbsp</span><span class=\"barcode\"; style=\"color: black; background-color: #fff0e9\">&nbspare&nbsp</span><span class=\"barcode\"; style=\"color: black; background-color: #fff1ea\">&nbspgoing&nbsp</span><span class=\"barcode\"; style=\"color: black; background-color: #ffefe8\">&nbspto&nbsp</span><span class=\"barcode\"; style=\"color: black; background-color: #fff0e9\">&nbspthe&nbsp</span><span class=\"barcode\"; style=\"color: black; background-color: #fff0e8\">&nbsppark&nbsp</span><span class=\"barcode\"; style=\"color: black; background-color: #ffece4\">&nbsp.&nbsp</span><span class=\"barcode\"; style=\"color: black; background-color: #feeae0\">&nbsp[SEP]&nbsp</span>"
      ],
      "text/plain": [
       "<IPython.core.display.HTML object>"
      ]
     },
     "metadata": {},
     "output_type": "display_data"
    },
    {
     "name": "stdout",
     "output_type": "stream",
     "text": [
      "Head 3\n"
     ]
    },
    {
     "data": {
      "text/html": [
       "<span class=\"barcode\"; style=\"color: black; background-color: #b91419\">&nbsp[CLS]&nbsp</span><span class=\"barcode\"; style=\"color: black; background-color: #fff2ec\">&nbspshe&nbsp</span><span class=\"barcode\"; style=\"color: black; background-color: #fff4ef\">&nbspare&nbsp</span><span class=\"barcode\"; style=\"color: black; background-color: #fff3ed\">&nbspgoing&nbsp</span><span class=\"barcode\"; style=\"color: black; background-color: #fff2ec\">&nbspto&nbsp</span><span class=\"barcode\"; style=\"color: black; background-color: #fff0e9\">&nbspthe&nbsp</span><span class=\"barcode\"; style=\"color: black; background-color: #ffeee6\">&nbsppark&nbsp</span><span class=\"barcode\"; style=\"color: black; background-color: #fff0e9\">&nbsp.&nbsp</span><span class=\"barcode\"; style=\"color: black; background-color: #ffefe8\">&nbsp[SEP]&nbsp</span>"
      ],
      "text/plain": [
       "<IPython.core.display.HTML object>"
      ]
     },
     "metadata": {},
     "output_type": "display_data"
    },
    {
     "name": "stdout",
     "output_type": "stream",
     "text": [
      "Head 4\n"
     ]
    },
    {
     "data": {
      "text/html": [
       "<span class=\"barcode\"; style=\"color: black; background-color: #f6553c\">&nbsp[CLS]&nbsp</span><span class=\"barcode\"; style=\"color: black; background-color: #fff4ef\">&nbspshe&nbsp</span><span class=\"barcode\"; style=\"color: black; background-color: #fff5f0\">&nbspare&nbsp</span><span class=\"barcode\"; style=\"color: black; background-color: #fff4ef\">&nbspgoing&nbsp</span><span class=\"barcode\"; style=\"color: black; background-color: #fee7db\">&nbspto&nbsp</span><span class=\"barcode\"; style=\"color: black; background-color: #fee6da\">&nbspthe&nbsp</span><span class=\"barcode\"; style=\"color: black; background-color: #fff4ef\">&nbsppark&nbsp</span><span class=\"barcode\"; style=\"color: black; background-color: #fdd3c1\">&nbsp.&nbsp</span><span class=\"barcode\"; style=\"color: black; background-color: #fee8de\">&nbsp[SEP]&nbsp</span>"
      ],
      "text/plain": [
       "<IPython.core.display.HTML object>"
      ]
     },
     "metadata": {},
     "output_type": "display_data"
    },
    {
     "name": "stdout",
     "output_type": "stream",
     "text": [
      "Head 5\n"
     ]
    },
    {
     "data": {
      "text/html": [
       "<span class=\"barcode\"; style=\"color: black; background-color: #ea362a\">&nbsp[CLS]&nbsp</span><span class=\"barcode\"; style=\"color: black; background-color: #fff1ea\">&nbspshe&nbsp</span><span class=\"barcode\"; style=\"color: black; background-color: #fff0e9\">&nbspare&nbsp</span><span class=\"barcode\"; style=\"color: black; background-color: #fff2eb\">&nbspgoing&nbsp</span><span class=\"barcode\"; style=\"color: black; background-color: #fff0e8\">&nbspto&nbsp</span><span class=\"barcode\"; style=\"color: black; background-color: #feeae0\">&nbspthe&nbsp</span><span class=\"barcode\"; style=\"color: black; background-color: #fff3ed\">&nbsppark&nbsp</span><span class=\"barcode\"; style=\"color: black; background-color: #fee9df\">&nbsp.&nbsp</span><span class=\"barcode\"; style=\"color: black; background-color: #fee6da\">&nbsp[SEP]&nbsp</span>"
      ],
      "text/plain": [
       "<IPython.core.display.HTML object>"
      ]
     },
     "metadata": {},
     "output_type": "display_data"
    },
    {
     "name": "stdout",
     "output_type": "stream",
     "text": [
      "Head 6\n"
     ]
    },
    {
     "data": {
      "text/html": [
       "<span class=\"barcode\"; style=\"color: black; background-color: #c8171c\">&nbsp[CLS]&nbsp</span><span class=\"barcode\"; style=\"color: black; background-color: #fff3ed\">&nbspshe&nbsp</span><span class=\"barcode\"; style=\"color: black; background-color: #fff2ec\">&nbspare&nbsp</span><span class=\"barcode\"; style=\"color: black; background-color: #fff3ed\">&nbspgoing&nbsp</span><span class=\"barcode\"; style=\"color: black; background-color: #fff4ee\">&nbspto&nbsp</span><span class=\"barcode\"; style=\"color: black; background-color: #fff4ee\">&nbspthe&nbsp</span><span class=\"barcode\"; style=\"color: black; background-color: #fff4ee\">&nbsppark&nbsp</span><span class=\"barcode\"; style=\"color: black; background-color: #fee8de\">&nbsp.&nbsp</span><span class=\"barcode\"; style=\"color: black; background-color: #fee7db\">&nbsp[SEP]&nbsp</span>"
      ],
      "text/plain": [
       "<IPython.core.display.HTML object>"
      ]
     },
     "metadata": {},
     "output_type": "display_data"
    },
    {
     "name": "stdout",
     "output_type": "stream",
     "text": [
      "Head 7\n"
     ]
    },
    {
     "data": {
      "text/html": [
       "<span class=\"barcode\"; style=\"color: black; background-color: #6d010e\">&nbsp[CLS]&nbsp</span><span class=\"barcode\"; style=\"color: black; background-color: #fff5f0\">&nbspshe&nbsp</span><span class=\"barcode\"; style=\"color: black; background-color: #fff5f0\">&nbspare&nbsp</span><span class=\"barcode\"; style=\"color: black; background-color: #fff5f0\">&nbspgoing&nbsp</span><span class=\"barcode\"; style=\"color: black; background-color: #fff5f0\">&nbspto&nbsp</span><span class=\"barcode\"; style=\"color: black; background-color: #fff5f0\">&nbspthe&nbsp</span><span class=\"barcode\"; style=\"color: black; background-color: #fff5f0\">&nbsppark&nbsp</span><span class=\"barcode\"; style=\"color: black; background-color: #fff5f0\">&nbsp.&nbsp</span><span class=\"barcode\"; style=\"color: black; background-color: #fff5f0\">&nbsp[SEP]&nbsp</span>"
      ],
      "text/plain": [
       "<IPython.core.display.HTML object>"
      ]
     },
     "metadata": {},
     "output_type": "display_data"
    },
    {
     "name": "stdout",
     "output_type": "stream",
     "text": [
      "Head 8\n"
     ]
    },
    {
     "data": {
      "text/html": [
       "<span class=\"barcode\"; style=\"color: black; background-color: #a60f15\">&nbsp[CLS]&nbsp</span><span class=\"barcode\"; style=\"color: black; background-color: #fff4ef\">&nbspshe&nbsp</span><span class=\"barcode\"; style=\"color: black; background-color: #fff4ef\">&nbspare&nbsp</span><span class=\"barcode\"; style=\"color: black; background-color: #fff4ee\">&nbspgoing&nbsp</span><span class=\"barcode\"; style=\"color: black; background-color: #fff4ee\">&nbspto&nbsp</span><span class=\"barcode\"; style=\"color: black; background-color: #fff4ee\">&nbspthe&nbsp</span><span class=\"barcode\"; style=\"color: black; background-color: #fff2ec\">&nbsppark&nbsp</span><span class=\"barcode\"; style=\"color: black; background-color: #fff0e8\">&nbsp.&nbsp</span><span class=\"barcode\"; style=\"color: black; background-color: #ffeee7\">&nbsp[SEP]&nbsp</span>"
      ],
      "text/plain": [
       "<IPython.core.display.HTML object>"
      ]
     },
     "metadata": {},
     "output_type": "display_data"
    },
    {
     "name": "stdout",
     "output_type": "stream",
     "text": [
      "Head 9\n"
     ]
    },
    {
     "data": {
      "text/html": [
       "<span class=\"barcode\"; style=\"color: black; background-color: #fc9373\">&nbsp[CLS]&nbsp</span><span class=\"barcode\"; style=\"color: black; background-color: #ffeee6\">&nbspshe&nbsp</span><span class=\"barcode\"; style=\"color: black; background-color: #ffece3\">&nbspare&nbsp</span><span class=\"barcode\"; style=\"color: black; background-color: #ffeee6\">&nbspgoing&nbsp</span><span class=\"barcode\"; style=\"color: black; background-color: #feeae1\">&nbspto&nbsp</span><span class=\"barcode\"; style=\"color: black; background-color: #ffece3\">&nbspthe&nbsp</span><span class=\"barcode\"; style=\"color: black; background-color: #ffece4\">&nbsppark&nbsp</span><span class=\"barcode\"; style=\"color: black; background-color: #fee5d9\">&nbsp.&nbsp</span><span class=\"barcode\"; style=\"color: black; background-color: #fdc6b0\">&nbsp[SEP]&nbsp</span>"
      ],
      "text/plain": [
       "<IPython.core.display.HTML object>"
      ]
     },
     "metadata": {},
     "output_type": "display_data"
    },
    {
     "name": "stdout",
     "output_type": "stream",
     "text": [
      "Head 10\n"
     ]
    },
    {
     "data": {
      "text/html": [
       "<span class=\"barcode\"; style=\"color: black; background-color: #fcb296\">&nbsp[CLS]&nbsp</span><span class=\"barcode\"; style=\"color: black; background-color: #feeae0\">&nbspshe&nbsp</span><span class=\"barcode\"; style=\"color: black; background-color: #ffece4\">&nbspare&nbsp</span><span class=\"barcode\"; style=\"color: black; background-color: #feeae0\">&nbspgoing&nbsp</span><span class=\"barcode\"; style=\"color: black; background-color: #feeae0\">&nbspto&nbsp</span><span class=\"barcode\"; style=\"color: black; background-color: #fee4d8\">&nbspthe&nbsp</span><span class=\"barcode\"; style=\"color: black; background-color: #ffece3\">&nbsppark&nbsp</span><span class=\"barcode\"; style=\"color: black; background-color: #fee3d6\">&nbsp.&nbsp</span><span class=\"barcode\"; style=\"color: black; background-color: #fdcebb\">&nbsp[SEP]&nbsp</span>"
      ],
      "text/plain": [
       "<IPython.core.display.HTML object>"
      ]
     },
     "metadata": {},
     "output_type": "display_data"
    },
    {
     "name": "stdout",
     "output_type": "stream",
     "text": [
      "Head 11\n"
     ]
    },
    {
     "data": {
      "text/html": [
       "<span class=\"barcode\"; style=\"color: black; background-color: #d11e1f\">&nbsp[CLS]&nbsp</span><span class=\"barcode\"; style=\"color: black; background-color: #fff2eb\">&nbspshe&nbsp</span><span class=\"barcode\"; style=\"color: black; background-color: #fff3ed\">&nbspare&nbsp</span><span class=\"barcode\"; style=\"color: black; background-color: #fff2eb\">&nbspgoing&nbsp</span><span class=\"barcode\"; style=\"color: black; background-color: #fff2eb\">&nbspto&nbsp</span><span class=\"barcode\"; style=\"color: black; background-color: #fff1ea\">&nbspthe&nbsp</span><span class=\"barcode\"; style=\"color: black; background-color: #fff2eb\">&nbsppark&nbsp</span><span class=\"barcode\"; style=\"color: black; background-color: #ffece3\">&nbsp.&nbsp</span><span class=\"barcode\"; style=\"color: black; background-color: #fee7db\">&nbsp[SEP]&nbsp</span>"
      ],
      "text/plain": [
       "<IPython.core.display.HTML object>"
      ]
     },
     "metadata": {},
     "output_type": "display_data"
    },
    {
     "name": "stdout",
     "output_type": "stream",
     "text": [
      "Head 12\n"
     ]
    },
    {
     "data": {
      "text/html": [
       "<span class=\"barcode\"; style=\"color: black; background-color: #fc9879\">&nbsp[CLS]&nbsp</span><span class=\"barcode\"; style=\"color: black; background-color: #feeae1\">&nbspshe&nbsp</span><span class=\"barcode\"; style=\"color: black; background-color: #ffece4\">&nbspare&nbsp</span><span class=\"barcode\"; style=\"color: black; background-color: #ffede5\">&nbspgoing&nbsp</span><span class=\"barcode\"; style=\"color: black; background-color: #ffebe2\">&nbspto&nbsp</span><span class=\"barcode\"; style=\"color: black; background-color: #ffeee6\">&nbspthe&nbsp</span><span class=\"barcode\"; style=\"color: black; background-color: #fff3ed\">&nbsppark&nbsp</span><span class=\"barcode\"; style=\"color: black; background-color: #ffece3\">&nbsp.&nbsp</span><span class=\"barcode\"; style=\"color: black; background-color: #fcad90\">&nbsp[SEP]&nbsp</span>"
      ],
      "text/plain": [
       "<IPython.core.display.HTML object>"
      ]
     },
     "metadata": {},
     "output_type": "display_data"
    },
    {
     "name": "stdout",
     "output_type": "stream",
     "text": [
      "\n",
      "Layer 3\n",
      "Head 1\n"
     ]
    },
    {
     "data": {
      "text/html": [
       "<span class=\"barcode\"; style=\"color: black; background-color: #73030f\">&nbsp[CLS]&nbsp</span><span class=\"barcode\"; style=\"color: black; background-color: #fff5f0\">&nbspshe&nbsp</span><span class=\"barcode\"; style=\"color: black; background-color: #fff5f0\">&nbspare&nbsp</span><span class=\"barcode\"; style=\"color: black; background-color: #fff5f0\">&nbspgoing&nbsp</span><span class=\"barcode\"; style=\"color: black; background-color: #fff5f0\">&nbspto&nbsp</span><span class=\"barcode\"; style=\"color: black; background-color: #fff5f0\">&nbspthe&nbsp</span><span class=\"barcode\"; style=\"color: black; background-color: #fff5f0\">&nbsppark&nbsp</span><span class=\"barcode\"; style=\"color: black; background-color: #fff5f0\">&nbsp.&nbsp</span><span class=\"barcode\"; style=\"color: black; background-color: #fff2ec\">&nbsp[SEP]&nbsp</span>"
      ],
      "text/plain": [
       "<IPython.core.display.HTML object>"
      ]
     },
     "metadata": {},
     "output_type": "display_data"
    },
    {
     "name": "stdout",
     "output_type": "stream",
     "text": [
      "Head 2\n"
     ]
    },
    {
     "data": {
      "text/html": [
       "<span class=\"barcode\"; style=\"color: black; background-color: #f14130\">&nbsp[CLS]&nbsp</span><span class=\"barcode\"; style=\"color: black; background-color: #fff2ec\">&nbspshe&nbsp</span><span class=\"barcode\"; style=\"color: black; background-color: #fff2eb\">&nbspare&nbsp</span><span class=\"barcode\"; style=\"color: black; background-color: #fff2eb\">&nbspgoing&nbsp</span><span class=\"barcode\"; style=\"color: black; background-color: #fff0e8\">&nbspto&nbsp</span><span class=\"barcode\"; style=\"color: black; background-color: #ffeee6\">&nbspthe&nbsp</span><span class=\"barcode\"; style=\"color: black; background-color: #fff3ed\">&nbsppark&nbsp</span><span class=\"barcode\"; style=\"color: black; background-color: #feeae0\">&nbsp.&nbsp</span><span class=\"barcode\"; style=\"color: black; background-color: #fdd2bf\">&nbsp[SEP]&nbsp</span>"
      ],
      "text/plain": [
       "<IPython.core.display.HTML object>"
      ]
     },
     "metadata": {},
     "output_type": "display_data"
    },
    {
     "name": "stdout",
     "output_type": "stream",
     "text": [
      "Head 3\n"
     ]
    },
    {
     "data": {
      "text/html": [
       "<span class=\"barcode\"; style=\"color: black; background-color: #d92523\">&nbsp[CLS]&nbsp</span><span class=\"barcode\"; style=\"color: black; background-color: #fff2ec\">&nbspshe&nbsp</span><span class=\"barcode\"; style=\"color: black; background-color: #fff1ea\">&nbspare&nbsp</span><span class=\"barcode\"; style=\"color: black; background-color: #fff2ec\">&nbspgoing&nbsp</span><span class=\"barcode\"; style=\"color: black; background-color: #fff2ec\">&nbspto&nbsp</span><span class=\"barcode\"; style=\"color: black; background-color: #fff2eb\">&nbspthe&nbsp</span><span class=\"barcode\"; style=\"color: black; background-color: #fff2eb\">&nbsppark&nbsp</span><span class=\"barcode\"; style=\"color: black; background-color: #fee8de\">&nbsp.&nbsp</span><span class=\"barcode\"; style=\"color: black; background-color: #fee5d9\">&nbsp[SEP]&nbsp</span>"
      ],
      "text/plain": [
       "<IPython.core.display.HTML object>"
      ]
     },
     "metadata": {},
     "output_type": "display_data"
    },
    {
     "name": "stdout",
     "output_type": "stream",
     "text": [
      "Head 4\n"
     ]
    },
    {
     "data": {
      "text/html": [
       "<span class=\"barcode\"; style=\"color: black; background-color: #f7593f\">&nbsp[CLS]&nbsp</span><span class=\"barcode\"; style=\"color: black; background-color: #ffeee7\">&nbspshe&nbsp</span><span class=\"barcode\"; style=\"color: black; background-color: #ffebe2\">&nbspare&nbsp</span><span class=\"barcode\"; style=\"color: black; background-color: #ffefe8\">&nbspgoing&nbsp</span><span class=\"barcode\"; style=\"color: black; background-color: #fff1ea\">&nbspto&nbsp</span><span class=\"barcode\"; style=\"color: black; background-color: #fff0e9\">&nbspthe&nbsp</span><span class=\"barcode\"; style=\"color: black; background-color: #fee8dd\">&nbsppark&nbsp</span><span class=\"barcode\"; style=\"color: black; background-color: #ffece4\">&nbsp.&nbsp</span><span class=\"barcode\"; style=\"color: black; background-color: #fedecf\">&nbsp[SEP]&nbsp</span>"
      ],
      "text/plain": [
       "<IPython.core.display.HTML object>"
      ]
     },
     "metadata": {},
     "output_type": "display_data"
    },
    {
     "name": "stdout",
     "output_type": "stream",
     "text": [
      "Head 5\n"
     ]
    },
    {
     "data": {
      "text/html": [
       "<span class=\"barcode\"; style=\"color: black; background-color: #d82422\">&nbsp[CLS]&nbsp</span><span class=\"barcode\"; style=\"color: black; background-color: #fff2ec\">&nbspshe&nbsp</span><span class=\"barcode\"; style=\"color: black; background-color: #fff2ec\">&nbspare&nbsp</span><span class=\"barcode\"; style=\"color: black; background-color: #fff3ed\">&nbspgoing&nbsp</span><span class=\"barcode\"; style=\"color: black; background-color: #fff2ec\">&nbspto&nbsp</span><span class=\"barcode\"; style=\"color: black; background-color: #fff0e9\">&nbspthe&nbsp</span><span class=\"barcode\"; style=\"color: black; background-color: #fff3ed\">&nbsppark&nbsp</span><span class=\"barcode\"; style=\"color: black; background-color: #ffede5\">&nbsp.&nbsp</span><span class=\"barcode\"; style=\"color: black; background-color: #fedccd\">&nbsp[SEP]&nbsp</span>"
      ],
      "text/plain": [
       "<IPython.core.display.HTML object>"
      ]
     },
     "metadata": {},
     "output_type": "display_data"
    },
    {
     "name": "stdout",
     "output_type": "stream",
     "text": [
      "Head 6\n"
     ]
    },
    {
     "data": {
      "text/html": [
       "<span class=\"barcode\"; style=\"color: black; background-color: #f14130\">&nbsp[CLS]&nbsp</span><span class=\"barcode\"; style=\"color: black; background-color: #fff0e8\">&nbspshe&nbsp</span><span class=\"barcode\"; style=\"color: black; background-color: #fff0e9\">&nbspare&nbsp</span><span class=\"barcode\"; style=\"color: black; background-color: #fff0e9\">&nbspgoing&nbsp</span><span class=\"barcode\"; style=\"color: black; background-color: #fff1ea\">&nbspto&nbsp</span><span class=\"barcode\"; style=\"color: black; background-color: #fff0e8\">&nbspthe&nbsp</span><span class=\"barcode\"; style=\"color: black; background-color: #fee5d8\">&nbsppark&nbsp</span><span class=\"barcode\"; style=\"color: black; background-color: #fee6da\">&nbsp.&nbsp</span><span class=\"barcode\"; style=\"color: black; background-color: #ffece4\">&nbsp[SEP]&nbsp</span>"
      ],
      "text/plain": [
       "<IPython.core.display.HTML object>"
      ]
     },
     "metadata": {},
     "output_type": "display_data"
    },
    {
     "name": "stdout",
     "output_type": "stream",
     "text": [
      "Head 7\n"
     ]
    },
    {
     "data": {
      "text/html": [
       "<span class=\"barcode\"; style=\"color: black; background-color: #fedbcc\">&nbsp[CLS]&nbsp</span><span class=\"barcode\"; style=\"color: black; background-color: #fee7db\">&nbspshe&nbsp</span><span class=\"barcode\"; style=\"color: black; background-color: #fee8de\">&nbspare&nbsp</span><span class=\"barcode\"; style=\"color: black; background-color: #fff1ea\">&nbspgoing&nbsp</span><span class=\"barcode\"; style=\"color: black; background-color: #fee8dd\">&nbspto&nbsp</span><span class=\"barcode\"; style=\"color: black; background-color: #fee6da\">&nbspthe&nbsp</span><span class=\"barcode\"; style=\"color: black; background-color: #fee9df\">&nbsppark&nbsp</span><span class=\"barcode\"; style=\"color: black; background-color: #fdc9b3\">&nbsp.&nbsp</span><span class=\"barcode\"; style=\"color: black; background-color: #fdc5ae\">&nbsp[SEP]&nbsp</span>"
      ],
      "text/plain": [
       "<IPython.core.display.HTML object>"
      ]
     },
     "metadata": {},
     "output_type": "display_data"
    },
    {
     "name": "stdout",
     "output_type": "stream",
     "text": [
      "Head 8\n"
     ]
    },
    {
     "data": {
      "text/html": [
       "<span class=\"barcode\"; style=\"color: black; background-color: #c1161b\">&nbsp[CLS]&nbsp</span><span class=\"barcode\"; style=\"color: black; background-color: #fff4ee\">&nbspshe&nbsp</span><span class=\"barcode\"; style=\"color: black; background-color: #fff3ed\">&nbspare&nbsp</span><span class=\"barcode\"; style=\"color: black; background-color: #fff4ee\">&nbspgoing&nbsp</span><span class=\"barcode\"; style=\"color: black; background-color: #fff3ed\">&nbspto&nbsp</span><span class=\"barcode\"; style=\"color: black; background-color: #fff2eb\">&nbspthe&nbsp</span><span class=\"barcode\"; style=\"color: black; background-color: #fff4ee\">&nbsppark&nbsp</span><span class=\"barcode\"; style=\"color: black; background-color: #fff0e8\">&nbsp.&nbsp</span><span class=\"barcode\"; style=\"color: black; background-color: #fee3d7\">&nbsp[SEP]&nbsp</span>"
      ],
      "text/plain": [
       "<IPython.core.display.HTML object>"
      ]
     },
     "metadata": {},
     "output_type": "display_data"
    },
    {
     "name": "stdout",
     "output_type": "stream",
     "text": [
      "Head 9\n"
     ]
    },
    {
     "data": {
      "text/html": [
       "<span class=\"barcode\"; style=\"color: black; background-color: #bd151a\">&nbsp[CLS]&nbsp</span><span class=\"barcode\"; style=\"color: black; background-color: #fff4ee\">&nbspshe&nbsp</span><span class=\"barcode\"; style=\"color: black; background-color: #fff4ee\">&nbspare&nbsp</span><span class=\"barcode\"; style=\"color: black; background-color: #fff3ed\">&nbspgoing&nbsp</span><span class=\"barcode\"; style=\"color: black; background-color: #fff4ee\">&nbspto&nbsp</span><span class=\"barcode\"; style=\"color: black; background-color: #fff3ed\">&nbspthe&nbsp</span><span class=\"barcode\"; style=\"color: black; background-color: #fff3ed\">&nbsppark&nbsp</span><span class=\"barcode\"; style=\"color: black; background-color: #ffeee7\">&nbsp.&nbsp</span><span class=\"barcode\"; style=\"color: black; background-color: #fee5d9\">&nbsp[SEP]&nbsp</span>"
      ],
      "text/plain": [
       "<IPython.core.display.HTML object>"
      ]
     },
     "metadata": {},
     "output_type": "display_data"
    },
    {
     "name": "stdout",
     "output_type": "stream",
     "text": [
      "Head 10\n"
     ]
    },
    {
     "data": {
      "text/html": [
       "<span class=\"barcode\"; style=\"color: black; background-color: #cb181d\">&nbsp[CLS]&nbsp</span><span class=\"barcode\"; style=\"color: black; background-color: #fff2ec\">&nbspshe&nbsp</span><span class=\"barcode\"; style=\"color: black; background-color: #fff4ee\">&nbspare&nbsp</span><span class=\"barcode\"; style=\"color: black; background-color: #fff4ef\">&nbspgoing&nbsp</span><span class=\"barcode\"; style=\"color: black; background-color: #fff4ef\">&nbspto&nbsp</span><span class=\"barcode\"; style=\"color: black; background-color: #fff5f0\">&nbspthe&nbsp</span><span class=\"barcode\"; style=\"color: black; background-color: #fff5f0\">&nbsppark&nbsp</span><span class=\"barcode\"; style=\"color: black; background-color: #fff0e9\">&nbsp.&nbsp</span><span class=\"barcode\"; style=\"color: black; background-color: #fdd1be\">&nbsp[SEP]&nbsp</span>"
      ],
      "text/plain": [
       "<IPython.core.display.HTML object>"
      ]
     },
     "metadata": {},
     "output_type": "display_data"
    },
    {
     "name": "stdout",
     "output_type": "stream",
     "text": [
      "Head 11\n"
     ]
    },
    {
     "data": {
      "text/html": [
       "<span class=\"barcode\"; style=\"color: black; background-color: #f24633\">&nbsp[CLS]&nbsp</span><span class=\"barcode\"; style=\"color: black; background-color: #fff0e8\">&nbspshe&nbsp</span><span class=\"barcode\"; style=\"color: black; background-color: #fff0e8\">&nbspare&nbsp</span><span class=\"barcode\"; style=\"color: black; background-color: #fff3ed\">&nbspgoing&nbsp</span><span class=\"barcode\"; style=\"color: black; background-color: #fff2ec\">&nbspto&nbsp</span><span class=\"barcode\"; style=\"color: black; background-color: #fff2eb\">&nbspthe&nbsp</span><span class=\"barcode\"; style=\"color: black; background-color: #fff3ed\">&nbsppark&nbsp</span><span class=\"barcode\"; style=\"color: black; background-color: #ffede5\">&nbsp.&nbsp</span><span class=\"barcode\"; style=\"color: black; background-color: #fcc3ab\">&nbsp[SEP]&nbsp</span>"
      ],
      "text/plain": [
       "<IPython.core.display.HTML object>"
      ]
     },
     "metadata": {},
     "output_type": "display_data"
    },
    {
     "name": "stdout",
     "output_type": "stream",
     "text": [
      "Head 12\n"
     ]
    },
    {
     "data": {
      "text/html": [
       "<span class=\"barcode\"; style=\"color: black; background-color: #840711\">&nbsp[CLS]&nbsp</span><span class=\"barcode\"; style=\"color: black; background-color: #fff5f0\">&nbspshe&nbsp</span><span class=\"barcode\"; style=\"color: black; background-color: #fff5f0\">&nbspare&nbsp</span><span class=\"barcode\"; style=\"color: black; background-color: #fff5f0\">&nbspgoing&nbsp</span><span class=\"barcode\"; style=\"color: black; background-color: #fff5f0\">&nbspto&nbsp</span><span class=\"barcode\"; style=\"color: black; background-color: #fff4ef\">&nbspthe&nbsp</span><span class=\"barcode\"; style=\"color: black; background-color: #fff5f0\">&nbsppark&nbsp</span><span class=\"barcode\"; style=\"color: black; background-color: #fff3ed\">&nbsp.&nbsp</span><span class=\"barcode\"; style=\"color: black; background-color: #fff1ea\">&nbsp[SEP]&nbsp</span>"
      ],
      "text/plain": [
       "<IPython.core.display.HTML object>"
      ]
     },
     "metadata": {},
     "output_type": "display_data"
    },
    {
     "name": "stdout",
     "output_type": "stream",
     "text": [
      "\n",
      "Layer 4\n",
      "Head 1\n"
     ]
    },
    {
     "data": {
      "text/html": [
       "<span class=\"barcode\"; style=\"color: black; background-color: #fdc7b2\">&nbsp[CLS]&nbsp</span><span class=\"barcode\"; style=\"color: black; background-color: #fff5f0\">&nbspshe&nbsp</span><span class=\"barcode\"; style=\"color: black; background-color: #fff5f0\">&nbspare&nbsp</span><span class=\"barcode\"; style=\"color: black; background-color: #fff5f0\">&nbspgoing&nbsp</span><span class=\"barcode\"; style=\"color: black; background-color: #fff5f0\">&nbspto&nbsp</span><span class=\"barcode\"; style=\"color: black; background-color: #fff4ef\">&nbspthe&nbsp</span><span class=\"barcode\"; style=\"color: black; background-color: #fff5f0\">&nbsppark&nbsp</span><span class=\"barcode\"; style=\"color: black; background-color: #ffeee7\">&nbsp.&nbsp</span><span class=\"barcode\"; style=\"color: black; background-color: #ce1a1e\">&nbsp[SEP]&nbsp</span>"
      ],
      "text/plain": [
       "<IPython.core.display.HTML object>"
      ]
     },
     "metadata": {},
     "output_type": "display_data"
    },
    {
     "name": "stdout",
     "output_type": "stream",
     "text": [
      "Head 2\n"
     ]
    },
    {
     "data": {
      "text/html": [
       "<span class=\"barcode\"; style=\"color: black; background-color: #fc9e80\">&nbsp[CLS]&nbsp</span><span class=\"barcode\"; style=\"color: black; background-color: #fff2ec\">&nbspshe&nbsp</span><span class=\"barcode\"; style=\"color: black; background-color: #fff1ea\">&nbspare&nbsp</span><span class=\"barcode\"; style=\"color: black; background-color: #fff4ef\">&nbspgoing&nbsp</span><span class=\"barcode\"; style=\"color: black; background-color: #fff4ef\">&nbspto&nbsp</span><span class=\"barcode\"; style=\"color: black; background-color: #fff3ed\">&nbspthe&nbsp</span><span class=\"barcode\"; style=\"color: black; background-color: #fff1ea\">&nbsppark&nbsp</span><span class=\"barcode\"; style=\"color: black; background-color: #fdd7c6\">&nbsp.&nbsp</span><span class=\"barcode\"; style=\"color: black; background-color: #fc8767\">&nbsp[SEP]&nbsp</span>"
      ],
      "text/plain": [
       "<IPython.core.display.HTML object>"
      ]
     },
     "metadata": {},
     "output_type": "display_data"
    },
    {
     "name": "stdout",
     "output_type": "stream",
     "text": [
      "Head 3\n"
     ]
    },
    {
     "data": {
      "text/html": [
       "<span class=\"barcode\"; style=\"color: black; background-color: #ffebe2\">&nbsp[CLS]&nbsp</span><span class=\"barcode\"; style=\"color: black; background-color: #fed9c9\">&nbspshe&nbsp</span><span class=\"barcode\"; style=\"color: black; background-color: #fdd1be\">&nbspare&nbsp</span><span class=\"barcode\"; style=\"color: black; background-color: #fee7dc\">&nbspgoing&nbsp</span><span class=\"barcode\"; style=\"color: black; background-color: #ffece3\">&nbspto&nbsp</span><span class=\"barcode\"; style=\"color: black; background-color: #fee7dc\">&nbspthe&nbsp</span><span class=\"barcode\"; style=\"color: black; background-color: #fed8c7\">&nbsppark&nbsp</span><span class=\"barcode\"; style=\"color: black; background-color: #fee4d8\">&nbsp.&nbsp</span><span class=\"barcode\"; style=\"color: black; background-color: #fee0d2\">&nbsp[SEP]&nbsp</span>"
      ],
      "text/plain": [
       "<IPython.core.display.HTML object>"
      ]
     },
     "metadata": {},
     "output_type": "display_data"
    },
    {
     "name": "stdout",
     "output_type": "stream",
     "text": [
      "Head 4\n"
     ]
    },
    {
     "data": {
      "text/html": [
       "<span class=\"barcode\"; style=\"color: black; background-color: #fc9d7f\">&nbsp[CLS]&nbsp</span><span class=\"barcode\"; style=\"color: black; background-color: #fff2eb\">&nbspshe&nbsp</span><span class=\"barcode\"; style=\"color: black; background-color: #ffeee7\">&nbspare&nbsp</span><span class=\"barcode\"; style=\"color: black; background-color: #fff2eb\">&nbspgoing&nbsp</span><span class=\"barcode\"; style=\"color: black; background-color: #fff3ed\">&nbspto&nbsp</span><span class=\"barcode\"; style=\"color: black; background-color: #fff2eb\">&nbspthe&nbsp</span><span class=\"barcode\"; style=\"color: black; background-color: #fff3ed\">&nbsppark&nbsp</span><span class=\"barcode\"; style=\"color: black; background-color: #feeae0\">&nbsp.&nbsp</span><span class=\"barcode\"; style=\"color: black; background-color: #fb7757\">&nbsp[SEP]&nbsp</span>"
      ],
      "text/plain": [
       "<IPython.core.display.HTML object>"
      ]
     },
     "metadata": {},
     "output_type": "display_data"
    },
    {
     "name": "stdout",
     "output_type": "stream",
     "text": [
      "Head 5\n"
     ]
    },
    {
     "data": {
      "text/html": [
       "<span class=\"barcode\"; style=\"color: black; background-color: #fedecf\">&nbsp[CLS]&nbsp</span><span class=\"barcode\"; style=\"color: black; background-color: #ffefe8\">&nbspshe&nbsp</span><span class=\"barcode\"; style=\"color: black; background-color: #ffece3\">&nbspare&nbsp</span><span class=\"barcode\"; style=\"color: black; background-color: #fff2ec\">&nbspgoing&nbsp</span><span class=\"barcode\"; style=\"color: black; background-color: #fff4ee\">&nbspto&nbsp</span><span class=\"barcode\"; style=\"color: black; background-color: #fff2ec\">&nbspthe&nbsp</span><span class=\"barcode\"; style=\"color: black; background-color: #fee8de\">&nbsppark&nbsp</span><span class=\"barcode\"; style=\"color: black; background-color: #fff2eb\">&nbsp.&nbsp</span><span class=\"barcode\"; style=\"color: black; background-color: #ee3a2c\">&nbsp[SEP]&nbsp</span>"
      ],
      "text/plain": [
       "<IPython.core.display.HTML object>"
      ]
     },
     "metadata": {},
     "output_type": "display_data"
    },
    {
     "name": "stdout",
     "output_type": "stream",
     "text": [
      "Head 6\n"
     ]
    },
    {
     "data": {
      "text/html": [
       "<span class=\"barcode\"; style=\"color: black; background-color: #f0402f\">&nbsp[CLS]&nbsp</span><span class=\"barcode\"; style=\"color: black; background-color: #fff4ee\">&nbspshe&nbsp</span><span class=\"barcode\"; style=\"color: black; background-color: #fff4ee\">&nbspare&nbsp</span><span class=\"barcode\"; style=\"color: black; background-color: #fff3ed\">&nbspgoing&nbsp</span><span class=\"barcode\"; style=\"color: black; background-color: #fff2ec\">&nbspto&nbsp</span><span class=\"barcode\"; style=\"color: black; background-color: #fff0e9\">&nbspthe&nbsp</span><span class=\"barcode\"; style=\"color: black; background-color: #fff3ed\">&nbsppark&nbsp</span><span class=\"barcode\"; style=\"color: black; background-color: #fcbea5\">&nbsp.&nbsp</span><span class=\"barcode\"; style=\"color: black; background-color: #ffece4\">&nbsp[SEP]&nbsp</span>"
      ],
      "text/plain": [
       "<IPython.core.display.HTML object>"
      ]
     },
     "metadata": {},
     "output_type": "display_data"
    },
    {
     "name": "stdout",
     "output_type": "stream",
     "text": [
      "Head 7\n"
     ]
    },
    {
     "data": {
      "text/html": [
       "<span class=\"barcode\"; style=\"color: black; background-color: #fee5d8\">&nbsp[CLS]&nbsp</span><span class=\"barcode\"; style=\"color: black; background-color: #fedccd\">&nbspshe&nbsp</span><span class=\"barcode\"; style=\"color: black; background-color: #fee8dd\">&nbspare&nbsp</span><span class=\"barcode\"; style=\"color: black; background-color: #ffefe8\">&nbspgoing&nbsp</span><span class=\"barcode\"; style=\"color: black; background-color: #fff1ea\">&nbspto&nbsp</span><span class=\"barcode\"; style=\"color: black; background-color: #ffede5\">&nbspthe&nbsp</span><span class=\"barcode\"; style=\"color: black; background-color: #fcbba1\">&nbsppark&nbsp</span><span class=\"barcode\"; style=\"color: black; background-color: #ffece3\">&nbsp.&nbsp</span><span class=\"barcode\"; style=\"color: black; background-color: #fcb89e\">&nbsp[SEP]&nbsp</span>"
      ],
      "text/plain": [
       "<IPython.core.display.HTML object>"
      ]
     },
     "metadata": {},
     "output_type": "display_data"
    },
    {
     "name": "stdout",
     "output_type": "stream",
     "text": [
      "Head 8\n"
     ]
    },
    {
     "data": {
      "text/html": [
       "<span class=\"barcode\"; style=\"color: black; background-color: #f7593f\">&nbsp[CLS]&nbsp</span><span class=\"barcode\"; style=\"color: black; background-color: #fff1ea\">&nbspshe&nbsp</span><span class=\"barcode\"; style=\"color: black; background-color: #ffeee6\">&nbspare&nbsp</span><span class=\"barcode\"; style=\"color: black; background-color: #ffeee6\">&nbspgoing&nbsp</span><span class=\"barcode\"; style=\"color: black; background-color: #ffeee7\">&nbspto&nbsp</span><span class=\"barcode\"; style=\"color: black; background-color: #fff1ea\">&nbspthe&nbsp</span><span class=\"barcode\"; style=\"color: black; background-color: #fff2ec\">&nbsppark&nbsp</span><span class=\"barcode\"; style=\"color: black; background-color: #ffeee7\">&nbsp.&nbsp</span><span class=\"barcode\"; style=\"color: black; background-color: #fdc5ae\">&nbsp[SEP]&nbsp</span>"
      ],
      "text/plain": [
       "<IPython.core.display.HTML object>"
      ]
     },
     "metadata": {},
     "output_type": "display_data"
    },
    {
     "name": "stdout",
     "output_type": "stream",
     "text": [
      "Head 9\n"
     ]
    },
    {
     "data": {
      "text/html": [
       "<span class=\"barcode\"; style=\"color: black; background-color: #f5523a\">&nbsp[CLS]&nbsp</span><span class=\"barcode\"; style=\"color: black; background-color: #fff1ea\">&nbspshe&nbsp</span><span class=\"barcode\"; style=\"color: black; background-color: #fff3ed\">&nbspare&nbsp</span><span class=\"barcode\"; style=\"color: black; background-color: #fff2eb\">&nbspgoing&nbsp</span><span class=\"barcode\"; style=\"color: black; background-color: #fff4ef\">&nbspto&nbsp</span><span class=\"barcode\"; style=\"color: black; background-color: #fff4ef\">&nbspthe&nbsp</span><span class=\"barcode\"; style=\"color: black; background-color: #fff3ed\">&nbsppark&nbsp</span><span class=\"barcode\"; style=\"color: black; background-color: #fff0e9\">&nbsp.&nbsp</span><span class=\"barcode\"; style=\"color: black; background-color: #fca588\">&nbsp[SEP]&nbsp</span>"
      ],
      "text/plain": [
       "<IPython.core.display.HTML object>"
      ]
     },
     "metadata": {},
     "output_type": "display_data"
    },
    {
     "name": "stdout",
     "output_type": "stream",
     "text": [
      "Head 10\n"
     ]
    },
    {
     "data": {
      "text/html": [
       "<span class=\"barcode\"; style=\"color: black; background-color: #ca181d\">&nbsp[CLS]&nbsp</span><span class=\"barcode\"; style=\"color: black; background-color: #fff3ed\">&nbspshe&nbsp</span><span class=\"barcode\"; style=\"color: black; background-color: #fff2eb\">&nbspare&nbsp</span><span class=\"barcode\"; style=\"color: black; background-color: #fff4ee\">&nbspgoing&nbsp</span><span class=\"barcode\"; style=\"color: black; background-color: #fff4ee\">&nbspto&nbsp</span><span class=\"barcode\"; style=\"color: black; background-color: #fff4ee\">&nbspthe&nbsp</span><span class=\"barcode\"; style=\"color: black; background-color: #fff4ef\">&nbsppark&nbsp</span><span class=\"barcode\"; style=\"color: black; background-color: #ffefe8\">&nbsp.&nbsp</span><span class=\"barcode\"; style=\"color: black; background-color: #fedbcc\">&nbsp[SEP]&nbsp</span>"
      ],
      "text/plain": [
       "<IPython.core.display.HTML object>"
      ]
     },
     "metadata": {},
     "output_type": "display_data"
    },
    {
     "name": "stdout",
     "output_type": "stream",
     "text": [
      "Head 11\n"
     ]
    },
    {
     "data": {
      "text/html": [
       "<span class=\"barcode\"; style=\"color: black; background-color: #fcaf93\">&nbsp[CLS]&nbsp</span><span class=\"barcode\"; style=\"color: black; background-color: #fff4ee\">&nbspshe&nbsp</span><span class=\"barcode\"; style=\"color: black; background-color: #fff4ee\">&nbspare&nbsp</span><span class=\"barcode\"; style=\"color: black; background-color: #fff4ee\">&nbspgoing&nbsp</span><span class=\"barcode\"; style=\"color: black; background-color: #fff4ee\">&nbspto&nbsp</span><span class=\"barcode\"; style=\"color: black; background-color: #fff4ee\">&nbspthe&nbsp</span><span class=\"barcode\"; style=\"color: black; background-color: #fff3ed\">&nbsppark&nbsp</span><span class=\"barcode\"; style=\"color: black; background-color: #fff2ec\">&nbsp.&nbsp</span><span class=\"barcode\"; style=\"color: black; background-color: #ec382b\">&nbsp[SEP]&nbsp</span>"
      ],
      "text/plain": [
       "<IPython.core.display.HTML object>"
      ]
     },
     "metadata": {},
     "output_type": "display_data"
    },
    {
     "name": "stdout",
     "output_type": "stream",
     "text": [
      "Head 12\n"
     ]
    },
    {
     "data": {
      "text/html": [
       "<span class=\"barcode\"; style=\"color: black; background-color: #f03f2e\">&nbsp[CLS]&nbsp</span><span class=\"barcode\"; style=\"color: black; background-color: #fff3ed\">&nbspshe&nbsp</span><span class=\"barcode\"; style=\"color: black; background-color: #fff4ef\">&nbspare&nbsp</span><span class=\"barcode\"; style=\"color: black; background-color: #fff4ee\">&nbspgoing&nbsp</span><span class=\"barcode\"; style=\"color: black; background-color: #fff4ee\">&nbspto&nbsp</span><span class=\"barcode\"; style=\"color: black; background-color: #fff2ec\">&nbspthe&nbsp</span><span class=\"barcode\"; style=\"color: black; background-color: #fff4ee\">&nbsppark&nbsp</span><span class=\"barcode\"; style=\"color: black; background-color: #fee7db\">&nbsp.&nbsp</span><span class=\"barcode\"; style=\"color: black; background-color: #fcc2aa\">&nbsp[SEP]&nbsp</span>"
      ],
      "text/plain": [
       "<IPython.core.display.HTML object>"
      ]
     },
     "metadata": {},
     "output_type": "display_data"
    },
    {
     "name": "stdout",
     "output_type": "stream",
     "text": [
      "\n",
      "Layer 5\n",
      "Head 1\n"
     ]
    },
    {
     "data": {
      "text/html": [
       "<span class=\"barcode\"; style=\"color: black; background-color: #ffece4\">&nbsp[CLS]&nbsp</span><span class=\"barcode\"; style=\"color: black; background-color: #fff5f0\">&nbspshe&nbsp</span><span class=\"barcode\"; style=\"color: black; background-color: #fff5f0\">&nbspare&nbsp</span><span class=\"barcode\"; style=\"color: black; background-color: #fff5f0\">&nbspgoing&nbsp</span><span class=\"barcode\"; style=\"color: black; background-color: #fff5f0\">&nbspto&nbsp</span><span class=\"barcode\"; style=\"color: black; background-color: #fff5f0\">&nbspthe&nbsp</span><span class=\"barcode\"; style=\"color: black; background-color: #fff5f0\">&nbsppark&nbsp</span><span class=\"barcode\"; style=\"color: black; background-color: #fff4ef\">&nbsp.&nbsp</span><span class=\"barcode\"; style=\"color: black; background-color: #880811\">&nbsp[SEP]&nbsp</span>"
      ],
      "text/plain": [
       "<IPython.core.display.HTML object>"
      ]
     },
     "metadata": {},
     "output_type": "display_data"
    },
    {
     "name": "stdout",
     "output_type": "stream",
     "text": [
      "Head 2\n"
     ]
    },
    {
     "data": {
      "text/html": [
       "<span class=\"barcode\"; style=\"color: black; background-color: #fb7252\">&nbsp[CLS]&nbsp</span><span class=\"barcode\"; style=\"color: black; background-color: #fff1ea\">&nbspshe&nbsp</span><span class=\"barcode\"; style=\"color: black; background-color: #ffebe2\">&nbspare&nbsp</span><span class=\"barcode\"; style=\"color: black; background-color: #ffefe8\">&nbspgoing&nbsp</span><span class=\"barcode\"; style=\"color: black; background-color: #fff0e9\">&nbspto&nbsp</span><span class=\"barcode\"; style=\"color: black; background-color: #ffece4\">&nbspthe&nbsp</span><span class=\"barcode\"; style=\"color: black; background-color: #fcbfa7\">&nbsppark&nbsp</span><span class=\"barcode\"; style=\"color: black; background-color: #fee9df\">&nbsp.&nbsp</span><span class=\"barcode\"; style=\"color: black; background-color: #fff4ee\">&nbsp[SEP]&nbsp</span>"
      ],
      "text/plain": [
       "<IPython.core.display.HTML object>"
      ]
     },
     "metadata": {},
     "output_type": "display_data"
    },
    {
     "name": "stdout",
     "output_type": "stream",
     "text": [
      "Head 3\n"
     ]
    },
    {
     "data": {
      "text/html": [
       "<span class=\"barcode\"; style=\"color: black; background-color: #fff2eb\">&nbsp[CLS]&nbsp</span><span class=\"barcode\"; style=\"color: black; background-color: #fee3d6\">&nbspshe&nbsp</span><span class=\"barcode\"; style=\"color: black; background-color: #f75c41\">&nbspare&nbsp</span><span class=\"barcode\"; style=\"color: black; background-color: #fee5d8\">&nbspgoing&nbsp</span><span class=\"barcode\"; style=\"color: black; background-color: #fff2ec\">&nbspto&nbsp</span><span class=\"barcode\"; style=\"color: black; background-color: #fff2ec\">&nbspthe&nbsp</span><span class=\"barcode\"; style=\"color: black; background-color: #fee9df\">&nbsppark&nbsp</span><span class=\"barcode\"; style=\"color: black; background-color: #feeae1\">&nbsp.&nbsp</span><span class=\"barcode\"; style=\"color: black; background-color: #ffece3\">&nbsp[SEP]&nbsp</span>"
      ],
      "text/plain": [
       "<IPython.core.display.HTML object>"
      ]
     },
     "metadata": {},
     "output_type": "display_data"
    },
    {
     "name": "stdout",
     "output_type": "stream",
     "text": [
      "Head 4\n"
     ]
    },
    {
     "data": {
      "text/html": [
       "<span class=\"barcode\"; style=\"color: black; background-color: #fff2eb\">&nbsp[CLS]&nbsp</span><span class=\"barcode\"; style=\"color: black; background-color: #fff4ef\">&nbspshe&nbsp</span><span class=\"barcode\"; style=\"color: black; background-color: #fff5f0\">&nbspare&nbsp</span><span class=\"barcode\"; style=\"color: black; background-color: #fff4ee\">&nbspgoing&nbsp</span><span class=\"barcode\"; style=\"color: black; background-color: #fff4ef\">&nbspto&nbsp</span><span class=\"barcode\"; style=\"color: black; background-color: #fff5f0\">&nbspthe&nbsp</span><span class=\"barcode\"; style=\"color: black; background-color: #fff4ef\">&nbsppark&nbsp</span><span class=\"barcode\"; style=\"color: black; background-color: #fee6da\">&nbsp.&nbsp</span><span class=\"barcode\"; style=\"color: black; background-color: #ab1016\">&nbsp[SEP]&nbsp</span>"
      ],
      "text/plain": [
       "<IPython.core.display.HTML object>"
      ]
     },
     "metadata": {},
     "output_type": "display_data"
    },
    {
     "name": "stdout",
     "output_type": "stream",
     "text": [
      "Head 5\n"
     ]
    },
    {
     "data": {
      "text/html": [
       "<span class=\"barcode\"; style=\"color: black; background-color: #fee8dd\">&nbsp[CLS]&nbsp</span><span class=\"barcode\"; style=\"color: black; background-color: #fff4ef\">&nbspshe&nbsp</span><span class=\"barcode\"; style=\"color: black; background-color: #fff2eb\">&nbspare&nbsp</span><span class=\"barcode\"; style=\"color: black; background-color: #fff5f0\">&nbspgoing&nbsp</span><span class=\"barcode\"; style=\"color: black; background-color: #fff5f0\">&nbspto&nbsp</span><span class=\"barcode\"; style=\"color: black; background-color: #fff5f0\">&nbspthe&nbsp</span><span class=\"barcode\"; style=\"color: black; background-color: #fff5f0\">&nbsppark&nbsp</span><span class=\"barcode\"; style=\"color: black; background-color: #fff4ee\">&nbsp.&nbsp</span><span class=\"barcode\"; style=\"color: black; background-color: #a30f15\">&nbsp[SEP]&nbsp</span>"
      ],
      "text/plain": [
       "<IPython.core.display.HTML object>"
      ]
     },
     "metadata": {},
     "output_type": "display_data"
    },
    {
     "name": "stdout",
     "output_type": "stream",
     "text": [
      "Head 6\n"
     ]
    },
    {
     "data": {
      "text/html": [
       "<span class=\"barcode\"; style=\"color: black; background-color: #fff0e9\">&nbsp[CLS]&nbsp</span><span class=\"barcode\"; style=\"color: black; background-color: #fff4ee\">&nbspshe&nbsp</span><span class=\"barcode\"; style=\"color: black; background-color: #ffeee7\">&nbspare&nbsp</span><span class=\"barcode\"; style=\"color: black; background-color: #fff4ef\">&nbspgoing&nbsp</span><span class=\"barcode\"; style=\"color: black; background-color: #fff5f0\">&nbspto&nbsp</span><span class=\"barcode\"; style=\"color: black; background-color: #fff5f0\">&nbspthe&nbsp</span><span class=\"barcode\"; style=\"color: black; background-color: #fff5f0\">&nbsppark&nbsp</span><span class=\"barcode\"; style=\"color: black; background-color: #fff2eb\">&nbsp.&nbsp</span><span class=\"barcode\"; style=\"color: black; background-color: #9d0d14\">&nbsp[SEP]&nbsp</span>"
      ],
      "text/plain": [
       "<IPython.core.display.HTML object>"
      ]
     },
     "metadata": {},
     "output_type": "display_data"
    },
    {
     "name": "stdout",
     "output_type": "stream",
     "text": [
      "Head 7\n"
     ]
    },
    {
     "data": {
      "text/html": [
       "<span class=\"barcode\"; style=\"color: black; background-color: #fff4ee\">&nbsp[CLS]&nbsp</span><span class=\"barcode\"; style=\"color: black; background-color: #fff5f0\">&nbspshe&nbsp</span><span class=\"barcode\"; style=\"color: black; background-color: #fff4ee\">&nbspare&nbsp</span><span class=\"barcode\"; style=\"color: black; background-color: #fff4ee\">&nbspgoing&nbsp</span><span class=\"barcode\"; style=\"color: black; background-color: #fff5f0\">&nbspto&nbsp</span><span class=\"barcode\"; style=\"color: black; background-color: #fff5f0\">&nbspthe&nbsp</span><span class=\"barcode\"; style=\"color: black; background-color: #fff4ef\">&nbsppark&nbsp</span><span class=\"barcode\"; style=\"color: black; background-color: #fff4ef\">&nbsp.&nbsp</span><span class=\"barcode\"; style=\"color: black; background-color: #7e0610\">&nbsp[SEP]&nbsp</span>"
      ],
      "text/plain": [
       "<IPython.core.display.HTML object>"
      ]
     },
     "metadata": {},
     "output_type": "display_data"
    },
    {
     "name": "stdout",
     "output_type": "stream",
     "text": [
      "Head 8\n"
     ]
    },
    {
     "data": {
      "text/html": [
       "<span class=\"barcode\"; style=\"color: black; background-color: #fff0e9\">&nbsp[CLS]&nbsp</span><span class=\"barcode\"; style=\"color: black; background-color: #fff4ee\">&nbspshe&nbsp</span><span class=\"barcode\"; style=\"color: black; background-color: #fff5f0\">&nbspare&nbsp</span><span class=\"barcode\"; style=\"color: black; background-color: #fff4ef\">&nbspgoing&nbsp</span><span class=\"barcode\"; style=\"color: black; background-color: #fff4ef\">&nbspto&nbsp</span><span class=\"barcode\"; style=\"color: black; background-color: #fff5f0\">&nbspthe&nbsp</span><span class=\"barcode\"; style=\"color: black; background-color: #fff4ef\">&nbsppark&nbsp</span><span class=\"barcode\"; style=\"color: black; background-color: #fff2eb\">&nbsp.&nbsp</span><span class=\"barcode\"; style=\"color: black; background-color: #8e0912\">&nbsp[SEP]&nbsp</span>"
      ],
      "text/plain": [
       "<IPython.core.display.HTML object>"
      ]
     },
     "metadata": {},
     "output_type": "display_data"
    },
    {
     "name": "stdout",
     "output_type": "stream",
     "text": [
      "Head 9\n"
     ]
    },
    {
     "data": {
      "text/html": [
       "<span class=\"barcode\"; style=\"color: black; background-color: #ffede5\">&nbsp[CLS]&nbsp</span><span class=\"barcode\"; style=\"color: black; background-color: #fff4ee\">&nbspshe&nbsp</span><span class=\"barcode\"; style=\"color: black; background-color: #fff4ef\">&nbspare&nbsp</span><span class=\"barcode\"; style=\"color: black; background-color: #fff3ed\">&nbspgoing&nbsp</span><span class=\"barcode\"; style=\"color: black; background-color: #fff4ef\">&nbspto&nbsp</span><span class=\"barcode\"; style=\"color: black; background-color: #fff4ef\">&nbspthe&nbsp</span><span class=\"barcode\"; style=\"color: black; background-color: #fff5f0\">&nbsppark&nbsp</span><span class=\"barcode\"; style=\"color: black; background-color: #ffede5\">&nbsp.&nbsp</span><span class=\"barcode\"; style=\"color: black; background-color: #aa1016\">&nbsp[SEP]&nbsp</span>"
      ],
      "text/plain": [
       "<IPython.core.display.HTML object>"
      ]
     },
     "metadata": {},
     "output_type": "display_data"
    },
    {
     "name": "stdout",
     "output_type": "stream",
     "text": [
      "Head 10\n"
     ]
    },
    {
     "data": {
      "text/html": [
       "<span class=\"barcode\"; style=\"color: black; background-color: #fff0e8\">&nbsp[CLS]&nbsp</span><span class=\"barcode\"; style=\"color: black; background-color: #ffeee7\">&nbspshe&nbsp</span><span class=\"barcode\"; style=\"color: black; background-color: #ffebe2\">&nbspare&nbsp</span><span class=\"barcode\"; style=\"color: black; background-color: #fee5d9\">&nbspgoing&nbsp</span><span class=\"barcode\"; style=\"color: black; background-color: #fee8dd\">&nbspto&nbsp</span><span class=\"barcode\"; style=\"color: black; background-color: #fff2ec\">&nbspthe&nbsp</span><span class=\"barcode\"; style=\"color: black; background-color: #fff1ea\">&nbsppark&nbsp</span><span class=\"barcode\"; style=\"color: black; background-color: #fff4ee\">&nbsp.&nbsp</span><span class=\"barcode\"; style=\"color: black; background-color: #eb372a\">&nbsp[SEP]&nbsp</span>"
      ],
      "text/plain": [
       "<IPython.core.display.HTML object>"
      ]
     },
     "metadata": {},
     "output_type": "display_data"
    },
    {
     "name": "stdout",
     "output_type": "stream",
     "text": [
      "Head 11\n"
     ]
    },
    {
     "data": {
      "text/html": [
       "<span class=\"barcode\"; style=\"color: black; background-color: #fff2ec\">&nbsp[CLS]&nbsp</span><span class=\"barcode\"; style=\"color: black; background-color: #fff3ed\">&nbspshe&nbsp</span><span class=\"barcode\"; style=\"color: black; background-color: #fff4ef\">&nbspare&nbsp</span><span class=\"barcode\"; style=\"color: black; background-color: #fff4ef\">&nbspgoing&nbsp</span><span class=\"barcode\"; style=\"color: black; background-color: #fff4ef\">&nbspto&nbsp</span><span class=\"barcode\"; style=\"color: black; background-color: #fff5f0\">&nbspthe&nbsp</span><span class=\"barcode\"; style=\"color: black; background-color: #fff5f0\">&nbsppark&nbsp</span><span class=\"barcode\"; style=\"color: black; background-color: #fff1ea\">&nbsp.&nbsp</span><span class=\"barcode\"; style=\"color: black; background-color: #8c0912\">&nbsp[SEP]&nbsp</span>"
      ],
      "text/plain": [
       "<IPython.core.display.HTML object>"
      ]
     },
     "metadata": {},
     "output_type": "display_data"
    },
    {
     "name": "stdout",
     "output_type": "stream",
     "text": [
      "Head 12\n"
     ]
    },
    {
     "data": {
      "text/html": [
       "<span class=\"barcode\"; style=\"color: black; background-color: #fedccd\">&nbsp[CLS]&nbsp</span><span class=\"barcode\"; style=\"color: black; background-color: #fee4d8\">&nbspshe&nbsp</span><span class=\"barcode\"; style=\"color: black; background-color: #fdc9b3\">&nbspare&nbsp</span><span class=\"barcode\"; style=\"color: black; background-color: #fff4ee\">&nbspgoing&nbsp</span><span class=\"barcode\"; style=\"color: black; background-color: #fff4ee\">&nbspto&nbsp</span><span class=\"barcode\"; style=\"color: black; background-color: #fff3ed\">&nbspthe&nbsp</span><span class=\"barcode\"; style=\"color: black; background-color: #fff4ee\">&nbsppark&nbsp</span><span class=\"barcode\"; style=\"color: black; background-color: #fee4d8\">&nbsp.&nbsp</span><span class=\"barcode\"; style=\"color: black; background-color: #fc8565\">&nbsp[SEP]&nbsp</span>"
      ],
      "text/plain": [
       "<IPython.core.display.HTML object>"
      ]
     },
     "metadata": {},
     "output_type": "display_data"
    },
    {
     "name": "stdout",
     "output_type": "stream",
     "text": [
      "\n",
      "Layer 6\n",
      "Head 1\n"
     ]
    },
    {
     "data": {
      "text/html": [
       "<span class=\"barcode\"; style=\"color: black; background-color: #fff0e8\">&nbsp[CLS]&nbsp</span><span class=\"barcode\"; style=\"color: black; background-color: #ffece3\">&nbspshe&nbsp</span><span class=\"barcode\"; style=\"color: black; background-color: #ffede5\">&nbspare&nbsp</span><span class=\"barcode\"; style=\"color: black; background-color: #fff3ed\">&nbspgoing&nbsp</span><span class=\"barcode\"; style=\"color: black; background-color: #fff4ee\">&nbspto&nbsp</span><span class=\"barcode\"; style=\"color: black; background-color: #fff4ef\">&nbspthe&nbsp</span><span class=\"barcode\"; style=\"color: black; background-color: #fff4ef\">&nbsppark&nbsp</span><span class=\"barcode\"; style=\"color: black; background-color: #fff2ec\">&nbsp.&nbsp</span><span class=\"barcode\"; style=\"color: black; background-color: #b81419\">&nbsp[SEP]&nbsp</span>"
      ],
      "text/plain": [
       "<IPython.core.display.HTML object>"
      ]
     },
     "metadata": {},
     "output_type": "display_data"
    },
    {
     "name": "stdout",
     "output_type": "stream",
     "text": [
      "Head 2\n"
     ]
    },
    {
     "data": {
      "text/html": [
       "<span class=\"barcode\"; style=\"color: black; background-color: #fff4ee\">&nbsp[CLS]&nbsp</span><span class=\"barcode\"; style=\"color: black; background-color: #fff2ec\">&nbspshe&nbsp</span><span class=\"barcode\"; style=\"color: black; background-color: #fff4ef\">&nbspare&nbsp</span><span class=\"barcode\"; style=\"color: black; background-color: #fff4ef\">&nbspgoing&nbsp</span><span class=\"barcode\"; style=\"color: black; background-color: #fff5f0\">&nbspto&nbsp</span><span class=\"barcode\"; style=\"color: black; background-color: #fff5f0\">&nbspthe&nbsp</span><span class=\"barcode\"; style=\"color: black; background-color: #fff5f0\">&nbsppark&nbsp</span><span class=\"barcode\"; style=\"color: black; background-color: #fff4ee\">&nbsp.&nbsp</span><span class=\"barcode\"; style=\"color: black; background-color: #800610\">&nbsp[SEP]&nbsp</span>"
      ],
      "text/plain": [
       "<IPython.core.display.HTML object>"
      ]
     },
     "metadata": {},
     "output_type": "display_data"
    },
    {
     "name": "stdout",
     "output_type": "stream",
     "text": [
      "Head 3\n"
     ]
    },
    {
     "data": {
      "text/html": [
       "<span class=\"barcode\"; style=\"color: black; background-color: #fff1ea\">&nbsp[CLS]&nbsp</span><span class=\"barcode\"; style=\"color: black; background-color: #fff5f0\">&nbspshe&nbsp</span><span class=\"barcode\"; style=\"color: black; background-color: #fff4ef\">&nbspare&nbsp</span><span class=\"barcode\"; style=\"color: black; background-color: #fff5f0\">&nbspgoing&nbsp</span><span class=\"barcode\"; style=\"color: black; background-color: #fff4ef\">&nbspto&nbsp</span><span class=\"barcode\"; style=\"color: black; background-color: #fff4ef\">&nbspthe&nbsp</span><span class=\"barcode\"; style=\"color: black; background-color: #fff5f0\">&nbsppark&nbsp</span><span class=\"barcode\"; style=\"color: black; background-color: #fff1ea\">&nbsp.&nbsp</span><span class=\"barcode\"; style=\"color: black; background-color: #8a0812\">&nbsp[SEP]&nbsp</span>"
      ],
      "text/plain": [
       "<IPython.core.display.HTML object>"
      ]
     },
     "metadata": {},
     "output_type": "display_data"
    },
    {
     "name": "stdout",
     "output_type": "stream",
     "text": [
      "Head 4\n"
     ]
    },
    {
     "data": {
      "text/html": [
       "<span class=\"barcode\"; style=\"color: black; background-color: #fff4ee\">&nbsp[CLS]&nbsp</span><span class=\"barcode\"; style=\"color: black; background-color: #fee8dd\">&nbspshe&nbsp</span><span class=\"barcode\"; style=\"color: black; background-color: #fee8dd\">&nbspare&nbsp</span><span class=\"barcode\"; style=\"color: black; background-color: #fff4ee\">&nbspgoing&nbsp</span><span class=\"barcode\"; style=\"color: black; background-color: #fff4ef\">&nbspto&nbsp</span><span class=\"barcode\"; style=\"color: black; background-color: #fff4ef\">&nbspthe&nbsp</span><span class=\"barcode\"; style=\"color: black; background-color: #fff5f0\">&nbsppark&nbsp</span><span class=\"barcode\"; style=\"color: black; background-color: #feeae1\">&nbsp.&nbsp</span><span class=\"barcode\"; style=\"color: black; background-color: #ce1a1e\">&nbsp[SEP]&nbsp</span>"
      ],
      "text/plain": [
       "<IPython.core.display.HTML object>"
      ]
     },
     "metadata": {},
     "output_type": "display_data"
    },
    {
     "name": "stdout",
     "output_type": "stream",
     "text": [
      "Head 5\n"
     ]
    },
    {
     "data": {
      "text/html": [
       "<span class=\"barcode\"; style=\"color: black; background-color: #fff2ec\">&nbsp[CLS]&nbsp</span><span class=\"barcode\"; style=\"color: black; background-color: #fff0e8\">&nbspshe&nbsp</span><span class=\"barcode\"; style=\"color: black; background-color: #fcc4ad\">&nbspare&nbsp</span><span class=\"barcode\"; style=\"color: black; background-color: #fee1d3\">&nbspgoing&nbsp</span><span class=\"barcode\"; style=\"color: black; background-color: #fff0e9\">&nbspto&nbsp</span><span class=\"barcode\"; style=\"color: black; background-color: #fff2ec\">&nbspthe&nbsp</span><span class=\"barcode\"; style=\"color: black; background-color: #ffefe8\">&nbsppark&nbsp</span><span class=\"barcode\"; style=\"color: black; background-color: #ffece4\">&nbsp.&nbsp</span><span class=\"barcode\"; style=\"color: black; background-color: #fb7555\">&nbsp[SEP]&nbsp</span>"
      ],
      "text/plain": [
       "<IPython.core.display.HTML object>"
      ]
     },
     "metadata": {},
     "output_type": "display_data"
    },
    {
     "name": "stdout",
     "output_type": "stream",
     "text": [
      "Head 6\n"
     ]
    },
    {
     "data": {
      "text/html": [
       "<span class=\"barcode\"; style=\"color: black; background-color: #fff4ee\">&nbsp[CLS]&nbsp</span><span class=\"barcode\"; style=\"color: black; background-color: #fff4ee\">&nbspshe&nbsp</span><span class=\"barcode\"; style=\"color: black; background-color: #fff2ec\">&nbspare&nbsp</span><span class=\"barcode\"; style=\"color: black; background-color: #fff5f0\">&nbspgoing&nbsp</span><span class=\"barcode\"; style=\"color: black; background-color: #fff5f0\">&nbspto&nbsp</span><span class=\"barcode\"; style=\"color: black; background-color: #fff5f0\">&nbspthe&nbsp</span><span class=\"barcode\"; style=\"color: black; background-color: #fff5f0\">&nbsppark&nbsp</span><span class=\"barcode\"; style=\"color: black; background-color: #ffede5\">&nbsp.&nbsp</span><span class=\"barcode\"; style=\"color: black; background-color: #920a13\">&nbsp[SEP]&nbsp</span>"
      ],
      "text/plain": [
       "<IPython.core.display.HTML object>"
      ]
     },
     "metadata": {},
     "output_type": "display_data"
    },
    {
     "name": "stdout",
     "output_type": "stream",
     "text": [
      "Head 7\n"
     ]
    },
    {
     "data": {
      "text/html": [
       "<span class=\"barcode\"; style=\"color: black; background-color: #fff4ee\">&nbsp[CLS]&nbsp</span><span class=\"barcode\"; style=\"color: black; background-color: #fff4ee\">&nbspshe&nbsp</span><span class=\"barcode\"; style=\"color: black; background-color: #fff5f0\">&nbspare&nbsp</span><span class=\"barcode\"; style=\"color: black; background-color: #fff5f0\">&nbspgoing&nbsp</span><span class=\"barcode\"; style=\"color: black; background-color: #fff5f0\">&nbspto&nbsp</span><span class=\"barcode\"; style=\"color: black; background-color: #fff4ef\">&nbspthe&nbsp</span><span class=\"barcode\"; style=\"color: black; background-color: #fff5f0\">&nbsppark&nbsp</span><span class=\"barcode\"; style=\"color: black; background-color: #fff0e8\">&nbsp.&nbsp</span><span class=\"barcode\"; style=\"color: black; background-color: #8a0812\">&nbsp[SEP]&nbsp</span>"
      ],
      "text/plain": [
       "<IPython.core.display.HTML object>"
      ]
     },
     "metadata": {},
     "output_type": "display_data"
    },
    {
     "name": "stdout",
     "output_type": "stream",
     "text": [
      "Head 8\n"
     ]
    },
    {
     "data": {
      "text/html": [
       "<span class=\"barcode\"; style=\"color: black; background-color: #fff4ee\">&nbsp[CLS]&nbsp</span><span class=\"barcode\"; style=\"color: black; background-color: #fff5f0\">&nbspshe&nbsp</span><span class=\"barcode\"; style=\"color: black; background-color: #fee6da\">&nbspare&nbsp</span><span class=\"barcode\"; style=\"color: black; background-color: #fff4ee\">&nbspgoing&nbsp</span><span class=\"barcode\"; style=\"color: black; background-color: #fff4ee\">&nbspto&nbsp</span><span class=\"barcode\"; style=\"color: black; background-color: #fff5f0\">&nbspthe&nbsp</span><span class=\"barcode\"; style=\"color: black; background-color: #fff5f0\">&nbsppark&nbsp</span><span class=\"barcode\"; style=\"color: black; background-color: #ffefe8\">&nbsp.&nbsp</span><span class=\"barcode\"; style=\"color: black; background-color: #b21218\">&nbsp[SEP]&nbsp</span>"
      ],
      "text/plain": [
       "<IPython.core.display.HTML object>"
      ]
     },
     "metadata": {},
     "output_type": "display_data"
    },
    {
     "name": "stdout",
     "output_type": "stream",
     "text": [
      "Head 9\n"
     ]
    },
    {
     "data": {
      "text/html": [
       "<span class=\"barcode\"; style=\"color: black; background-color: #ffece4\">&nbsp[CLS]&nbsp</span><span class=\"barcode\"; style=\"color: black; background-color: #ffece3\">&nbspshe&nbsp</span><span class=\"barcode\"; style=\"color: black; background-color: #ffede5\">&nbspare&nbsp</span><span class=\"barcode\"; style=\"color: black; background-color: #ffece4\">&nbspgoing&nbsp</span><span class=\"barcode\"; style=\"color: black; background-color: #ffede5\">&nbspto&nbsp</span><span class=\"barcode\"; style=\"color: black; background-color: #ffeee6\">&nbspthe&nbsp</span><span class=\"barcode\"; style=\"color: black; background-color: #fff2eb\">&nbsppark&nbsp</span><span class=\"barcode\"; style=\"color: black; background-color: #fff0e8\">&nbsp.&nbsp</span><span class=\"barcode\"; style=\"color: black; background-color: #eb372a\">&nbsp[SEP]&nbsp</span>"
      ],
      "text/plain": [
       "<IPython.core.display.HTML object>"
      ]
     },
     "metadata": {},
     "output_type": "display_data"
    },
    {
     "name": "stdout",
     "output_type": "stream",
     "text": [
      "Head 10\n"
     ]
    },
    {
     "data": {
      "text/html": [
       "<span class=\"barcode\"; style=\"color: black; background-color: #ffebe2\">&nbsp[CLS]&nbsp</span><span class=\"barcode\"; style=\"color: black; background-color: #fee7dc\">&nbspshe&nbsp</span><span class=\"barcode\"; style=\"color: black; background-color: #fee9df\">&nbspare&nbsp</span><span class=\"barcode\"; style=\"color: black; background-color: #fff3ed\">&nbspgoing&nbsp</span><span class=\"barcode\"; style=\"color: black; background-color: #fff4ef\">&nbspto&nbsp</span><span class=\"barcode\"; style=\"color: black; background-color: #fff4ef\">&nbspthe&nbsp</span><span class=\"barcode\"; style=\"color: black; background-color: #fff4ef\">&nbsppark&nbsp</span><span class=\"barcode\"; style=\"color: black; background-color: #fc9c7d\">&nbsp.&nbsp</span><span class=\"barcode\"; style=\"color: black; background-color: #fc8969\">&nbsp[SEP]&nbsp</span>"
      ],
      "text/plain": [
       "<IPython.core.display.HTML object>"
      ]
     },
     "metadata": {},
     "output_type": "display_data"
    },
    {
     "name": "stdout",
     "output_type": "stream",
     "text": [
      "Head 11\n"
     ]
    },
    {
     "data": {
      "text/html": [
       "<span class=\"barcode\"; style=\"color: black; background-color: #fff2ec\">&nbsp[CLS]&nbsp</span><span class=\"barcode\"; style=\"color: black; background-color: #ffebe2\">&nbspshe&nbsp</span><span class=\"barcode\"; style=\"color: black; background-color: #ffefe8\">&nbspare&nbsp</span><span class=\"barcode\"; style=\"color: black; background-color: #fff2ec\">&nbspgoing&nbsp</span><span class=\"barcode\"; style=\"color: black; background-color: #fff3ed\">&nbspto&nbsp</span><span class=\"barcode\"; style=\"color: black; background-color: #fff4ee\">&nbspthe&nbsp</span><span class=\"barcode\"; style=\"color: black; background-color: #fff1ea\">&nbsppark&nbsp</span><span class=\"barcode\"; style=\"color: black; background-color: #fee5d9\">&nbsp.&nbsp</span><span class=\"barcode\"; style=\"color: black; background-color: #d11e1f\">&nbsp[SEP]&nbsp</span>"
      ],
      "text/plain": [
       "<IPython.core.display.HTML object>"
      ]
     },
     "metadata": {},
     "output_type": "display_data"
    },
    {
     "name": "stdout",
     "output_type": "stream",
     "text": [
      "Head 12\n"
     ]
    },
    {
     "data": {
      "text/html": [
       "<span class=\"barcode\"; style=\"color: black; background-color: #fff4ee\">&nbsp[CLS]&nbsp</span><span class=\"barcode\"; style=\"color: black; background-color: #fff4ef\">&nbspshe&nbsp</span><span class=\"barcode\"; style=\"color: black; background-color: #fff4ef\">&nbspare&nbsp</span><span class=\"barcode\"; style=\"color: black; background-color: #fff5f0\">&nbspgoing&nbsp</span><span class=\"barcode\"; style=\"color: black; background-color: #fff5f0\">&nbspto&nbsp</span><span class=\"barcode\"; style=\"color: black; background-color: #fff5f0\">&nbspthe&nbsp</span><span class=\"barcode\"; style=\"color: black; background-color: #fff5f0\">&nbsppark&nbsp</span><span class=\"barcode\"; style=\"color: black; background-color: #ffeee7\">&nbsp.&nbsp</span><span class=\"barcode\"; style=\"color: black; background-color: #880811\">&nbsp[SEP]&nbsp</span>"
      ],
      "text/plain": [
       "<IPython.core.display.HTML object>"
      ]
     },
     "metadata": {},
     "output_type": "display_data"
    },
    {
     "name": "stdout",
     "output_type": "stream",
     "text": [
      "\n",
      "Layer 7\n",
      "Head 1\n"
     ]
    },
    {
     "data": {
      "text/html": [
       "<span class=\"barcode\"; style=\"color: black; background-color: #fff3ed\">&nbsp[CLS]&nbsp</span><span class=\"barcode\"; style=\"color: black; background-color: #fedccd\">&nbspshe&nbsp</span><span class=\"barcode\"; style=\"color: black; background-color: #fc9272\">&nbspare&nbsp</span><span class=\"barcode\"; style=\"color: black; background-color: #ffece4\">&nbspgoing&nbsp</span><span class=\"barcode\"; style=\"color: black; background-color: #fff3ed\">&nbspto&nbsp</span><span class=\"barcode\"; style=\"color: black; background-color: #fff4ee\">&nbspthe&nbsp</span><span class=\"barcode\"; style=\"color: black; background-color: #fff4ee\">&nbsppark&nbsp</span><span class=\"barcode\"; style=\"color: black; background-color: #fee9df\">&nbsp.&nbsp</span><span class=\"barcode\"; style=\"color: black; background-color: #fca689\">&nbsp[SEP]&nbsp</span>"
      ],
      "text/plain": [
       "<IPython.core.display.HTML object>"
      ]
     },
     "metadata": {},
     "output_type": "display_data"
    },
    {
     "name": "stdout",
     "output_type": "stream",
     "text": [
      "Head 2\n"
     ]
    },
    {
     "data": {
      "text/html": [
       "<span class=\"barcode\"; style=\"color: black; background-color: #fff3ed\">&nbsp[CLS]&nbsp</span><span class=\"barcode\"; style=\"color: black; background-color: #ffece4\">&nbspshe&nbsp</span><span class=\"barcode\"; style=\"color: black; background-color: #fca98c\">&nbspare&nbsp</span><span class=\"barcode\"; style=\"color: black; background-color: #fff3ed\">&nbspgoing&nbsp</span><span class=\"barcode\"; style=\"color: black; background-color: #fff4ee\">&nbspto&nbsp</span><span class=\"barcode\"; style=\"color: black; background-color: #fff4ef\">&nbspthe&nbsp</span><span class=\"barcode\"; style=\"color: black; background-color: #fff5f0\">&nbsppark&nbsp</span><span class=\"barcode\"; style=\"color: black; background-color: #fee8de\">&nbsp.&nbsp</span><span class=\"barcode\"; style=\"color: black; background-color: #f96346\">&nbsp[SEP]&nbsp</span>"
      ],
      "text/plain": [
       "<IPython.core.display.HTML object>"
      ]
     },
     "metadata": {},
     "output_type": "display_data"
    },
    {
     "name": "stdout",
     "output_type": "stream",
     "text": [
      "Head 3\n"
     ]
    },
    {
     "data": {
      "text/html": [
       "<span class=\"barcode\"; style=\"color: black; background-color: #fff5f0\">&nbsp[CLS]&nbsp</span><span class=\"barcode\"; style=\"color: black; background-color: #fff1ea\">&nbspshe&nbsp</span><span class=\"barcode\"; style=\"color: black; background-color: #ffefe8\">&nbspare&nbsp</span><span class=\"barcode\"; style=\"color: black; background-color: #fff0e8\">&nbspgoing&nbsp</span><span class=\"barcode\"; style=\"color: black; background-color: #fff2eb\">&nbspto&nbsp</span><span class=\"barcode\"; style=\"color: black; background-color: #fff4ef\">&nbspthe&nbsp</span><span class=\"barcode\"; style=\"color: black; background-color: #fff4ee\">&nbsppark&nbsp</span><span class=\"barcode\"; style=\"color: black; background-color: #c8171c\">&nbsp.&nbsp</span><span class=\"barcode\"; style=\"color: black; background-color: #fee3d6\">&nbsp[SEP]&nbsp</span>"
      ],
      "text/plain": [
       "<IPython.core.display.HTML object>"
      ]
     },
     "metadata": {},
     "output_type": "display_data"
    },
    {
     "name": "stdout",
     "output_type": "stream",
     "text": [
      "Head 4\n"
     ]
    },
    {
     "data": {
      "text/html": [
       "<span class=\"barcode\"; style=\"color: black; background-color: #ffeee7\">&nbsp[CLS]&nbsp</span><span class=\"barcode\"; style=\"color: black; background-color: #fff4ee\">&nbspshe&nbsp</span><span class=\"barcode\"; style=\"color: black; background-color: #fff5f0\">&nbspare&nbsp</span><span class=\"barcode\"; style=\"color: black; background-color: #fff5f0\">&nbspgoing&nbsp</span><span class=\"barcode\"; style=\"color: black; background-color: #fff5f0\">&nbspto&nbsp</span><span class=\"barcode\"; style=\"color: black; background-color: #fff5f0\">&nbspthe&nbsp</span><span class=\"barcode\"; style=\"color: black; background-color: #fff5f0\">&nbsppark&nbsp</span><span class=\"barcode\"; style=\"color: black; background-color: #fff0e8\">&nbsp.&nbsp</span><span class=\"barcode\"; style=\"color: black; background-color: #920a13\">&nbsp[SEP]&nbsp</span>"
      ],
      "text/plain": [
       "<IPython.core.display.HTML object>"
      ]
     },
     "metadata": {},
     "output_type": "display_data"
    },
    {
     "name": "stdout",
     "output_type": "stream",
     "text": [
      "Head 5\n"
     ]
    },
    {
     "data": {
      "text/html": [
       "<span class=\"barcode\"; style=\"color: black; background-color: #fff4ef\">&nbsp[CLS]&nbsp</span><span class=\"barcode\"; style=\"color: black; background-color: #ffede5\">&nbspshe&nbsp</span><span class=\"barcode\"; style=\"color: black; background-color: #fee9df\">&nbspare&nbsp</span><span class=\"barcode\"; style=\"color: black; background-color: #fff2eb\">&nbspgoing&nbsp</span><span class=\"barcode\"; style=\"color: black; background-color: #fff2ec\">&nbspto&nbsp</span><span class=\"barcode\"; style=\"color: black; background-color: #fff4ef\">&nbspthe&nbsp</span><span class=\"barcode\"; style=\"color: black; background-color: #fff2ec\">&nbsppark&nbsp</span><span class=\"barcode\"; style=\"color: black; background-color: #fff5f0\">&nbsp.&nbsp</span><span class=\"barcode\"; style=\"color: black; background-color: #b91419\">&nbsp[SEP]&nbsp</span>"
      ],
      "text/plain": [
       "<IPython.core.display.HTML object>"
      ]
     },
     "metadata": {},
     "output_type": "display_data"
    },
    {
     "name": "stdout",
     "output_type": "stream",
     "text": [
      "Head 6\n"
     ]
    },
    {
     "data": {
      "text/html": [
       "<span class=\"barcode\"; style=\"color: black; background-color: #ffebe2\">&nbsp[CLS]&nbsp</span><span class=\"barcode\"; style=\"color: black; background-color: #fed9c9\">&nbspshe&nbsp</span><span class=\"barcode\"; style=\"color: black; background-color: #ffece3\">&nbspare&nbsp</span><span class=\"barcode\"; style=\"color: black; background-color: #fee5d9\">&nbspgoing&nbsp</span><span class=\"barcode\"; style=\"color: black; background-color: #ffece4\">&nbspto&nbsp</span><span class=\"barcode\"; style=\"color: black; background-color: #fff2eb\">&nbspthe&nbsp</span><span class=\"barcode\"; style=\"color: black; background-color: #fff4ee\">&nbsppark&nbsp</span><span class=\"barcode\"; style=\"color: black; background-color: #fff0e8\">&nbsp.&nbsp</span><span class=\"barcode\"; style=\"color: black; background-color: #fa6547\">&nbsp[SEP]&nbsp</span>"
      ],
      "text/plain": [
       "<IPython.core.display.HTML object>"
      ]
     },
     "metadata": {},
     "output_type": "display_data"
    },
    {
     "name": "stdout",
     "output_type": "stream",
     "text": [
      "Head 7\n"
     ]
    },
    {
     "data": {
      "text/html": [
       "<span class=\"barcode\"; style=\"color: black; background-color: #ffebe2\">&nbsp[CLS]&nbsp</span><span class=\"barcode\"; style=\"color: black; background-color: #fff1ea\">&nbspshe&nbsp</span><span class=\"barcode\"; style=\"color: black; background-color: #fff4ef\">&nbspare&nbsp</span><span class=\"barcode\"; style=\"color: black; background-color: #fff4ef\">&nbspgoing&nbsp</span><span class=\"barcode\"; style=\"color: black; background-color: #fff5f0\">&nbspto&nbsp</span><span class=\"barcode\"; style=\"color: black; background-color: #fff5f0\">&nbspthe&nbsp</span><span class=\"barcode\"; style=\"color: black; background-color: #fff5f0\">&nbsppark&nbsp</span><span class=\"barcode\"; style=\"color: black; background-color: #fff3ed\">&nbsp.&nbsp</span><span class=\"barcode\"; style=\"color: black; background-color: #a10e15\">&nbsp[SEP]&nbsp</span>"
      ],
      "text/plain": [
       "<IPython.core.display.HTML object>"
      ]
     },
     "metadata": {},
     "output_type": "display_data"
    },
    {
     "name": "stdout",
     "output_type": "stream",
     "text": [
      "Head 8\n"
     ]
    },
    {
     "data": {
      "text/html": [
       "<span class=\"barcode\"; style=\"color: black; background-color: #fff2ec\">&nbsp[CLS]&nbsp</span><span class=\"barcode\"; style=\"color: black; background-color: #fff5f0\">&nbspshe&nbsp</span><span class=\"barcode\"; style=\"color: black; background-color: #fff3ed\">&nbspare&nbsp</span><span class=\"barcode\"; style=\"color: black; background-color: #fff4ef\">&nbspgoing&nbsp</span><span class=\"barcode\"; style=\"color: black; background-color: #fff4ef\">&nbspto&nbsp</span><span class=\"barcode\"; style=\"color: black; background-color: #fff5f0\">&nbspthe&nbsp</span><span class=\"barcode\"; style=\"color: black; background-color: #ffeee7\">&nbsppark&nbsp</span><span class=\"barcode\"; style=\"color: black; background-color: #fff4ee\">&nbsp.&nbsp</span><span class=\"barcode\"; style=\"color: black; background-color: #980c13\">&nbsp[SEP]&nbsp</span>"
      ],
      "text/plain": [
       "<IPython.core.display.HTML object>"
      ]
     },
     "metadata": {},
     "output_type": "display_data"
    },
    {
     "name": "stdout",
     "output_type": "stream",
     "text": [
      "Head 9\n"
     ]
    },
    {
     "data": {
      "text/html": [
       "<span class=\"barcode\"; style=\"color: black; background-color: #fff3ed\">&nbsp[CLS]&nbsp</span><span class=\"barcode\"; style=\"color: black; background-color: #fff4ee\">&nbspshe&nbsp</span><span class=\"barcode\"; style=\"color: black; background-color: #fff3ed\">&nbspare&nbsp</span><span class=\"barcode\"; style=\"color: black; background-color: #fff3ed\">&nbspgoing&nbsp</span><span class=\"barcode\"; style=\"color: black; background-color: #fff4ef\">&nbspto&nbsp</span><span class=\"barcode\"; style=\"color: black; background-color: #fff5f0\">&nbspthe&nbsp</span><span class=\"barcode\"; style=\"color: black; background-color: #fff5f0\">&nbsppark&nbsp</span><span class=\"barcode\"; style=\"color: black; background-color: #feeae0\">&nbsp.&nbsp</span><span class=\"barcode\"; style=\"color: black; background-color: #a30f15\">&nbsp[SEP]&nbsp</span>"
      ],
      "text/plain": [
       "<IPython.core.display.HTML object>"
      ]
     },
     "metadata": {},
     "output_type": "display_data"
    },
    {
     "name": "stdout",
     "output_type": "stream",
     "text": [
      "Head 10\n"
     ]
    },
    {
     "data": {
      "text/html": [
       "<span class=\"barcode\"; style=\"color: black; background-color: #ffeee7\">&nbsp[CLS]&nbsp</span><span class=\"barcode\"; style=\"color: black; background-color: #fff0e8\">&nbspshe&nbsp</span><span class=\"barcode\"; style=\"color: black; background-color: #fff3ed\">&nbspare&nbsp</span><span class=\"barcode\"; style=\"color: black; background-color: #fff4ef\">&nbspgoing&nbsp</span><span class=\"barcode\"; style=\"color: black; background-color: #fff4ef\">&nbspto&nbsp</span><span class=\"barcode\"; style=\"color: black; background-color: #fff4ee\">&nbspthe&nbsp</span><span class=\"barcode\"; style=\"color: black; background-color: #fff4ef\">&nbsppark&nbsp</span><span class=\"barcode\"; style=\"color: black; background-color: #fee8dd\">&nbsp.&nbsp</span><span class=\"barcode\"; style=\"color: black; background-color: #b91419\">&nbsp[SEP]&nbsp</span>"
      ],
      "text/plain": [
       "<IPython.core.display.HTML object>"
      ]
     },
     "metadata": {},
     "output_type": "display_data"
    },
    {
     "name": "stdout",
     "output_type": "stream",
     "text": [
      "Head 11\n"
     ]
    },
    {
     "data": {
      "text/html": [
       "<span class=\"barcode\"; style=\"color: black; background-color: #fff4ee\">&nbsp[CLS]&nbsp</span><span class=\"barcode\"; style=\"color: black; background-color: #fff2eb\">&nbspshe&nbsp</span><span class=\"barcode\"; style=\"color: black; background-color: #fff2ec\">&nbspare&nbsp</span><span class=\"barcode\"; style=\"color: black; background-color: #fff4ef\">&nbspgoing&nbsp</span><span class=\"barcode\"; style=\"color: black; background-color: #fff5f0\">&nbspto&nbsp</span><span class=\"barcode\"; style=\"color: black; background-color: #fff5f0\">&nbspthe&nbsp</span><span class=\"barcode\"; style=\"color: black; background-color: #fff5f0\">&nbsppark&nbsp</span><span class=\"barcode\"; style=\"color: black; background-color: #fff3ed\">&nbsp.&nbsp</span><span class=\"barcode\"; style=\"color: black; background-color: #8c0912\">&nbsp[SEP]&nbsp</span>"
      ],
      "text/plain": [
       "<IPython.core.display.HTML object>"
      ]
     },
     "metadata": {},
     "output_type": "display_data"
    },
    {
     "name": "stdout",
     "output_type": "stream",
     "text": [
      "Head 12\n"
     ]
    },
    {
     "data": {
      "text/html": [
       "<span class=\"barcode\"; style=\"color: black; background-color: #fff5f0\">&nbsp[CLS]&nbsp</span><span class=\"barcode\"; style=\"color: black; background-color: #fff1ea\">&nbspshe&nbsp</span><span class=\"barcode\"; style=\"color: black; background-color: #fff4ee\">&nbspare&nbsp</span><span class=\"barcode\"; style=\"color: black; background-color: #fff0e8\">&nbspgoing&nbsp</span><span class=\"barcode\"; style=\"color: black; background-color: #fff4ee\">&nbspto&nbsp</span><span class=\"barcode\"; style=\"color: black; background-color: #fff5f0\">&nbspthe&nbsp</span><span class=\"barcode\"; style=\"color: black; background-color: #fff4ef\">&nbsppark&nbsp</span><span class=\"barcode\"; style=\"color: black; background-color: #a50f15\">&nbsp.&nbsp</span><span class=\"barcode\"; style=\"color: black; background-color: #ffefe8\">&nbsp[SEP]&nbsp</span>"
      ],
      "text/plain": [
       "<IPython.core.display.HTML object>"
      ]
     },
     "metadata": {},
     "output_type": "display_data"
    },
    {
     "name": "stdout",
     "output_type": "stream",
     "text": [
      "\n",
      "Layer 8\n",
      "Head 1\n"
     ]
    },
    {
     "data": {
      "text/html": [
       "<span class=\"barcode\"; style=\"color: black; background-color: #fff4ef\">&nbsp[CLS]&nbsp</span><span class=\"barcode\"; style=\"color: black; background-color: #fee8de\">&nbspshe&nbsp</span><span class=\"barcode\"; style=\"color: black; background-color: #fee7db\">&nbspare&nbsp</span><span class=\"barcode\"; style=\"color: black; background-color: #fff0e9\">&nbspgoing&nbsp</span><span class=\"barcode\"; style=\"color: black; background-color: #fff0e8\">&nbspto&nbsp</span><span class=\"barcode\"; style=\"color: black; background-color: #fff2eb\">&nbspthe&nbsp</span><span class=\"barcode\"; style=\"color: black; background-color: #fff1ea\">&nbsppark&nbsp</span><span class=\"barcode\"; style=\"color: black; background-color: #fed9c9\">&nbsp.&nbsp</span><span class=\"barcode\"; style=\"color: black; background-color: #f44f39\">&nbsp[SEP]&nbsp</span>"
      ],
      "text/plain": [
       "<IPython.core.display.HTML object>"
      ]
     },
     "metadata": {},
     "output_type": "display_data"
    },
    {
     "name": "stdout",
     "output_type": "stream",
     "text": [
      "Head 2\n"
     ]
    },
    {
     "data": {
      "text/html": [
       "<span class=\"barcode\"; style=\"color: black; background-color: #ffeee6\">&nbsp[CLS]&nbsp</span><span class=\"barcode\"; style=\"color: black; background-color: #fee7dc\">&nbspshe&nbsp</span><span class=\"barcode\"; style=\"color: black; background-color: #fc8a6a\">&nbspare&nbsp</span><span class=\"barcode\"; style=\"color: black; background-color: #ffece3\">&nbspgoing&nbsp</span><span class=\"barcode\"; style=\"color: black; background-color: #fff0e9\">&nbspto&nbsp</span><span class=\"barcode\"; style=\"color: black; background-color: #fff4ef\">&nbspthe&nbsp</span><span class=\"barcode\"; style=\"color: black; background-color: #fff2eb\">&nbsppark&nbsp</span><span class=\"barcode\"; style=\"color: black; background-color: #fee8de\">&nbsp.&nbsp</span><span class=\"barcode\"; style=\"color: black; background-color: #fcb095\">&nbsp[SEP]&nbsp</span>"
      ],
      "text/plain": [
       "<IPython.core.display.HTML object>"
      ]
     },
     "metadata": {},
     "output_type": "display_data"
    },
    {
     "name": "stdout",
     "output_type": "stream",
     "text": [
      "Head 3\n"
     ]
    },
    {
     "data": {
      "text/html": [
       "<span class=\"barcode\"; style=\"color: black; background-color: #fee8dd\">&nbsp[CLS]&nbsp</span><span class=\"barcode\"; style=\"color: black; background-color: #fca486\">&nbspshe&nbsp</span><span class=\"barcode\"; style=\"color: black; background-color: #ffeee7\">&nbspare&nbsp</span><span class=\"barcode\"; style=\"color: black; background-color: #fff5f0\">&nbspgoing&nbsp</span><span class=\"barcode\"; style=\"color: black; background-color: #fff5f0\">&nbspto&nbsp</span><span class=\"barcode\"; style=\"color: black; background-color: #fff4ef\">&nbspthe&nbsp</span><span class=\"barcode\"; style=\"color: black; background-color: #fff4ef\">&nbsppark&nbsp</span><span class=\"barcode\"; style=\"color: black; background-color: #fff4ef\">&nbsp.&nbsp</span><span class=\"barcode\"; style=\"color: black; background-color: #f85d42\">&nbsp[SEP]&nbsp</span>"
      ],
      "text/plain": [
       "<IPython.core.display.HTML object>"
      ]
     },
     "metadata": {},
     "output_type": "display_data"
    },
    {
     "name": "stdout",
     "output_type": "stream",
     "text": [
      "Head 4\n"
     ]
    },
    {
     "data": {
      "text/html": [
       "<span class=\"barcode\"; style=\"color: black; background-color: #fff4ee\">&nbsp[CLS]&nbsp</span><span class=\"barcode\"; style=\"color: black; background-color: #fff5f0\">&nbspshe&nbsp</span><span class=\"barcode\"; style=\"color: black; background-color: #fff2ec\">&nbspare&nbsp</span><span class=\"barcode\"; style=\"color: black; background-color: #fff5f0\">&nbspgoing&nbsp</span><span class=\"barcode\"; style=\"color: black; background-color: #fff5f0\">&nbspto&nbsp</span><span class=\"barcode\"; style=\"color: black; background-color: #fff5f0\">&nbspthe&nbsp</span><span class=\"barcode\"; style=\"color: black; background-color: #fff5f0\">&nbsppark&nbsp</span><span class=\"barcode\"; style=\"color: black; background-color: #ffefe8\">&nbsp.&nbsp</span><span class=\"barcode\"; style=\"color: black; background-color: #8c0912\">&nbsp[SEP]&nbsp</span>"
      ],
      "text/plain": [
       "<IPython.core.display.HTML object>"
      ]
     },
     "metadata": {},
     "output_type": "display_data"
    },
    {
     "name": "stdout",
     "output_type": "stream",
     "text": [
      "Head 5\n"
     ]
    },
    {
     "data": {
      "text/html": [
       "<span class=\"barcode\"; style=\"color: black; background-color: #fff5f0\">&nbsp[CLS]&nbsp</span><span class=\"barcode\"; style=\"color: black; background-color: #fff4ef\">&nbspshe&nbsp</span><span class=\"barcode\"; style=\"color: black; background-color: #fff4ee\">&nbspare&nbsp</span><span class=\"barcode\"; style=\"color: black; background-color: #fff4ee\">&nbspgoing&nbsp</span><span class=\"barcode\"; style=\"color: black; background-color: #fff0e9\">&nbspto&nbsp</span><span class=\"barcode\"; style=\"color: black; background-color: #fff2eb\">&nbspthe&nbsp</span><span class=\"barcode\"; style=\"color: black; background-color: #fff5f0\">&nbsppark&nbsp</span><span class=\"barcode\"; style=\"color: black; background-color: #fff3ed\">&nbsp.&nbsp</span><span class=\"barcode\"; style=\"color: black; background-color: #920a13\">&nbsp[SEP]&nbsp</span>"
      ],
      "text/plain": [
       "<IPython.core.display.HTML object>"
      ]
     },
     "metadata": {},
     "output_type": "display_data"
    },
    {
     "name": "stdout",
     "output_type": "stream",
     "text": [
      "Head 6\n"
     ]
    },
    {
     "data": {
      "text/html": [
       "<span class=\"barcode\"; style=\"color: black; background-color: #fff2ec\">&nbsp[CLS]&nbsp</span><span class=\"barcode\"; style=\"color: black; background-color: #fff4ef\">&nbspshe&nbsp</span><span class=\"barcode\"; style=\"color: black; background-color: #fcab8f\">&nbspare&nbsp</span><span class=\"barcode\"; style=\"color: black; background-color: #fff4ee\">&nbspgoing&nbsp</span><span class=\"barcode\"; style=\"color: black; background-color: #fff4ef\">&nbspto&nbsp</span><span class=\"barcode\"; style=\"color: black; background-color: #fff5f0\">&nbspthe&nbsp</span><span class=\"barcode\"; style=\"color: black; background-color: #fff0e9\">&nbsppark&nbsp</span><span class=\"barcode\"; style=\"color: black; background-color: #fff3ed\">&nbsp.&nbsp</span><span class=\"barcode\"; style=\"color: black; background-color: #f03f2e\">&nbsp[SEP]&nbsp</span>"
      ],
      "text/plain": [
       "<IPython.core.display.HTML object>"
      ]
     },
     "metadata": {},
     "output_type": "display_data"
    },
    {
     "name": "stdout",
     "output_type": "stream",
     "text": [
      "Head 7\n"
     ]
    },
    {
     "data": {
      "text/html": [
       "<span class=\"barcode\"; style=\"color: black; background-color: #ffebe2\">&nbsp[CLS]&nbsp</span><span class=\"barcode\"; style=\"color: black; background-color: #fff3ed\">&nbspshe&nbsp</span><span class=\"barcode\"; style=\"color: black; background-color: #ffede5\">&nbspare&nbsp</span><span class=\"barcode\"; style=\"color: black; background-color: #fff4ee\">&nbspgoing&nbsp</span><span class=\"barcode\"; style=\"color: black; background-color: #fff4ef\">&nbspto&nbsp</span><span class=\"barcode\"; style=\"color: black; background-color: #fff4ef\">&nbspthe&nbsp</span><span class=\"barcode\"; style=\"color: black; background-color: #fff3ed\">&nbsppark&nbsp</span><span class=\"barcode\"; style=\"color: black; background-color: #ffeee6\">&nbsp.&nbsp</span><span class=\"barcode\"; style=\"color: black; background-color: #bc141a\">&nbsp[SEP]&nbsp</span>"
      ],
      "text/plain": [
       "<IPython.core.display.HTML object>"
      ]
     },
     "metadata": {},
     "output_type": "display_data"
    },
    {
     "name": "stdout",
     "output_type": "stream",
     "text": [
      "Head 8\n"
     ]
    },
    {
     "data": {
      "text/html": [
       "<span class=\"barcode\"; style=\"color: black; background-color: #fff4ef\">&nbsp[CLS]&nbsp</span><span class=\"barcode\"; style=\"color: black; background-color: #fff2eb\">&nbspshe&nbsp</span><span class=\"barcode\"; style=\"color: black; background-color: #fff2ec\">&nbspare&nbsp</span><span class=\"barcode\"; style=\"color: black; background-color: #fff4ef\">&nbspgoing&nbsp</span><span class=\"barcode\"; style=\"color: black; background-color: #fff5f0\">&nbspto&nbsp</span><span class=\"barcode\"; style=\"color: black; background-color: #fff5f0\">&nbspthe&nbsp</span><span class=\"barcode\"; style=\"color: black; background-color: #fff5f0\">&nbsppark&nbsp</span><span class=\"barcode\"; style=\"color: black; background-color: #a10e15\">&nbsp.&nbsp</span><span class=\"barcode\"; style=\"color: black; background-color: #feeae0\">&nbsp[SEP]&nbsp</span>"
      ],
      "text/plain": [
       "<IPython.core.display.HTML object>"
      ]
     },
     "metadata": {},
     "output_type": "display_data"
    },
    {
     "name": "stdout",
     "output_type": "stream",
     "text": [
      "Head 9\n"
     ]
    },
    {
     "data": {
      "text/html": [
       "<span class=\"barcode\"; style=\"color: black; background-color: #ffece3\">&nbsp[CLS]&nbsp</span><span class=\"barcode\"; style=\"color: black; background-color: #fff2ec\">&nbspshe&nbsp</span><span class=\"barcode\"; style=\"color: black; background-color: #fcb99f\">&nbspare&nbsp</span><span class=\"barcode\"; style=\"color: black; background-color: #fff2eb\">&nbspgoing&nbsp</span><span class=\"barcode\"; style=\"color: black; background-color: #fff3ed\">&nbspto&nbsp</span><span class=\"barcode\"; style=\"color: black; background-color: #fff4ef\">&nbspthe&nbsp</span><span class=\"barcode\"; style=\"color: black; background-color: #fff5f0\">&nbsppark&nbsp</span><span class=\"barcode\"; style=\"color: black; background-color: #fb7858\">&nbsp.&nbsp</span><span class=\"barcode\"; style=\"color: black; background-color: #fdd2bf\">&nbsp[SEP]&nbsp</span>"
      ],
      "text/plain": [
       "<IPython.core.display.HTML object>"
      ]
     },
     "metadata": {},
     "output_type": "display_data"
    },
    {
     "name": "stdout",
     "output_type": "stream",
     "text": [
      "Head 10\n"
     ]
    },
    {
     "data": {
      "text/html": [
       "<span class=\"barcode\"; style=\"color: black; background-color: #fff4ee\">&nbsp[CLS]&nbsp</span><span class=\"barcode\"; style=\"color: black; background-color: #fff4ee\">&nbspshe&nbsp</span><span class=\"barcode\"; style=\"color: black; background-color: #fff1ea\">&nbspare&nbsp</span><span class=\"barcode\"; style=\"color: black; background-color: #fff4ee\">&nbspgoing&nbsp</span><span class=\"barcode\"; style=\"color: black; background-color: #fff5f0\">&nbspto&nbsp</span><span class=\"barcode\"; style=\"color: black; background-color: #fff5f0\">&nbspthe&nbsp</span><span class=\"barcode\"; style=\"color: black; background-color: #fff4ef\">&nbsppark&nbsp</span><span class=\"barcode\"; style=\"color: black; background-color: #fff1ea\">&nbsp.&nbsp</span><span class=\"barcode\"; style=\"color: black; background-color: #920a13\">&nbsp[SEP]&nbsp</span>"
      ],
      "text/plain": [
       "<IPython.core.display.HTML object>"
      ]
     },
     "metadata": {},
     "output_type": "display_data"
    },
    {
     "name": "stdout",
     "output_type": "stream",
     "text": [
      "Head 11\n"
     ]
    },
    {
     "data": {
      "text/html": [
       "<span class=\"barcode\"; style=\"color: black; background-color: #fff2ec\">&nbsp[CLS]&nbsp</span><span class=\"barcode\"; style=\"color: black; background-color: #feeae1\">&nbspshe&nbsp</span><span class=\"barcode\"; style=\"color: black; background-color: #fee5d8\">&nbspare&nbsp</span><span class=\"barcode\"; style=\"color: black; background-color: #fff4ee\">&nbspgoing&nbsp</span><span class=\"barcode\"; style=\"color: black; background-color: #fff0e8\">&nbspto&nbsp</span><span class=\"barcode\"; style=\"color: black; background-color: #fff2eb\">&nbspthe&nbsp</span><span class=\"barcode\"; style=\"color: black; background-color: #fff2eb\">&nbsppark&nbsp</span><span class=\"barcode\"; style=\"color: black; background-color: #fff4ef\">&nbsp.&nbsp</span><span class=\"barcode\"; style=\"color: black; background-color: #d21f20\">&nbsp[SEP]&nbsp</span>"
      ],
      "text/plain": [
       "<IPython.core.display.HTML object>"
      ]
     },
     "metadata": {},
     "output_type": "display_data"
    },
    {
     "name": "stdout",
     "output_type": "stream",
     "text": [
      "Head 12\n"
     ]
    },
    {
     "data": {
      "text/html": [
       "<span class=\"barcode\"; style=\"color: black; background-color: #fff5f0\">&nbsp[CLS]&nbsp</span><span class=\"barcode\"; style=\"color: black; background-color: #fff5f0\">&nbspshe&nbsp</span><span class=\"barcode\"; style=\"color: black; background-color: #fff4ef\">&nbspare&nbsp</span><span class=\"barcode\"; style=\"color: black; background-color: #fff5f0\">&nbspgoing&nbsp</span><span class=\"barcode\"; style=\"color: black; background-color: #fff5f0\">&nbspto&nbsp</span><span class=\"barcode\"; style=\"color: black; background-color: #fff5f0\">&nbspthe&nbsp</span><span class=\"barcode\"; style=\"color: black; background-color: #fff5f0\">&nbsppark&nbsp</span><span class=\"barcode\"; style=\"color: black; background-color: #73030f\">&nbsp.&nbsp</span><span class=\"barcode\"; style=\"color: black; background-color: #fff3ed\">&nbsp[SEP]&nbsp</span>"
      ],
      "text/plain": [
       "<IPython.core.display.HTML object>"
      ]
     },
     "metadata": {},
     "output_type": "display_data"
    },
    {
     "name": "stdout",
     "output_type": "stream",
     "text": [
      "\n",
      "Layer 9\n",
      "Head 1\n"
     ]
    },
    {
     "data": {
      "text/html": [
       "<span class=\"barcode\"; style=\"color: black; background-color: #ffeee6\">&nbsp[CLS]&nbsp</span><span class=\"barcode\"; style=\"color: black; background-color: #fff0e9\">&nbspshe&nbsp</span><span class=\"barcode\"; style=\"color: black; background-color: #fcbfa7\">&nbspare&nbsp</span><span class=\"barcode\"; style=\"color: black; background-color: #fee8dd\">&nbspgoing&nbsp</span><span class=\"barcode\"; style=\"color: black; background-color: #fff1ea\">&nbspto&nbsp</span><span class=\"barcode\"; style=\"color: black; background-color: #ffefe8\">&nbspthe&nbsp</span><span class=\"barcode\"; style=\"color: black; background-color: #fff2ec\">&nbsppark&nbsp</span><span class=\"barcode\"; style=\"color: black; background-color: #fff0e9\">&nbsp.&nbsp</span><span class=\"barcode\"; style=\"color: black; background-color: #fb694a\">&nbsp[SEP]&nbsp</span>"
      ],
      "text/plain": [
       "<IPython.core.display.HTML object>"
      ]
     },
     "metadata": {},
     "output_type": "display_data"
    },
    {
     "name": "stdout",
     "output_type": "stream",
     "text": [
      "Head 2\n"
     ]
    },
    {
     "data": {
      "text/html": [
       "<span class=\"barcode\"; style=\"color: black; background-color: #fff0e9\">&nbsp[CLS]&nbsp</span><span class=\"barcode\"; style=\"color: black; background-color: #fee3d7\">&nbspshe&nbsp</span><span class=\"barcode\"; style=\"color: black; background-color: #fee7dc\">&nbspare&nbsp</span><span class=\"barcode\"; style=\"color: black; background-color: #fff2ec\">&nbspgoing&nbsp</span><span class=\"barcode\"; style=\"color: black; background-color: #fff4ef\">&nbspto&nbsp</span><span class=\"barcode\"; style=\"color: black; background-color: #fff2ec\">&nbspthe&nbsp</span><span class=\"barcode\"; style=\"color: black; background-color: #fff3ed\">&nbsppark&nbsp</span><span class=\"barcode\"; style=\"color: black; background-color: #fff2eb\">&nbsp.&nbsp</span><span class=\"barcode\"; style=\"color: black; background-color: #d82422\">&nbsp[SEP]&nbsp</span>"
      ],
      "text/plain": [
       "<IPython.core.display.HTML object>"
      ]
     },
     "metadata": {},
     "output_type": "display_data"
    },
    {
     "name": "stdout",
     "output_type": "stream",
     "text": [
      "Head 3\n"
     ]
    },
    {
     "data": {
      "text/html": [
       "<span class=\"barcode\"; style=\"color: black; background-color: #fff4ef\">&nbsp[CLS]&nbsp</span><span class=\"barcode\"; style=\"color: black; background-color: #f14130\">&nbspshe&nbsp</span><span class=\"barcode\"; style=\"color: black; background-color: #fdd2bf\">&nbspare&nbsp</span><span class=\"barcode\"; style=\"color: black; background-color: #fff5f0\">&nbspgoing&nbsp</span><span class=\"barcode\"; style=\"color: black; background-color: #fff5f0\">&nbspto&nbsp</span><span class=\"barcode\"; style=\"color: black; background-color: #fff5f0\">&nbspthe&nbsp</span><span class=\"barcode\"; style=\"color: black; background-color: #fff5f0\">&nbsppark&nbsp</span><span class=\"barcode\"; style=\"color: black; background-color: #fff2ec\">&nbsp.&nbsp</span><span class=\"barcode\"; style=\"color: black; background-color: #fdcbb6\">&nbsp[SEP]&nbsp</span>"
      ],
      "text/plain": [
       "<IPython.core.display.HTML object>"
      ]
     },
     "metadata": {},
     "output_type": "display_data"
    },
    {
     "name": "stdout",
     "output_type": "stream",
     "text": [
      "Head 4\n"
     ]
    },
    {
     "data": {
      "text/html": [
       "<span class=\"barcode\"; style=\"color: black; background-color: #fff5f0\">&nbsp[CLS]&nbsp</span><span class=\"barcode\"; style=\"color: black; background-color: #fff4ef\">&nbspshe&nbsp</span><span class=\"barcode\"; style=\"color: black; background-color: #fdccb8\">&nbspare&nbsp</span><span class=\"barcode\"; style=\"color: black; background-color: #fff4ef\">&nbspgoing&nbsp</span><span class=\"barcode\"; style=\"color: black; background-color: #fff5f0\">&nbspto&nbsp</span><span class=\"barcode\"; style=\"color: black; background-color: #fff5f0\">&nbspthe&nbsp</span><span class=\"barcode\"; style=\"color: black; background-color: #fff5f0\">&nbsppark&nbsp</span><span class=\"barcode\"; style=\"color: black; background-color: #fff4ef\">&nbsp.&nbsp</span><span class=\"barcode\"; style=\"color: black; background-color: #c2161b\">&nbsp[SEP]&nbsp</span>"
      ],
      "text/plain": [
       "<IPython.core.display.HTML object>"
      ]
     },
     "metadata": {},
     "output_type": "display_data"
    },
    {
     "name": "stdout",
     "output_type": "stream",
     "text": [
      "Head 5\n"
     ]
    },
    {
     "data": {
      "text/html": [
       "<span class=\"barcode\"; style=\"color: black; background-color: #fff5f0\">&nbsp[CLS]&nbsp</span><span class=\"barcode\"; style=\"color: black; background-color: #fed9c9\">&nbspshe&nbsp</span><span class=\"barcode\"; style=\"color: black; background-color: #fdd7c6\">&nbspare&nbsp</span><span class=\"barcode\"; style=\"color: black; background-color: #fcc2aa\">&nbspgoing&nbsp</span><span class=\"barcode\"; style=\"color: black; background-color: #fedfd0\">&nbspto&nbsp</span><span class=\"barcode\"; style=\"color: black; background-color: #fee6da\">&nbspthe&nbsp</span><span class=\"barcode\"; style=\"color: black; background-color: #ffefe8\">&nbsppark&nbsp</span><span class=\"barcode\"; style=\"color: black; background-color: #ffeee6\">&nbsp.&nbsp</span><span class=\"barcode\"; style=\"color: black; background-color: #fed8c7\">&nbsp[SEP]&nbsp</span>"
      ],
      "text/plain": [
       "<IPython.core.display.HTML object>"
      ]
     },
     "metadata": {},
     "output_type": "display_data"
    },
    {
     "name": "stdout",
     "output_type": "stream",
     "text": [
      "Head 6\n"
     ]
    },
    {
     "data": {
      "text/html": [
       "<span class=\"barcode\"; style=\"color: black; background-color: #fff2eb\">&nbsp[CLS]&nbsp</span><span class=\"barcode\"; style=\"color: black; background-color: #fee6da\">&nbspshe&nbsp</span><span class=\"barcode\"; style=\"color: black; background-color: #f4503a\">&nbspare&nbsp</span><span class=\"barcode\"; style=\"color: black; background-color: #fff2eb\">&nbspgoing&nbsp</span><span class=\"barcode\"; style=\"color: black; background-color: #fff5f0\">&nbspto&nbsp</span><span class=\"barcode\"; style=\"color: black; background-color: #fff4ee\">&nbspthe&nbsp</span><span class=\"barcode\"; style=\"color: black; background-color: #fff4ef\">&nbsppark&nbsp</span><span class=\"barcode\"; style=\"color: black; background-color: #fff5f0\">&nbsp.&nbsp</span><span class=\"barcode\"; style=\"color: black; background-color: #fcb398\">&nbsp[SEP]&nbsp</span>"
      ],
      "text/plain": [
       "<IPython.core.display.HTML object>"
      ]
     },
     "metadata": {},
     "output_type": "display_data"
    },
    {
     "name": "stdout",
     "output_type": "stream",
     "text": [
      "Head 7\n"
     ]
    },
    {
     "data": {
      "text/html": [
       "<span class=\"barcode\"; style=\"color: black; background-color: #fff4ef\">&nbsp[CLS]&nbsp</span><span class=\"barcode\"; style=\"color: black; background-color: #ffeee6\">&nbspshe&nbsp</span><span class=\"barcode\"; style=\"color: black; background-color: #ffeee7\">&nbspare&nbsp</span><span class=\"barcode\"; style=\"color: black; background-color: #fff2ec\">&nbspgoing&nbsp</span><span class=\"barcode\"; style=\"color: black; background-color: #fff2ec\">&nbspto&nbsp</span><span class=\"barcode\"; style=\"color: black; background-color: #fff3ed\">&nbspthe&nbsp</span><span class=\"barcode\"; style=\"color: black; background-color: #fff4ee\">&nbsppark&nbsp</span><span class=\"barcode\"; style=\"color: black; background-color: #ffeee7\">&nbsp.&nbsp</span><span class=\"barcode\"; style=\"color: black; background-color: #b81419\">&nbsp[SEP]&nbsp</span>"
      ],
      "text/plain": [
       "<IPython.core.display.HTML object>"
      ]
     },
     "metadata": {},
     "output_type": "display_data"
    },
    {
     "name": "stdout",
     "output_type": "stream",
     "text": [
      "Head 8\n"
     ]
    },
    {
     "data": {
      "text/html": [
       "<span class=\"barcode\"; style=\"color: black; background-color: #fee5d8\">&nbsp[CLS]&nbsp</span><span class=\"barcode\"; style=\"color: black; background-color: #fee2d5\">&nbspshe&nbsp</span><span class=\"barcode\"; style=\"color: black; background-color: #fcbfa7\">&nbspare&nbsp</span><span class=\"barcode\"; style=\"color: black; background-color: #fee8de\">&nbspgoing&nbsp</span><span class=\"barcode\"; style=\"color: black; background-color: #fff3ed\">&nbspto&nbsp</span><span class=\"barcode\"; style=\"color: black; background-color: #fff3ed\">&nbspthe&nbsp</span><span class=\"barcode\"; style=\"color: black; background-color: #fee9df\">&nbsppark&nbsp</span><span class=\"barcode\"; style=\"color: black; background-color: #fff0e8\">&nbsp.&nbsp</span><span class=\"barcode\"; style=\"color: black; background-color: #fc9d7f\">&nbsp[SEP]&nbsp</span>"
      ],
      "text/plain": [
       "<IPython.core.display.HTML object>"
      ]
     },
     "metadata": {},
     "output_type": "display_data"
    },
    {
     "name": "stdout",
     "output_type": "stream",
     "text": [
      "Head 9\n"
     ]
    },
    {
     "data": {
      "text/html": [
       "<span class=\"barcode\"; style=\"color: black; background-color: #fff4ee\">&nbsp[CLS]&nbsp</span><span class=\"barcode\"; style=\"color: black; background-color: #ffece4\">&nbspshe&nbsp</span><span class=\"barcode\"; style=\"color: black; background-color: #fca486\">&nbspare&nbsp</span><span class=\"barcode\"; style=\"color: black; background-color: #fff0e9\">&nbspgoing&nbsp</span><span class=\"barcode\"; style=\"color: black; background-color: #fff3ed\">&nbspto&nbsp</span><span class=\"barcode\"; style=\"color: black; background-color: #fff4ee\">&nbspthe&nbsp</span><span class=\"barcode\"; style=\"color: black; background-color: #fff1ea\">&nbsppark&nbsp</span><span class=\"barcode\"; style=\"color: black; background-color: #fff0e9\">&nbsp.&nbsp</span><span class=\"barcode\"; style=\"color: black; background-color: #fa6849\">&nbsp[SEP]&nbsp</span>"
      ],
      "text/plain": [
       "<IPython.core.display.HTML object>"
      ]
     },
     "metadata": {},
     "output_type": "display_data"
    },
    {
     "name": "stdout",
     "output_type": "stream",
     "text": [
      "Head 10\n"
     ]
    },
    {
     "data": {
      "text/html": [
       "<span class=\"barcode\"; style=\"color: black; background-color: #fff2ec\">&nbsp[CLS]&nbsp</span><span class=\"barcode\"; style=\"color: black; background-color: #fee9df\">&nbspshe&nbsp</span><span class=\"barcode\"; style=\"color: black; background-color: #fee7dc\">&nbspare&nbsp</span><span class=\"barcode\"; style=\"color: black; background-color: #ffece3\">&nbspgoing&nbsp</span><span class=\"barcode\"; style=\"color: black; background-color: #fff0e8\">&nbspto&nbsp</span><span class=\"barcode\"; style=\"color: black; background-color: #fff4ef\">&nbspthe&nbsp</span><span class=\"barcode\"; style=\"color: black; background-color: #fff4ee\">&nbsppark&nbsp</span><span class=\"barcode\"; style=\"color: black; background-color: #fff3ed\">&nbsp.&nbsp</span><span class=\"barcode\"; style=\"color: black; background-color: #d72322\">&nbsp[SEP]&nbsp</span>"
      ],
      "text/plain": [
       "<IPython.core.display.HTML object>"
      ]
     },
     "metadata": {},
     "output_type": "display_data"
    },
    {
     "name": "stdout",
     "output_type": "stream",
     "text": [
      "Head 11\n"
     ]
    },
    {
     "data": {
      "text/html": [
       "<span class=\"barcode\"; style=\"color: black; background-color: #fff4ef\">&nbsp[CLS]&nbsp</span><span class=\"barcode\"; style=\"color: black; background-color: #fff3ed\">&nbspshe&nbsp</span><span class=\"barcode\"; style=\"color: black; background-color: #fee5d8\">&nbspare&nbsp</span><span class=\"barcode\"; style=\"color: black; background-color: #fff5f0\">&nbspgoing&nbsp</span><span class=\"barcode\"; style=\"color: black; background-color: #fff5f0\">&nbspto&nbsp</span><span class=\"barcode\"; style=\"color: black; background-color: #fff5f0\">&nbspthe&nbsp</span><span class=\"barcode\"; style=\"color: black; background-color: #fff5f0\">&nbsppark&nbsp</span><span class=\"barcode\"; style=\"color: black; background-color: #fff5f0\">&nbsp.&nbsp</span><span class=\"barcode\"; style=\"color: black; background-color: #a60f15\">&nbsp[SEP]&nbsp</span>"
      ],
      "text/plain": [
       "<IPython.core.display.HTML object>"
      ]
     },
     "metadata": {},
     "output_type": "display_data"
    },
    {
     "name": "stdout",
     "output_type": "stream",
     "text": [
      "Head 12\n"
     ]
    },
    {
     "data": {
      "text/html": [
       "<span class=\"barcode\"; style=\"color: black; background-color: #fff2ec\">&nbsp[CLS]&nbsp</span><span class=\"barcode\"; style=\"color: black; background-color: #fff3ed\">&nbspshe&nbsp</span><span class=\"barcode\"; style=\"color: black; background-color: #fcb89e\">&nbspare&nbsp</span><span class=\"barcode\"; style=\"color: black; background-color: #fff5f0\">&nbspgoing&nbsp</span><span class=\"barcode\"; style=\"color: black; background-color: #fff4ee\">&nbspto&nbsp</span><span class=\"barcode\"; style=\"color: black; background-color: #fff5f0\">&nbspthe&nbsp</span><span class=\"barcode\"; style=\"color: black; background-color: #fff5f0\">&nbsppark&nbsp</span><span class=\"barcode\"; style=\"color: black; background-color: #ffebe2\">&nbsp.&nbsp</span><span class=\"barcode\"; style=\"color: black; background-color: #ed392b\">&nbsp[SEP]&nbsp</span>"
      ],
      "text/plain": [
       "<IPython.core.display.HTML object>"
      ]
     },
     "metadata": {},
     "output_type": "display_data"
    },
    {
     "name": "stdout",
     "output_type": "stream",
     "text": [
      "\n",
      "Layer 10\n",
      "Head 1\n"
     ]
    },
    {
     "data": {
      "text/html": [
       "<span class=\"barcode\"; style=\"color: black; background-color: #ffece4\">&nbsp[CLS]&nbsp</span><span class=\"barcode\"; style=\"color: black; background-color: #fee1d4\">&nbspshe&nbsp</span><span class=\"barcode\"; style=\"color: black; background-color: #fee8dd\">&nbspare&nbsp</span><span class=\"barcode\"; style=\"color: black; background-color: #fedbcc\">&nbspgoing&nbsp</span><span class=\"barcode\"; style=\"color: black; background-color: #fee8de\">&nbspto&nbsp</span><span class=\"barcode\"; style=\"color: black; background-color: #fee7dc\">&nbspthe&nbsp</span><span class=\"barcode\"; style=\"color: black; background-color: #ffebe2\">&nbsppark&nbsp</span><span class=\"barcode\"; style=\"color: black; background-color: #fee4d8\">&nbsp.&nbsp</span><span class=\"barcode\"; style=\"color: black; background-color: #fcb296\">&nbsp[SEP]&nbsp</span>"
      ],
      "text/plain": [
       "<IPython.core.display.HTML object>"
      ]
     },
     "metadata": {},
     "output_type": "display_data"
    },
    {
     "name": "stdout",
     "output_type": "stream",
     "text": [
      "Head 2\n"
     ]
    },
    {
     "data": {
      "text/html": [
       "<span class=\"barcode\"; style=\"color: black; background-color: #feeae1\">&nbsp[CLS]&nbsp</span><span class=\"barcode\"; style=\"color: black; background-color: #fee8de\">&nbspshe&nbsp</span><span class=\"barcode\"; style=\"color: black; background-color: #fff3ed\">&nbspare&nbsp</span><span class=\"barcode\"; style=\"color: black; background-color: #ffefe8\">&nbspgoing&nbsp</span><span class=\"barcode\"; style=\"color: black; background-color: #fff4ee\">&nbspto&nbsp</span><span class=\"barcode\"; style=\"color: black; background-color: #fff2eb\">&nbspthe&nbsp</span><span class=\"barcode\"; style=\"color: black; background-color: #fff4ef\">&nbsppark&nbsp</span><span class=\"barcode\"; style=\"color: black; background-color: #ffeee6\">&nbsp.&nbsp</span><span class=\"barcode\"; style=\"color: black; background-color: #d32020\">&nbsp[SEP]&nbsp</span>"
      ],
      "text/plain": [
       "<IPython.core.display.HTML object>"
      ]
     },
     "metadata": {},
     "output_type": "display_data"
    },
    {
     "name": "stdout",
     "output_type": "stream",
     "text": [
      "Head 3\n"
     ]
    },
    {
     "data": {
      "text/html": [
       "<span class=\"barcode\"; style=\"color: black; background-color: #fff4ee\">&nbsp[CLS]&nbsp</span><span class=\"barcode\"; style=\"color: black; background-color: #ffefe8\">&nbspshe&nbsp</span><span class=\"barcode\"; style=\"color: black; background-color: #fed8c7\">&nbspare&nbsp</span><span class=\"barcode\"; style=\"color: black; background-color: #fff2eb\">&nbspgoing&nbsp</span><span class=\"barcode\"; style=\"color: black; background-color: #fff4ef\">&nbspto&nbsp</span><span class=\"barcode\"; style=\"color: black; background-color: #fff4ef\">&nbspthe&nbsp</span><span class=\"barcode\"; style=\"color: black; background-color: #fff3ed\">&nbsppark&nbsp</span><span class=\"barcode\"; style=\"color: black; background-color: #fff2ec\">&nbsp.&nbsp</span><span class=\"barcode\"; style=\"color: black; background-color: #d01d1f\">&nbsp[SEP]&nbsp</span>"
      ],
      "text/plain": [
       "<IPython.core.display.HTML object>"
      ]
     },
     "metadata": {},
     "output_type": "display_data"
    },
    {
     "name": "stdout",
     "output_type": "stream",
     "text": [
      "Head 4\n"
     ]
    },
    {
     "data": {
      "text/html": [
       "<span class=\"barcode\"; style=\"color: black; background-color: #ffeee7\">&nbsp[CLS]&nbsp</span><span class=\"barcode\"; style=\"color: black; background-color: #ffefe8\">&nbspshe&nbsp</span><span class=\"barcode\"; style=\"color: black; background-color: #fff2eb\">&nbspare&nbsp</span><span class=\"barcode\"; style=\"color: black; background-color: #fff2eb\">&nbspgoing&nbsp</span><span class=\"barcode\"; style=\"color: black; background-color: #fff2ec\">&nbspto&nbsp</span><span class=\"barcode\"; style=\"color: black; background-color: #fff2ec\">&nbspthe&nbsp</span><span class=\"barcode\"; style=\"color: black; background-color: #fff0e8\">&nbsppark&nbsp</span><span class=\"barcode\"; style=\"color: black; background-color: #fee6da\">&nbsp.&nbsp</span><span class=\"barcode\"; style=\"color: black; background-color: #d42121\">&nbsp[SEP]&nbsp</span>"
      ],
      "text/plain": [
       "<IPython.core.display.HTML object>"
      ]
     },
     "metadata": {},
     "output_type": "display_data"
    },
    {
     "name": "stdout",
     "output_type": "stream",
     "text": [
      "Head 5\n"
     ]
    },
    {
     "data": {
      "text/html": [
       "<span class=\"barcode\"; style=\"color: black; background-color: #fed9c9\">&nbsp[CLS]&nbsp</span><span class=\"barcode\"; style=\"color: black; background-color: #ffece4\">&nbspshe&nbsp</span><span class=\"barcode\"; style=\"color: black; background-color: #fff2eb\">&nbspare&nbsp</span><span class=\"barcode\"; style=\"color: black; background-color: #fff4ee\">&nbspgoing&nbsp</span><span class=\"barcode\"; style=\"color: black; background-color: #fff3ed\">&nbspto&nbsp</span><span class=\"barcode\"; style=\"color: black; background-color: #fff4ef\">&nbspthe&nbsp</span><span class=\"barcode\"; style=\"color: black; background-color: #fff2ec\">&nbsppark&nbsp</span><span class=\"barcode\"; style=\"color: black; background-color: #fff0e8\">&nbsp.&nbsp</span><span class=\"barcode\"; style=\"color: black; background-color: #d92523\">&nbsp[SEP]&nbsp</span>"
      ],
      "text/plain": [
       "<IPython.core.display.HTML object>"
      ]
     },
     "metadata": {},
     "output_type": "display_data"
    },
    {
     "name": "stdout",
     "output_type": "stream",
     "text": [
      "Head 6\n"
     ]
    },
    {
     "data": {
      "text/html": [
       "<span class=\"barcode\"; style=\"color: black; background-color: #ffeee6\">&nbsp[CLS]&nbsp</span><span class=\"barcode\"; style=\"color: black; background-color: #fee6da\">&nbspshe&nbsp</span><span class=\"barcode\"; style=\"color: black; background-color: #fee8de\">&nbspare&nbsp</span><span class=\"barcode\"; style=\"color: black; background-color: #ffece3\">&nbspgoing&nbsp</span><span class=\"barcode\"; style=\"color: black; background-color: #ffefe8\">&nbspto&nbsp</span><span class=\"barcode\"; style=\"color: black; background-color: #fff2eb\">&nbspthe&nbsp</span><span class=\"barcode\"; style=\"color: black; background-color: #ffeee7\">&nbsppark&nbsp</span><span class=\"barcode\"; style=\"color: black; background-color: #ffefe8\">&nbsp.&nbsp</span><span class=\"barcode\"; style=\"color: black; background-color: #f24734\">&nbsp[SEP]&nbsp</span>"
      ],
      "text/plain": [
       "<IPython.core.display.HTML object>"
      ]
     },
     "metadata": {},
     "output_type": "display_data"
    },
    {
     "name": "stdout",
     "output_type": "stream",
     "text": [
      "Head 7\n"
     ]
    },
    {
     "data": {
      "text/html": [
       "<span class=\"barcode\"; style=\"color: black; background-color: #ffeee7\">&nbsp[CLS]&nbsp</span><span class=\"barcode\"; style=\"color: black; background-color: #fee2d5\">&nbspshe&nbsp</span><span class=\"barcode\"; style=\"color: black; background-color: #fee7dc\">&nbspare&nbsp</span><span class=\"barcode\"; style=\"color: black; background-color: #ffefe8\">&nbspgoing&nbsp</span><span class=\"barcode\"; style=\"color: black; background-color: #fff2ec\">&nbspto&nbsp</span><span class=\"barcode\"; style=\"color: black; background-color: #fff2eb\">&nbspthe&nbsp</span><span class=\"barcode\"; style=\"color: black; background-color: #fff0e8\">&nbsppark&nbsp</span><span class=\"barcode\"; style=\"color: black; background-color: #ffece4\">&nbsp.&nbsp</span><span class=\"barcode\"; style=\"color: black; background-color: #f14432\">&nbsp[SEP]&nbsp</span>"
      ],
      "text/plain": [
       "<IPython.core.display.HTML object>"
      ]
     },
     "metadata": {},
     "output_type": "display_data"
    },
    {
     "name": "stdout",
     "output_type": "stream",
     "text": [
      "Head 8\n"
     ]
    },
    {
     "data": {
      "text/html": [
       "<span class=\"barcode\"; style=\"color: black; background-color: #fff0e9\">&nbsp[CLS]&nbsp</span><span class=\"barcode\"; style=\"color: black; background-color: #fff1ea\">&nbspshe&nbsp</span><span class=\"barcode\"; style=\"color: black; background-color: #ffefe8\">&nbspare&nbsp</span><span class=\"barcode\"; style=\"color: black; background-color: #ffece3\">&nbspgoing&nbsp</span><span class=\"barcode\"; style=\"color: black; background-color: #fff3ed\">&nbspto&nbsp</span><span class=\"barcode\"; style=\"color: black; background-color: #fff4ee\">&nbspthe&nbsp</span><span class=\"barcode\"; style=\"color: black; background-color: #fff5f0\">&nbsppark&nbsp</span><span class=\"barcode\"; style=\"color: black; background-color: #fff3ed\">&nbsp.&nbsp</span><span class=\"barcode\"; style=\"color: black; background-color: #b71319\">&nbsp[SEP]&nbsp</span>"
      ],
      "text/plain": [
       "<IPython.core.display.HTML object>"
      ]
     },
     "metadata": {},
     "output_type": "display_data"
    },
    {
     "name": "stdout",
     "output_type": "stream",
     "text": [
      "Head 9\n"
     ]
    },
    {
     "data": {
      "text/html": [
       "<span class=\"barcode\"; style=\"color: black; background-color: #fff4ef\">&nbsp[CLS]&nbsp</span><span class=\"barcode\"; style=\"color: black; background-color: #fc9d7f\">&nbspshe&nbsp</span><span class=\"barcode\"; style=\"color: black; background-color: #fc9576\">&nbspare&nbsp</span><span class=\"barcode\"; style=\"color: black; background-color: #fedbcc\">&nbspgoing&nbsp</span><span class=\"barcode\"; style=\"color: black; background-color: #fff3ed\">&nbspto&nbsp</span><span class=\"barcode\"; style=\"color: black; background-color: #fff3ed\">&nbspthe&nbsp</span><span class=\"barcode\"; style=\"color: black; background-color: #fff5f0\">&nbsppark&nbsp</span><span class=\"barcode\"; style=\"color: black; background-color: #fee1d4\">&nbsp.&nbsp</span><span class=\"barcode\"; style=\"color: black; background-color: #fff5f0\">&nbsp[SEP]&nbsp</span>"
      ],
      "text/plain": [
       "<IPython.core.display.HTML object>"
      ]
     },
     "metadata": {},
     "output_type": "display_data"
    },
    {
     "name": "stdout",
     "output_type": "stream",
     "text": [
      "Head 10\n"
     ]
    },
    {
     "data": {
      "text/html": [
       "<span class=\"barcode\"; style=\"color: black; background-color: #fee0d2\">&nbsp[CLS]&nbsp</span><span class=\"barcode\"; style=\"color: black; background-color: #fcbda4\">&nbspshe&nbsp</span><span class=\"barcode\"; style=\"color: black; background-color: #ffeee6\">&nbspare&nbsp</span><span class=\"barcode\"; style=\"color: black; background-color: #feeae0\">&nbspgoing&nbsp</span><span class=\"barcode\"; style=\"color: black; background-color: #fee3d6\">&nbspto&nbsp</span><span class=\"barcode\"; style=\"color: black; background-color: #fedaca\">&nbspthe&nbsp</span><span class=\"barcode\"; style=\"color: black; background-color: #fff0e9\">&nbsppark&nbsp</span><span class=\"barcode\"; style=\"color: black; background-color: #ffeee6\">&nbsp.&nbsp</span><span class=\"barcode\"; style=\"color: black; background-color: #fdcebb\">&nbsp[SEP]&nbsp</span>"
      ],
      "text/plain": [
       "<IPython.core.display.HTML object>"
      ]
     },
     "metadata": {},
     "output_type": "display_data"
    },
    {
     "name": "stdout",
     "output_type": "stream",
     "text": [
      "Head 11\n"
     ]
    },
    {
     "data": {
      "text/html": [
       "<span class=\"barcode\"; style=\"color: black; background-color: #ffefe8\">&nbsp[CLS]&nbsp</span><span class=\"barcode\"; style=\"color: black; background-color: #fee7db\">&nbspshe&nbsp</span><span class=\"barcode\"; style=\"color: black; background-color: #fee6da\">&nbspare&nbsp</span><span class=\"barcode\"; style=\"color: black; background-color: #ffede5\">&nbspgoing&nbsp</span><span class=\"barcode\"; style=\"color: black; background-color: #fff0e8\">&nbspto&nbsp</span><span class=\"barcode\"; style=\"color: black; background-color: #fff1ea\">&nbspthe&nbsp</span><span class=\"barcode\"; style=\"color: black; background-color: #ffefe8\">&nbsppark&nbsp</span><span class=\"barcode\"; style=\"color: black; background-color: #fff0e9\">&nbsp.&nbsp</span><span class=\"barcode\"; style=\"color: black; background-color: #f14331\">&nbsp[SEP]&nbsp</span>"
      ],
      "text/plain": [
       "<IPython.core.display.HTML object>"
      ]
     },
     "metadata": {},
     "output_type": "display_data"
    },
    {
     "name": "stdout",
     "output_type": "stream",
     "text": [
      "Head 12\n"
     ]
    },
    {
     "data": {
      "text/html": [
       "<span class=\"barcode\"; style=\"color: black; background-color: #ffeee7\">&nbsp[CLS]&nbsp</span><span class=\"barcode\"; style=\"color: black; background-color: #fff5f0\">&nbspshe&nbsp</span><span class=\"barcode\"; style=\"color: black; background-color: #fff5f0\">&nbspare&nbsp</span><span class=\"barcode\"; style=\"color: black; background-color: #fff5f0\">&nbspgoing&nbsp</span><span class=\"barcode\"; style=\"color: black; background-color: #fff5f0\">&nbspto&nbsp</span><span class=\"barcode\"; style=\"color: black; background-color: #fff4ef\">&nbspthe&nbsp</span><span class=\"barcode\"; style=\"color: black; background-color: #fff4ef\">&nbsppark&nbsp</span><span class=\"barcode\"; style=\"color: black; background-color: #fff4ef\">&nbsp.&nbsp</span><span class=\"barcode\"; style=\"color: black; background-color: #880811\">&nbsp[SEP]&nbsp</span>"
      ],
      "text/plain": [
       "<IPython.core.display.HTML object>"
      ]
     },
     "metadata": {},
     "output_type": "display_data"
    },
    {
     "name": "stdout",
     "output_type": "stream",
     "text": [
      "\n",
      "Layer 11\n",
      "Head 1\n"
     ]
    },
    {
     "data": {
      "text/html": [
       "<span class=\"barcode\"; style=\"color: black; background-color: #fff2eb\">&nbsp[CLS]&nbsp</span><span class=\"barcode\"; style=\"color: black; background-color: #fdcbb6\">&nbspshe&nbsp</span><span class=\"barcode\"; style=\"color: black; background-color: #fcad90\">&nbspare&nbsp</span><span class=\"barcode\"; style=\"color: black; background-color: #fedccd\">&nbspgoing&nbsp</span><span class=\"barcode\"; style=\"color: black; background-color: #ffebe2\">&nbspto&nbsp</span><span class=\"barcode\"; style=\"color: black; background-color: #feeae0\">&nbspthe&nbsp</span><span class=\"barcode\"; style=\"color: black; background-color: #fff3ed\">&nbsppark&nbsp</span><span class=\"barcode\"; style=\"color: black; background-color: #fdc7b2\">&nbsp.&nbsp</span><span class=\"barcode\"; style=\"color: black; background-color: #fff5f0\">&nbsp[SEP]&nbsp</span>"
      ],
      "text/plain": [
       "<IPython.core.display.HTML object>"
      ]
     },
     "metadata": {},
     "output_type": "display_data"
    },
    {
     "name": "stdout",
     "output_type": "stream",
     "text": [
      "Head 2\n"
     ]
    },
    {
     "data": {
      "text/html": [
       "<span class=\"barcode\"; style=\"color: black; background-color: #ffeee7\">&nbsp[CLS]&nbsp</span><span class=\"barcode\"; style=\"color: black; background-color: #fc9e80\">&nbspshe&nbsp</span><span class=\"barcode\"; style=\"color: black; background-color: #fcbca2\">&nbspare&nbsp</span><span class=\"barcode\"; style=\"color: black; background-color: #fedaca\">&nbspgoing&nbsp</span><span class=\"barcode\"; style=\"color: black; background-color: #fff2ec\">&nbspto&nbsp</span><span class=\"barcode\"; style=\"color: black; background-color: #fff2ec\">&nbspthe&nbsp</span><span class=\"barcode\"; style=\"color: black; background-color: #fff2eb\">&nbsppark&nbsp</span><span class=\"barcode\"; style=\"color: black; background-color: #fedfd0\">&nbsp.&nbsp</span><span class=\"barcode\"; style=\"color: black; background-color: #ffefe8\">&nbsp[SEP]&nbsp</span>"
      ],
      "text/plain": [
       "<IPython.core.display.HTML object>"
      ]
     },
     "metadata": {},
     "output_type": "display_data"
    },
    {
     "name": "stdout",
     "output_type": "stream",
     "text": [
      "Head 3\n"
     ]
    },
    {
     "data": {
      "text/html": [
       "<span class=\"barcode\"; style=\"color: black; background-color: #fff1ea\">&nbsp[CLS]&nbsp</span><span class=\"barcode\"; style=\"color: black; background-color: #fcb79c\">&nbspshe&nbsp</span><span class=\"barcode\"; style=\"color: black; background-color: #fcc2aa\">&nbspare&nbsp</span><span class=\"barcode\"; style=\"color: black; background-color: #fcbba1\">&nbspgoing&nbsp</span><span class=\"barcode\"; style=\"color: black; background-color: #ffede5\">&nbspto&nbsp</span><span class=\"barcode\"; style=\"color: black; background-color: #ffede5\">&nbspthe&nbsp</span><span class=\"barcode\"; style=\"color: black; background-color: #fff4ee\">&nbsppark&nbsp</span><span class=\"barcode\"; style=\"color: black; background-color: #fee5d9\">&nbsp.&nbsp</span><span class=\"barcode\"; style=\"color: black; background-color: #fff1ea\">&nbsp[SEP]&nbsp</span>"
      ],
      "text/plain": [
       "<IPython.core.display.HTML object>"
      ]
     },
     "metadata": {},
     "output_type": "display_data"
    },
    {
     "name": "stdout",
     "output_type": "stream",
     "text": [
      "Head 4\n"
     ]
    },
    {
     "data": {
      "text/html": [
       "<span class=\"barcode\"; style=\"color: black; background-color: #fdc5ae\">&nbsp[CLS]&nbsp</span><span class=\"barcode\"; style=\"color: black; background-color: #fedecf\">&nbspshe&nbsp</span><span class=\"barcode\"; style=\"color: black; background-color: #fcc2aa\">&nbspare&nbsp</span><span class=\"barcode\"; style=\"color: black; background-color: #fee3d6\">&nbspgoing&nbsp</span><span class=\"barcode\"; style=\"color: black; background-color: #fee8dd\">&nbspto&nbsp</span><span class=\"barcode\"; style=\"color: black; background-color: #ffece3\">&nbspthe&nbsp</span><span class=\"barcode\"; style=\"color: black; background-color: #fff0e9\">&nbsppark&nbsp</span><span class=\"barcode\"; style=\"color: black; background-color: #fedfd0\">&nbsp.&nbsp</span><span class=\"barcode\"; style=\"color: black; background-color: #fff2ec\">&nbsp[SEP]&nbsp</span>"
      ],
      "text/plain": [
       "<IPython.core.display.HTML object>"
      ]
     },
     "metadata": {},
     "output_type": "display_data"
    },
    {
     "name": "stdout",
     "output_type": "stream",
     "text": [
      "Head 5\n"
     ]
    },
    {
     "data": {
      "text/html": [
       "<span class=\"barcode\"; style=\"color: black; background-color: #fee8dd\">&nbsp[CLS]&nbsp</span><span class=\"barcode\"; style=\"color: black; background-color: #fcbea5\">&nbspshe&nbsp</span><span class=\"barcode\"; style=\"color: black; background-color: #fcc4ad\">&nbspare&nbsp</span><span class=\"barcode\"; style=\"color: black; background-color: #fedbcc\">&nbspgoing&nbsp</span><span class=\"barcode\"; style=\"color: black; background-color: #ffebe2\">&nbspto&nbsp</span><span class=\"barcode\"; style=\"color: black; background-color: #ffebe2\">&nbspthe&nbsp</span><span class=\"barcode\"; style=\"color: black; background-color: #fff0e8\">&nbsppark&nbsp</span><span class=\"barcode\"; style=\"color: black; background-color: #fee2d5\">&nbsp.&nbsp</span><span class=\"barcode\"; style=\"color: black; background-color: #ffeee6\">&nbsp[SEP]&nbsp</span>"
      ],
      "text/plain": [
       "<IPython.core.display.HTML object>"
      ]
     },
     "metadata": {},
     "output_type": "display_data"
    },
    {
     "name": "stdout",
     "output_type": "stream",
     "text": [
      "Head 6\n"
     ]
    },
    {
     "data": {
      "text/html": [
       "<span class=\"barcode\"; style=\"color: black; background-color: #ffebe2\">&nbsp[CLS]&nbsp</span><span class=\"barcode\"; style=\"color: black; background-color: #fcb499\">&nbspshe&nbsp</span><span class=\"barcode\"; style=\"color: black; background-color: #fcb69b\">&nbspare&nbsp</span><span class=\"barcode\"; style=\"color: black; background-color: #fee7dc\">&nbspgoing&nbsp</span><span class=\"barcode\"; style=\"color: black; background-color: #ffefe8\">&nbspto&nbsp</span><span class=\"barcode\"; style=\"color: black; background-color: #feeae1\">&nbspthe&nbsp</span><span class=\"barcode\"; style=\"color: black; background-color: #ffeee6\">&nbsppark&nbsp</span><span class=\"barcode\"; style=\"color: black; background-color: #feeae0\">&nbsp.&nbsp</span><span class=\"barcode\"; style=\"color: black; background-color: #fee4d8\">&nbsp[SEP]&nbsp</span>"
      ],
      "text/plain": [
       "<IPython.core.display.HTML object>"
      ]
     },
     "metadata": {},
     "output_type": "display_data"
    },
    {
     "name": "stdout",
     "output_type": "stream",
     "text": [
      "Head 7\n"
     ]
    },
    {
     "data": {
      "text/html": [
       "<span class=\"barcode\"; style=\"color: black; background-color: #ffece3\">&nbsp[CLS]&nbsp</span><span class=\"barcode\"; style=\"color: black; background-color: #fcb398\">&nbspshe&nbsp</span><span class=\"barcode\"; style=\"color: black; background-color: #fdcdb9\">&nbspare&nbsp</span><span class=\"barcode\"; style=\"color: black; background-color: #fedaca\">&nbspgoing&nbsp</span><span class=\"barcode\"; style=\"color: black; background-color: #fff0e8\">&nbspto&nbsp</span><span class=\"barcode\"; style=\"color: black; background-color: #ffeee7\">&nbspthe&nbsp</span><span class=\"barcode\"; style=\"color: black; background-color: #fff2eb\">&nbsppark&nbsp</span><span class=\"barcode\"; style=\"color: black; background-color: #fcc4ad\">&nbsp.&nbsp</span><span class=\"barcode\"; style=\"color: black; background-color: #fff2ec\">&nbsp[SEP]&nbsp</span>"
      ],
      "text/plain": [
       "<IPython.core.display.HTML object>"
      ]
     },
     "metadata": {},
     "output_type": "display_data"
    },
    {
     "name": "stdout",
     "output_type": "stream",
     "text": [
      "Head 8\n"
     ]
    },
    {
     "data": {
      "text/html": [
       "<span class=\"barcode\"; style=\"color: black; background-color: #fcc3ab\">&nbsp[CLS]&nbsp</span><span class=\"barcode\"; style=\"color: black; background-color: #fee4d8\">&nbspshe&nbsp</span><span class=\"barcode\"; style=\"color: black; background-color: #fee1d4\">&nbspare&nbsp</span><span class=\"barcode\"; style=\"color: black; background-color: #feeae1\">&nbspgoing&nbsp</span><span class=\"barcode\"; style=\"color: black; background-color: #feeae1\">&nbspto&nbsp</span><span class=\"barcode\"; style=\"color: black; background-color: #ffebe2\">&nbspthe&nbsp</span><span class=\"barcode\"; style=\"color: black; background-color: #fee3d7\">&nbsppark&nbsp</span><span class=\"barcode\"; style=\"color: black; background-color: #ffede5\">&nbsp.&nbsp</span><span class=\"barcode\"; style=\"color: black; background-color: #fdc7b2\">&nbsp[SEP]&nbsp</span>"
      ],
      "text/plain": [
       "<IPython.core.display.HTML object>"
      ]
     },
     "metadata": {},
     "output_type": "display_data"
    },
    {
     "name": "stdout",
     "output_type": "stream",
     "text": [
      "Head 9\n"
     ]
    },
    {
     "data": {
      "text/html": [
       "<span class=\"barcode\"; style=\"color: black; background-color: #ffece3\">&nbsp[CLS]&nbsp</span><span class=\"barcode\"; style=\"color: black; background-color: #fdc7b2\">&nbspshe&nbsp</span><span class=\"barcode\"; style=\"color: black; background-color: #fcc2aa\">&nbspare&nbsp</span><span class=\"barcode\"; style=\"color: black; background-color: #fdccb8\">&nbspgoing&nbsp</span><span class=\"barcode\"; style=\"color: black; background-color: #ffeee6\">&nbspto&nbsp</span><span class=\"barcode\"; style=\"color: black; background-color: #ffece3\">&nbspthe&nbsp</span><span class=\"barcode\"; style=\"color: black; background-color: #fff3ed\">&nbsppark&nbsp</span><span class=\"barcode\"; style=\"color: black; background-color: #fed9c9\">&nbsp.&nbsp</span><span class=\"barcode\"; style=\"color: black; background-color: #ffece4\">&nbsp[SEP]&nbsp</span>"
      ],
      "text/plain": [
       "<IPython.core.display.HTML object>"
      ]
     },
     "metadata": {},
     "output_type": "display_data"
    },
    {
     "name": "stdout",
     "output_type": "stream",
     "text": [
      "Head 10\n"
     ]
    },
    {
     "data": {
      "text/html": [
       "<span class=\"barcode\"; style=\"color: black; background-color: #fdd5c4\">&nbsp[CLS]&nbsp</span><span class=\"barcode\"; style=\"color: black; background-color: #fcc2aa\">&nbspshe&nbsp</span><span class=\"barcode\"; style=\"color: black; background-color: #fdcab5\">&nbspare&nbsp</span><span class=\"barcode\"; style=\"color: black; background-color: #ffebe2\">&nbspgoing&nbsp</span><span class=\"barcode\"; style=\"color: black; background-color: #fff3ed\">&nbspto&nbsp</span><span class=\"barcode\"; style=\"color: black; background-color: #fff1ea\">&nbspthe&nbsp</span><span class=\"barcode\"; style=\"color: black; background-color: #fff2ec\">&nbsppark&nbsp</span><span class=\"barcode\"; style=\"color: black; background-color: #fdd1be\">&nbsp.&nbsp</span><span class=\"barcode\"; style=\"color: black; background-color: #fee3d6\">&nbsp[SEP]&nbsp</span>"
      ],
      "text/plain": [
       "<IPython.core.display.HTML object>"
      ]
     },
     "metadata": {},
     "output_type": "display_data"
    },
    {
     "name": "stdout",
     "output_type": "stream",
     "text": [
      "Head 11\n"
     ]
    },
    {
     "data": {
      "text/html": [
       "<span class=\"barcode\"; style=\"color: black; background-color: #ffeee6\">&nbsp[CLS]&nbsp</span><span class=\"barcode\"; style=\"color: black; background-color: #fdccb8\">&nbspshe&nbsp</span><span class=\"barcode\"; style=\"color: black; background-color: #fdc7b2\">&nbspare&nbsp</span><span class=\"barcode\"; style=\"color: black; background-color: #fcb398\">&nbspgoing&nbsp</span><span class=\"barcode\"; style=\"color: black; background-color: #fee1d4\">&nbspto&nbsp</span><span class=\"barcode\"; style=\"color: black; background-color: #fee8de\">&nbspthe&nbsp</span><span class=\"barcode\"; style=\"color: black; background-color: #fff2eb\">&nbsppark&nbsp</span><span class=\"barcode\"; style=\"color: black; background-color: #ffebe2\">&nbsp.&nbsp</span><span class=\"barcode\"; style=\"color: black; background-color: #fff5f0\">&nbsp[SEP]&nbsp</span>"
      ],
      "text/plain": [
       "<IPython.core.display.HTML object>"
      ]
     },
     "metadata": {},
     "output_type": "display_data"
    },
    {
     "name": "stdout",
     "output_type": "stream",
     "text": [
      "Head 12\n"
     ]
    },
    {
     "data": {
      "text/html": [
       "<span class=\"barcode\"; style=\"color: black; background-color: #fff0e8\">&nbsp[CLS]&nbsp</span><span class=\"barcode\"; style=\"color: black; background-color: #fedfd0\">&nbspshe&nbsp</span><span class=\"barcode\"; style=\"color: black; background-color: #fdd1be\">&nbspare&nbsp</span><span class=\"barcode\"; style=\"color: black; background-color: #fee0d2\">&nbspgoing&nbsp</span><span class=\"barcode\"; style=\"color: black; background-color: #fee5d9\">&nbspto&nbsp</span><span class=\"barcode\"; style=\"color: black; background-color: #fee5d9\">&nbspthe&nbsp</span><span class=\"barcode\"; style=\"color: black; background-color: #fee5d8\">&nbsppark&nbsp</span><span class=\"barcode\"; style=\"color: black; background-color: #ffede5\">&nbsp.&nbsp</span><span class=\"barcode\"; style=\"color: black; background-color: #fdcbb6\">&nbsp[SEP]&nbsp</span>"
      ],
      "text/plain": [
       "<IPython.core.display.HTML object>"
      ]
     },
     "metadata": {},
     "output_type": "display_data"
    },
    {
     "name": "stdout",
     "output_type": "stream",
     "text": [
      "\n",
      "Layer 12\n",
      "Head 1\n"
     ]
    },
    {
     "data": {
      "text/html": [
       "<span class=\"barcode\"; style=\"color: black; background-color: #fee1d4\">&nbsp[CLS]&nbsp</span><span class=\"barcode\"; style=\"color: black; background-color: #fed8c7\">&nbspshe&nbsp</span><span class=\"barcode\"; style=\"color: black; background-color: #fdc9b3\">&nbspare&nbsp</span><span class=\"barcode\"; style=\"color: black; background-color: #fee5d8\">&nbspgoing&nbsp</span><span class=\"barcode\"; style=\"color: black; background-color: #fee4d8\">&nbspto&nbsp</span><span class=\"barcode\"; style=\"color: black; background-color: #fee7dc\">&nbspthe&nbsp</span><span class=\"barcode\"; style=\"color: black; background-color: #ffeee6\">&nbsppark&nbsp</span><span class=\"barcode\"; style=\"color: black; background-color: #fedfd0\">&nbsp.&nbsp</span><span class=\"barcode\"; style=\"color: black; background-color: #ffece3\">&nbsp[SEP]&nbsp</span>"
      ],
      "text/plain": [
       "<IPython.core.display.HTML object>"
      ]
     },
     "metadata": {},
     "output_type": "display_data"
    },
    {
     "name": "stdout",
     "output_type": "stream",
     "text": [
      "Head 2\n"
     ]
    },
    {
     "data": {
      "text/html": [
       "<span class=\"barcode\"; style=\"color: black; background-color: #feeae1\">&nbsp[CLS]&nbsp</span><span class=\"barcode\"; style=\"color: black; background-color: #fdd4c2\">&nbspshe&nbsp</span><span class=\"barcode\"; style=\"color: black; background-color: #fcbca2\">&nbspare&nbsp</span><span class=\"barcode\"; style=\"color: black; background-color: #fed9c9\">&nbspgoing&nbsp</span><span class=\"barcode\"; style=\"color: black; background-color: #ffede5\">&nbspto&nbsp</span><span class=\"barcode\"; style=\"color: black; background-color: #feeae0\">&nbspthe&nbsp</span><span class=\"barcode\"; style=\"color: black; background-color: #ffece4\">&nbsppark&nbsp</span><span class=\"barcode\"; style=\"color: black; background-color: #fee5d8\">&nbsp.&nbsp</span><span class=\"barcode\"; style=\"color: black; background-color: #fee4d8\">&nbsp[SEP]&nbsp</span>"
      ],
      "text/plain": [
       "<IPython.core.display.HTML object>"
      ]
     },
     "metadata": {},
     "output_type": "display_data"
    },
    {
     "name": "stdout",
     "output_type": "stream",
     "text": [
      "Head 3\n"
     ]
    },
    {
     "data": {
      "text/html": [
       "<span class=\"barcode\"; style=\"color: black; background-color: #fee8dd\">&nbsp[CLS]&nbsp</span><span class=\"barcode\"; style=\"color: black; background-color: #fdd5c4\">&nbspshe&nbsp</span><span class=\"barcode\"; style=\"color: black; background-color: #fedfd0\">&nbspare&nbsp</span><span class=\"barcode\"; style=\"color: black; background-color: #fedfd0\">&nbspgoing&nbsp</span><span class=\"barcode\"; style=\"color: black; background-color: #feeae1\">&nbspto&nbsp</span><span class=\"barcode\"; style=\"color: black; background-color: #fee0d2\">&nbspthe&nbsp</span><span class=\"barcode\"; style=\"color: black; background-color: #fff1ea\">&nbsppark&nbsp</span><span class=\"barcode\"; style=\"color: black; background-color: #fee4d8\">&nbsp.&nbsp</span><span class=\"barcode\"; style=\"color: black; background-color: #fdd2bf\">&nbsp[SEP]&nbsp</span>"
      ],
      "text/plain": [
       "<IPython.core.display.HTML object>"
      ]
     },
     "metadata": {},
     "output_type": "display_data"
    },
    {
     "name": "stdout",
     "output_type": "stream",
     "text": [
      "Head 4\n"
     ]
    },
    {
     "data": {
      "text/html": [
       "<span class=\"barcode\"; style=\"color: black; background-color: #fee7dc\">&nbsp[CLS]&nbsp</span><span class=\"barcode\"; style=\"color: black; background-color: #fdcebb\">&nbspshe&nbsp</span><span class=\"barcode\"; style=\"color: black; background-color: #fdd0bc\">&nbspare&nbsp</span><span class=\"barcode\"; style=\"color: black; background-color: #fedfd0\">&nbspgoing&nbsp</span><span class=\"barcode\"; style=\"color: black; background-color: #fee5d8\">&nbspto&nbsp</span><span class=\"barcode\"; style=\"color: black; background-color: #fee7db\">&nbspthe&nbsp</span><span class=\"barcode\"; style=\"color: black; background-color: #feeae1\">&nbsppark&nbsp</span><span class=\"barcode\"; style=\"color: black; background-color: #fee3d6\">&nbsp.&nbsp</span><span class=\"barcode\"; style=\"color: black; background-color: #ffece3\">&nbsp[SEP]&nbsp</span>"
      ],
      "text/plain": [
       "<IPython.core.display.HTML object>"
      ]
     },
     "metadata": {},
     "output_type": "display_data"
    },
    {
     "name": "stdout",
     "output_type": "stream",
     "text": [
      "Head 5\n"
     ]
    },
    {
     "data": {
      "text/html": [
       "<span class=\"barcode\"; style=\"color: black; background-color: #fee7db\">&nbsp[CLS]&nbsp</span><span class=\"barcode\"; style=\"color: black; background-color: #fdd2bf\">&nbspshe&nbsp</span><span class=\"barcode\"; style=\"color: black; background-color: #fdd5c4\">&nbspare&nbsp</span><span class=\"barcode\"; style=\"color: black; background-color: #fdd7c6\">&nbspgoing&nbsp</span><span class=\"barcode\"; style=\"color: black; background-color: #fee8dd\">&nbspto&nbsp</span><span class=\"barcode\"; style=\"color: black; background-color: #fee5d9\">&nbspthe&nbsp</span><span class=\"barcode\"; style=\"color: black; background-color: #ffeee6\">&nbsppark&nbsp</span><span class=\"barcode\"; style=\"color: black; background-color: #fedaca\">&nbsp.&nbsp</span><span class=\"barcode\"; style=\"color: black; background-color: #ffede5\">&nbsp[SEP]&nbsp</span>"
      ],
      "text/plain": [
       "<IPython.core.display.HTML object>"
      ]
     },
     "metadata": {},
     "output_type": "display_data"
    },
    {
     "name": "stdout",
     "output_type": "stream",
     "text": [
      "Head 6\n"
     ]
    },
    {
     "data": {
      "text/html": [
       "<span class=\"barcode\"; style=\"color: black; background-color: #fee8de\">&nbsp[CLS]&nbsp</span><span class=\"barcode\"; style=\"color: black; background-color: #fdcab5\">&nbspshe&nbsp</span><span class=\"barcode\"; style=\"color: black; background-color: #fdcdb9\">&nbspare&nbsp</span><span class=\"barcode\"; style=\"color: black; background-color: #fed9c9\">&nbspgoing&nbsp</span><span class=\"barcode\"; style=\"color: black; background-color: #ffede5\">&nbspto&nbsp</span><span class=\"barcode\"; style=\"color: black; background-color: #feeae1\">&nbspthe&nbsp</span><span class=\"barcode\"; style=\"color: black; background-color: #fee9df\">&nbsppark&nbsp</span><span class=\"barcode\"; style=\"color: black; background-color: #fee1d4\">&nbsp.&nbsp</span><span class=\"barcode\"; style=\"color: black; background-color: #fee8de\">&nbsp[SEP]&nbsp</span>"
      ],
      "text/plain": [
       "<IPython.core.display.HTML object>"
      ]
     },
     "metadata": {},
     "output_type": "display_data"
    },
    {
     "name": "stdout",
     "output_type": "stream",
     "text": [
      "Head 7\n"
     ]
    },
    {
     "data": {
      "text/html": [
       "<span class=\"barcode\"; style=\"color: black; background-color: #fee1d3\">&nbsp[CLS]&nbsp</span><span class=\"barcode\"; style=\"color: black; background-color: #fedbcc\">&nbspshe&nbsp</span><span class=\"barcode\"; style=\"color: black; background-color: #fdc9b3\">&nbspare&nbsp</span><span class=\"barcode\"; style=\"color: black; background-color: #fee0d2\">&nbspgoing&nbsp</span><span class=\"barcode\"; style=\"color: black; background-color: #fee7dc\">&nbspto&nbsp</span><span class=\"barcode\"; style=\"color: black; background-color: #ffece3\">&nbspthe&nbsp</span><span class=\"barcode\"; style=\"color: black; background-color: #feeae1\">&nbsppark&nbsp</span><span class=\"barcode\"; style=\"color: black; background-color: #fee1d3\">&nbsp.&nbsp</span><span class=\"barcode\"; style=\"color: black; background-color: #fee8de\">&nbsp[SEP]&nbsp</span>"
      ],
      "text/plain": [
       "<IPython.core.display.HTML object>"
      ]
     },
     "metadata": {},
     "output_type": "display_data"
    },
    {
     "name": "stdout",
     "output_type": "stream",
     "text": [
      "Head 8\n"
     ]
    },
    {
     "data": {
      "text/html": [
       "<span class=\"barcode\"; style=\"color: black; background-color: #fedfd0\">&nbsp[CLS]&nbsp</span><span class=\"barcode\"; style=\"color: black; background-color: #fdcdb9\">&nbspshe&nbsp</span><span class=\"barcode\"; style=\"color: black; background-color: #fdcbb6\">&nbspare&nbsp</span><span class=\"barcode\"; style=\"color: black; background-color: #fee4d8\">&nbspgoing&nbsp</span><span class=\"barcode\"; style=\"color: black; background-color: #fff0e8\">&nbspto&nbsp</span><span class=\"barcode\"; style=\"color: black; background-color: #ffece3\">&nbspthe&nbsp</span><span class=\"barcode\"; style=\"color: black; background-color: #ffeee6\">&nbsppark&nbsp</span><span class=\"barcode\"; style=\"color: black; background-color: #fee5d9\">&nbsp.&nbsp</span><span class=\"barcode\"; style=\"color: black; background-color: #fdd7c6\">&nbsp[SEP]&nbsp</span>"
      ],
      "text/plain": [
       "<IPython.core.display.HTML object>"
      ]
     },
     "metadata": {},
     "output_type": "display_data"
    },
    {
     "name": "stdout",
     "output_type": "stream",
     "text": [
      "Head 9\n"
     ]
    },
    {
     "data": {
      "text/html": [
       "<span class=\"barcode\"; style=\"color: black; background-color: #ffece3\">&nbsp[CLS]&nbsp</span><span class=\"barcode\"; style=\"color: black; background-color: #fdcbb6\">&nbspshe&nbsp</span><span class=\"barcode\"; style=\"color: black; background-color: #fcb499\">&nbspare&nbsp</span><span class=\"barcode\"; style=\"color: black; background-color: #fedecf\">&nbspgoing&nbsp</span><span class=\"barcode\"; style=\"color: black; background-color: #fee9df\">&nbspto&nbsp</span><span class=\"barcode\"; style=\"color: black; background-color: #ffeee7\">&nbspthe&nbsp</span><span class=\"barcode\"; style=\"color: black; background-color: #feeae1\">&nbsppark&nbsp</span><span class=\"barcode\"; style=\"color: black; background-color: #fee3d6\">&nbsp.&nbsp</span><span class=\"barcode\"; style=\"color: black; background-color: #ffeee6\">&nbsp[SEP]&nbsp</span>"
      ],
      "text/plain": [
       "<IPython.core.display.HTML object>"
      ]
     },
     "metadata": {},
     "output_type": "display_data"
    },
    {
     "name": "stdout",
     "output_type": "stream",
     "text": [
      "Head 10\n"
     ]
    },
    {
     "data": {
      "text/html": [
       "<span class=\"barcode\"; style=\"color: black; background-color: #fdd7c6\">&nbsp[CLS]&nbsp</span><span class=\"barcode\"; style=\"color: black; background-color: #fee1d3\">&nbspshe&nbsp</span><span class=\"barcode\"; style=\"color: black; background-color: #fdd7c6\">&nbspare&nbsp</span><span class=\"barcode\"; style=\"color: black; background-color: #fdd5c4\">&nbspgoing&nbsp</span><span class=\"barcode\"; style=\"color: black; background-color: #fee8dd\">&nbspto&nbsp</span><span class=\"barcode\"; style=\"color: black; background-color: #fee4d8\">&nbspthe&nbsp</span><span class=\"barcode\"; style=\"color: black; background-color: #fff0e8\">&nbsppark&nbsp</span><span class=\"barcode\"; style=\"color: black; background-color: #fee1d4\">&nbsp.&nbsp</span><span class=\"barcode\"; style=\"color: black; background-color: #feeae1\">&nbsp[SEP]&nbsp</span>"
      ],
      "text/plain": [
       "<IPython.core.display.HTML object>"
      ]
     },
     "metadata": {},
     "output_type": "display_data"
    },
    {
     "name": "stdout",
     "output_type": "stream",
     "text": [
      "Head 11\n"
     ]
    },
    {
     "data": {
      "text/html": [
       "<span class=\"barcode\"; style=\"color: black; background-color: #ffeee6\">&nbsp[CLS]&nbsp</span><span class=\"barcode\"; style=\"color: black; background-color: #fdcdb9\">&nbspshe&nbsp</span><span class=\"barcode\"; style=\"color: black; background-color: #fdd4c2\">&nbspare&nbsp</span><span class=\"barcode\"; style=\"color: black; background-color: #fdd4c2\">&nbspgoing&nbsp</span><span class=\"barcode\"; style=\"color: black; background-color: #fee7dc\">&nbspto&nbsp</span><span class=\"barcode\"; style=\"color: black; background-color: #fee5d9\">&nbspthe&nbsp</span><span class=\"barcode\"; style=\"color: black; background-color: #fff1ea\">&nbsppark&nbsp</span><span class=\"barcode\"; style=\"color: black; background-color: #fed9c9\">&nbsp.&nbsp</span><span class=\"barcode\"; style=\"color: black; background-color: #fee8dd\">&nbsp[SEP]&nbsp</span>"
      ],
      "text/plain": [
       "<IPython.core.display.HTML object>"
      ]
     },
     "metadata": {},
     "output_type": "display_data"
    },
    {
     "name": "stdout",
     "output_type": "stream",
     "text": [
      "Head 12\n"
     ]
    },
    {
     "data": {
      "text/html": [
       "<span class=\"barcode\"; style=\"color: black; background-color: #feeae0\">&nbsp[CLS]&nbsp</span><span class=\"barcode\"; style=\"color: black; background-color: #fdd3c1\">&nbspshe&nbsp</span><span class=\"barcode\"; style=\"color: black; background-color: #fedecf\">&nbspare&nbsp</span><span class=\"barcode\"; style=\"color: black; background-color: #fdd4c2\">&nbspgoing&nbsp</span><span class=\"barcode\"; style=\"color: black; background-color: #fee4d8\">&nbspto&nbsp</span><span class=\"barcode\"; style=\"color: black; background-color: #fee5d8\">&nbspthe&nbsp</span><span class=\"barcode\"; style=\"color: black; background-color: #ffece4\">&nbsppark&nbsp</span><span class=\"barcode\"; style=\"color: black; background-color: #fee7db\">&nbsp.&nbsp</span><span class=\"barcode\"; style=\"color: black; background-color: #fee3d6\">&nbsp[SEP]&nbsp</span>"
      ],
      "text/plain": [
       "<IPython.core.display.HTML object>"
      ]
     },
     "metadata": {},
     "output_type": "display_data"
    }
   ],
   "source": [
    "# Visualize the attention heatmaps for the CLS token\n",
    "tokens = bert_tokenizer.convert_ids_to_tokens(inputs.detach().cpu().numpy()[0])\n",
    "for l in range(12):\n",
    "  print(\"\\nLayer\", l+1)\n",
    "  attention = np.squeeze(attentions[l].detach().cpu().numpy(), axis=0)\n",
    "  cls_attentions = []\n",
    "  for h, head in enumerate(attention):\n",
    "    print(\"Head\", h+1)\n",
    "    # Get the attention for the cls token\n",
    "    cls_attentions = head[0]\n",
    "    display(HTML(colorize(tokens, cls_attentions)))"
   ]
  },
  {
   "cell_type": "code",
   "execution_count": 96,
   "metadata": {},
   "outputs": [
    {
     "name": "stdout",
     "output_type": "stream",
     "text": [
      "\n",
      "Layer 1\n",
      "Head 1\n"
     ]
    },
    {
     "data": {
      "text/html": [
       "<span class=\"barcode\"; style=\"color: black; background-color: #fc997a\">&nbsp[CLS]&nbsp</span><span class=\"barcode\"; style=\"color: black; background-color: #fedbcc\">&nbspshe&nbsp</span><span class=\"barcode\"; style=\"color: black; background-color: #fcb89e\">&nbspare&nbsp</span><span class=\"barcode\"; style=\"color: black; background-color: #fdcbb6\">&nbspgoing&nbsp</span><span class=\"barcode\"; style=\"color: black; background-color: #fb694a\">&nbspto&nbsp</span><span class=\"barcode\"; style=\"color: black; background-color: #e53228\">&nbspthe&nbsp</span><span class=\"barcode\"; style=\"color: black; background-color: #fcbda4\">&nbsppark&nbsp</span><span class=\"barcode\"; style=\"color: black; background-color: #fb7252\">&nbsp.&nbsp</span><span class=\"barcode\"; style=\"color: black; background-color: #f44f39\">&nbsp[SEP]&nbsp</span>"
      ],
      "text/plain": [
       "<IPython.core.display.HTML object>"
      ]
     },
     "metadata": {},
     "output_type": "display_data"
    },
    {
     "name": "stdout",
     "output_type": "stream",
     "text": [
      "Head 2\n"
     ]
    },
    {
     "data": {
      "text/html": [
       "<span class=\"barcode\"; style=\"color: black; background-color: #ad1117\">&nbsp[CLS]&nbsp</span><span class=\"barcode\"; style=\"color: black; background-color: #ffefe8\">&nbspshe&nbsp</span><span class=\"barcode\"; style=\"color: black; background-color: #fff0e8\">&nbspare&nbsp</span><span class=\"barcode\"; style=\"color: black; background-color: #fff3ed\">&nbspgoing&nbsp</span><span class=\"barcode\"; style=\"color: black; background-color: #67000d\">&nbspto&nbsp</span><span class=\"barcode\"; style=\"color: black; background-color: #ffede5\">&nbspthe&nbsp</span><span class=\"barcode\"; style=\"color: black; background-color: #fff3ed\">&nbsppark&nbsp</span><span class=\"barcode\"; style=\"color: black; background-color: #fee7db\">&nbsp.&nbsp</span><span class=\"barcode\"; style=\"color: black; background-color: #fff3ed\">&nbsp[SEP]&nbsp</span>"
      ],
      "text/plain": [
       "<IPython.core.display.HTML object>"
      ]
     },
     "metadata": {},
     "output_type": "display_data"
    },
    {
     "name": "stdout",
     "output_type": "stream",
     "text": [
      "Head 3\n"
     ]
    },
    {
     "data": {
      "text/html": [
       "<span class=\"barcode\"; style=\"color: black; background-color: #fb7555\">&nbsp[CLS]&nbsp</span><span class=\"barcode\"; style=\"color: black; background-color: #fedbcc\">&nbspshe&nbsp</span><span class=\"barcode\"; style=\"color: black; background-color: #fee5d8\">&nbspare&nbsp</span><span class=\"barcode\"; style=\"color: black; background-color: #feeae1\">&nbspgoing&nbsp</span><span class=\"barcode\"; style=\"color: black; background-color: #fee0d2\">&nbspto&nbsp</span><span class=\"barcode\"; style=\"color: black; background-color: #fedfd0\">&nbspthe&nbsp</span><span class=\"barcode\"; style=\"color: black; background-color: #ffede5\">&nbsppark&nbsp</span><span class=\"barcode\"; style=\"color: black; background-color: #fdd0bc\">&nbsp.&nbsp</span><span class=\"barcode\"; style=\"color: black; background-color: #fcc1a8\">&nbsp[SEP]&nbsp</span>"
      ],
      "text/plain": [
       "<IPython.core.display.HTML object>"
      ]
     },
     "metadata": {},
     "output_type": "display_data"
    },
    {
     "name": "stdout",
     "output_type": "stream",
     "text": [
      "Head 4\n"
     ]
    },
    {
     "data": {
      "text/html": [
       "<span class=\"barcode\"; style=\"color: black; background-color: #f03f2e\">&nbsp[CLS]&nbsp</span><span class=\"barcode\"; style=\"color: black; background-color: #fcc4ad\">&nbspshe&nbsp</span><span class=\"barcode\"; style=\"color: black; background-color: #fdd7c6\">&nbspare&nbsp</span><span class=\"barcode\"; style=\"color: black; background-color: #fed8c7\">&nbspgoing&nbsp</span><span class=\"barcode\"; style=\"color: black; background-color: #fdcebb\">&nbspto&nbsp</span><span class=\"barcode\"; style=\"color: black; background-color: #fee4d8\">&nbspthe&nbsp</span><span class=\"barcode\"; style=\"color: black; background-color: #ffece3\">&nbsppark&nbsp</span><span class=\"barcode\"; style=\"color: black; background-color: #fee5d8\">&nbsp.&nbsp</span><span class=\"barcode\"; style=\"color: black; background-color: #fee1d4\">&nbsp[SEP]&nbsp</span>"
      ],
      "text/plain": [
       "<IPython.core.display.HTML object>"
      ]
     },
     "metadata": {},
     "output_type": "display_data"
    },
    {
     "name": "stdout",
     "output_type": "stream",
     "text": [
      "Head 5\n"
     ]
    },
    {
     "data": {
      "text/html": [
       "<span class=\"barcode\"; style=\"color: black; background-color: #67000d\">&nbsp[CLS]&nbsp</span><span class=\"barcode\"; style=\"color: black; background-color: #fee5d8\">&nbspshe&nbsp</span><span class=\"barcode\"; style=\"color: black; background-color: #fee2d5\">&nbspare&nbsp</span><span class=\"barcode\"; style=\"color: black; background-color: #fee0d2\">&nbspgoing&nbsp</span><span class=\"barcode\"; style=\"color: black; background-color: #fdd0bc\">&nbspto&nbsp</span><span class=\"barcode\"; style=\"color: black; background-color: #fee6da\">&nbspthe&nbsp</span><span class=\"barcode\"; style=\"color: black; background-color: #fdcbb6\">&nbsppark&nbsp</span><span class=\"barcode\"; style=\"color: black; background-color: #fedaca\">&nbsp.&nbsp</span><span class=\"barcode\"; style=\"color: black; background-color: #fc8e6e\">&nbsp[SEP]&nbsp</span>"
      ],
      "text/plain": [
       "<IPython.core.display.HTML object>"
      ]
     },
     "metadata": {},
     "output_type": "display_data"
    },
    {
     "name": "stdout",
     "output_type": "stream",
     "text": [
      "Head 6\n"
     ]
    },
    {
     "data": {
      "text/html": [
       "<span class=\"barcode\"; style=\"color: black; background-color: #fc8969\">&nbsp[CLS]&nbsp</span><span class=\"barcode\"; style=\"color: black; background-color: #fcb499\">&nbspshe&nbsp</span><span class=\"barcode\"; style=\"color: black; background-color: #feeae1\">&nbspare&nbsp</span><span class=\"barcode\"; style=\"color: black; background-color: #ffeee7\">&nbspgoing&nbsp</span><span class=\"barcode\"; style=\"color: black; background-color: #feeae0\">&nbspto&nbsp</span><span class=\"barcode\"; style=\"color: black; background-color: #fee1d4\">&nbspthe&nbsp</span><span class=\"barcode\"; style=\"color: black; background-color: #ffede5\">&nbsppark&nbsp</span><span class=\"barcode\"; style=\"color: black; background-color: #67000d\">&nbsp.&nbsp</span><span class=\"barcode\"; style=\"color: black; background-color: #fed9c9\">&nbsp[SEP]&nbsp</span>"
      ],
      "text/plain": [
       "<IPython.core.display.HTML object>"
      ]
     },
     "metadata": {},
     "output_type": "display_data"
    },
    {
     "name": "stdout",
     "output_type": "stream",
     "text": [
      "Head 7\n"
     ]
    },
    {
     "data": {
      "text/html": [
       "<span class=\"barcode\"; style=\"color: black; background-color: #fc9b7c\">&nbsp[CLS]&nbsp</span><span class=\"barcode\"; style=\"color: black; background-color: #fff4ef\">&nbspshe&nbsp</span><span class=\"barcode\"; style=\"color: black; background-color: #fff2eb\">&nbspare&nbsp</span><span class=\"barcode\"; style=\"color: black; background-color: #fff4ef\">&nbspgoing&nbsp</span><span class=\"barcode\"; style=\"color: black; background-color: #fee8de\">&nbspto&nbsp</span><span class=\"barcode\"; style=\"color: black; background-color: #67000d\">&nbspthe&nbsp</span><span class=\"barcode\"; style=\"color: black; background-color: #ffeee7\">&nbsppark&nbsp</span><span class=\"barcode\"; style=\"color: black; background-color: #ffeee7\">&nbsp.&nbsp</span><span class=\"barcode\"; style=\"color: black; background-color: #fff4ee\">&nbsp[SEP]&nbsp</span>"
      ],
      "text/plain": [
       "<IPython.core.display.HTML object>"
      ]
     },
     "metadata": {},
     "output_type": "display_data"
    },
    {
     "name": "stdout",
     "output_type": "stream",
     "text": [
      "Head 8\n"
     ]
    },
    {
     "data": {
      "text/html": [
       "<span class=\"barcode\"; style=\"color: black; background-color: #cf1c1f\">&nbsp[CLS]&nbsp</span><span class=\"barcode\"; style=\"color: black; background-color: #fcb89e\">&nbspshe&nbsp</span><span class=\"barcode\"; style=\"color: black; background-color: #fee6da\">&nbspare&nbsp</span><span class=\"barcode\"; style=\"color: black; background-color: #ffece4\">&nbspgoing&nbsp</span><span class=\"barcode\"; style=\"color: black; background-color: #fee5d9\">&nbspto&nbsp</span><span class=\"barcode\"; style=\"color: black; background-color: #fff5f0\">&nbspthe&nbsp</span><span class=\"barcode\"; style=\"color: black; background-color: #feeae0\">&nbsppark&nbsp</span><span class=\"barcode\"; style=\"color: black; background-color: #f5523a\">&nbsp.&nbsp</span><span class=\"barcode\"; style=\"color: black; background-color: #ce1a1e\">&nbsp[SEP]&nbsp</span>"
      ],
      "text/plain": [
       "<IPython.core.display.HTML object>"
      ]
     },
     "metadata": {},
     "output_type": "display_data"
    },
    {
     "name": "stdout",
     "output_type": "stream",
     "text": [
      "Head 9\n"
     ]
    },
    {
     "data": {
      "text/html": [
       "<span class=\"barcode\"; style=\"color: black; background-color: #67000d\">&nbsp[CLS]&nbsp</span><span class=\"barcode\"; style=\"color: black; background-color: #ffeee7\">&nbspshe&nbsp</span><span class=\"barcode\"; style=\"color: black; background-color: #fff0e9\">&nbspare&nbsp</span><span class=\"barcode\"; style=\"color: black; background-color: #feeae1\">&nbspgoing&nbsp</span><span class=\"barcode\"; style=\"color: black; background-color: #fedccd\">&nbspto&nbsp</span><span class=\"barcode\"; style=\"color: black; background-color: #67000d\">&nbspthe&nbsp</span><span class=\"barcode\"; style=\"color: black; background-color: #fdd7c6\">&nbsppark&nbsp</span><span class=\"barcode\"; style=\"color: black; background-color: #ffece4\">&nbsp.&nbsp</span><span class=\"barcode\"; style=\"color: black; background-color: #feeae0\">&nbsp[SEP]&nbsp</span>"
      ],
      "text/plain": [
       "<IPython.core.display.HTML object>"
      ]
     },
     "metadata": {},
     "output_type": "display_data"
    },
    {
     "name": "stdout",
     "output_type": "stream",
     "text": [
      "Head 10\n"
     ]
    },
    {
     "data": {
      "text/html": [
       "<span class=\"barcode\"; style=\"color: black; background-color: #fdd0bc\">&nbsp[CLS]&nbsp</span><span class=\"barcode\"; style=\"color: black; background-color: #cc191e\">&nbspshe&nbsp</span><span class=\"barcode\"; style=\"color: black; background-color: #fca78b\">&nbspare&nbsp</span><span class=\"barcode\"; style=\"color: black; background-color: #fca183\">&nbspgoing&nbsp</span><span class=\"barcode\"; style=\"color: black; background-color: #67000d\">&nbspto&nbsp</span><span class=\"barcode\"; style=\"color: black; background-color: #e63328\">&nbspthe&nbsp</span><span class=\"barcode\"; style=\"color: black; background-color: #fcad90\">&nbsppark&nbsp</span><span class=\"barcode\"; style=\"color: black; background-color: #fc9272\">&nbsp.&nbsp</span><span class=\"barcode\"; style=\"color: black; background-color: #fdd1be\">&nbsp[SEP]&nbsp</span>"
      ],
      "text/plain": [
       "<IPython.core.display.HTML object>"
      ]
     },
     "metadata": {},
     "output_type": "display_data"
    },
    {
     "name": "stdout",
     "output_type": "stream",
     "text": [
      "Head 11\n"
     ]
    },
    {
     "data": {
      "text/html": [
       "<span class=\"barcode\"; style=\"color: black; background-color: #800610\">&nbsp[CLS]&nbsp</span><span class=\"barcode\"; style=\"color: black; background-color: #fdd0bc\">&nbspshe&nbsp</span><span class=\"barcode\"; style=\"color: black; background-color: #fee0d2\">&nbspare&nbsp</span><span class=\"barcode\"; style=\"color: black; background-color: #ffebe2\">&nbspgoing&nbsp</span><span class=\"barcode\"; style=\"color: black; background-color: #fedecf\">&nbspto&nbsp</span><span class=\"barcode\"; style=\"color: black; background-color: #fdd7c6\">&nbspthe&nbsp</span><span class=\"barcode\"; style=\"color: black; background-color: #fdd1be\">&nbsppark&nbsp</span><span class=\"barcode\"; style=\"color: black; background-color: #fedfd0\">&nbsp.&nbsp</span><span class=\"barcode\"; style=\"color: black; background-color: #fee5d9\">&nbsp[SEP]&nbsp</span>"
      ],
      "text/plain": [
       "<IPython.core.display.HTML object>"
      ]
     },
     "metadata": {},
     "output_type": "display_data"
    },
    {
     "name": "stdout",
     "output_type": "stream",
     "text": [
      "Head 12\n"
     ]
    },
    {
     "data": {
      "text/html": [
       "<span class=\"barcode\"; style=\"color: black; background-color: #e12d26\">&nbsp[CLS]&nbsp</span><span class=\"barcode\"; style=\"color: black; background-color: #fff1ea\">&nbspshe&nbsp</span><span class=\"barcode\"; style=\"color: black; background-color: #fff4ee\">&nbspare&nbsp</span><span class=\"barcode\"; style=\"color: black; background-color: #fff2eb\">&nbspgoing&nbsp</span><span class=\"barcode\"; style=\"color: black; background-color: #ffefe8\">&nbspto&nbsp</span><span class=\"barcode\"; style=\"color: black; background-color: #f85f43\">&nbspthe&nbsp</span><span class=\"barcode\"; style=\"color: black; background-color: #fff5f0\">&nbsppark&nbsp</span><span class=\"barcode\"; style=\"color: black; background-color: #fff5f0\">&nbsp.&nbsp</span><span class=\"barcode\"; style=\"color: black; background-color: #ffeee6\">&nbsp[SEP]&nbsp</span>"
      ],
      "text/plain": [
       "<IPython.core.display.HTML object>"
      ]
     },
     "metadata": {},
     "output_type": "display_data"
    },
    {
     "name": "stdout",
     "output_type": "stream",
     "text": [
      "\n",
      "Layer 2\n",
      "Head 1\n"
     ]
    },
    {
     "data": {
      "text/html": [
       "<span class=\"barcode\"; style=\"color: black; background-color: #fc8969\">&nbsp[CLS]&nbsp</span><span class=\"barcode\"; style=\"color: black; background-color: #ffede5\">&nbspshe&nbsp</span><span class=\"barcode\"; style=\"color: black; background-color: #fff2ec\">&nbspare&nbsp</span><span class=\"barcode\"; style=\"color: black; background-color: #fee4d8\">&nbspgoing&nbsp</span><span class=\"barcode\"; style=\"color: black; background-color: #fb7555\">&nbspto&nbsp</span><span class=\"barcode\"; style=\"color: black; background-color: #fcad90\">&nbspthe&nbsp</span><span class=\"barcode\"; style=\"color: black; background-color: #d21f20\">&nbsppark&nbsp</span><span class=\"barcode\"; style=\"color: black; background-color: #fcb99f\">&nbsp.&nbsp</span><span class=\"barcode\"; style=\"color: black; background-color: #fee1d4\">&nbsp[SEP]&nbsp</span>"
      ],
      "text/plain": [
       "<IPython.core.display.HTML object>"
      ]
     },
     "metadata": {},
     "output_type": "display_data"
    },
    {
     "name": "stdout",
     "output_type": "stream",
     "text": [
      "Head 2\n"
     ]
    },
    {
     "data": {
      "text/html": [
       "<span class=\"barcode\"; style=\"color: black; background-color: #940b13\">&nbsp[CLS]&nbsp</span><span class=\"barcode\"; style=\"color: black; background-color: #fdd0bc\">&nbspshe&nbsp</span><span class=\"barcode\"; style=\"color: black; background-color: #fdd7c6\">&nbspare&nbsp</span><span class=\"barcode\"; style=\"color: black; background-color: #fed9c9\">&nbspgoing&nbsp</span><span class=\"barcode\"; style=\"color: black; background-color: #fdd5c4\">&nbspto&nbsp</span><span class=\"barcode\"; style=\"color: black; background-color: #fed9c9\">&nbspthe&nbsp</span><span class=\"barcode\"; style=\"color: black; background-color: #fdd3c1\">&nbsppark&nbsp</span><span class=\"barcode\"; style=\"color: black; background-color: #fcbfa7\">&nbsp.&nbsp</span><span class=\"barcode\"; style=\"color: black; background-color: #fcb69b\">&nbsp[SEP]&nbsp</span>"
      ],
      "text/plain": [
       "<IPython.core.display.HTML object>"
      ]
     },
     "metadata": {},
     "output_type": "display_data"
    },
    {
     "name": "stdout",
     "output_type": "stream",
     "text": [
      "Head 3\n"
     ]
    },
    {
     "data": {
      "text/html": [
       "<span class=\"barcode\"; style=\"color: black; background-color: #dd2a25\">&nbsp[CLS]&nbsp</span><span class=\"barcode\"; style=\"color: black; background-color: #ffece4\">&nbspshe&nbsp</span><span class=\"barcode\"; style=\"color: black; background-color: #fff2ec\">&nbspare&nbsp</span><span class=\"barcode\"; style=\"color: black; background-color: #ffece3\">&nbspgoing&nbsp</span><span class=\"barcode\"; style=\"color: black; background-color: #ffece3\">&nbspto&nbsp</span><span class=\"barcode\"; style=\"color: black; background-color: #fee0d2\">&nbspthe&nbsp</span><span class=\"barcode\"; style=\"color: black; background-color: #fdc6b0\">&nbsppark&nbsp</span><span class=\"barcode\"; style=\"color: black; background-color: #fee5d9\">&nbsp.&nbsp</span><span class=\"barcode\"; style=\"color: black; background-color: #fee8de\">&nbsp[SEP]&nbsp</span>"
      ],
      "text/plain": [
       "<IPython.core.display.HTML object>"
      ]
     },
     "metadata": {},
     "output_type": "display_data"
    },
    {
     "name": "stdout",
     "output_type": "stream",
     "text": [
      "Head 4\n"
     ]
    },
    {
     "data": {
      "text/html": [
       "<span class=\"barcode\"; style=\"color: black; background-color: #d52221\">&nbsp[CLS]&nbsp</span><span class=\"barcode\"; style=\"color: black; background-color: #fff0e8\">&nbspshe&nbsp</span><span class=\"barcode\"; style=\"color: black; background-color: #fff4ef\">&nbspare&nbsp</span><span class=\"barcode\"; style=\"color: black; background-color: #fff1ea\">&nbspgoing&nbsp</span><span class=\"barcode\"; style=\"color: black; background-color: #fcb69b\">&nbspto&nbsp</span><span class=\"barcode\"; style=\"color: black; background-color: #fdcebb\">&nbspthe&nbsp</span><span class=\"barcode\"; style=\"color: black; background-color: #ffefe8\">&nbsppark&nbsp</span><span class=\"barcode\"; style=\"color: black; background-color: #f96346\">&nbsp.&nbsp</span><span class=\"barcode\"; style=\"color: black; background-color: #fdc5ae\">&nbsp[SEP]&nbsp</span>"
      ],
      "text/plain": [
       "<IPython.core.display.HTML object>"
      ]
     },
     "metadata": {},
     "output_type": "display_data"
    },
    {
     "name": "stdout",
     "output_type": "stream",
     "text": [
      "Head 5\n"
     ]
    },
    {
     "data": {
      "text/html": [
       "<span class=\"barcode\"; style=\"color: black; background-color: #d32020\">&nbsp[CLS]&nbsp</span><span class=\"barcode\"; style=\"color: black; background-color: #fee2d5\">&nbspshe&nbsp</span><span class=\"barcode\"; style=\"color: black; background-color: #fedecf\">&nbspare&nbsp</span><span class=\"barcode\"; style=\"color: black; background-color: #fee0d2\">&nbspgoing&nbsp</span><span class=\"barcode\"; style=\"color: black; background-color: #fedccd\">&nbspto&nbsp</span><span class=\"barcode\"; style=\"color: black; background-color: #fcaa8d\">&nbspthe&nbsp</span><span class=\"barcode\"; style=\"color: black; background-color: #ffece4\">&nbsppark&nbsp</span><span class=\"barcode\"; style=\"color: black; background-color: #fcb79c\">&nbsp.&nbsp</span><span class=\"barcode\"; style=\"color: black; background-color: #fca588\">&nbsp[SEP]&nbsp</span>"
      ],
      "text/plain": [
       "<IPython.core.display.HTML object>"
      ]
     },
     "metadata": {},
     "output_type": "display_data"
    },
    {
     "name": "stdout",
     "output_type": "stream",
     "text": [
      "Head 6\n"
     ]
    },
    {
     "data": {
      "text/html": [
       "<span class=\"barcode\"; style=\"color: black; background-color: #d01d1f\">&nbsp[CLS]&nbsp</span><span class=\"barcode\"; style=\"color: black; background-color: #ffece4\">&nbspshe&nbsp</span><span class=\"barcode\"; style=\"color: black; background-color: #fee7db\">&nbspare&nbsp</span><span class=\"barcode\"; style=\"color: black; background-color: #fee7dc\">&nbspgoing&nbsp</span><span class=\"barcode\"; style=\"color: black; background-color: #fff0e8\">&nbspto&nbsp</span><span class=\"barcode\"; style=\"color: black; background-color: #ffeee7\">&nbspthe&nbsp</span><span class=\"barcode\"; style=\"color: black; background-color: #feeae0\">&nbsppark&nbsp</span><span class=\"barcode\"; style=\"color: black; background-color: #fcb499\">&nbsp.&nbsp</span><span class=\"barcode\"; style=\"color: black; background-color: #fcb398\">&nbsp[SEP]&nbsp</span>"
      ],
      "text/plain": [
       "<IPython.core.display.HTML object>"
      ]
     },
     "metadata": {},
     "output_type": "display_data"
    },
    {
     "name": "stdout",
     "output_type": "stream",
     "text": [
      "Head 7\n"
     ]
    },
    {
     "data": {
      "text/html": [
       "<span class=\"barcode\"; style=\"color: black; background-color: #67000d\">&nbsp[CLS]&nbsp</span><span class=\"barcode\"; style=\"color: black; background-color: #fff5f0\">&nbspshe&nbsp</span><span class=\"barcode\"; style=\"color: black; background-color: #fff4ef\">&nbspare&nbsp</span><span class=\"barcode\"; style=\"color: black; background-color: #fff4ee\">&nbspgoing&nbsp</span><span class=\"barcode\"; style=\"color: black; background-color: #fff4ef\">&nbspto&nbsp</span><span class=\"barcode\"; style=\"color: black; background-color: #fff4ef\">&nbspthe&nbsp</span><span class=\"barcode\"; style=\"color: black; background-color: #fff5f0\">&nbsppark&nbsp</span><span class=\"barcode\"; style=\"color: black; background-color: #fff4ee\">&nbsp.&nbsp</span><span class=\"barcode\"; style=\"color: black; background-color: #fff4ee\">&nbsp[SEP]&nbsp</span>"
      ],
      "text/plain": [
       "<IPython.core.display.HTML object>"
      ]
     },
     "metadata": {},
     "output_type": "display_data"
    },
    {
     "name": "stdout",
     "output_type": "stream",
     "text": [
      "Head 8\n"
     ]
    },
    {
     "data": {
      "text/html": [
       "<span class=\"barcode\"; style=\"color: black; background-color: #67000d\">&nbsp[CLS]&nbsp</span><span class=\"barcode\"; style=\"color: black; background-color: #ffeee7\">&nbspshe&nbsp</span><span class=\"barcode\"; style=\"color: black; background-color: #fff2eb\">&nbspare&nbsp</span><span class=\"barcode\"; style=\"color: black; background-color: #ffebe2\">&nbspgoing&nbsp</span><span class=\"barcode\"; style=\"color: black; background-color: #fff1ea\">&nbspto&nbsp</span><span class=\"barcode\"; style=\"color: black; background-color: #fff0e8\">&nbspthe&nbsp</span><span class=\"barcode\"; style=\"color: black; background-color: #fee1d4\">&nbsppark&nbsp</span><span class=\"barcode\"; style=\"color: black; background-color: #fee8de\">&nbsp.&nbsp</span><span class=\"barcode\"; style=\"color: black; background-color: #fee0d2\">&nbsp[SEP]&nbsp</span>"
      ],
      "text/plain": [
       "<IPython.core.display.HTML object>"
      ]
     },
     "metadata": {},
     "output_type": "display_data"
    },
    {
     "name": "stdout",
     "output_type": "stream",
     "text": [
      "Head 9\n"
     ]
    },
    {
     "data": {
      "text/html": [
       "<span class=\"barcode\"; style=\"color: black; background-color: #fb6c4c\">&nbsp[CLS]&nbsp</span><span class=\"barcode\"; style=\"color: black; background-color: #fcb69b\">&nbspshe&nbsp</span><span class=\"barcode\"; style=\"color: black; background-color: #fcae92\">&nbspare&nbsp</span><span class=\"barcode\"; style=\"color: black; background-color: #fcc3ab\">&nbspgoing&nbsp</span><span class=\"barcode\"; style=\"color: black; background-color: #fcbfa7\">&nbspto&nbsp</span><span class=\"barcode\"; style=\"color: black; background-color: #fcb99f\">&nbspthe&nbsp</span><span class=\"barcode\"; style=\"color: black; background-color: #fca183\">&nbsppark&nbsp</span><span class=\"barcode\"; style=\"color: black; background-color: #fcb296\">&nbsp.&nbsp</span><span class=\"barcode\"; style=\"color: black; background-color: #d92523\">&nbsp[SEP]&nbsp</span>"
      ],
      "text/plain": [
       "<IPython.core.display.HTML object>"
      ]
     },
     "metadata": {},
     "output_type": "display_data"
    },
    {
     "name": "stdout",
     "output_type": "stream",
     "text": [
      "Head 10\n"
     ]
    },
    {
     "data": {
      "text/html": [
       "<span class=\"barcode\"; style=\"color: black; background-color: #fc8a6a\">&nbsp[CLS]&nbsp</span><span class=\"barcode\"; style=\"color: black; background-color: #fcb69b\">&nbspshe&nbsp</span><span class=\"barcode\"; style=\"color: black; background-color: #fcb99f\">&nbspare&nbsp</span><span class=\"barcode\"; style=\"color: black; background-color: #fc9879\">&nbspgoing&nbsp</span><span class=\"barcode\"; style=\"color: black; background-color: #fcbea5\">&nbspto&nbsp</span><span class=\"barcode\"; style=\"color: black; background-color: #fc8d6d\">&nbspthe&nbsp</span><span class=\"barcode\"; style=\"color: black; background-color: #fcb89e\">&nbsppark&nbsp</span><span class=\"barcode\"; style=\"color: black; background-color: #fc997a\">&nbsp.&nbsp</span><span class=\"barcode\"; style=\"color: black; background-color: #fc9576\">&nbsp[SEP]&nbsp</span>"
      ],
      "text/plain": [
       "<IPython.core.display.HTML object>"
      ]
     },
     "metadata": {},
     "output_type": "display_data"
    },
    {
     "name": "stdout",
     "output_type": "stream",
     "text": [
      "Head 11\n"
     ]
    },
    {
     "data": {
      "text/html": [
       "<span class=\"barcode\"; style=\"color: black; background-color: #cb181d\">&nbsp[CLS]&nbsp</span><span class=\"barcode\"; style=\"color: black; background-color: #fee3d7\">&nbspshe&nbsp</span><span class=\"barcode\"; style=\"color: black; background-color: #fee7dc\">&nbspare&nbsp</span><span class=\"barcode\"; style=\"color: black; background-color: #fee1d3\">&nbspgoing&nbsp</span><span class=\"barcode\"; style=\"color: black; background-color: #fee3d7\">&nbspto&nbsp</span><span class=\"barcode\"; style=\"color: black; background-color: #fee3d7\">&nbspthe&nbsp</span><span class=\"barcode\"; style=\"color: black; background-color: #fee0d2\">&nbsppark&nbsp</span><span class=\"barcode\"; style=\"color: black; background-color: #fcaa8d\">&nbsp.&nbsp</span><span class=\"barcode\"; style=\"color: black; background-color: #fcaf93\">&nbsp[SEP]&nbsp</span>"
      ],
      "text/plain": [
       "<IPython.core.display.HTML object>"
      ]
     },
     "metadata": {},
     "output_type": "display_data"
    },
    {
     "name": "stdout",
     "output_type": "stream",
     "text": [
      "Head 12\n"
     ]
    },
    {
     "data": {
      "text/html": [
       "<span class=\"barcode\"; style=\"color: black; background-color: #67000d\">&nbsp[CLS]&nbsp</span><span class=\"barcode\"; style=\"color: black; background-color: #fcb095\">&nbspshe&nbsp</span><span class=\"barcode\"; style=\"color: black; background-color: #fcc4ad\">&nbspare&nbsp</span><span class=\"barcode\"; style=\"color: black; background-color: #fdcebb\">&nbspgoing&nbsp</span><span class=\"barcode\"; style=\"color: black; background-color: #fdcab5\">&nbspto&nbsp</span><span class=\"barcode\"; style=\"color: black; background-color: #fcc1a8\">&nbspthe&nbsp</span><span class=\"barcode\"; style=\"color: black; background-color: #ffece4\">&nbsppark&nbsp</span><span class=\"barcode\"; style=\"color: black; background-color: #fcb398\">&nbsp.&nbsp</span><span class=\"barcode\"; style=\"color: black; background-color: #9a0c14\">&nbsp[SEP]&nbsp</span>"
      ],
      "text/plain": [
       "<IPython.core.display.HTML object>"
      ]
     },
     "metadata": {},
     "output_type": "display_data"
    },
    {
     "name": "stdout",
     "output_type": "stream",
     "text": [
      "\n",
      "Layer 3\n",
      "Head 1\n"
     ]
    },
    {
     "data": {
      "text/html": [
       "<span class=\"barcode\"; style=\"color: black; background-color: #67000d\">&nbsp[CLS]&nbsp</span><span class=\"barcode\"; style=\"color: black; background-color: #fff5f0\">&nbspshe&nbsp</span><span class=\"barcode\"; style=\"color: black; background-color: #fff5f0\">&nbspare&nbsp</span><span class=\"barcode\"; style=\"color: black; background-color: #fff5f0\">&nbspgoing&nbsp</span><span class=\"barcode\"; style=\"color: black; background-color: #fff5f0\">&nbspto&nbsp</span><span class=\"barcode\"; style=\"color: black; background-color: #fff5f0\">&nbspthe&nbsp</span><span class=\"barcode\"; style=\"color: black; background-color: #fff5f0\">&nbsppark&nbsp</span><span class=\"barcode\"; style=\"color: black; background-color: #fff4ef\">&nbsp.&nbsp</span><span class=\"barcode\"; style=\"color: black; background-color: #ffeee7\">&nbsp[SEP]&nbsp</span>"
      ],
      "text/plain": [
       "<IPython.core.display.HTML object>"
      ]
     },
     "metadata": {},
     "output_type": "display_data"
    },
    {
     "name": "stdout",
     "output_type": "stream",
     "text": [
      "Head 2\n"
     ]
    },
    {
     "data": {
      "text/html": [
       "<span class=\"barcode\"; style=\"color: black; background-color: #c3161b\">&nbsp[CLS]&nbsp</span><span class=\"barcode\"; style=\"color: black; background-color: #fee9df\">&nbspshe&nbsp</span><span class=\"barcode\"; style=\"color: black; background-color: #fee3d7\">&nbspare&nbsp</span><span class=\"barcode\"; style=\"color: black; background-color: #fee2d5\">&nbspgoing&nbsp</span><span class=\"barcode\"; style=\"color: black; background-color: #fedbcc\">&nbspto&nbsp</span><span class=\"barcode\"; style=\"color: black; background-color: #fdc9b3\">&nbspthe&nbsp</span><span class=\"barcode\"; style=\"color: black; background-color: #fee9df\">&nbsppark&nbsp</span><span class=\"barcode\"; style=\"color: black; background-color: #fcc2aa\">&nbsp.&nbsp</span><span class=\"barcode\"; style=\"color: black; background-color: #fb6c4c\">&nbsp[SEP]&nbsp</span>"
      ],
      "text/plain": [
       "<IPython.core.display.HTML object>"
      ]
     },
     "metadata": {},
     "output_type": "display_data"
    },
    {
     "name": "stdout",
     "output_type": "stream",
     "text": [
      "Head 3\n"
     ]
    },
    {
     "data": {
      "text/html": [
       "<span class=\"barcode\"; style=\"color: black; background-color: #67000d\">&nbsp[CLS]&nbsp</span><span class=\"barcode\"; style=\"color: black; background-color: #fee8dd\">&nbspshe&nbsp</span><span class=\"barcode\"; style=\"color: black; background-color: #fee1d4\">&nbspare&nbsp</span><span class=\"barcode\"; style=\"color: black; background-color: #fee8dd\">&nbspgoing&nbsp</span><span class=\"barcode\"; style=\"color: black; background-color: #ffece4\">&nbspto&nbsp</span><span class=\"barcode\"; style=\"color: black; background-color: #ffebe2\">&nbspthe&nbsp</span><span class=\"barcode\"; style=\"color: black; background-color: #fee1d4\">&nbsppark&nbsp</span><span class=\"barcode\"; style=\"color: black; background-color: #fee5d8\">&nbsp.&nbsp</span><span class=\"barcode\"; style=\"color: black; background-color: #fdcebb\">&nbsp[SEP]&nbsp</span>"
      ],
      "text/plain": [
       "<IPython.core.display.HTML object>"
      ]
     },
     "metadata": {},
     "output_type": "display_data"
    },
    {
     "name": "stdout",
     "output_type": "stream",
     "text": [
      "Head 4\n"
     ]
    },
    {
     "data": {
      "text/html": [
       "<span class=\"barcode\"; style=\"color: black; background-color: #d21f20\">&nbsp[CLS]&nbsp</span><span class=\"barcode\"; style=\"color: black; background-color: #fdccb8\">&nbspshe&nbsp</span><span class=\"barcode\"; style=\"color: black; background-color: #fca98c\">&nbspare&nbsp</span><span class=\"barcode\"; style=\"color: black; background-color: #fdcebb\">&nbspgoing&nbsp</span><span class=\"barcode\"; style=\"color: black; background-color: #fee7db\">&nbspto&nbsp</span><span class=\"barcode\"; style=\"color: black; background-color: #fee3d6\">&nbspthe&nbsp</span><span class=\"barcode\"; style=\"color: black; background-color: #fc8464\">&nbsppark&nbsp</span><span class=\"barcode\"; style=\"color: black; background-color: #fdd7c6\">&nbsp.&nbsp</span><span class=\"barcode\"; style=\"color: black; background-color: #fc8d6d\">&nbsp[SEP]&nbsp</span>"
      ],
      "text/plain": [
       "<IPython.core.display.HTML object>"
      ]
     },
     "metadata": {},
     "output_type": "display_data"
    },
    {
     "name": "stdout",
     "output_type": "stream",
     "text": [
      "Head 5\n"
     ]
    },
    {
     "data": {
      "text/html": [
       "<span class=\"barcode\"; style=\"color: black; background-color: #d11e1f\">&nbsp[CLS]&nbsp</span><span class=\"barcode\"; style=\"color: black; background-color: #feeae0\">&nbspshe&nbsp</span><span class=\"barcode\"; style=\"color: black; background-color: #fee9df\">&nbspare&nbsp</span><span class=\"barcode\"; style=\"color: black; background-color: #fee7dc\">&nbspgoing&nbsp</span><span class=\"barcode\"; style=\"color: black; background-color: #feeae0\">&nbspto&nbsp</span><span class=\"barcode\"; style=\"color: black; background-color: #fee5d8\">&nbspthe&nbsp</span><span class=\"barcode\"; style=\"color: black; background-color: #fee7dc\">&nbsppark&nbsp</span><span class=\"barcode\"; style=\"color: black; background-color: #fdd4c2\">&nbsp.&nbsp</span><span class=\"barcode\"; style=\"color: black; background-color: #fcaa8d\">&nbsp[SEP]&nbsp</span>"
      ],
      "text/plain": [
       "<IPython.core.display.HTML object>"
      ]
     },
     "metadata": {},
     "output_type": "display_data"
    },
    {
     "name": "stdout",
     "output_type": "stream",
     "text": [
      "Head 6\n"
     ]
    },
    {
     "data": {
      "text/html": [
       "<span class=\"barcode\"; style=\"color: black; background-color: #e02c26\">&nbsp[CLS]&nbsp</span><span class=\"barcode\"; style=\"color: black; background-color: #fedbcc\">&nbspshe&nbsp</span><span class=\"barcode\"; style=\"color: black; background-color: #fee3d7\">&nbspare&nbsp</span><span class=\"barcode\"; style=\"color: black; background-color: #fed9c9\">&nbspgoing&nbsp</span><span class=\"barcode\"; style=\"color: black; background-color: #ffebe2\">&nbspto&nbsp</span><span class=\"barcode\"; style=\"color: black; background-color: #feeae1\">&nbspthe&nbsp</span><span class=\"barcode\"; style=\"color: black; background-color: #f24734\">&nbsppark&nbsp</span><span class=\"barcode\"; style=\"color: black; background-color: #fdcebb\">&nbsp.&nbsp</span><span class=\"barcode\"; style=\"color: black; background-color: #fee4d8\">&nbsp[SEP]&nbsp</span>"
      ],
      "text/plain": [
       "<IPython.core.display.HTML object>"
      ]
     },
     "metadata": {},
     "output_type": "display_data"
    },
    {
     "name": "stdout",
     "output_type": "stream",
     "text": [
      "Head 7\n"
     ]
    },
    {
     "data": {
      "text/html": [
       "<span class=\"barcode\"; style=\"color: black; background-color: #f24734\">&nbsp[CLS]&nbsp</span><span class=\"barcode\"; style=\"color: black; background-color: #fcb69b\">&nbspshe&nbsp</span><span class=\"barcode\"; style=\"color: black; background-color: #fcbfa7\">&nbspare&nbsp</span><span class=\"barcode\"; style=\"color: black; background-color: #fee9df\">&nbspgoing&nbsp</span><span class=\"barcode\"; style=\"color: black; background-color: #fdcab5\">&nbspto&nbsp</span><span class=\"barcode\"; style=\"color: black; background-color: #fdc5ae\">&nbspthe&nbsp</span><span class=\"barcode\"; style=\"color: black; background-color: #fcc4ad\">&nbsppark&nbsp</span><span class=\"barcode\"; style=\"color: black; background-color: #fa6547\">&nbsp.&nbsp</span><span class=\"barcode\"; style=\"color: black; background-color: #f14432\">&nbsp[SEP]&nbsp</span>"
      ],
      "text/plain": [
       "<IPython.core.display.HTML object>"
      ]
     },
     "metadata": {},
     "output_type": "display_data"
    },
    {
     "name": "stdout",
     "output_type": "stream",
     "text": [
      "Head 8\n"
     ]
    },
    {
     "data": {
      "text/html": [
       "<span class=\"barcode\"; style=\"color: black; background-color: #cf1c1f\">&nbsp[CLS]&nbsp</span><span class=\"barcode\"; style=\"color: black; background-color: #ffece3\">&nbspshe&nbsp</span><span class=\"barcode\"; style=\"color: black; background-color: #feeae1\">&nbspare&nbsp</span><span class=\"barcode\"; style=\"color: black; background-color: #ffece4\">&nbspgoing&nbsp</span><span class=\"barcode\"; style=\"color: black; background-color: #ffeee6\">&nbspto&nbsp</span><span class=\"barcode\"; style=\"color: black; background-color: #fee7db\">&nbspthe&nbsp</span><span class=\"barcode\"; style=\"color: black; background-color: #ffede5\">&nbsppark&nbsp</span><span class=\"barcode\"; style=\"color: black; background-color: #fedecf\">&nbsp.&nbsp</span><span class=\"barcode\"; style=\"color: black; background-color: #fcaa8d\">&nbsp[SEP]&nbsp</span>"
      ],
      "text/plain": [
       "<IPython.core.display.HTML object>"
      ]
     },
     "metadata": {},
     "output_type": "display_data"
    },
    {
     "name": "stdout",
     "output_type": "stream",
     "text": [
      "Head 9\n"
     ]
    },
    {
     "data": {
      "text/html": [
       "<span class=\"barcode\"; style=\"color: black; background-color: #ad1117\">&nbsp[CLS]&nbsp</span><span class=\"barcode\"; style=\"color: black; background-color: #feeae0\">&nbspshe&nbsp</span><span class=\"barcode\"; style=\"color: black; background-color: #ffece3\">&nbspare&nbsp</span><span class=\"barcode\"; style=\"color: black; background-color: #feeae0\">&nbspgoing&nbsp</span><span class=\"barcode\"; style=\"color: black; background-color: #fff0e9\">&nbspto&nbsp</span><span class=\"barcode\"; style=\"color: black; background-color: #ffede5\">&nbspthe&nbsp</span><span class=\"barcode\"; style=\"color: black; background-color: #fee8de\">&nbsppark&nbsp</span><span class=\"barcode\"; style=\"color: black; background-color: #fee8dd\">&nbsp.&nbsp</span><span class=\"barcode\"; style=\"color: black; background-color: #fdcab5\">&nbsp[SEP]&nbsp</span>"
      ],
      "text/plain": [
       "<IPython.core.display.HTML object>"
      ]
     },
     "metadata": {},
     "output_type": "display_data"
    },
    {
     "name": "stdout",
     "output_type": "stream",
     "text": [
      "Head 10\n"
     ]
    },
    {
     "data": {
      "text/html": [
       "<span class=\"barcode\"; style=\"color: black; background-color: #7c0510\">&nbsp[CLS]&nbsp</span><span class=\"barcode\"; style=\"color: black; background-color: #ffeee6\">&nbspshe&nbsp</span><span class=\"barcode\"; style=\"color: black; background-color: #fff1ea\">&nbspare&nbsp</span><span class=\"barcode\"; style=\"color: black; background-color: #fff3ed\">&nbspgoing&nbsp</span><span class=\"barcode\"; style=\"color: black; background-color: #fff2ec\">&nbspto&nbsp</span><span class=\"barcode\"; style=\"color: black; background-color: #fff4ee\">&nbspthe&nbsp</span><span class=\"barcode\"; style=\"color: black; background-color: #fff5f0\">&nbsppark&nbsp</span><span class=\"barcode\"; style=\"color: black; background-color: #ffece3\">&nbsp.&nbsp</span><span class=\"barcode\"; style=\"color: black; background-color: #fc8969\">&nbsp[SEP]&nbsp</span>"
      ],
      "text/plain": [
       "<IPython.core.display.HTML object>"
      ]
     },
     "metadata": {},
     "output_type": "display_data"
    },
    {
     "name": "stdout",
     "output_type": "stream",
     "text": [
      "Head 11\n"
     ]
    },
    {
     "data": {
      "text/html": [
       "<span class=\"barcode\"; style=\"color: black; background-color: #f0402f\">&nbsp[CLS]&nbsp</span><span class=\"barcode\"; style=\"color: black; background-color: #fee5d9\">&nbspshe&nbsp</span><span class=\"barcode\"; style=\"color: black; background-color: #fee5d8\">&nbspare&nbsp</span><span class=\"barcode\"; style=\"color: black; background-color: #ffece3\">&nbspgoing&nbsp</span><span class=\"barcode\"; style=\"color: black; background-color: #feeae0\">&nbspto&nbsp</span><span class=\"barcode\"; style=\"color: black; background-color: #fee5d8\">&nbspthe&nbsp</span><span class=\"barcode\"; style=\"color: black; background-color: #feeae1\">&nbsppark&nbsp</span><span class=\"barcode\"; style=\"color: black; background-color: #fdcbb6\">&nbsp.&nbsp</span><span class=\"barcode\"; style=\"color: black; background-color: #fb6b4b\">&nbsp[SEP]&nbsp</span>"
      ],
      "text/plain": [
       "<IPython.core.display.HTML object>"
      ]
     },
     "metadata": {},
     "output_type": "display_data"
    },
    {
     "name": "stdout",
     "output_type": "stream",
     "text": [
      "Head 12\n"
     ]
    },
    {
     "data": {
      "text/html": [
       "<span class=\"barcode\"; style=\"color: black; background-color: #67000d\">&nbsp[CLS]&nbsp</span><span class=\"barcode\"; style=\"color: black; background-color: #fff4ee\">&nbspshe&nbsp</span><span class=\"barcode\"; style=\"color: black; background-color: #fff3ed\">&nbspare&nbsp</span><span class=\"barcode\"; style=\"color: black; background-color: #fff3ed\">&nbspgoing&nbsp</span><span class=\"barcode\"; style=\"color: black; background-color: #fff2ec\">&nbspto&nbsp</span><span class=\"barcode\"; style=\"color: black; background-color: #fff0e9\">&nbspthe&nbsp</span><span class=\"barcode\"; style=\"color: black; background-color: #fff2eb\">&nbsppark&nbsp</span><span class=\"barcode\"; style=\"color: black; background-color: #ffece4\">&nbsp.&nbsp</span><span class=\"barcode\"; style=\"color: black; background-color: #fee9df\">&nbsp[SEP]&nbsp</span>"
      ],
      "text/plain": [
       "<IPython.core.display.HTML object>"
      ]
     },
     "metadata": {},
     "output_type": "display_data"
    },
    {
     "name": "stdout",
     "output_type": "stream",
     "text": [
      "\n",
      "Layer 4\n",
      "Head 1\n"
     ]
    },
    {
     "data": {
      "text/html": [
       "<span class=\"barcode\"; style=\"color: black; background-color: #fa6849\">&nbsp[CLS]&nbsp</span><span class=\"barcode\"; style=\"color: black; background-color: #fff4ef\">&nbspshe&nbsp</span><span class=\"barcode\"; style=\"color: black; background-color: #fff4ef\">&nbspare&nbsp</span><span class=\"barcode\"; style=\"color: black; background-color: #fff5f0\">&nbspgoing&nbsp</span><span class=\"barcode\"; style=\"color: black; background-color: #fff4ef\">&nbspto&nbsp</span><span class=\"barcode\"; style=\"color: black; background-color: #fff2eb\">&nbspthe&nbsp</span><span class=\"barcode\"; style=\"color: black; background-color: #fff5f0\">&nbsppark&nbsp</span><span class=\"barcode\"; style=\"color: black; background-color: #fdd5c4\">&nbsp.&nbsp</span><span class=\"barcode\"; style=\"color: black; background-color: #7c0510\">&nbsp[SEP]&nbsp</span>"
      ],
      "text/plain": [
       "<IPython.core.display.HTML object>"
      ]
     },
     "metadata": {},
     "output_type": "display_data"
    },
    {
     "name": "stdout",
     "output_type": "stream",
     "text": [
      "Head 2\n"
     ]
    },
    {
     "data": {
      "text/html": [
       "<span class=\"barcode\"; style=\"color: black; background-color: #fc9c7d\">&nbsp[CLS]&nbsp</span><span class=\"barcode\"; style=\"color: black; background-color: #fee7db\">&nbspshe&nbsp</span><span class=\"barcode\"; style=\"color: black; background-color: #fee1d4\">&nbspare&nbsp</span><span class=\"barcode\"; style=\"color: black; background-color: #ffeee7\">&nbspgoing&nbsp</span><span class=\"barcode\"; style=\"color: black; background-color: #fff2eb\">&nbspto&nbsp</span><span class=\"barcode\"; style=\"color: black; background-color: #fee9df\">&nbspthe&nbsp</span><span class=\"barcode\"; style=\"color: black; background-color: #fdd7c6\">&nbsppark&nbsp</span><span class=\"barcode\"; style=\"color: black; background-color: #dd2a25\">&nbsp.&nbsp</span><span class=\"barcode\"; style=\"color: black; background-color: #fdc6b0\">&nbsp[SEP]&nbsp</span>"
      ],
      "text/plain": [
       "<IPython.core.display.HTML object>"
      ]
     },
     "metadata": {},
     "output_type": "display_data"
    },
    {
     "name": "stdout",
     "output_type": "stream",
     "text": [
      "Head 3\n"
     ]
    },
    {
     "data": {
      "text/html": [
       "<span class=\"barcode\"; style=\"color: black; background-color: #fee8de\">&nbsp[CLS]&nbsp</span><span class=\"barcode\"; style=\"color: black; background-color: #af1117\">&nbspshe&nbsp</span><span class=\"barcode\"; style=\"color: black; background-color: #67000d\">&nbspare&nbsp</span><span class=\"barcode\"; style=\"color: black; background-color: #f34a36\">&nbspgoing&nbsp</span><span class=\"barcode\"; style=\"color: black; background-color: #fcbca2\">&nbspto&nbsp</span><span class=\"barcode\"; style=\"color: black; background-color: #fcb89e\">&nbspthe&nbsp</span><span class=\"barcode\"; style=\"color: black; background-color: #67000d\">&nbsppark&nbsp</span><span class=\"barcode\"; style=\"color: black; background-color: #fc9d7f\">&nbsp.&nbsp</span><span class=\"barcode\"; style=\"color: black; background-color: #ffeee6\">&nbsp[SEP]&nbsp</span>"
      ],
      "text/plain": [
       "<IPython.core.display.HTML object>"
      ]
     },
     "metadata": {},
     "output_type": "display_data"
    },
    {
     "name": "stdout",
     "output_type": "stream",
     "text": [
      "Head 4\n"
     ]
    },
    {
     "data": {
      "text/html": [
       "<span class=\"barcode\"; style=\"color: black; background-color: #fa6648\">&nbsp[CLS]&nbsp</span><span class=\"barcode\"; style=\"color: black; background-color: #fee5d9\">&nbspshe&nbsp</span><span class=\"barcode\"; style=\"color: black; background-color: #fcc2aa\">&nbspare&nbsp</span><span class=\"barcode\"; style=\"color: black; background-color: #fee3d7\">&nbspgoing&nbsp</span><span class=\"barcode\"; style=\"color: black; background-color: #feeae1\">&nbspto&nbsp</span><span class=\"barcode\"; style=\"color: black; background-color: #fee6da\">&nbspthe&nbsp</span><span class=\"barcode\"; style=\"color: black; background-color: #fee9df\">&nbsppark&nbsp</span><span class=\"barcode\"; style=\"color: black; background-color: #fcb398\">&nbsp.&nbsp</span><span class=\"barcode\"; style=\"color: black; background-color: #fcbba1\">&nbsp[SEP]&nbsp</span>"
      ],
      "text/plain": [
       "<IPython.core.display.HTML object>"
      ]
     },
     "metadata": {},
     "output_type": "display_data"
    },
    {
     "name": "stdout",
     "output_type": "stream",
     "text": [
      "Head 5\n"
     ]
    },
    {
     "data": {
      "text/html": [
       "<span class=\"barcode\"; style=\"color: black; background-color: #fdcab5\">&nbsp[CLS]&nbsp</span><span class=\"barcode\"; style=\"color: black; background-color: #fdd4c2\">&nbspshe&nbsp</span><span class=\"barcode\"; style=\"color: black; background-color: #fcbda4\">&nbspare&nbsp</span><span class=\"barcode\"; style=\"color: black; background-color: #fee8dd\">&nbspgoing&nbsp</span><span class=\"barcode\"; style=\"color: black; background-color: #ffeee7\">&nbspto&nbsp</span><span class=\"barcode\"; style=\"color: black; background-color: #feeae1\">&nbspthe&nbsp</span><span class=\"barcode\"; style=\"color: black; background-color: #fc8767\">&nbsppark&nbsp</span><span class=\"barcode\"; style=\"color: black; background-color: #ffebe2\">&nbsp.&nbsp</span><span class=\"barcode\"; style=\"color: black; background-color: #fca082\">&nbsp[SEP]&nbsp</span>"
      ],
      "text/plain": [
       "<IPython.core.display.HTML object>"
      ]
     },
     "metadata": {},
     "output_type": "display_data"
    },
    {
     "name": "stdout",
     "output_type": "stream",
     "text": [
      "Head 6\n"
     ]
    },
    {
     "data": {
      "text/html": [
       "<span class=\"barcode\"; style=\"color: black; background-color: #f6563d\">&nbsp[CLS]&nbsp</span><span class=\"barcode\"; style=\"color: black; background-color: #fff0e8\">&nbspshe&nbsp</span><span class=\"barcode\"; style=\"color: black; background-color: #fff1ea\">&nbspare&nbsp</span><span class=\"barcode\"; style=\"color: black; background-color: #feeae0\">&nbspgoing&nbsp</span><span class=\"barcode\"; style=\"color: black; background-color: #ffece3\">&nbspto&nbsp</span><span class=\"barcode\"; style=\"color: black; background-color: #fee4d8\">&nbspthe&nbsp</span><span class=\"barcode\"; style=\"color: black; background-color: #ffede5\">&nbsppark&nbsp</span><span class=\"barcode\"; style=\"color: black; background-color: #f24734\">&nbsp.&nbsp</span><span class=\"barcode\"; style=\"color: black; background-color: #fcbfa7\">&nbsp[SEP]&nbsp</span>"
      ],
      "text/plain": [
       "<IPython.core.display.HTML object>"
      ]
     },
     "metadata": {},
     "output_type": "display_data"
    },
    {
     "name": "stdout",
     "output_type": "stream",
     "text": [
      "Head 7\n"
     ]
    },
    {
     "data": {
      "text/html": [
       "<span class=\"barcode\"; style=\"color: black; background-color: #fee1d3\">&nbsp[CLS]&nbsp</span><span class=\"barcode\"; style=\"color: black; background-color: #c1161b\">&nbspshe&nbsp</span><span class=\"barcode\"; style=\"color: black; background-color: #fb7d5d\">&nbspare&nbsp</span><span class=\"barcode\"; style=\"color: black; background-color: #fdc6b0\">&nbspgoing&nbsp</span><span class=\"barcode\"; style=\"color: black; background-color: #fee7dc\">&nbspto&nbsp</span><span class=\"barcode\"; style=\"color: black; background-color: #fed9c9\">&nbspthe&nbsp</span><span class=\"barcode\"; style=\"color: black; background-color: #67000d\">&nbsppark&nbsp</span><span class=\"barcode\"; style=\"color: black; background-color: #fee0d2\">&nbsp.&nbsp</span><span class=\"barcode\"; style=\"color: black; background-color: #fedecf\">&nbsp[SEP]&nbsp</span>"
      ],
      "text/plain": [
       "<IPython.core.display.HTML object>"
      ]
     },
     "metadata": {},
     "output_type": "display_data"
    },
    {
     "name": "stdout",
     "output_type": "stream",
     "text": [
      "Head 8\n"
     ]
    },
    {
     "data": {
      "text/html": [
       "<span class=\"barcode\"; style=\"color: black; background-color: #67000d\">&nbsp[CLS]&nbsp</span><span class=\"barcode\"; style=\"color: black; background-color: #fee0d2\">&nbspshe&nbsp</span><span class=\"barcode\"; style=\"color: black; background-color: #fcc2aa\">&nbspare&nbsp</span><span class=\"barcode\"; style=\"color: black; background-color: #fdcebb\">&nbspgoing&nbsp</span><span class=\"barcode\"; style=\"color: black; background-color: #fdc6b0\">&nbspto&nbsp</span><span class=\"barcode\"; style=\"color: black; background-color: #fedfd0\">&nbspthe&nbsp</span><span class=\"barcode\"; style=\"color: black; background-color: #fee3d6\">&nbsppark&nbsp</span><span class=\"barcode\"; style=\"color: black; background-color: #fcc1a8\">&nbsp.&nbsp</span><span class=\"barcode\"; style=\"color: black; background-color: #fedbcc\">&nbsp[SEP]&nbsp</span>"
      ],
      "text/plain": [
       "<IPython.core.display.HTML object>"
      ]
     },
     "metadata": {},
     "output_type": "display_data"
    },
    {
     "name": "stdout",
     "output_type": "stream",
     "text": [
      "Head 9\n"
     ]
    },
    {
     "data": {
      "text/html": [
       "<span class=\"barcode\"; style=\"color: black; background-color: #f03d2d\">&nbsp[CLS]&nbsp</span><span class=\"barcode\"; style=\"color: black; background-color: #fee4d8\">&nbspshe&nbsp</span><span class=\"barcode\"; style=\"color: black; background-color: #fee9df\">&nbspare&nbsp</span><span class=\"barcode\"; style=\"color: black; background-color: #fee3d6\">&nbspgoing&nbsp</span><span class=\"barcode\"; style=\"color: black; background-color: #fff2ec\">&nbspto&nbsp</span><span class=\"barcode\"; style=\"color: black; background-color: #fff0e9\">&nbspthe&nbsp</span><span class=\"barcode\"; style=\"color: black; background-color: #fee8dd\">&nbsppark&nbsp</span><span class=\"barcode\"; style=\"color: black; background-color: #fed8c7\">&nbsp.&nbsp</span><span class=\"barcode\"; style=\"color: black; background-color: #fca78b\">&nbsp[SEP]&nbsp</span>"
      ],
      "text/plain": [
       "<IPython.core.display.HTML object>"
      ]
     },
     "metadata": {},
     "output_type": "display_data"
    },
    {
     "name": "stdout",
     "output_type": "stream",
     "text": [
      "Head 10\n"
     ]
    },
    {
     "data": {
      "text/html": [
       "<span class=\"barcode\"; style=\"color: black; background-color: #b91419\">&nbsp[CLS]&nbsp</span><span class=\"barcode\"; style=\"color: black; background-color: #ffede5\">&nbspshe&nbsp</span><span class=\"barcode\"; style=\"color: black; background-color: #fee5d8\">&nbspare&nbsp</span><span class=\"barcode\"; style=\"color: black; background-color: #ffede5\">&nbspgoing&nbsp</span><span class=\"barcode\"; style=\"color: black; background-color: #ffefe8\">&nbspto&nbsp</span><span class=\"barcode\"; style=\"color: black; background-color: #ffeee7\">&nbspthe&nbsp</span><span class=\"barcode\"; style=\"color: black; background-color: #fff2ec\">&nbsppark&nbsp</span><span class=\"barcode\"; style=\"color: black; background-color: #fedfd0\">&nbsp.&nbsp</span><span class=\"barcode\"; style=\"color: black; background-color: #fdc6b0\">&nbsp[SEP]&nbsp</span>"
      ],
      "text/plain": [
       "<IPython.core.display.HTML object>"
      ]
     },
     "metadata": {},
     "output_type": "display_data"
    },
    {
     "name": "stdout",
     "output_type": "stream",
     "text": [
      "Head 11\n"
     ]
    },
    {
     "data": {
      "text/html": [
       "<span class=\"barcode\"; style=\"color: black; background-color: #fc9373\">&nbsp[CLS]&nbsp</span><span class=\"barcode\"; style=\"color: black; background-color: #fff0e9\">&nbspshe&nbsp</span><span class=\"barcode\"; style=\"color: black; background-color: #ffefe8\">&nbspare&nbsp</span><span class=\"barcode\"; style=\"color: black; background-color: #ffeee7\">&nbspgoing&nbsp</span><span class=\"barcode\"; style=\"color: black; background-color: #fff0e9\">&nbspto&nbsp</span><span class=\"barcode\"; style=\"color: black; background-color: #ffece4\">&nbspthe&nbsp</span><span class=\"barcode\"; style=\"color: black; background-color: #feeae0\">&nbsppark&nbsp</span><span class=\"barcode\"; style=\"color: black; background-color: #fee5d9\">&nbsp.&nbsp</span><span class=\"barcode\"; style=\"color: black; background-color: #fca486\">&nbsp[SEP]&nbsp</span>"
      ],
      "text/plain": [
       "<IPython.core.display.HTML object>"
      ]
     },
     "metadata": {},
     "output_type": "display_data"
    },
    {
     "name": "stdout",
     "output_type": "stream",
     "text": [
      "Head 12\n"
     ]
    },
    {
     "data": {
      "text/html": [
       "<span class=\"barcode\"; style=\"color: black; background-color: #67000d\">&nbsp[CLS]&nbsp</span><span class=\"barcode\"; style=\"color: black; background-color: #ffebe2\">&nbspshe&nbsp</span><span class=\"barcode\"; style=\"color: black; background-color: #fff1ea\">&nbspare&nbsp</span><span class=\"barcode\"; style=\"color: black; background-color: #ffece3\">&nbspgoing&nbsp</span><span class=\"barcode\"; style=\"color: black; background-color: #ffece3\">&nbspto&nbsp</span><span class=\"barcode\"; style=\"color: black; background-color: #fee7db\">&nbspthe&nbsp</span><span class=\"barcode\"; style=\"color: black; background-color: #ffeee7\">&nbsppark&nbsp</span><span class=\"barcode\"; style=\"color: black; background-color: #fcb99f\">&nbsp.&nbsp</span><span class=\"barcode\"; style=\"color: black; background-color: #fca588\">&nbsp[SEP]&nbsp</span>"
      ],
      "text/plain": [
       "<IPython.core.display.HTML object>"
      ]
     },
     "metadata": {},
     "output_type": "display_data"
    },
    {
     "name": "stdout",
     "output_type": "stream",
     "text": [
      "\n",
      "Layer 5\n",
      "Head 1\n"
     ]
    },
    {
     "data": {
      "text/html": [
       "<span class=\"barcode\"; style=\"color: black; background-color: #fdd5c4\">&nbsp[CLS]&nbsp</span><span class=\"barcode\"; style=\"color: black; background-color: #fff3ed\">&nbspshe&nbsp</span><span class=\"barcode\"; style=\"color: black; background-color: #fff4ef\">&nbspare&nbsp</span><span class=\"barcode\"; style=\"color: black; background-color: #fff5f0\">&nbspgoing&nbsp</span><span class=\"barcode\"; style=\"color: black; background-color: #fff4ef\">&nbspto&nbsp</span><span class=\"barcode\"; style=\"color: black; background-color: #fff4ef\">&nbspthe&nbsp</span><span class=\"barcode\"; style=\"color: black; background-color: #fff4ee\">&nbsppark&nbsp</span><span class=\"barcode\"; style=\"color: black; background-color: #fff2eb\">&nbsp.&nbsp</span><span class=\"barcode\"; style=\"color: black; background-color: #fcb99f\">&nbsp[SEP]&nbsp</span>"
      ],
      "text/plain": [
       "<IPython.core.display.HTML object>"
      ]
     },
     "metadata": {},
     "output_type": "display_data"
    },
    {
     "name": "stdout",
     "output_type": "stream",
     "text": [
      "Head 2\n"
     ]
    },
    {
     "data": {
      "text/html": [
       "<span class=\"barcode\"; style=\"color: black; background-color: #f5523a\">&nbsp[CLS]&nbsp</span><span class=\"barcode\"; style=\"color: black; background-color: #feeae1\">&nbspshe&nbsp</span><span class=\"barcode\"; style=\"color: black; background-color: #fdd3c1\">&nbspare&nbsp</span><span class=\"barcode\"; style=\"color: black; background-color: #fee1d3\">&nbspgoing&nbsp</span><span class=\"barcode\"; style=\"color: black; background-color: #ffece4\">&nbspto&nbsp</span><span class=\"barcode\"; style=\"color: black; background-color: #fee3d6\">&nbspthe&nbsp</span><span class=\"barcode\"; style=\"color: black; background-color: #d21f20\">&nbsppark&nbsp</span><span class=\"barcode\"; style=\"color: black; background-color: #fdcbb6\">&nbsp.&nbsp</span><span class=\"barcode\"; style=\"color: black; background-color: #fff5f0\">&nbsp[SEP]&nbsp</span>"
      ],
      "text/plain": [
       "<IPython.core.display.HTML object>"
      ]
     },
     "metadata": {},
     "output_type": "display_data"
    },
    {
     "name": "stdout",
     "output_type": "stream",
     "text": [
      "Head 3\n"
     ]
    },
    {
     "data": {
      "text/html": [
       "<span class=\"barcode\"; style=\"color: black; background-color: #fee8dd\">&nbsp[CLS]&nbsp</span><span class=\"barcode\"; style=\"color: black; background-color: #67000d\">&nbspshe&nbsp</span><span class=\"barcode\"; style=\"color: black; background-color: #67000d\">&nbspare&nbsp</span><span class=\"barcode\"; style=\"color: black; background-color: #e32f27\">&nbspgoing&nbsp</span><span class=\"barcode\"; style=\"color: black; background-color: #fee0d2\">&nbspto&nbsp</span><span class=\"barcode\"; style=\"color: black; background-color: #fee4d8\">&nbspthe&nbsp</span><span class=\"barcode\"; style=\"color: black; background-color: #db2824\">&nbsppark&nbsp</span><span class=\"barcode\"; style=\"color: black; background-color: #fc8f6f\">&nbsp.&nbsp</span><span class=\"barcode\"; style=\"color: black; background-color: #fff2ec\">&nbsp[SEP]&nbsp</span>"
      ],
      "text/plain": [
       "<IPython.core.display.HTML object>"
      ]
     },
     "metadata": {},
     "output_type": "display_data"
    },
    {
     "name": "stdout",
     "output_type": "stream",
     "text": [
      "Head 4\n"
     ]
    },
    {
     "data": {
      "text/html": [
       "<span class=\"barcode\"; style=\"color: black; background-color: #fcc3ab\">&nbsp[CLS]&nbsp</span><span class=\"barcode\"; style=\"color: black; background-color: #ffeee7\">&nbspshe&nbsp</span><span class=\"barcode\"; style=\"color: black; background-color: #fff2ec\">&nbspare&nbsp</span><span class=\"barcode\"; style=\"color: black; background-color: #feeae0\">&nbspgoing&nbsp</span><span class=\"barcode\"; style=\"color: black; background-color: #ffefe8\">&nbspto&nbsp</span><span class=\"barcode\"; style=\"color: black; background-color: #fff0e9\">&nbspthe&nbsp</span><span class=\"barcode\"; style=\"color: black; background-color: #ffeee6\">&nbsppark&nbsp</span><span class=\"barcode\"; style=\"color: black; background-color: #fb7c5c\">&nbsp.&nbsp</span><span class=\"barcode\"; style=\"color: black; background-color: #fa6648\">&nbsp[SEP]&nbsp</span>"
      ],
      "text/plain": [
       "<IPython.core.display.HTML object>"
      ]
     },
     "metadata": {},
     "output_type": "display_data"
    },
    {
     "name": "stdout",
     "output_type": "stream",
     "text": [
      "Head 5\n"
     ]
    },
    {
     "data": {
      "text/html": [
       "<span class=\"barcode\"; style=\"color: black; background-color: #fc9070\">&nbsp[CLS]&nbsp</span><span class=\"barcode\"; style=\"color: black; background-color: #ffece4\">&nbspshe&nbsp</span><span class=\"barcode\"; style=\"color: black; background-color: #fdc6b0\">&nbspare&nbsp</span><span class=\"barcode\"; style=\"color: black; background-color: #fff3ed\">&nbspgoing&nbsp</span><span class=\"barcode\"; style=\"color: black; background-color: #fff4ee\">&nbspto&nbsp</span><span class=\"barcode\"; style=\"color: black; background-color: #fff2ec\">&nbspthe&nbsp</span><span class=\"barcode\"; style=\"color: black; background-color: #fff2ec\">&nbsppark&nbsp</span><span class=\"barcode\"; style=\"color: black; background-color: #ffede5\">&nbsp.&nbsp</span><span class=\"barcode\"; style=\"color: black; background-color: #fcb296\">&nbsp[SEP]&nbsp</span>"
      ],
      "text/plain": [
       "<IPython.core.display.HTML object>"
      ]
     },
     "metadata": {},
     "output_type": "display_data"
    },
    {
     "name": "stdout",
     "output_type": "stream",
     "text": [
      "Head 6\n"
     ]
    },
    {
     "data": {
      "text/html": [
       "<span class=\"barcode\"; style=\"color: black; background-color: #fcbea5\">&nbsp[CLS]&nbsp</span><span class=\"barcode\"; style=\"color: black; background-color: #ffeee7\">&nbspshe&nbsp</span><span class=\"barcode\"; style=\"color: black; background-color: #fcc2aa\">&nbspare&nbsp</span><span class=\"barcode\"; style=\"color: black; background-color: #fff0e8\">&nbspgoing&nbsp</span><span class=\"barcode\"; style=\"color: black; background-color: #fff4ef\">&nbspto&nbsp</span><span class=\"barcode\"; style=\"color: black; background-color: #fff4ee\">&nbspthe&nbsp</span><span class=\"barcode\"; style=\"color: black; background-color: #fff4ef\">&nbsppark&nbsp</span><span class=\"barcode\"; style=\"color: black; background-color: #fee5d8\">&nbsp.&nbsp</span><span class=\"barcode\"; style=\"color: black; background-color: #fcb499\">&nbsp[SEP]&nbsp</span>"
      ],
      "text/plain": [
       "<IPython.core.display.HTML object>"
      ]
     },
     "metadata": {},
     "output_type": "display_data"
    },
    {
     "name": "stdout",
     "output_type": "stream",
     "text": [
      "Head 7\n"
     ]
    },
    {
     "data": {
      "text/html": [
       "<span class=\"barcode\"; style=\"color: black; background-color: #ffece4\">&nbsp[CLS]&nbsp</span><span class=\"barcode\"; style=\"color: black; background-color: #fff3ed\">&nbspshe&nbsp</span><span class=\"barcode\"; style=\"color: black; background-color: #ffebe2\">&nbspare&nbsp</span><span class=\"barcode\"; style=\"color: black; background-color: #ffeee7\">&nbspgoing&nbsp</span><span class=\"barcode\"; style=\"color: black; background-color: #fff4ef\">&nbspto&nbsp</span><span class=\"barcode\"; style=\"color: black; background-color: #fff4ef\">&nbspthe&nbsp</span><span class=\"barcode\"; style=\"color: black; background-color: #ffeee7\">&nbsppark&nbsp</span><span class=\"barcode\"; style=\"color: black; background-color: #fff2eb\">&nbsp.&nbsp</span><span class=\"barcode\"; style=\"color: black; background-color: #fcbca2\">&nbsp[SEP]&nbsp</span>"
      ],
      "text/plain": [
       "<IPython.core.display.HTML object>"
      ]
     },
     "metadata": {},
     "output_type": "display_data"
    },
    {
     "name": "stdout",
     "output_type": "stream",
     "text": [
      "Head 8\n"
     ]
    },
    {
     "data": {
      "text/html": [
       "<span class=\"barcode\"; style=\"color: black; background-color: #fdcbb6\">&nbsp[CLS]&nbsp</span><span class=\"barcode\"; style=\"color: black; background-color: #ffebe2\">&nbspshe&nbsp</span><span class=\"barcode\"; style=\"color: black; background-color: #fff2ec\">&nbspare&nbsp</span><span class=\"barcode\"; style=\"color: black; background-color: #fff1ea\">&nbspgoing&nbsp</span><span class=\"barcode\"; style=\"color: black; background-color: #fff2ec\">&nbspto&nbsp</span><span class=\"barcode\"; style=\"color: black; background-color: #fff4ee\">&nbspthe&nbsp</span><span class=\"barcode\"; style=\"color: black; background-color: #fff0e8\">&nbsppark&nbsp</span><span class=\"barcode\"; style=\"color: black; background-color: #fee5d9\">&nbsp.&nbsp</span><span class=\"barcode\"; style=\"color: black; background-color: #fca486\">&nbsp[SEP]&nbsp</span>"
      ],
      "text/plain": [
       "<IPython.core.display.HTML object>"
      ]
     },
     "metadata": {},
     "output_type": "display_data"
    },
    {
     "name": "stdout",
     "output_type": "stream",
     "text": [
      "Head 9\n"
     ]
    },
    {
     "data": {
      "text/html": [
       "<span class=\"barcode\"; style=\"color: black; background-color: #fcb69b\">&nbsp[CLS]&nbsp</span><span class=\"barcode\"; style=\"color: black; background-color: #feeae0\">&nbspshe&nbsp</span><span class=\"barcode\"; style=\"color: black; background-color: #ffebe2\">&nbspare&nbsp</span><span class=\"barcode\"; style=\"color: black; background-color: #fee8de\">&nbspgoing&nbsp</span><span class=\"barcode\"; style=\"color: black; background-color: #fff0e9\">&nbspto&nbsp</span><span class=\"barcode\"; style=\"color: black; background-color: #fff2eb\">&nbspthe&nbsp</span><span class=\"barcode\"; style=\"color: black; background-color: #fff2eb\">&nbsppark&nbsp</span><span class=\"barcode\"; style=\"color: black; background-color: #fcbea5\">&nbsp.&nbsp</span><span class=\"barcode\"; style=\"color: black; background-color: #fcc4ad\">&nbsp[SEP]&nbsp</span>"
      ],
      "text/plain": [
       "<IPython.core.display.HTML object>"
      ]
     },
     "metadata": {},
     "output_type": "display_data"
    },
    {
     "name": "stdout",
     "output_type": "stream",
     "text": [
      "Head 10\n"
     ]
    },
    {
     "data": {
      "text/html": [
       "<span class=\"barcode\"; style=\"color: black; background-color: #fed8c7\">&nbsp[CLS]&nbsp</span><span class=\"barcode\"; style=\"color: black; background-color: #fcaf93\">&nbspshe&nbsp</span><span class=\"barcode\"; style=\"color: black; background-color: #fb7555\">&nbspare&nbsp</span><span class=\"barcode\"; style=\"color: black; background-color: #d72322\">&nbspgoing&nbsp</span><span class=\"barcode\"; style=\"color: black; background-color: #f75c41\">&nbspto&nbsp</span><span class=\"barcode\"; style=\"color: black; background-color: #fedecf\">&nbspthe&nbsp</span><span class=\"barcode\"; style=\"color: black; background-color: #fcc4ad\">&nbsppark&nbsp</span><span class=\"barcode\"; style=\"color: black; background-color: #fff0e9\">&nbsp.&nbsp</span><span class=\"barcode\"; style=\"color: black; background-color: #fdc6b0\">&nbsp[SEP]&nbsp</span>"
      ],
      "text/plain": [
       "<IPython.core.display.HTML object>"
      ]
     },
     "metadata": {},
     "output_type": "display_data"
    },
    {
     "name": "stdout",
     "output_type": "stream",
     "text": [
      "Head 11\n"
     ]
    },
    {
     "data": {
      "text/html": [
       "<span class=\"barcode\"; style=\"color: black; background-color: #fedccd\">&nbsp[CLS]&nbsp</span><span class=\"barcode\"; style=\"color: black; background-color: #fee8de\">&nbspshe&nbsp</span><span class=\"barcode\"; style=\"color: black; background-color: #fff0e9\">&nbspare&nbsp</span><span class=\"barcode\"; style=\"color: black; background-color: #fff0e9\">&nbspgoing&nbsp</span><span class=\"barcode\"; style=\"color: black; background-color: #fff1ea\">&nbspto&nbsp</span><span class=\"barcode\"; style=\"color: black; background-color: #fff2eb\">&nbspthe&nbsp</span><span class=\"barcode\"; style=\"color: black; background-color: #fff3ed\">&nbsppark&nbsp</span><span class=\"barcode\"; style=\"color: black; background-color: #fee3d7\">&nbsp.&nbsp</span><span class=\"barcode\"; style=\"color: black; background-color: #fcae92\">&nbsp[SEP]&nbsp</span>"
      ],
      "text/plain": [
       "<IPython.core.display.HTML object>"
      ]
     },
     "metadata": {},
     "output_type": "display_data"
    },
    {
     "name": "stdout",
     "output_type": "stream",
     "text": [
      "Head 12\n"
     ]
    },
    {
     "data": {
      "text/html": [
       "<span class=\"barcode\"; style=\"color: black; background-color: #fb7555\">&nbsp[CLS]&nbsp</span><span class=\"barcode\"; style=\"color: black; background-color: #fc997a\">&nbspshe&nbsp</span><span class=\"barcode\"; style=\"color: black; background-color: #67000d\">&nbspare&nbsp</span><span class=\"barcode\"; style=\"color: black; background-color: #ffeee7\">&nbspgoing&nbsp</span><span class=\"barcode\"; style=\"color: black; background-color: #ffeee6\">&nbspto&nbsp</span><span class=\"barcode\"; style=\"color: black; background-color: #ffece3\">&nbspthe&nbsp</span><span class=\"barcode\"; style=\"color: black; background-color: #ffefe8\">&nbsppark&nbsp</span><span class=\"barcode\"; style=\"color: black; background-color: #fc8060\">&nbsp.&nbsp</span><span class=\"barcode\"; style=\"color: black; background-color: #fee5d8\">&nbsp[SEP]&nbsp</span>"
      ],
      "text/plain": [
       "<IPython.core.display.HTML object>"
      ]
     },
     "metadata": {},
     "output_type": "display_data"
    },
    {
     "name": "stdout",
     "output_type": "stream",
     "text": [
      "\n",
      "Layer 6\n",
      "Head 1\n"
     ]
    },
    {
     "data": {
      "text/html": [
       "<span class=\"barcode\"; style=\"color: black; background-color: #fedfd0\">&nbsp[CLS]&nbsp</span><span class=\"barcode\"; style=\"color: black; background-color: #fcae92\">&nbspshe&nbsp</span><span class=\"barcode\"; style=\"color: black; background-color: #fcaa8d\">&nbspare&nbsp</span><span class=\"barcode\"; style=\"color: black; background-color: #feeae1\">&nbspgoing&nbsp</span><span class=\"barcode\"; style=\"color: black; background-color: #ffede5\">&nbspto&nbsp</span><span class=\"barcode\"; style=\"color: black; background-color: #fff2eb\">&nbspthe&nbsp</span><span class=\"barcode\"; style=\"color: black; background-color: #fff2ec\">&nbsppark&nbsp</span><span class=\"barcode\"; style=\"color: black; background-color: #fee8de\">&nbsp.&nbsp</span><span class=\"barcode\"; style=\"color: black; background-color: #fdc9b3\">&nbsp[SEP]&nbsp</span>"
      ],
      "text/plain": [
       "<IPython.core.display.HTML object>"
      ]
     },
     "metadata": {},
     "output_type": "display_data"
    },
    {
     "name": "stdout",
     "output_type": "stream",
     "text": [
      "Head 2\n"
     ]
    },
    {
     "data": {
      "text/html": [
       "<span class=\"barcode\"; style=\"color: black; background-color: #ffebe2\">&nbsp[CLS]&nbsp</span><span class=\"barcode\"; style=\"color: black; background-color: #fee8de\">&nbspshe&nbsp</span><span class=\"barcode\"; style=\"color: black; background-color: #fff2ec\">&nbspare&nbsp</span><span class=\"barcode\"; style=\"color: black; background-color: #ffefe8\">&nbspgoing&nbsp</span><span class=\"barcode\"; style=\"color: black; background-color: #fff4ef\">&nbspto&nbsp</span><span class=\"barcode\"; style=\"color: black; background-color: #fff4ef\">&nbspthe&nbsp</span><span class=\"barcode\"; style=\"color: black; background-color: #fff4ef\">&nbsppark&nbsp</span><span class=\"barcode\"; style=\"color: black; background-color: #fff0e8\">&nbsp.&nbsp</span><span class=\"barcode\"; style=\"color: black; background-color: #fdc9b3\">&nbsp[SEP]&nbsp</span>"
      ],
      "text/plain": [
       "<IPython.core.display.HTML object>"
      ]
     },
     "metadata": {},
     "output_type": "display_data"
    },
    {
     "name": "stdout",
     "output_type": "stream",
     "text": [
      "Head 3\n"
     ]
    },
    {
     "data": {
      "text/html": [
       "<span class=\"barcode\"; style=\"color: black; background-color: #fdc9b3\">&nbsp[CLS]&nbsp</span><span class=\"barcode\"; style=\"color: black; background-color: #fff2ec\">&nbspshe&nbsp</span><span class=\"barcode\"; style=\"color: black; background-color: #ffefe8\">&nbspare&nbsp</span><span class=\"barcode\"; style=\"color: black; background-color: #fff4ee\">&nbspgoing&nbsp</span><span class=\"barcode\"; style=\"color: black; background-color: #fff2eb\">&nbspto&nbsp</span><span class=\"barcode\"; style=\"color: black; background-color: #fff0e9\">&nbspthe&nbsp</span><span class=\"barcode\"; style=\"color: black; background-color: #fff2eb\">&nbsppark&nbsp</span><span class=\"barcode\"; style=\"color: black; background-color: #fee5d8\">&nbsp.&nbsp</span><span class=\"barcode\"; style=\"color: black; background-color: #fca689\">&nbsp[SEP]&nbsp</span>"
      ],
      "text/plain": [
       "<IPython.core.display.HTML object>"
      ]
     },
     "metadata": {},
     "output_type": "display_data"
    },
    {
     "name": "stdout",
     "output_type": "stream",
     "text": [
      "Head 4\n"
     ]
    },
    {
     "data": {
      "text/html": [
       "<span class=\"barcode\"; style=\"color: black; background-color: #fee8dd\">&nbsp[CLS]&nbsp</span><span class=\"barcode\"; style=\"color: black; background-color: #f96346\">&nbspshe&nbsp</span><span class=\"barcode\"; style=\"color: black; background-color: #f14432\">&nbspare&nbsp</span><span class=\"barcode\"; style=\"color: black; background-color: #fee7dc\">&nbspgoing&nbsp</span><span class=\"barcode\"; style=\"color: black; background-color: #ffece4\">&nbspto&nbsp</span><span class=\"barcode\"; style=\"color: black; background-color: #fff0e8\">&nbspthe&nbsp</span><span class=\"barcode\"; style=\"color: black; background-color: #fff1ea\">&nbsppark&nbsp</span><span class=\"barcode\"; style=\"color: black; background-color: #fcb095\">&nbsp.&nbsp</span><span class=\"barcode\"; style=\"color: black; background-color: #fdcbb6\">&nbsp[SEP]&nbsp</span>"
      ],
      "text/plain": [
       "<IPython.core.display.HTML object>"
      ]
     },
     "metadata": {},
     "output_type": "display_data"
    },
    {
     "name": "stdout",
     "output_type": "stream",
     "text": [
      "Head 5\n"
     ]
    },
    {
     "data": {
      "text/html": [
       "<span class=\"barcode\"; style=\"color: black; background-color: #fee2d5\">&nbsp[CLS]&nbsp</span><span class=\"barcode\"; style=\"color: black; background-color: #fcc2aa\">&nbspshe&nbsp</span><span class=\"barcode\"; style=\"color: black; background-color: #67000d\">&nbspare&nbsp</span><span class=\"barcode\"; style=\"color: black; background-color: #67000d\">&nbspgoing&nbsp</span><span class=\"barcode\"; style=\"color: black; background-color: #fdc5ae\">&nbspto&nbsp</span><span class=\"barcode\"; style=\"color: black; background-color: #fee5d8\">&nbspthe&nbsp</span><span class=\"barcode\"; style=\"color: black; background-color: #fca78b\">&nbsppark&nbsp</span><span class=\"barcode\"; style=\"color: black; background-color: #fdc9b3\">&nbsp.&nbsp</span><span class=\"barcode\"; style=\"color: black; background-color: #fcbda4\">&nbsp[SEP]&nbsp</span>"
      ],
      "text/plain": [
       "<IPython.core.display.HTML object>"
      ]
     },
     "metadata": {},
     "output_type": "display_data"
    },
    {
     "name": "stdout",
     "output_type": "stream",
     "text": [
      "Head 6\n"
     ]
    },
    {
     "data": {
      "text/html": [
       "<span class=\"barcode\"; style=\"color: black; background-color: #fee5d8\">&nbsp[CLS]&nbsp</span><span class=\"barcode\"; style=\"color: black; background-color: #ffebe2\">&nbspshe&nbsp</span><span class=\"barcode\"; style=\"color: black; background-color: #fed8c7\">&nbspare&nbsp</span><span class=\"barcode\"; style=\"color: black; background-color: #fff5f0\">&nbspgoing&nbsp</span><span class=\"barcode\"; style=\"color: black; background-color: #fff5f0\">&nbspto&nbsp</span><span class=\"barcode\"; style=\"color: black; background-color: #fff5f0\">&nbspthe&nbsp</span><span class=\"barcode\"; style=\"color: black; background-color: #fff4ef\">&nbsppark&nbsp</span><span class=\"barcode\"; style=\"color: black; background-color: #fcc2aa\">&nbsp.&nbsp</span><span class=\"barcode\"; style=\"color: black; background-color: #fdcebb\">&nbsp[SEP]&nbsp</span>"
      ],
      "text/plain": [
       "<IPython.core.display.HTML object>"
      ]
     },
     "metadata": {},
     "output_type": "display_data"
    },
    {
     "name": "stdout",
     "output_type": "stream",
     "text": [
      "Head 7\n"
     ]
    },
    {
     "data": {
      "text/html": [
       "<span class=\"barcode\"; style=\"color: black; background-color: #fee9df\">&nbsp[CLS]&nbsp</span><span class=\"barcode\"; style=\"color: black; background-color: #ffeee6\">&nbspshe&nbsp</span><span class=\"barcode\"; style=\"color: black; background-color: #fff3ed\">&nbspare&nbsp</span><span class=\"barcode\"; style=\"color: black; background-color: #fff4ef\">&nbspgoing&nbsp</span><span class=\"barcode\"; style=\"color: black; background-color: #fff4ee\">&nbspto&nbsp</span><span class=\"barcode\"; style=\"color: black; background-color: #fff0e8\">&nbspthe&nbsp</span><span class=\"barcode\"; style=\"color: black; background-color: #fff2ec\">&nbsppark&nbsp</span><span class=\"barcode\"; style=\"color: black; background-color: #fee1d4\">&nbsp.&nbsp</span><span class=\"barcode\"; style=\"color: black; background-color: #fcb69b\">&nbsp[SEP]&nbsp</span>"
      ],
      "text/plain": [
       "<IPython.core.display.HTML object>"
      ]
     },
     "metadata": {},
     "output_type": "display_data"
    },
    {
     "name": "stdout",
     "output_type": "stream",
     "text": [
      "Head 8\n"
     ]
    },
    {
     "data": {
      "text/html": [
       "<span class=\"barcode\"; style=\"color: black; background-color: #fee3d6\">&nbsp[CLS]&nbsp</span><span class=\"barcode\"; style=\"color: black; background-color: #fff3ed\">&nbspshe&nbsp</span><span class=\"barcode\"; style=\"color: black; background-color: #f6583e\">&nbspare&nbsp</span><span class=\"barcode\"; style=\"color: black; background-color: #ffebe2\">&nbspgoing&nbsp</span><span class=\"barcode\"; style=\"color: black; background-color: #ffece4\">&nbspto&nbsp</span><span class=\"barcode\"; style=\"color: black; background-color: #fff4ef\">&nbspthe&nbsp</span><span class=\"barcode\"; style=\"color: black; background-color: #fff2ec\">&nbsppark&nbsp</span><span class=\"barcode\"; style=\"color: black; background-color: #fdc9b3\">&nbsp.&nbsp</span><span class=\"barcode\"; style=\"color: black; background-color: #fcc1a8\">&nbsp[SEP]&nbsp</span>"
      ],
      "text/plain": [
       "<IPython.core.display.HTML object>"
      ]
     },
     "metadata": {},
     "output_type": "display_data"
    },
    {
     "name": "stdout",
     "output_type": "stream",
     "text": [
      "Head 9\n"
     ]
    },
    {
     "data": {
      "text/html": [
       "<span class=\"barcode\"; style=\"color: black; background-color: #fca588\">&nbsp[CLS]&nbsp</span><span class=\"barcode\"; style=\"color: black; background-color: #fc8a6a\">&nbspshe&nbsp</span><span class=\"barcode\"; style=\"color: black; background-color: #fb6e4e\">&nbspare&nbsp</span><span class=\"barcode\"; style=\"color: black; background-color: #fc8565\">&nbspgoing&nbsp</span><span class=\"barcode\"; style=\"color: black; background-color: #fc8a6a\">&nbspto&nbsp</span><span class=\"barcode\"; style=\"color: black; background-color: #fca082\">&nbspthe&nbsp</span><span class=\"barcode\"; style=\"color: black; background-color: #fdd1be\">&nbsppark&nbsp</span><span class=\"barcode\"; style=\"color: black; background-color: #fdd2bf\">&nbsp.&nbsp</span><span class=\"barcode\"; style=\"color: black; background-color: #fdd7c6\">&nbsp[SEP]&nbsp</span>"
      ],
      "text/plain": [
       "<IPython.core.display.HTML object>"
      ]
     },
     "metadata": {},
     "output_type": "display_data"
    },
    {
     "name": "stdout",
     "output_type": "stream",
     "text": [
      "Head 10\n"
     ]
    },
    {
     "data": {
      "text/html": [
       "<span class=\"barcode\"; style=\"color: black; background-color: #fedfd0\">&nbsp[CLS]&nbsp</span><span class=\"barcode\"; style=\"color: black; background-color: #fdc5ae\">&nbspshe&nbsp</span><span class=\"barcode\"; style=\"color: black; background-color: #fcc2aa\">&nbspare&nbsp</span><span class=\"barcode\"; style=\"color: black; background-color: #ffeee7\">&nbspgoing&nbsp</span><span class=\"barcode\"; style=\"color: black; background-color: #fff2ec\">&nbspto&nbsp</span><span class=\"barcode\"; style=\"color: black; background-color: #fff2eb\">&nbspthe&nbsp</span><span class=\"barcode\"; style=\"color: black; background-color: #fff2ec\">&nbsppark&nbsp</span><span class=\"barcode\"; style=\"color: black; background-color: #960b13\">&nbsp.&nbsp</span><span class=\"barcode\"; style=\"color: black; background-color: #fee0d2\">&nbsp[SEP]&nbsp</span>"
      ],
      "text/plain": [
       "<IPython.core.display.HTML object>"
      ]
     },
     "metadata": {},
     "output_type": "display_data"
    },
    {
     "name": "stdout",
     "output_type": "stream",
     "text": [
      "Head 11\n"
     ]
    },
    {
     "data": {
      "text/html": [
       "<span class=\"barcode\"; style=\"color: black; background-color: #ffebe2\">&nbsp[CLS]&nbsp</span><span class=\"barcode\"; style=\"color: black; background-color: #fcb095\">&nbspshe&nbsp</span><span class=\"barcode\"; style=\"color: black; background-color: #fedaca\">&nbspare&nbsp</span><span class=\"barcode\"; style=\"color: black; background-color: #ffece4\">&nbspgoing&nbsp</span><span class=\"barcode\"; style=\"color: black; background-color: #ffede5\">&nbspto&nbsp</span><span class=\"barcode\"; style=\"color: black; background-color: #ffeee7\">&nbspthe&nbsp</span><span class=\"barcode\"; style=\"color: black; background-color: #fee1d4\">&nbsppark&nbsp</span><span class=\"barcode\"; style=\"color: black; background-color: #fcbda4\">&nbsp.&nbsp</span><span class=\"barcode\"; style=\"color: black; background-color: #fcb095\">&nbsp[SEP]&nbsp</span>"
      ],
      "text/plain": [
       "<IPython.core.display.HTML object>"
      ]
     },
     "metadata": {},
     "output_type": "display_data"
    },
    {
     "name": "stdout",
     "output_type": "stream",
     "text": [
      "Head 12\n"
     ]
    },
    {
     "data": {
      "text/html": [
       "<span class=\"barcode\"; style=\"color: black; background-color: #fee2d5\">&nbsp[CLS]&nbsp</span><span class=\"barcode\"; style=\"color: black; background-color: #fff2ec\">&nbspshe&nbsp</span><span class=\"barcode\"; style=\"color: black; background-color: #ffeee7\">&nbspare&nbsp</span><span class=\"barcode\"; style=\"color: black; background-color: #fff2ec\">&nbspgoing&nbsp</span><span class=\"barcode\"; style=\"color: black; background-color: #fff4ee\">&nbspto&nbsp</span><span class=\"barcode\"; style=\"color: black; background-color: #fff4ef\">&nbspthe&nbsp</span><span class=\"barcode\"; style=\"color: black; background-color: #fff5f0\">&nbsppark&nbsp</span><span class=\"barcode\"; style=\"color: black; background-color: #fdcbb6\">&nbsp.&nbsp</span><span class=\"barcode\"; style=\"color: black; background-color: #fca285\">&nbsp[SEP]&nbsp</span>"
      ],
      "text/plain": [
       "<IPython.core.display.HTML object>"
      ]
     },
     "metadata": {},
     "output_type": "display_data"
    },
    {
     "name": "stdout",
     "output_type": "stream",
     "text": [
      "\n",
      "Layer 7\n",
      "Head 1\n"
     ]
    },
    {
     "data": {
      "text/html": [
       "<span class=\"barcode\"; style=\"color: black; background-color: #fee8dd\">&nbsp[CLS]&nbsp</span><span class=\"barcode\"; style=\"color: black; background-color: #a10e15\">&nbspshe&nbsp</span><span class=\"barcode\"; style=\"color: black; background-color: #67000d\">&nbspare&nbsp</span><span class=\"barcode\"; style=\"color: black; background-color: #f96044\">&nbspgoing&nbsp</span><span class=\"barcode\"; style=\"color: black; background-color: #fee1d3\">&nbspto&nbsp</span><span class=\"barcode\"; style=\"color: black; background-color: #fee8de\">&nbspthe&nbsp</span><span class=\"barcode\"; style=\"color: black; background-color: #fee8de\">&nbsppark&nbsp</span><span class=\"barcode\"; style=\"color: black; background-color: #fb7b5b\">&nbsp.&nbsp</span><span class=\"barcode\"; style=\"color: black; background-color: #fee7db\">&nbsp[SEP]&nbsp</span>"
      ],
      "text/plain": [
       "<IPython.core.display.HTML object>"
      ]
     },
     "metadata": {},
     "output_type": "display_data"
    },
    {
     "name": "stdout",
     "output_type": "stream",
     "text": [
      "Head 2\n"
     ]
    },
    {
     "data": {
      "text/html": [
       "<span class=\"barcode\"; style=\"color: black; background-color: #ffece4\">&nbsp[CLS]&nbsp</span><span class=\"barcode\"; style=\"color: black; background-color: #fc9b7c\">&nbspshe&nbsp</span><span class=\"barcode\"; style=\"color: black; background-color: #67000d\">&nbspare&nbsp</span><span class=\"barcode\"; style=\"color: black; background-color: #fee3d7\">&nbspgoing&nbsp</span><span class=\"barcode\"; style=\"color: black; background-color: #ffece3\">&nbspto&nbsp</span><span class=\"barcode\"; style=\"color: black; background-color: #ffeee7\">&nbspthe&nbsp</span><span class=\"barcode\"; style=\"color: black; background-color: #fff2ec\">&nbsppark&nbsp</span><span class=\"barcode\"; style=\"color: black; background-color: #fcab8f\">&nbsp.&nbsp</span><span class=\"barcode\"; style=\"color: black; background-color: #fee6da\">&nbsp[SEP]&nbsp</span>"
      ],
      "text/plain": [
       "<IPython.core.display.HTML object>"
      ]
     },
     "metadata": {},
     "output_type": "display_data"
    },
    {
     "name": "stdout",
     "output_type": "stream",
     "text": [
      "Head 3\n"
     ]
    },
    {
     "data": {
      "text/html": [
       "<span class=\"barcode\"; style=\"color: black; background-color: #fff4ef\">&nbsp[CLS]&nbsp</span><span class=\"barcode\"; style=\"color: black; background-color: #fedbcc\">&nbspshe&nbsp</span><span class=\"barcode\"; style=\"color: black; background-color: #fdcab5\">&nbspare&nbsp</span><span class=\"barcode\"; style=\"color: black; background-color: #fdd3c1\">&nbspgoing&nbsp</span><span class=\"barcode\"; style=\"color: black; background-color: #fee2d5\">&nbspto&nbsp</span><span class=\"barcode\"; style=\"color: black; background-color: #fff0e9\">&nbspthe&nbsp</span><span class=\"barcode\"; style=\"color: black; background-color: #ffece4\">&nbsppark&nbsp</span><span class=\"barcode\"; style=\"color: black; background-color: #67000d\">&nbsp.&nbsp</span><span class=\"barcode\"; style=\"color: black; background-color: #fff1ea\">&nbsp[SEP]&nbsp</span>"
      ],
      "text/plain": [
       "<IPython.core.display.HTML object>"
      ]
     },
     "metadata": {},
     "output_type": "display_data"
    },
    {
     "name": "stdout",
     "output_type": "stream",
     "text": [
      "Head 4\n"
     ]
    },
    {
     "data": {
      "text/html": [
       "<span class=\"barcode\"; style=\"color: black; background-color: #fedecf\">&nbsp[CLS]&nbsp</span><span class=\"barcode\"; style=\"color: black; background-color: #ffeee7\">&nbspshe&nbsp</span><span class=\"barcode\"; style=\"color: black; background-color: #fff4ef\">&nbspare&nbsp</span><span class=\"barcode\"; style=\"color: black; background-color: #fff4ef\">&nbspgoing&nbsp</span><span class=\"barcode\"; style=\"color: black; background-color: #fff4ef\">&nbspto&nbsp</span><span class=\"barcode\"; style=\"color: black; background-color: #fff5f0\">&nbspthe&nbsp</span><span class=\"barcode\"; style=\"color: black; background-color: #fff4ef\">&nbsppark&nbsp</span><span class=\"barcode\"; style=\"color: black; background-color: #fee2d5\">&nbsp.&nbsp</span><span class=\"barcode\"; style=\"color: black; background-color: #fdd2bf\">&nbsp[SEP]&nbsp</span>"
      ],
      "text/plain": [
       "<IPython.core.display.HTML object>"
      ]
     },
     "metadata": {},
     "output_type": "display_data"
    },
    {
     "name": "stdout",
     "output_type": "stream",
     "text": [
      "Head 5\n"
     ]
    },
    {
     "data": {
      "text/html": [
       "<span class=\"barcode\"; style=\"color: black; background-color: #fff2eb\">&nbsp[CLS]&nbsp</span><span class=\"barcode\"; style=\"color: black; background-color: #fcc3ab\">&nbspshe&nbsp</span><span class=\"barcode\"; style=\"color: black; background-color: #fc9b7c\">&nbspare&nbsp</span><span class=\"barcode\"; style=\"color: black; background-color: #fee3d6\">&nbspgoing&nbsp</span><span class=\"barcode\"; style=\"color: black; background-color: #fee8de\">&nbspto&nbsp</span><span class=\"barcode\"; style=\"color: black; background-color: #fff2ec\">&nbspthe&nbsp</span><span class=\"barcode\"; style=\"color: black; background-color: #feeae0\">&nbsppark&nbsp</span><span class=\"barcode\"; style=\"color: black; background-color: #fff4ee\">&nbsp.&nbsp</span><span class=\"barcode\"; style=\"color: black; background-color: #fedecf\">&nbsp[SEP]&nbsp</span>"
      ],
      "text/plain": [
       "<IPython.core.display.HTML object>"
      ]
     },
     "metadata": {},
     "output_type": "display_data"
    },
    {
     "name": "stdout",
     "output_type": "stream",
     "text": [
      "Head 6\n"
     ]
    },
    {
     "data": {
      "text/html": [
       "<span class=\"barcode\"; style=\"color: black; background-color: #fcc3ab\">&nbsp[CLS]&nbsp</span><span class=\"barcode\"; style=\"color: black; background-color: #e93529\">&nbspshe&nbsp</span><span class=\"barcode\"; style=\"color: black; background-color: #fca486\">&nbspare&nbsp</span><span class=\"barcode\"; style=\"color: black; background-color: #f4503a\">&nbspgoing&nbsp</span><span class=\"barcode\"; style=\"color: black; background-color: #fcbda4\">&nbspto&nbsp</span><span class=\"barcode\"; style=\"color: black; background-color: #fee7dc\">&nbspthe&nbsp</span><span class=\"barcode\"; style=\"color: black; background-color: #feeae1\">&nbsppark&nbsp</span><span class=\"barcode\"; style=\"color: black; background-color: #fee2d5\">&nbsp.&nbsp</span><span class=\"barcode\"; style=\"color: black; background-color: #fee5d9\">&nbsp[SEP]&nbsp</span>"
      ],
      "text/plain": [
       "<IPython.core.display.HTML object>"
      ]
     },
     "metadata": {},
     "output_type": "display_data"
    },
    {
     "name": "stdout",
     "output_type": "stream",
     "text": [
      "Head 7\n"
     ]
    },
    {
     "data": {
      "text/html": [
       "<span class=\"barcode\"; style=\"color: black; background-color: #fcb69b\">&nbsp[CLS]&nbsp</span><span class=\"barcode\"; style=\"color: black; background-color: #fee6da\">&nbspshe&nbsp</span><span class=\"barcode\"; style=\"color: black; background-color: #fff0e9\">&nbspare&nbsp</span><span class=\"barcode\"; style=\"color: black; background-color: #ffeee7\">&nbspgoing&nbsp</span><span class=\"barcode\"; style=\"color: black; background-color: #fff2ec\">&nbspto&nbsp</span><span class=\"barcode\"; style=\"color: black; background-color: #fff2ec\">&nbspthe&nbsp</span><span class=\"barcode\"; style=\"color: black; background-color: #fff5f0\">&nbsppark&nbsp</span><span class=\"barcode\"; style=\"color: black; background-color: #ffece4\">&nbsp.&nbsp</span><span class=\"barcode\"; style=\"color: black; background-color: #fcb398\">&nbsp[SEP]&nbsp</span>"
      ],
      "text/plain": [
       "<IPython.core.display.HTML object>"
      ]
     },
     "metadata": {},
     "output_type": "display_data"
    },
    {
     "name": "stdout",
     "output_type": "stream",
     "text": [
      "Head 8\n"
     ]
    },
    {
     "data": {
      "text/html": [
       "<span class=\"barcode\"; style=\"color: black; background-color: #fdd2bf\">&nbsp[CLS]&nbsp</span><span class=\"barcode\"; style=\"color: black; background-color: #fff2eb\">&nbspshe&nbsp</span><span class=\"barcode\"; style=\"color: black; background-color: #fee2d5\">&nbspare&nbsp</span><span class=\"barcode\"; style=\"color: black; background-color: #ffeee6\">&nbspgoing&nbsp</span><span class=\"barcode\"; style=\"color: black; background-color: #fff0e9\">&nbspto&nbsp</span><span class=\"barcode\"; style=\"color: black; background-color: #fff4ee\">&nbspthe&nbsp</span><span class=\"barcode\"; style=\"color: black; background-color: #fcc1a8\">&nbsppark&nbsp</span><span class=\"barcode\"; style=\"color: black; background-color: #ffece3\">&nbsp.&nbsp</span><span class=\"barcode\"; style=\"color: black; background-color: #fcaa8d\">&nbsp[SEP]&nbsp</span>"
      ],
      "text/plain": [
       "<IPython.core.display.HTML object>"
      ]
     },
     "metadata": {},
     "output_type": "display_data"
    },
    {
     "name": "stdout",
     "output_type": "stream",
     "text": [
      "Head 9\n"
     ]
    },
    {
     "data": {
      "text/html": [
       "<span class=\"barcode\"; style=\"color: black; background-color: #fee8dd\">&nbsp[CLS]&nbsp</span><span class=\"barcode\"; style=\"color: black; background-color: #fee8dd\">&nbspshe&nbsp</span><span class=\"barcode\"; style=\"color: black; background-color: #fedecf\">&nbspare&nbsp</span><span class=\"barcode\"; style=\"color: black; background-color: #fee4d8\">&nbspgoing&nbsp</span><span class=\"barcode\"; style=\"color: black; background-color: #ffede5\">&nbspto&nbsp</span><span class=\"barcode\"; style=\"color: black; background-color: #fff2ec\">&nbspthe&nbsp</span><span class=\"barcode\"; style=\"color: black; background-color: #fff2ec\">&nbsppark&nbsp</span><span class=\"barcode\"; style=\"color: black; background-color: #fc9777\">&nbsp.&nbsp</span><span class=\"barcode\"; style=\"color: black; background-color: #fc9070\">&nbsp[SEP]&nbsp</span>"
      ],
      "text/plain": [
       "<IPython.core.display.HTML object>"
      ]
     },
     "metadata": {},
     "output_type": "display_data"
    },
    {
     "name": "stdout",
     "output_type": "stream",
     "text": [
      "Head 10\n"
     ]
    },
    {
     "data": {
      "text/html": [
       "<span class=\"barcode\"; style=\"color: black; background-color: #fee6da\">&nbsp[CLS]&nbsp</span><span class=\"barcode\"; style=\"color: black; background-color: #fee3d7\">&nbspshe&nbsp</span><span class=\"barcode\"; style=\"color: black; background-color: #ffefe8\">&nbspare&nbsp</span><span class=\"barcode\"; style=\"color: black; background-color: #fff2ec\">&nbspgoing&nbsp</span><span class=\"barcode\"; style=\"color: black; background-color: #fff2eb\">&nbspto&nbsp</span><span class=\"barcode\"; style=\"color: black; background-color: #fff0e8\">&nbspthe&nbsp</span><span class=\"barcode\"; style=\"color: black; background-color: #fff2ec\">&nbsppark&nbsp</span><span class=\"barcode\"; style=\"color: black; background-color: #fedbcc\">&nbsp.&nbsp</span><span class=\"barcode\"; style=\"color: black; background-color: #fc8565\">&nbsp[SEP]&nbsp</span>"
      ],
      "text/plain": [
       "<IPython.core.display.HTML object>"
      ]
     },
     "metadata": {},
     "output_type": "display_data"
    },
    {
     "name": "stdout",
     "output_type": "stream",
     "text": [
      "Head 11\n"
     ]
    },
    {
     "data": {
      "text/html": [
       "<span class=\"barcode\"; style=\"color: black; background-color: #fee3d6\">&nbsp[CLS]&nbsp</span><span class=\"barcode\"; style=\"color: black; background-color: #fee8de\">&nbspshe&nbsp</span><span class=\"barcode\"; style=\"color: black; background-color: #fee9df\">&nbspare&nbsp</span><span class=\"barcode\"; style=\"color: black; background-color: #fff0e8\">&nbspgoing&nbsp</span><span class=\"barcode\"; style=\"color: black; background-color: #fff2ec\">&nbspto&nbsp</span><span class=\"barcode\"; style=\"color: black; background-color: #fff4ef\">&nbspthe&nbsp</span><span class=\"barcode\"; style=\"color: black; background-color: #fff3ed\">&nbsppark&nbsp</span><span class=\"barcode\"; style=\"color: black; background-color: #fee8dd\">&nbsp.&nbsp</span><span class=\"barcode\"; style=\"color: black; background-color: #fc9d7f\">&nbsp[SEP]&nbsp</span>"
      ],
      "text/plain": [
       "<IPython.core.display.HTML object>"
      ]
     },
     "metadata": {},
     "output_type": "display_data"
    },
    {
     "name": "stdout",
     "output_type": "stream",
     "text": [
      "Head 12\n"
     ]
    },
    {
     "data": {
      "text/html": [
       "<span class=\"barcode\"; style=\"color: black; background-color: #fff5f0\">&nbsp[CLS]&nbsp</span><span class=\"barcode\"; style=\"color: black; background-color: #ffebe2\">&nbspshe&nbsp</span><span class=\"barcode\"; style=\"color: black; background-color: #fff2ec\">&nbspare&nbsp</span><span class=\"barcode\"; style=\"color: black; background-color: #fee8de\">&nbspgoing&nbsp</span><span class=\"barcode\"; style=\"color: black; background-color: #fff1ea\">&nbspto&nbsp</span><span class=\"barcode\"; style=\"color: black; background-color: #fff4ee\">&nbspthe&nbsp</span><span class=\"barcode\"; style=\"color: black; background-color: #fff2ec\">&nbsppark&nbsp</span><span class=\"barcode\"; style=\"color: black; background-color: #67000d\">&nbsp.&nbsp</span><span class=\"barcode\"; style=\"color: black; background-color: #fff4ee\">&nbsp[SEP]&nbsp</span>"
      ],
      "text/plain": [
       "<IPython.core.display.HTML object>"
      ]
     },
     "metadata": {},
     "output_type": "display_data"
    },
    {
     "name": "stdout",
     "output_type": "stream",
     "text": [
      "\n",
      "Layer 8\n",
      "Head 1\n"
     ]
    },
    {
     "data": {
      "text/html": [
       "<span class=\"barcode\"; style=\"color: black; background-color: #fff2eb\">&nbsp[CLS]&nbsp</span><span class=\"barcode\"; style=\"color: black; background-color: #fcb499\">&nbspshe&nbsp</span><span class=\"barcode\"; style=\"color: black; background-color: #fc9576\">&nbspare&nbsp</span><span class=\"barcode\"; style=\"color: black; background-color: #fee4d8\">&nbspgoing&nbsp</span><span class=\"barcode\"; style=\"color: black; background-color: #fee2d5\">&nbspto&nbsp</span><span class=\"barcode\"; style=\"color: black; background-color: #fee9df\">&nbspthe&nbsp</span><span class=\"barcode\"; style=\"color: black; background-color: #fedfd0\">&nbsppark&nbsp</span><span class=\"barcode\"; style=\"color: black; background-color: #fb7555\">&nbsp.&nbsp</span><span class=\"barcode\"; style=\"color: black; background-color: #fdccb8\">&nbsp[SEP]&nbsp</span>"
      ],
      "text/plain": [
       "<IPython.core.display.HTML object>"
      ]
     },
     "metadata": {},
     "output_type": "display_data"
    },
    {
     "name": "stdout",
     "output_type": "stream",
     "text": [
      "Head 2\n"
     ]
    },
    {
     "data": {
      "text/html": [
       "<span class=\"barcode\"; style=\"color: black; background-color: #fcc2aa\">&nbsp[CLS]&nbsp</span><span class=\"barcode\"; style=\"color: black; background-color: #fc8f6f\">&nbspshe&nbsp</span><span class=\"barcode\"; style=\"color: black; background-color: #67000d\">&nbspare&nbsp</span><span class=\"barcode\"; style=\"color: black; background-color: #fc8565\">&nbspgoing&nbsp</span><span class=\"barcode\"; style=\"color: black; background-color: #fedaca\">&nbspto&nbsp</span><span class=\"barcode\"; style=\"color: black; background-color: #fff2eb\">&nbspthe&nbsp</span><span class=\"barcode\"; style=\"color: black; background-color: #fee3d7\">&nbsppark&nbsp</span><span class=\"barcode\"; style=\"color: black; background-color: #fb7d5d\">&nbsp.&nbsp</span><span class=\"barcode\"; style=\"color: black; background-color: #feeae1\">&nbsp[SEP]&nbsp</span>"
      ],
      "text/plain": [
       "<IPython.core.display.HTML object>"
      ]
     },
     "metadata": {},
     "output_type": "display_data"
    },
    {
     "name": "stdout",
     "output_type": "stream",
     "text": [
      "Head 3\n"
     ]
    },
    {
     "data": {
      "text/html": [
       "<span class=\"barcode\"; style=\"color: black; background-color: #fdcbb6\">&nbsp[CLS]&nbsp</span><span class=\"barcode\"; style=\"color: black; background-color: #7e0610\">&nbspshe&nbsp</span><span class=\"barcode\"; style=\"color: black; background-color: #fcb499\">&nbspare&nbsp</span><span class=\"barcode\"; style=\"color: black; background-color: #fff3ed\">&nbspgoing&nbsp</span><span class=\"barcode\"; style=\"color: black; background-color: #fff4ee\">&nbspto&nbsp</span><span class=\"barcode\"; style=\"color: black; background-color: #fff2ec\">&nbspthe&nbsp</span><span class=\"barcode\"; style=\"color: black; background-color: #fff2ec\">&nbsppark&nbsp</span><span class=\"barcode\"; style=\"color: black; background-color: #fff1ea\">&nbsp.&nbsp</span><span class=\"barcode\"; style=\"color: black; background-color: #fedbcc\">&nbsp[SEP]&nbsp</span>"
      ],
      "text/plain": [
       "<IPython.core.display.HTML object>"
      ]
     },
     "metadata": {},
     "output_type": "display_data"
    },
    {
     "name": "stdout",
     "output_type": "stream",
     "text": [
      "Head 4\n"
     ]
    },
    {
     "data": {
      "text/html": [
       "<span class=\"barcode\"; style=\"color: black; background-color: #ffeee6\">&nbsp[CLS]&nbsp</span><span class=\"barcode\"; style=\"color: black; background-color: #fff5f0\">&nbspshe&nbsp</span><span class=\"barcode\"; style=\"color: black; background-color: #fee6da\">&nbspare&nbsp</span><span class=\"barcode\"; style=\"color: black; background-color: #fff2ec\">&nbspgoing&nbsp</span><span class=\"barcode\"; style=\"color: black; background-color: #fff2ec\">&nbspto&nbsp</span><span class=\"barcode\"; style=\"color: black; background-color: #fff5f0\">&nbspthe&nbsp</span><span class=\"barcode\"; style=\"color: black; background-color: #fff2ec\">&nbsppark&nbsp</span><span class=\"barcode\"; style=\"color: black; background-color: #fed9c9\">&nbsp.&nbsp</span><span class=\"barcode\"; style=\"color: black; background-color: #fdcab5\">&nbsp[SEP]&nbsp</span>"
      ],
      "text/plain": [
       "<IPython.core.display.HTML object>"
      ]
     },
     "metadata": {},
     "output_type": "display_data"
    },
    {
     "name": "stdout",
     "output_type": "stream",
     "text": [
      "Head 5\n"
     ]
    },
    {
     "data": {
      "text/html": [
       "<span class=\"barcode\"; style=\"color: black; background-color: #fff4ef\">&nbsp[CLS]&nbsp</span><span class=\"barcode\"; style=\"color: black; background-color: #fff4ee\">&nbspshe&nbsp</span><span class=\"barcode\"; style=\"color: black; background-color: #fff1ea\">&nbspare&nbsp</span><span class=\"barcode\"; style=\"color: black; background-color: #fff2eb\">&nbspgoing&nbsp</span><span class=\"barcode\"; style=\"color: black; background-color: #ffece4\">&nbspto&nbsp</span><span class=\"barcode\"; style=\"color: black; background-color: #ffeee7\">&nbspthe&nbsp</span><span class=\"barcode\"; style=\"color: black; background-color: #fff5f0\">&nbsppark&nbsp</span><span class=\"barcode\"; style=\"color: black; background-color: #fff1ea\">&nbsp.&nbsp</span><span class=\"barcode\"; style=\"color: black; background-color: #fca285\">&nbsp[SEP]&nbsp</span>"
      ],
      "text/plain": [
       "<IPython.core.display.HTML object>"
      ]
     },
     "metadata": {},
     "output_type": "display_data"
    },
    {
     "name": "stdout",
     "output_type": "stream",
     "text": [
      "Head 6\n"
     ]
    },
    {
     "data": {
      "text/html": [
       "<span class=\"barcode\"; style=\"color: black; background-color: #fee8dd\">&nbsp[CLS]&nbsp</span><span class=\"barcode\"; style=\"color: black; background-color: #ffeee7\">&nbspshe&nbsp</span><span class=\"barcode\"; style=\"color: black; background-color: #67000d\">&nbspare&nbsp</span><span class=\"barcode\"; style=\"color: black; background-color: #feeae1\">&nbspgoing&nbsp</span><span class=\"barcode\"; style=\"color: black; background-color: #fff2eb\">&nbspto&nbsp</span><span class=\"barcode\"; style=\"color: black; background-color: #fff4ef\">&nbspthe&nbsp</span><span class=\"barcode\"; style=\"color: black; background-color: #fdcebb\">&nbsppark&nbsp</span><span class=\"barcode\"; style=\"color: black; background-color: #ffeee6\">&nbsp.&nbsp</span><span class=\"barcode\"; style=\"color: black; background-color: #fed9c9\">&nbsp[SEP]&nbsp</span>"
      ],
      "text/plain": [
       "<IPython.core.display.HTML object>"
      ]
     },
     "metadata": {},
     "output_type": "display_data"
    },
    {
     "name": "stdout",
     "output_type": "stream",
     "text": [
      "Head 7\n"
     ]
    },
    {
     "data": {
      "text/html": [
       "<span class=\"barcode\"; style=\"color: black; background-color: #fcc3ab\">&nbsp[CLS]&nbsp</span><span class=\"barcode\"; style=\"color: black; background-color: #ffeee6\">&nbspshe&nbsp</span><span class=\"barcode\"; style=\"color: black; background-color: #fcb296\">&nbspare&nbsp</span><span class=\"barcode\"; style=\"color: black; background-color: #feeae1\">&nbspgoing&nbsp</span><span class=\"barcode\"; style=\"color: black; background-color: #ffeee7\">&nbspto&nbsp</span><span class=\"barcode\"; style=\"color: black; background-color: #fff2eb\">&nbspthe&nbsp</span><span class=\"barcode\"; style=\"color: black; background-color: #fee4d8\">&nbsppark&nbsp</span><span class=\"barcode\"; style=\"color: black; background-color: #fcc3ab\">&nbsp.&nbsp</span><span class=\"barcode\"; style=\"color: black; background-color: #fdd0bc\">&nbsp[SEP]&nbsp</span>"
      ],
      "text/plain": [
       "<IPython.core.display.HTML object>"
      ]
     },
     "metadata": {},
     "output_type": "display_data"
    },
    {
     "name": "stdout",
     "output_type": "stream",
     "text": [
      "Head 8\n"
     ]
    },
    {
     "data": {
      "text/html": [
       "<span class=\"barcode\"; style=\"color: black; background-color: #fff2ec\">&nbsp[CLS]&nbsp</span><span class=\"barcode\"; style=\"color: black; background-color: #fee4d8\">&nbspshe&nbsp</span><span class=\"barcode\"; style=\"color: black; background-color: #fee3d6\">&nbspare&nbsp</span><span class=\"barcode\"; style=\"color: black; background-color: #fff2ec\">&nbspgoing&nbsp</span><span class=\"barcode\"; style=\"color: black; background-color: #fff5f0\">&nbspto&nbsp</span><span class=\"barcode\"; style=\"color: black; background-color: #fff5f0\">&nbspthe&nbsp</span><span class=\"barcode\"; style=\"color: black; background-color: #fff5f0\">&nbsppark&nbsp</span><span class=\"barcode\"; style=\"color: black; background-color: #67000d\">&nbsp.&nbsp</span><span class=\"barcode\"; style=\"color: black; background-color: #fff3ed\">&nbsp[SEP]&nbsp</span>"
      ],
      "text/plain": [
       "<IPython.core.display.HTML object>"
      ]
     },
     "metadata": {},
     "output_type": "display_data"
    },
    {
     "name": "stdout",
     "output_type": "stream",
     "text": [
      "Head 9\n"
     ]
    },
    {
     "data": {
      "text/html": [
       "<span class=\"barcode\"; style=\"color: black; background-color: #fdc7b2\">&nbsp[CLS]&nbsp</span><span class=\"barcode\"; style=\"color: black; background-color: #fee8dd\">&nbspshe&nbsp</span><span class=\"barcode\"; style=\"color: black; background-color: #67000d\">&nbspare&nbsp</span><span class=\"barcode\"; style=\"color: black; background-color: #fee4d8\">&nbspgoing&nbsp</span><span class=\"barcode\"; style=\"color: black; background-color: #ffece3\">&nbspto&nbsp</span><span class=\"barcode\"; style=\"color: black; background-color: #fff2eb\">&nbspthe&nbsp</span><span class=\"barcode\"; style=\"color: black; background-color: #fff3ed\">&nbsppark&nbsp</span><span class=\"barcode\"; style=\"color: black; background-color: #67000d\">&nbsp.&nbsp</span><span class=\"barcode\"; style=\"color: black; background-color: #ffece4\">&nbsp[SEP]&nbsp</span>"
      ],
      "text/plain": [
       "<IPython.core.display.HTML object>"
      ]
     },
     "metadata": {},
     "output_type": "display_data"
    },
    {
     "name": "stdout",
     "output_type": "stream",
     "text": [
      "Head 10\n"
     ]
    },
    {
     "data": {
      "text/html": [
       "<span class=\"barcode\"; style=\"color: black; background-color: #ffefe8\">&nbsp[CLS]&nbsp</span><span class=\"barcode\"; style=\"color: black; background-color: #fff0e8\">&nbspshe&nbsp</span><span class=\"barcode\"; style=\"color: black; background-color: #fee5d9\">&nbspare&nbsp</span><span class=\"barcode\"; style=\"color: black; background-color: #ffeee7\">&nbspgoing&nbsp</span><span class=\"barcode\"; style=\"color: black; background-color: #fff3ed\">&nbspto&nbsp</span><span class=\"barcode\"; style=\"color: black; background-color: #fff4ef\">&nbspthe&nbsp</span><span class=\"barcode\"; style=\"color: black; background-color: #fff2eb\">&nbsppark&nbsp</span><span class=\"barcode\"; style=\"color: black; background-color: #fee9df\">&nbsp.&nbsp</span><span class=\"barcode\"; style=\"color: black; background-color: #fcbea5\">&nbsp[SEP]&nbsp</span>"
      ],
      "text/plain": [
       "<IPython.core.display.HTML object>"
      ]
     },
     "metadata": {},
     "output_type": "display_data"
    },
    {
     "name": "stdout",
     "output_type": "stream",
     "text": [
      "Head 11\n"
     ]
    },
    {
     "data": {
      "text/html": [
       "<span class=\"barcode\"; style=\"color: black; background-color: #ffeee7\">&nbsp[CLS]&nbsp</span><span class=\"barcode\"; style=\"color: black; background-color: #fcc3ab\">&nbspshe&nbsp</span><span class=\"barcode\"; style=\"color: black; background-color: #fb7b5b\">&nbspare&nbsp</span><span class=\"barcode\"; style=\"color: black; background-color: #ffefe8\">&nbspgoing&nbsp</span><span class=\"barcode\"; style=\"color: black; background-color: #fee1d4\">&nbspto&nbsp</span><span class=\"barcode\"; style=\"color: black; background-color: #ffebe2\">&nbspthe&nbsp</span><span class=\"barcode\"; style=\"color: black; background-color: #fee6da\">&nbsppark&nbsp</span><span class=\"barcode\"; style=\"color: black; background-color: #fff2ec\">&nbsp.&nbsp</span><span class=\"barcode\"; style=\"color: black; background-color: #fedbcc\">&nbsp[SEP]&nbsp</span>"
      ],
      "text/plain": [
       "<IPython.core.display.HTML object>"
      ]
     },
     "metadata": {},
     "output_type": "display_data"
    },
    {
     "name": "stdout",
     "output_type": "stream",
     "text": [
      "Head 12\n"
     ]
    },
    {
     "data": {
      "text/html": [
       "<span class=\"barcode\"; style=\"color: black; background-color: #fff5f0\">&nbsp[CLS]&nbsp</span><span class=\"barcode\"; style=\"color: black; background-color: #fff4ef\">&nbspshe&nbsp</span><span class=\"barcode\"; style=\"color: black; background-color: #fff1ea\">&nbspare&nbsp</span><span class=\"barcode\"; style=\"color: black; background-color: #fff4ef\">&nbspgoing&nbsp</span><span class=\"barcode\"; style=\"color: black; background-color: #fff5f0\">&nbspto&nbsp</span><span class=\"barcode\"; style=\"color: black; background-color: #fff4ef\">&nbspthe&nbsp</span><span class=\"barcode\"; style=\"color: black; background-color: #fff5f0\">&nbsppark&nbsp</span><span class=\"barcode\"; style=\"color: black; background-color: #67000d\">&nbsp.&nbsp</span><span class=\"barcode\"; style=\"color: black; background-color: #fff5f0\">&nbsp[SEP]&nbsp</span>"
      ],
      "text/plain": [
       "<IPython.core.display.HTML object>"
      ]
     },
     "metadata": {},
     "output_type": "display_data"
    },
    {
     "name": "stdout",
     "output_type": "stream",
     "text": [
      "\n",
      "Layer 9\n",
      "Head 1\n"
     ]
    },
    {
     "data": {
      "text/html": [
       "<span class=\"barcode\"; style=\"color: black; background-color: #fdd7c6\">&nbsp[CLS]&nbsp</span><span class=\"barcode\"; style=\"color: black; background-color: #fedbcc\">&nbspshe&nbsp</span><span class=\"barcode\"; style=\"color: black; background-color: #67000d\">&nbspare&nbsp</span><span class=\"barcode\"; style=\"color: black; background-color: #f7593f\">&nbspgoing&nbsp</span><span class=\"barcode\"; style=\"color: black; background-color: #fedfd0\">&nbspto&nbsp</span><span class=\"barcode\"; style=\"color: black; background-color: #fedaca\">&nbspthe&nbsp</span><span class=\"barcode\"; style=\"color: black; background-color: #fee5d9\">&nbsppark&nbsp</span><span class=\"barcode\"; style=\"color: black; background-color: #fedecf\">&nbsp.&nbsp</span><span class=\"barcode\"; style=\"color: black; background-color: #fee6da\">&nbsp[SEP]&nbsp</span>"
      ],
      "text/plain": [
       "<IPython.core.display.HTML object>"
      ]
     },
     "metadata": {},
     "output_type": "display_data"
    },
    {
     "name": "stdout",
     "output_type": "stream",
     "text": [
      "Head 2\n"
     ]
    },
    {
     "data": {
      "text/html": [
       "<span class=\"barcode\"; style=\"color: black; background-color: #fc9e80\">&nbsp[CLS]&nbsp</span><span class=\"barcode\"; style=\"color: black; background-color: #b21218\">&nbspshe&nbsp</span><span class=\"barcode\"; style=\"color: black; background-color: #a30f15\">&nbspare&nbsp</span><span class=\"barcode\"; style=\"color: black; background-color: #fedccd\">&nbspgoing&nbsp</span><span class=\"barcode\"; style=\"color: black; background-color: #ffede5\">&nbspto&nbsp</span><span class=\"barcode\"; style=\"color: black; background-color: #fee2d5\">&nbspthe&nbsp</span><span class=\"barcode\"; style=\"color: black; background-color: #fee3d7\">&nbsppark&nbsp</span><span class=\"barcode\"; style=\"color: black; background-color: #fedfd0\">&nbsp.&nbsp</span><span class=\"barcode\"; style=\"color: black; background-color: #fcbea5\">&nbsp[SEP]&nbsp</span>"
      ],
      "text/plain": [
       "<IPython.core.display.HTML object>"
      ]
     },
     "metadata": {},
     "output_type": "display_data"
    },
    {
     "name": "stdout",
     "output_type": "stream",
     "text": [
      "Head 3\n"
     ]
    },
    {
     "data": {
      "text/html": [
       "<span class=\"barcode\"; style=\"color: black; background-color: #fff2eb\">&nbsp[CLS]&nbsp</span><span class=\"barcode\"; style=\"color: black; background-color: #67000d\">&nbspshe&nbsp</span><span class=\"barcode\"; style=\"color: black; background-color: #af1117\">&nbspare&nbsp</span><span class=\"barcode\"; style=\"color: black; background-color: #fff5f0\">&nbspgoing&nbsp</span><span class=\"barcode\"; style=\"color: black; background-color: #fff5f0\">&nbspto&nbsp</span><span class=\"barcode\"; style=\"color: black; background-color: #fff5f0\">&nbspthe&nbsp</span><span class=\"barcode\"; style=\"color: black; background-color: #fff5f0\">&nbsppark&nbsp</span><span class=\"barcode\"; style=\"color: black; background-color: #ffece3\">&nbsp.&nbsp</span><span class=\"barcode\"; style=\"color: black; background-color: #fee7db\">&nbsp[SEP]&nbsp</span>"
      ],
      "text/plain": [
       "<IPython.core.display.HTML object>"
      ]
     },
     "metadata": {},
     "output_type": "display_data"
    },
    {
     "name": "stdout",
     "output_type": "stream",
     "text": [
      "Head 4\n"
     ]
    },
    {
     "data": {
      "text/html": [
       "<span class=\"barcode\"; style=\"color: black; background-color: #fff3ed\">&nbsp[CLS]&nbsp</span><span class=\"barcode\"; style=\"color: black; background-color: #fff3ed\">&nbspshe&nbsp</span><span class=\"barcode\"; style=\"color: black; background-color: #d42121\">&nbspare&nbsp</span><span class=\"barcode\"; style=\"color: black; background-color: #fff0e9\">&nbspgoing&nbsp</span><span class=\"barcode\"; style=\"color: black; background-color: #fff2eb\">&nbspto&nbsp</span><span class=\"barcode\"; style=\"color: black; background-color: #fff4ef\">&nbspthe&nbsp</span><span class=\"barcode\"; style=\"color: black; background-color: #fff2ec\">&nbsppark&nbsp</span><span class=\"barcode\"; style=\"color: black; background-color: #fff2eb\">&nbsp.&nbsp</span><span class=\"barcode\"; style=\"color: black; background-color: #fcbba1\">&nbsp[SEP]&nbsp</span>"
      ],
      "text/plain": [
       "<IPython.core.display.HTML object>"
      ]
     },
     "metadata": {},
     "output_type": "display_data"
    },
    {
     "name": "stdout",
     "output_type": "stream",
     "text": [
      "Head 5\n"
     ]
    },
    {
     "data": {
      "text/html": [
       "<span class=\"barcode\"; style=\"color: black; background-color: #fff3ed\">&nbsp[CLS]&nbsp</span><span class=\"barcode\"; style=\"color: black; background-color: #940b13\">&nbspshe&nbsp</span><span class=\"barcode\"; style=\"color: black; background-color: #860811\">&nbspare&nbsp</span><span class=\"barcode\"; style=\"color: black; background-color: #67000d\">&nbspgoing&nbsp</span><span class=\"barcode\"; style=\"color: black; background-color: #ce1a1e\">&nbspto&nbsp</span><span class=\"barcode\"; style=\"color: black; background-color: #fc8e6e\">&nbspthe&nbsp</span><span class=\"barcode\"; style=\"color: black; background-color: #fcc4ad\">&nbsppark&nbsp</span><span class=\"barcode\"; style=\"color: black; background-color: #fdd4c2\">&nbsp.&nbsp</span><span class=\"barcode\"; style=\"color: black; background-color: #ffeee7\">&nbsp[SEP]&nbsp</span>"
      ],
      "text/plain": [
       "<IPython.core.display.HTML object>"
      ]
     },
     "metadata": {},
     "output_type": "display_data"
    },
    {
     "name": "stdout",
     "output_type": "stream",
     "text": [
      "Head 6\n"
     ]
    },
    {
     "data": {
      "text/html": [
       "<span class=\"barcode\"; style=\"color: black; background-color: #fee9df\">&nbsp[CLS]&nbsp</span><span class=\"barcode\"; style=\"color: black; background-color: #fc9d7f\">&nbspshe&nbsp</span><span class=\"barcode\"; style=\"color: black; background-color: #67000d\">&nbspare&nbsp</span><span class=\"barcode\"; style=\"color: black; background-color: #fee1d3\">&nbspgoing&nbsp</span><span class=\"barcode\"; style=\"color: black; background-color: #fff3ed\">&nbspto&nbsp</span><span class=\"barcode\"; style=\"color: black; background-color: #ffeee6\">&nbspthe&nbsp</span><span class=\"barcode\"; style=\"color: black; background-color: #ffefe8\">&nbsppark&nbsp</span><span class=\"barcode\"; style=\"color: black; background-color: #fff4ee\">&nbsp.&nbsp</span><span class=\"barcode\"; style=\"color: black; background-color: #fee7dc\">&nbsp[SEP]&nbsp</span>"
      ],
      "text/plain": [
       "<IPython.core.display.HTML object>"
      ]
     },
     "metadata": {},
     "output_type": "display_data"
    },
    {
     "name": "stdout",
     "output_type": "stream",
     "text": [
      "Head 7\n"
     ]
    },
    {
     "data": {
      "text/html": [
       "<span class=\"barcode\"; style=\"color: black; background-color: #fff1ea\">&nbsp[CLS]&nbsp</span><span class=\"barcode\"; style=\"color: black; background-color: #fdcebb\">&nbspshe&nbsp</span><span class=\"barcode\"; style=\"color: black; background-color: #fdc5ae\">&nbspare&nbsp</span><span class=\"barcode\"; style=\"color: black; background-color: #feeae1\">&nbspgoing&nbsp</span><span class=\"barcode\"; style=\"color: black; background-color: #feeae0\">&nbspto&nbsp</span><span class=\"barcode\"; style=\"color: black; background-color: #ffece4\">&nbspthe&nbsp</span><span class=\"barcode\"; style=\"color: black; background-color: #ffefe8\">&nbsppark&nbsp</span><span class=\"barcode\"; style=\"color: black; background-color: #fdd4c2\">&nbsp.&nbsp</span><span class=\"barcode\"; style=\"color: black; background-color: #fb7b5b\">&nbsp[SEP]&nbsp</span>"
      ],
      "text/plain": [
       "<IPython.core.display.HTML object>"
      ]
     },
     "metadata": {},
     "output_type": "display_data"
    },
    {
     "name": "stdout",
     "output_type": "stream",
     "text": [
      "Head 8\n"
     ]
    },
    {
     "data": {
      "text/html": [
       "<span class=\"barcode\"; style=\"color: black; background-color: #fa6547\">&nbsp[CLS]&nbsp</span><span class=\"barcode\"; style=\"color: black; background-color: #db2824\">&nbspshe&nbsp</span><span class=\"barcode\"; style=\"color: black; background-color: #67000d\">&nbspare&nbsp</span><span class=\"barcode\"; style=\"color: black; background-color: #f6563d\">&nbspgoing&nbsp</span><span class=\"barcode\"; style=\"color: black; background-color: #fedfd0\">&nbspto&nbsp</span><span class=\"barcode\"; style=\"color: black; background-color: #fee8de\">&nbspthe&nbsp</span><span class=\"barcode\"; style=\"color: black; background-color: #f6553c\">&nbsppark&nbsp</span><span class=\"barcode\"; style=\"color: black; background-color: #fdd4c2\">&nbsp.&nbsp</span><span class=\"barcode\"; style=\"color: black; background-color: #feeae0\">&nbsp[SEP]&nbsp</span>"
      ],
      "text/plain": [
       "<IPython.core.display.HTML object>"
      ]
     },
     "metadata": {},
     "output_type": "display_data"
    },
    {
     "name": "stdout",
     "output_type": "stream",
     "text": [
      "Head 9\n"
     ]
    },
    {
     "data": {
      "text/html": [
       "<span class=\"barcode\"; style=\"color: black; background-color: #feeae1\">&nbsp[CLS]&nbsp</span><span class=\"barcode\"; style=\"color: black; background-color: #fb7555\">&nbspshe&nbsp</span><span class=\"barcode\"; style=\"color: black; background-color: #67000d\">&nbspare&nbsp</span><span class=\"barcode\"; style=\"color: black; background-color: #fcbfa7\">&nbspgoing&nbsp</span><span class=\"barcode\"; style=\"color: black; background-color: #fee3d7\">&nbspto&nbsp</span><span class=\"barcode\"; style=\"color: black; background-color: #fee7dc\">&nbspthe&nbsp</span><span class=\"barcode\"; style=\"color: black; background-color: #fdc7b2\">&nbsppark&nbsp</span><span class=\"barcode\"; style=\"color: black; background-color: #fdcebb\">&nbsp.&nbsp</span><span class=\"barcode\"; style=\"color: black; background-color: #fdcdb9\">&nbsp[SEP]&nbsp</span>"
      ],
      "text/plain": [
       "<IPython.core.display.HTML object>"
      ]
     },
     "metadata": {},
     "output_type": "display_data"
    },
    {
     "name": "stdout",
     "output_type": "stream",
     "text": [
      "Head 10\n"
     ]
    },
    {
     "data": {
      "text/html": [
       "<span class=\"barcode\"; style=\"color: black; background-color: #fee7dc\">&nbsp[CLS]&nbsp</span><span class=\"barcode\"; style=\"color: black; background-color: #fb7656\">&nbspshe&nbsp</span><span class=\"barcode\"; style=\"color: black; background-color: #73030f\">&nbspare&nbsp</span><span class=\"barcode\"; style=\"color: black; background-color: #fcbba1\">&nbspgoing&nbsp</span><span class=\"barcode\"; style=\"color: black; background-color: #fee0d2\">&nbspto&nbsp</span><span class=\"barcode\"; style=\"color: black; background-color: #fff2eb\">&nbspthe&nbsp</span><span class=\"barcode\"; style=\"color: black; background-color: #ffeee7\">&nbsppark&nbsp</span><span class=\"barcode\"; style=\"color: black; background-color: #ffece4\">&nbsp.&nbsp</span><span class=\"barcode\"; style=\"color: black; background-color: #fcbba1\">&nbsp[SEP]&nbsp</span>"
      ],
      "text/plain": [
       "<IPython.core.display.HTML object>"
      ]
     },
     "metadata": {},
     "output_type": "display_data"
    },
    {
     "name": "stdout",
     "output_type": "stream",
     "text": [
      "Head 11\n"
     ]
    },
    {
     "data": {
      "text/html": [
       "<span class=\"barcode\"; style=\"color: black; background-color: #fff3ed\">&nbsp[CLS]&nbsp</span><span class=\"barcode\"; style=\"color: black; background-color: #fee6da\">&nbspshe&nbsp</span><span class=\"barcode\"; style=\"color: black; background-color: #f24734\">&nbspare&nbsp</span><span class=\"barcode\"; style=\"color: black; background-color: #fff4ee\">&nbspgoing&nbsp</span><span class=\"barcode\"; style=\"color: black; background-color: #fff4ee\">&nbspto&nbsp</span><span class=\"barcode\"; style=\"color: black; background-color: #fff4ef\">&nbspthe&nbsp</span><span class=\"barcode\"; style=\"color: black; background-color: #fff4ef\">&nbsppark&nbsp</span><span class=\"barcode\"; style=\"color: black; background-color: #fff4ee\">&nbsp.&nbsp</span><span class=\"barcode\"; style=\"color: black; background-color: #fdc9b3\">&nbsp[SEP]&nbsp</span>"
      ],
      "text/plain": [
       "<IPython.core.display.HTML object>"
      ]
     },
     "metadata": {},
     "output_type": "display_data"
    },
    {
     "name": "stdout",
     "output_type": "stream",
     "text": [
      "Head 12\n"
     ]
    },
    {
     "data": {
      "text/html": [
       "<span class=\"barcode\"; style=\"color: black; background-color: #ffece4\">&nbsp[CLS]&nbsp</span><span class=\"barcode\"; style=\"color: black; background-color: #ffeee6\">&nbspshe&nbsp</span><span class=\"barcode\"; style=\"color: black; background-color: #a81016\">&nbspare&nbsp</span><span class=\"barcode\"; style=\"color: black; background-color: #fff2ec\">&nbspgoing&nbsp</span><span class=\"barcode\"; style=\"color: black; background-color: #ffeee6\">&nbspto&nbsp</span><span class=\"barcode\"; style=\"color: black; background-color: #fff4ef\">&nbspthe&nbsp</span><span class=\"barcode\"; style=\"color: black; background-color: #fff2ec\">&nbsppark&nbsp</span><span class=\"barcode\"; style=\"color: black; background-color: #fdd5c4\">&nbsp.&nbsp</span><span class=\"barcode\"; style=\"color: black; background-color: #fedecf\">&nbsp[SEP]&nbsp</span>"
      ],
      "text/plain": [
       "<IPython.core.display.HTML object>"
      ]
     },
     "metadata": {},
     "output_type": "display_data"
    },
    {
     "name": "stdout",
     "output_type": "stream",
     "text": [
      "\n",
      "Layer 10\n",
      "Head 1\n"
     ]
    },
    {
     "data": {
      "text/html": [
       "<span class=\"barcode\"; style=\"color: black; background-color: #fcc1a8\">&nbsp[CLS]&nbsp</span><span class=\"barcode\"; style=\"color: black; background-color: #f96346\">&nbspshe&nbsp</span><span class=\"barcode\"; style=\"color: black; background-color: #fc9474\">&nbspare&nbsp</span><span class=\"barcode\"; style=\"color: black; background-color: #f44f39\">&nbspgoing&nbsp</span><span class=\"barcode\"; style=\"color: black; background-color: #fcb095\">&nbspto&nbsp</span><span class=\"barcode\"; style=\"color: black; background-color: #fc9e80\">&nbspthe&nbsp</span><span class=\"barcode\"; style=\"color: black; background-color: #fcb398\">&nbsppark&nbsp</span><span class=\"barcode\"; style=\"color: black; background-color: #fc8b6b\">&nbsp.&nbsp</span><span class=\"barcode\"; style=\"color: black; background-color: #fee5d9\">&nbsp[SEP]&nbsp</span>"
      ],
      "text/plain": [
       "<IPython.core.display.HTML object>"
      ]
     },
     "metadata": {},
     "output_type": "display_data"
    },
    {
     "name": "stdout",
     "output_type": "stream",
     "text": [
      "Head 2\n"
     ]
    },
    {
     "data": {
      "text/html": [
       "<span class=\"barcode\"; style=\"color: black; background-color: #fc9d7f\">&nbsp[CLS]&nbsp</span><span class=\"barcode\"; style=\"color: black; background-color: #fcab8f\">&nbspshe&nbsp</span><span class=\"barcode\"; style=\"color: black; background-color: #ffebe2\">&nbspare&nbsp</span><span class=\"barcode\"; style=\"color: black; background-color: #fdd1be\">&nbspgoing&nbsp</span><span class=\"barcode\"; style=\"color: black; background-color: #ffece4\">&nbspto&nbsp</span><span class=\"barcode\"; style=\"color: black; background-color: #fee7db\">&nbspthe&nbsp</span><span class=\"barcode\"; style=\"color: black; background-color: #ffefe8\">&nbsppark&nbsp</span><span class=\"barcode\"; style=\"color: black; background-color: #fdcbb6\">&nbsp.&nbsp</span><span class=\"barcode\"; style=\"color: black; background-color: #fdc7b2\">&nbsp[SEP]&nbsp</span>"
      ],
      "text/plain": [
       "<IPython.core.display.HTML object>"
      ]
     },
     "metadata": {},
     "output_type": "display_data"
    },
    {
     "name": "stdout",
     "output_type": "stream",
     "text": [
      "Head 3\n"
     ]
    },
    {
     "data": {
      "text/html": [
       "<span class=\"barcode\"; style=\"color: black; background-color: #ffece4\">&nbsp[CLS]&nbsp</span><span class=\"barcode\"; style=\"color: black; background-color: #fcc2aa\">&nbspshe&nbsp</span><span class=\"barcode\"; style=\"color: black; background-color: #75030f\">&nbspare&nbsp</span><span class=\"barcode\"; style=\"color: black; background-color: #fee0d2\">&nbspgoing&nbsp</span><span class=\"barcode\"; style=\"color: black; background-color: #ffefe8\">&nbspto&nbsp</span><span class=\"barcode\"; style=\"color: black; background-color: #ffefe8\">&nbspthe&nbsp</span><span class=\"barcode\"; style=\"color: black; background-color: #ffebe2\">&nbsppark&nbsp</span><span class=\"barcode\"; style=\"color: black; background-color: #fee4d8\">&nbsp.&nbsp</span><span class=\"barcode\"; style=\"color: black; background-color: #fcbca2\">&nbsp[SEP]&nbsp</span>"
      ],
      "text/plain": [
       "<IPython.core.display.HTML object>"
      ]
     },
     "metadata": {},
     "output_type": "display_data"
    },
    {
     "name": "stdout",
     "output_type": "stream",
     "text": [
      "Head 4\n"
     ]
    },
    {
     "data": {
      "text/html": [
       "<span class=\"barcode\"; style=\"color: black; background-color: #fedbcc\">&nbsp[CLS]&nbsp</span><span class=\"barcode\"; style=\"color: black; background-color: #fdcdb9\">&nbspshe&nbsp</span><span class=\"barcode\"; style=\"color: black; background-color: #fee5d8\">&nbspare&nbsp</span><span class=\"barcode\"; style=\"color: black; background-color: #fee3d7\">&nbspgoing&nbsp</span><span class=\"barcode\"; style=\"color: black; background-color: #fee5d9\">&nbspto&nbsp</span><span class=\"barcode\"; style=\"color: black; background-color: #fee8dd\">&nbspthe&nbsp</span><span class=\"barcode\"; style=\"color: black; background-color: #fedbcc\">&nbsppark&nbsp</span><span class=\"barcode\"; style=\"color: black; background-color: #fc9272\">&nbsp.&nbsp</span><span class=\"barcode\"; style=\"color: black; background-color: #fcaf93\">&nbsp[SEP]&nbsp</span>"
      ],
      "text/plain": [
       "<IPython.core.display.HTML object>"
      ]
     },
     "metadata": {},
     "output_type": "display_data"
    },
    {
     "name": "stdout",
     "output_type": "stream",
     "text": [
      "Head 5\n"
     ]
    },
    {
     "data": {
      "text/html": [
       "<span class=\"barcode\"; style=\"color: black; background-color: #f0402f\">&nbsp[CLS]&nbsp</span><span class=\"barcode\"; style=\"color: black; background-color: #fcbea5\">&nbspshe&nbsp</span><span class=\"barcode\"; style=\"color: black; background-color: #fee4d8\">&nbspare&nbsp</span><span class=\"barcode\"; style=\"color: black; background-color: #ffeee7\">&nbspgoing&nbsp</span><span class=\"barcode\"; style=\"color: black; background-color: #ffede5\">&nbspto&nbsp</span><span class=\"barcode\"; style=\"color: black; background-color: #fff0e9\">&nbspthe&nbsp</span><span class=\"barcode\"; style=\"color: black; background-color: #fee9df\">&nbsppark&nbsp</span><span class=\"barcode\"; style=\"color: black; background-color: #fed8c7\">&nbsp.&nbsp</span><span class=\"barcode\"; style=\"color: black; background-color: #fdccb8\">&nbsp[SEP]&nbsp</span>"
      ],
      "text/plain": [
       "<IPython.core.display.HTML object>"
      ]
     },
     "metadata": {},
     "output_type": "display_data"
    },
    {
     "name": "stdout",
     "output_type": "stream",
     "text": [
      "Head 6\n"
     ]
    },
    {
     "data": {
      "text/html": [
       "<span class=\"barcode\"; style=\"color: black; background-color: #fc8666\">&nbsp[CLS]&nbsp</span><span class=\"barcode\"; style=\"color: black; background-color: #67000d\">&nbspshe&nbsp</span><span class=\"barcode\"; style=\"color: black; background-color: #67000d\">&nbspare&nbsp</span><span class=\"barcode\"; style=\"color: black; background-color: #6f020e\">&nbspgoing&nbsp</span><span class=\"barcode\"; style=\"color: black; background-color: #fb694a\">&nbspto&nbsp</span><span class=\"barcode\"; style=\"color: black; background-color: #fc9e80\">&nbspthe&nbsp</span><span class=\"barcode\"; style=\"color: black; background-color: #fb7b5b\">&nbsppark&nbsp</span><span class=\"barcode\"; style=\"color: black; background-color: #f6553c\">&nbsp.&nbsp</span><span class=\"barcode\"; style=\"color: black; background-color: #fc9e80\">&nbsp[SEP]&nbsp</span>"
      ],
      "text/plain": [
       "<IPython.core.display.HTML object>"
      ]
     },
     "metadata": {},
     "output_type": "display_data"
    },
    {
     "name": "stdout",
     "output_type": "stream",
     "text": [
      "Head 7\n"
     ]
    },
    {
     "data": {
      "text/html": [
       "<span class=\"barcode\"; style=\"color: black; background-color: #fdd4c2\">&nbsp[CLS]&nbsp</span><span class=\"barcode\"; style=\"color: black; background-color: #ef3c2c\">&nbspshe&nbsp</span><span class=\"barcode\"; style=\"color: black; background-color: #fb6c4c\">&nbspare&nbsp</span><span class=\"barcode\"; style=\"color: black; background-color: #fdd2bf\">&nbspgoing&nbsp</span><span class=\"barcode\"; style=\"color: black; background-color: #fee5d8\">&nbspto&nbsp</span><span class=\"barcode\"; style=\"color: black; background-color: #fee5d8\">&nbspthe&nbsp</span><span class=\"barcode\"; style=\"color: black; background-color: #fdd2bf\">&nbsppark&nbsp</span><span class=\"barcode\"; style=\"color: black; background-color: #fcc3ab\">&nbsp.&nbsp</span><span class=\"barcode\"; style=\"color: black; background-color: #fcb499\">&nbsp[SEP]&nbsp</span>"
      ],
      "text/plain": [
       "<IPython.core.display.HTML object>"
      ]
     },
     "metadata": {},
     "output_type": "display_data"
    },
    {
     "name": "stdout",
     "output_type": "stream",
     "text": [
      "Head 8\n"
     ]
    },
    {
     "data": {
      "text/html": [
       "<span class=\"barcode\"; style=\"color: black; background-color: #fee7dc\">&nbsp[CLS]&nbsp</span><span class=\"barcode\"; style=\"color: black; background-color: #fee7db\">&nbspshe&nbsp</span><span class=\"barcode\"; style=\"color: black; background-color: #fee1d4\">&nbspare&nbsp</span><span class=\"barcode\"; style=\"color: black; background-color: #fdccb8\">&nbspgoing&nbsp</span><span class=\"barcode\"; style=\"color: black; background-color: #ffeee6\">&nbspto&nbsp</span><span class=\"barcode\"; style=\"color: black; background-color: #fff1ea\">&nbspthe&nbsp</span><span class=\"barcode\"; style=\"color: black; background-color: #fff3ed\">&nbsppark&nbsp</span><span class=\"barcode\"; style=\"color: black; background-color: #ffeee7\">&nbsp.&nbsp</span><span class=\"barcode\"; style=\"color: black; background-color: #fcbfa7\">&nbsp[SEP]&nbsp</span>"
      ],
      "text/plain": [
       "<IPython.core.display.HTML object>"
      ]
     },
     "metadata": {},
     "output_type": "display_data"
    },
    {
     "name": "stdout",
     "output_type": "stream",
     "text": [
      "Head 9\n"
     ]
    },
    {
     "data": {
      "text/html": [
       "<span class=\"barcode\"; style=\"color: black; background-color: #fff0e9\">&nbsp[CLS]&nbsp</span><span class=\"barcode\"; style=\"color: black; background-color: #67000d\">&nbspshe&nbsp</span><span class=\"barcode\"; style=\"color: black; background-color: #67000d\">&nbspare&nbsp</span><span class=\"barcode\"; style=\"color: black; background-color: #67000d\">&nbspgoing&nbsp</span><span class=\"barcode\"; style=\"color: black; background-color: #fee3d7\">&nbspto&nbsp</span><span class=\"barcode\"; style=\"color: black; background-color: #fee4d8\">&nbspthe&nbsp</span><span class=\"barcode\"; style=\"color: black; background-color: #fff3ed\">&nbsppark&nbsp</span><span class=\"barcode\"; style=\"color: black; background-color: #be151a\">&nbsp.&nbsp</span><span class=\"barcode\"; style=\"color: black; background-color: #fff5f0\">&nbsp[SEP]&nbsp</span>"
      ],
      "text/plain": [
       "<IPython.core.display.HTML object>"
      ]
     },
     "metadata": {},
     "output_type": "display_data"
    },
    {
     "name": "stdout",
     "output_type": "stream",
     "text": [
      "Head 10\n"
     ]
    },
    {
     "data": {
      "text/html": [
       "<span class=\"barcode\"; style=\"color: black; background-color: #f7593f\">&nbsp[CLS]&nbsp</span><span class=\"barcode\"; style=\"color: black; background-color: #67000d\">&nbspshe&nbsp</span><span class=\"barcode\"; style=\"color: black; background-color: #fcb79c\">&nbspare&nbsp</span><span class=\"barcode\"; style=\"color: black; background-color: #fc9777\">&nbspgoing&nbsp</span><span class=\"barcode\"; style=\"color: black; background-color: #f5523a\">&nbspto&nbsp</span><span class=\"barcode\"; style=\"color: black; background-color: #d32020\">&nbspthe&nbsp</span><span class=\"barcode\"; style=\"color: black; background-color: #fee1d4\">&nbsppark&nbsp</span><span class=\"barcode\"; style=\"color: black; background-color: #fcbda4\">&nbsp.&nbsp</span><span class=\"barcode\"; style=\"color: black; background-color: #fee5d9\">&nbsp[SEP]&nbsp</span>"
      ],
      "text/plain": [
       "<IPython.core.display.HTML object>"
      ]
     },
     "metadata": {},
     "output_type": "display_data"
    },
    {
     "name": "stdout",
     "output_type": "stream",
     "text": [
      "Head 11\n"
     ]
    },
    {
     "data": {
      "text/html": [
       "<span class=\"barcode\"; style=\"color: black; background-color: #fcbfa7\">&nbsp[CLS]&nbsp</span><span class=\"barcode\"; style=\"color: black; background-color: #f85d42\">&nbspshe&nbsp</span><span class=\"barcode\"; style=\"color: black; background-color: #f03f2e\">&nbspare&nbsp</span><span class=\"barcode\"; style=\"color: black; background-color: #fca588\">&nbspgoing&nbsp</span><span class=\"barcode\"; style=\"color: black; background-color: #fdc9b3\">&nbspto&nbsp</span><span class=\"barcode\"; style=\"color: black; background-color: #fedecf\">&nbspthe&nbsp</span><span class=\"barcode\"; style=\"color: black; background-color: #fdd4c2\">&nbsppark&nbsp</span><span class=\"barcode\"; style=\"color: black; background-color: #fdd3c1\">&nbsp.&nbsp</span><span class=\"barcode\"; style=\"color: black; background-color: #fcbda4\">&nbsp[SEP]&nbsp</span>"
      ],
      "text/plain": [
       "<IPython.core.display.HTML object>"
      ]
     },
     "metadata": {},
     "output_type": "display_data"
    },
    {
     "name": "stdout",
     "output_type": "stream",
     "text": [
      "Head 12\n"
     ]
    },
    {
     "data": {
      "text/html": [
       "<span class=\"barcode\"; style=\"color: black; background-color: #fca486\">&nbsp[CLS]&nbsp</span><span class=\"barcode\"; style=\"color: black; background-color: #fff2eb\">&nbspshe&nbsp</span><span class=\"barcode\"; style=\"color: black; background-color: #fff3ed\">&nbspare&nbsp</span><span class=\"barcode\"; style=\"color: black; background-color: #fff3ed\">&nbspgoing&nbsp</span><span class=\"barcode\"; style=\"color: black; background-color: #fff0e8\">&nbspto&nbsp</span><span class=\"barcode\"; style=\"color: black; background-color: #fff0e8\">&nbspthe&nbsp</span><span class=\"barcode\"; style=\"color: black; background-color: #feeae1\">&nbsppark&nbsp</span><span class=\"barcode\"; style=\"color: black; background-color: #ffeee6\">&nbsp.&nbsp</span><span class=\"barcode\"; style=\"color: black; background-color: #fc8d6d\">&nbsp[SEP]&nbsp</span>"
      ],
      "text/plain": [
       "<IPython.core.display.HTML object>"
      ]
     },
     "metadata": {},
     "output_type": "display_data"
    },
    {
     "name": "stdout",
     "output_type": "stream",
     "text": [
      "\n",
      "Layer 11\n",
      "Head 1\n"
     ]
    },
    {
     "data": {
      "text/html": [
       "<span class=\"barcode\"; style=\"color: black; background-color: #fdccb8\">&nbsp[CLS]&nbsp</span><span class=\"barcode\"; style=\"color: black; background-color: #67000d\">&nbspshe&nbsp</span><span class=\"barcode\"; style=\"color: black; background-color: #67000d\">&nbspare&nbsp</span><span class=\"barcode\"; style=\"color: black; background-color: #67000d\">&nbspgoing&nbsp</span><span class=\"barcode\"; style=\"color: black; background-color: #fa6547\">&nbspto&nbsp</span><span class=\"barcode\"; style=\"color: black; background-color: #ec382b\">&nbspthe&nbsp</span><span class=\"barcode\"; style=\"color: black; background-color: #fee4d8\">&nbsppark&nbsp</span><span class=\"barcode\"; style=\"color: black; background-color: #67000d\">&nbsp.&nbsp</span><span class=\"barcode\"; style=\"color: black; background-color: #fff2ec\">&nbsp[SEP]&nbsp</span>"
      ],
      "text/plain": [
       "<IPython.core.display.HTML object>"
      ]
     },
     "metadata": {},
     "output_type": "display_data"
    },
    {
     "name": "stdout",
     "output_type": "stream",
     "text": [
      "Head 2\n"
     ]
    },
    {
     "data": {
      "text/html": [
       "<span class=\"barcode\"; style=\"color: black; background-color: #fdccb8\">&nbsp[CLS]&nbsp</span><span class=\"barcode\"; style=\"color: black; background-color: #67000d\">&nbspshe&nbsp</span><span class=\"barcode\"; style=\"color: black; background-color: #67000d\">&nbspare&nbsp</span><span class=\"barcode\"; style=\"color: black; background-color: #be151a\">&nbspgoing&nbsp</span><span class=\"barcode\"; style=\"color: black; background-color: #fee4d8\">&nbspto&nbsp</span><span class=\"barcode\"; style=\"color: black; background-color: #fee3d6\">&nbspthe&nbsp</span><span class=\"barcode\"; style=\"color: black; background-color: #fdd5c4\">&nbsppark&nbsp</span><span class=\"barcode\"; style=\"color: black; background-color: #e12d26\">&nbsp.&nbsp</span><span class=\"barcode\"; style=\"color: black; background-color: #fdd7c6\">&nbsp[SEP]&nbsp</span>"
      ],
      "text/plain": [
       "<IPython.core.display.HTML object>"
      ]
     },
     "metadata": {},
     "output_type": "display_data"
    },
    {
     "name": "stdout",
     "output_type": "stream",
     "text": [
      "Head 3\n"
     ]
    },
    {
     "data": {
      "text/html": [
       "<span class=\"barcode\"; style=\"color: black; background-color: #fedaca\">&nbsp[CLS]&nbsp</span><span class=\"barcode\"; style=\"color: black; background-color: #67000d\">&nbspshe&nbsp</span><span class=\"barcode\"; style=\"color: black; background-color: #67000d\">&nbspare&nbsp</span><span class=\"barcode\"; style=\"color: black; background-color: #67000d\">&nbspgoing&nbsp</span><span class=\"barcode\"; style=\"color: black; background-color: #fcb398\">&nbspto&nbsp</span><span class=\"barcode\"; style=\"color: black; background-color: #fcb79c\">&nbspthe&nbsp</span><span class=\"barcode\"; style=\"color: black; background-color: #ffece4\">&nbsppark&nbsp</span><span class=\"barcode\"; style=\"color: black; background-color: #f96044\">&nbsp.&nbsp</span><span class=\"barcode\"; style=\"color: black; background-color: #fee3d7\">&nbsp[SEP]&nbsp</span>"
      ],
      "text/plain": [
       "<IPython.core.display.HTML object>"
      ]
     },
     "metadata": {},
     "output_type": "display_data"
    },
    {
     "name": "stdout",
     "output_type": "stream",
     "text": [
      "Head 4\n"
     ]
    },
    {
     "data": {
      "text/html": [
       "<span class=\"barcode\"; style=\"color: black; background-color: #67000d\">&nbsp[CLS]&nbsp</span><span class=\"barcode\"; style=\"color: black; background-color: #c1161b\">&nbspshe&nbsp</span><span class=\"barcode\"; style=\"color: black; background-color: #67000d\">&nbspare&nbsp</span><span class=\"barcode\"; style=\"color: black; background-color: #dc2924\">&nbspgoing&nbsp</span><span class=\"barcode\"; style=\"color: black; background-color: #f96044\">&nbspto&nbsp</span><span class=\"barcode\"; style=\"color: black; background-color: #fc9777\">&nbspthe&nbsp</span><span class=\"barcode\"; style=\"color: black; background-color: #fdc9b3\">&nbsppark&nbsp</span><span class=\"barcode\"; style=\"color: black; background-color: #c9181d\">&nbsp.&nbsp</span><span class=\"barcode\"; style=\"color: black; background-color: #fee7db\">&nbsp[SEP]&nbsp</span>"
      ],
      "text/plain": [
       "<IPython.core.display.HTML object>"
      ]
     },
     "metadata": {},
     "output_type": "display_data"
    },
    {
     "name": "stdout",
     "output_type": "stream",
     "text": [
      "Head 5\n"
     ]
    },
    {
     "data": {
      "text/html": [
       "<span class=\"barcode\"; style=\"color: black; background-color: #fc8a6a\">&nbsp[CLS]&nbsp</span><span class=\"barcode\"; style=\"color: black; background-color: #67000d\">&nbspshe&nbsp</span><span class=\"barcode\"; style=\"color: black; background-color: #67000d\">&nbspare&nbsp</span><span class=\"barcode\"; style=\"color: black; background-color: #b21218\">&nbspgoing&nbsp</span><span class=\"barcode\"; style=\"color: black; background-color: #fc9373\">&nbspto&nbsp</span><span class=\"barcode\"; style=\"color: black; background-color: #fc9070\">&nbspthe&nbsp</span><span class=\"barcode\"; style=\"color: black; background-color: #fdcdb9\">&nbsppark&nbsp</span><span class=\"barcode\"; style=\"color: black; background-color: #f34935\">&nbsp.&nbsp</span><span class=\"barcode\"; style=\"color: black; background-color: #fdcebb\">&nbsp[SEP]&nbsp</span>"
      ],
      "text/plain": [
       "<IPython.core.display.HTML object>"
      ]
     },
     "metadata": {},
     "output_type": "display_data"
    },
    {
     "name": "stdout",
     "output_type": "stream",
     "text": [
      "Head 6\n"
     ]
    },
    {
     "data": {
      "text/html": [
       "<span class=\"barcode\"; style=\"color: black; background-color: #fca183\">&nbsp[CLS]&nbsp</span><span class=\"barcode\"; style=\"color: black; background-color: #67000d\">&nbspshe&nbsp</span><span class=\"barcode\"; style=\"color: black; background-color: #67000d\">&nbspare&nbsp</span><span class=\"barcode\"; style=\"color: black; background-color: #fb7252\">&nbspgoing&nbsp</span><span class=\"barcode\"; style=\"color: black; background-color: #fcc2aa\">&nbspto&nbsp</span><span class=\"barcode\"; style=\"color: black; background-color: #fc8565\">&nbspthe&nbsp</span><span class=\"barcode\"; style=\"color: black; background-color: #fca082\">&nbsppark&nbsp</span><span class=\"barcode\"; style=\"color: black; background-color: #fc8b6b\">&nbsp.&nbsp</span><span class=\"barcode\"; style=\"color: black; background-color: #fc8565\">&nbsp[SEP]&nbsp</span>"
      ],
      "text/plain": [
       "<IPython.core.display.HTML object>"
      ]
     },
     "metadata": {},
     "output_type": "display_data"
    },
    {
     "name": "stdout",
     "output_type": "stream",
     "text": [
      "Head 7\n"
     ]
    },
    {
     "data": {
      "text/html": [
       "<span class=\"barcode\"; style=\"color: black; background-color: #fdc6b0\">&nbsp[CLS]&nbsp</span><span class=\"barcode\"; style=\"color: black; background-color: #67000d\">&nbspshe&nbsp</span><span class=\"barcode\"; style=\"color: black; background-color: #820711\">&nbspare&nbsp</span><span class=\"barcode\"; style=\"color: black; background-color: #cf1c1f\">&nbspgoing&nbsp</span><span class=\"barcode\"; style=\"color: black; background-color: #fdd3c1\">&nbspto&nbsp</span><span class=\"barcode\"; style=\"color: black; background-color: #fdcebb\">&nbspthe&nbsp</span><span class=\"barcode\"; style=\"color: black; background-color: #fee1d3\">&nbsppark&nbsp</span><span class=\"barcode\"; style=\"color: black; background-color: #79040f\">&nbsp.&nbsp</span><span class=\"barcode\"; style=\"color: black; background-color: #ffede5\">&nbsp[SEP]&nbsp</span>"
      ],
      "text/plain": [
       "<IPython.core.display.HTML object>"
      ]
     },
     "metadata": {},
     "output_type": "display_data"
    },
    {
     "name": "stdout",
     "output_type": "stream",
     "text": [
      "Head 8\n"
     ]
    },
    {
     "data": {
      "text/html": [
       "<span class=\"barcode\"; style=\"color: black; background-color: #67000d\">&nbsp[CLS]&nbsp</span><span class=\"barcode\"; style=\"color: black; background-color: #ab1016\">&nbspshe&nbsp</span><span class=\"barcode\"; style=\"color: black; background-color: #67000d\">&nbspare&nbsp</span><span class=\"barcode\"; style=\"color: black; background-color: #f5533b\">&nbspgoing&nbsp</span><span class=\"barcode\"; style=\"color: black; background-color: #f96245\">&nbspto&nbsp</span><span class=\"barcode\"; style=\"color: black; background-color: #fb6c4c\">&nbspthe&nbsp</span><span class=\"barcode\"; style=\"color: black; background-color: #d21f20\">&nbsppark&nbsp</span><span class=\"barcode\"; style=\"color: black; background-color: #fc9777\">&nbsp.&nbsp</span><span class=\"barcode\"; style=\"color: black; background-color: #67000d\">&nbsp[SEP]&nbsp</span>"
      ],
      "text/plain": [
       "<IPython.core.display.HTML object>"
      ]
     },
     "metadata": {},
     "output_type": "display_data"
    },
    {
     "name": "stdout",
     "output_type": "stream",
     "text": [
      "Head 9\n"
     ]
    },
    {
     "data": {
      "text/html": [
       "<span class=\"barcode\"; style=\"color: black; background-color: #fdc5ae\">&nbsp[CLS]&nbsp</span><span class=\"barcode\"; style=\"color: black; background-color: #c5171c\">&nbspshe&nbsp</span><span class=\"barcode\"; style=\"color: black; background-color: #8c0912\">&nbspare&nbsp</span><span class=\"barcode\"; style=\"color: black; background-color: #b61319\">&nbspgoing&nbsp</span><span class=\"barcode\"; style=\"color: black; background-color: #fdc7b2\">&nbspto&nbsp</span><span class=\"barcode\"; style=\"color: black; background-color: #fcbda4\">&nbspthe&nbsp</span><span class=\"barcode\"; style=\"color: black; background-color: #ffece3\">&nbsppark&nbsp</span><span class=\"barcode\"; style=\"color: black; background-color: #f5523a\">&nbsp.&nbsp</span><span class=\"barcode\"; style=\"color: black; background-color: #fed8c7\">&nbsp[SEP]&nbsp</span>"
      ],
      "text/plain": [
       "<IPython.core.display.HTML object>"
      ]
     },
     "metadata": {},
     "output_type": "display_data"
    },
    {
     "name": "stdout",
     "output_type": "stream",
     "text": [
      "Head 10\n"
     ]
    },
    {
     "data": {
      "text/html": [
       "<span class=\"barcode\"; style=\"color: black; background-color: #67000d\">&nbsp[CLS]&nbsp</span><span class=\"barcode\"; style=\"color: black; background-color: #67000d\">&nbspshe&nbsp</span><span class=\"barcode\"; style=\"color: black; background-color: #67000d\">&nbspare&nbsp</span><span class=\"barcode\"; style=\"color: black; background-color: #fc8d6d\">&nbspgoing&nbsp</span><span class=\"barcode\"; style=\"color: black; background-color: #fee4d8\">&nbspto&nbsp</span><span class=\"barcode\"; style=\"color: black; background-color: #fdd0bc\">&nbspthe&nbsp</span><span class=\"barcode\"; style=\"color: black; background-color: #fee1d4\">&nbsppark&nbsp</span><span class=\"barcode\"; style=\"color: black; background-color: #67000d\">&nbsp.&nbsp</span><span class=\"barcode\"; style=\"color: black; background-color: #f6583e\">&nbsp[SEP]&nbsp</span>"
      ],
      "text/plain": [
       "<IPython.core.display.HTML object>"
      ]
     },
     "metadata": {},
     "output_type": "display_data"
    },
    {
     "name": "stdout",
     "output_type": "stream",
     "text": [
      "Head 11\n"
     ]
    },
    {
     "data": {
      "text/html": [
       "<span class=\"barcode\"; style=\"color: black; background-color: #fee6da\">&nbsp[CLS]&nbsp</span><span class=\"barcode\"; style=\"color: black; background-color: #f96044\">&nbspshe&nbsp</span><span class=\"barcode\"; style=\"color: black; background-color: #f0402f\">&nbspare&nbsp</span><span class=\"barcode\"; style=\"color: black; background-color: #c8171c\">&nbspgoing&nbsp</span><span class=\"barcode\"; style=\"color: black; background-color: #fca082\">&nbspto&nbsp</span><span class=\"barcode\"; style=\"color: black; background-color: #fdd0bc\">&nbspthe&nbsp</span><span class=\"barcode\"; style=\"color: black; background-color: #ffebe2\">&nbsppark&nbsp</span><span class=\"barcode\"; style=\"color: black; background-color: #fedbcc\">&nbsp.&nbsp</span><span class=\"barcode\"; style=\"color: black; background-color: #fff5f0\">&nbsp[SEP]&nbsp</span>"
      ],
      "text/plain": [
       "<IPython.core.display.HTML object>"
      ]
     },
     "metadata": {},
     "output_type": "display_data"
    },
    {
     "name": "stdout",
     "output_type": "stream",
     "text": [
      "Head 12\n"
     ]
    },
    {
     "data": {
      "text/html": [
       "<span class=\"barcode\"; style=\"color: black; background-color: #fcc2aa\">&nbsp[CLS]&nbsp</span><span class=\"barcode\"; style=\"color: black; background-color: #a30f15\">&nbspshe&nbsp</span><span class=\"barcode\"; style=\"color: black; background-color: #67000d\">&nbspare&nbsp</span><span class=\"barcode\"; style=\"color: black; background-color: #be151a\">&nbspgoing&nbsp</span><span class=\"barcode\"; style=\"color: black; background-color: #f44d38\">&nbspto&nbsp</span><span class=\"barcode\"; style=\"color: black; background-color: #f14432\">&nbspthe&nbsp</span><span class=\"barcode\"; style=\"color: black; background-color: #f6563d\">&nbsppark&nbsp</span><span class=\"barcode\"; style=\"color: black; background-color: #fcaf93\">&nbsp.&nbsp</span><span class=\"barcode\"; style=\"color: black; background-color: #6f020e\">&nbsp[SEP]&nbsp</span>"
      ],
      "text/plain": [
       "<IPython.core.display.HTML object>"
      ]
     },
     "metadata": {},
     "output_type": "display_data"
    },
    {
     "name": "stdout",
     "output_type": "stream",
     "text": [
      "\n",
      "Layer 12\n",
      "Head 1\n"
     ]
    },
    {
     "data": {
      "text/html": [
       "<span class=\"barcode\"; style=\"color: black; background-color: #67000d\">&nbsp[CLS]&nbsp</span><span class=\"barcode\"; style=\"color: black; background-color: #67000d\">&nbspshe&nbsp</span><span class=\"barcode\"; style=\"color: black; background-color: #67000d\">&nbspare&nbsp</span><span class=\"barcode\"; style=\"color: black; background-color: #67000d\">&nbspgoing&nbsp</span><span class=\"barcode\"; style=\"color: black; background-color: #67000d\">&nbspto&nbsp</span><span class=\"barcode\"; style=\"color: black; background-color: #8c0912\">&nbspthe&nbsp</span><span class=\"barcode\"; style=\"color: black; background-color: #fb7353\">&nbsppark&nbsp</span><span class=\"barcode\"; style=\"color: black; background-color: #67000d\">&nbsp.&nbsp</span><span class=\"barcode\"; style=\"color: black; background-color: #f44f39\">&nbsp[SEP]&nbsp</span>"
      ],
      "text/plain": [
       "<IPython.core.display.HTML object>"
      ]
     },
     "metadata": {},
     "output_type": "display_data"
    },
    {
     "name": "stdout",
     "output_type": "stream",
     "text": [
      "Head 2\n"
     ]
    },
    {
     "data": {
      "text/html": [
       "<span class=\"barcode\"; style=\"color: black; background-color: #fca486\">&nbsp[CLS]&nbsp</span><span class=\"barcode\"; style=\"color: black; background-color: #b71319\">&nbspshe&nbsp</span><span class=\"barcode\"; style=\"color: black; background-color: #67000d\">&nbspare&nbsp</span><span class=\"barcode\"; style=\"color: black; background-color: #cf1c1f\">&nbspgoing&nbsp</span><span class=\"barcode\"; style=\"color: black; background-color: #fcbba1\">&nbspto&nbsp</span><span class=\"barcode\"; style=\"color: black; background-color: #fca082\">&nbspthe&nbsp</span><span class=\"barcode\"; style=\"color: black; background-color: #fcb398\">&nbsppark&nbsp</span><span class=\"barcode\"; style=\"color: black; background-color: #fb7050\">&nbsp.&nbsp</span><span class=\"barcode\"; style=\"color: black; background-color: #fb7555\">&nbsp[SEP]&nbsp</span>"
      ],
      "text/plain": [
       "<IPython.core.display.HTML object>"
      ]
     },
     "metadata": {},
     "output_type": "display_data"
    },
    {
     "name": "stdout",
     "output_type": "stream",
     "text": [
      "Head 3\n"
     ]
    },
    {
     "data": {
      "text/html": [
       "<span class=\"barcode\"; style=\"color: black; background-color: #f6553c\">&nbsp[CLS]&nbsp</span><span class=\"barcode\"; style=\"color: black; background-color: #67000d\">&nbspshe&nbsp</span><span class=\"barcode\"; style=\"color: black; background-color: #67000d\">&nbspare&nbsp</span><span class=\"barcode\"; style=\"color: black; background-color: #67000d\">&nbspgoing&nbsp</span><span class=\"barcode\"; style=\"color: black; background-color: #fb7656\">&nbspto&nbsp</span><span class=\"barcode\"; style=\"color: black; background-color: #77040f\">&nbspthe&nbsp</span><span class=\"barcode\"; style=\"color: black; background-color: #fcc4ad\">&nbsppark&nbsp</span><span class=\"barcode\"; style=\"color: black; background-color: #b91419\">&nbsp.&nbsp</span><span class=\"barcode\"; style=\"color: black; background-color: #67000d\">&nbsp[SEP]&nbsp</span>"
      ],
      "text/plain": [
       "<IPython.core.display.HTML object>"
      ]
     },
     "metadata": {},
     "output_type": "display_data"
    },
    {
     "name": "stdout",
     "output_type": "stream",
     "text": [
      "Head 4\n"
     ]
    },
    {
     "data": {
      "text/html": [
       "<span class=\"barcode\"; style=\"color: black; background-color: #eb372a\">&nbsp[CLS]&nbsp</span><span class=\"barcode\"; style=\"color: black; background-color: #67000d\">&nbspshe&nbsp</span><span class=\"barcode\"; style=\"color: black; background-color: #67000d\">&nbspare&nbsp</span><span class=\"barcode\"; style=\"color: black; background-color: #67000d\">&nbspgoing&nbsp</span><span class=\"barcode\"; style=\"color: black; background-color: #d11e1f\">&nbspto&nbsp</span><span class=\"barcode\"; style=\"color: black; background-color: #ec382b\">&nbspthe&nbsp</span><span class=\"barcode\"; style=\"color: black; background-color: #fb7151\">&nbsppark&nbsp</span><span class=\"barcode\"; style=\"color: black; background-color: #a81016\">&nbsp.&nbsp</span><span class=\"barcode\"; style=\"color: black; background-color: #fc9272\">&nbsp[SEP]&nbsp</span>"
      ],
      "text/plain": [
       "<IPython.core.display.HTML object>"
      ]
     },
     "metadata": {},
     "output_type": "display_data"
    },
    {
     "name": "stdout",
     "output_type": "stream",
     "text": [
      "Head 5\n"
     ]
    },
    {
     "data": {
      "text/html": [
       "<span class=\"barcode\"; style=\"color: black; background-color: #f85d42\">&nbsp[CLS]&nbsp</span><span class=\"barcode\"; style=\"color: black; background-color: #67000d\">&nbspshe&nbsp</span><span class=\"barcode\"; style=\"color: black; background-color: #67000d\">&nbspare&nbsp</span><span class=\"barcode\"; style=\"color: black; background-color: #67000d\">&nbspgoing&nbsp</span><span class=\"barcode\"; style=\"color: black; background-color: #f75c41\">&nbspto&nbsp</span><span class=\"barcode\"; style=\"color: black; background-color: #eb372a\">&nbspthe&nbsp</span><span class=\"barcode\"; style=\"color: black; background-color: #fcb99f\">&nbsppark&nbsp</span><span class=\"barcode\"; style=\"color: black; background-color: #6d010e\">&nbsp.&nbsp</span><span class=\"barcode\"; style=\"color: black; background-color: #fcaf93\">&nbsp[SEP]&nbsp</span>"
      ],
      "text/plain": [
       "<IPython.core.display.HTML object>"
      ]
     },
     "metadata": {},
     "output_type": "display_data"
    },
    {
     "name": "stdout",
     "output_type": "stream",
     "text": [
      "Head 6\n"
     ]
    },
    {
     "data": {
      "text/html": [
       "<span class=\"barcode\"; style=\"color: black; background-color: #fc8b6b\">&nbsp[CLS]&nbsp</span><span class=\"barcode\"; style=\"color: black; background-color: #67000d\">&nbspshe&nbsp</span><span class=\"barcode\"; style=\"color: black; background-color: #67000d\">&nbspare&nbsp</span><span class=\"barcode\"; style=\"color: black; background-color: #ab1016\">&nbspgoing&nbsp</span><span class=\"barcode\"; style=\"color: black; background-color: #fcad90\">&nbspto&nbsp</span><span class=\"barcode\"; style=\"color: black; background-color: #fc9070\">&nbspthe&nbsp</span><span class=\"barcode\"; style=\"color: black; background-color: #fb7c5c\">&nbsppark&nbsp</span><span class=\"barcode\"; style=\"color: black; background-color: #e93529\">&nbsp.&nbsp</span><span class=\"barcode\"; style=\"color: black; background-color: #fc9474\">&nbsp[SEP]&nbsp</span>"
      ],
      "text/plain": [
       "<IPython.core.display.HTML object>"
      ]
     },
     "metadata": {},
     "output_type": "display_data"
    },
    {
     "name": "stdout",
     "output_type": "stream",
     "text": [
      "Head 7\n"
     ]
    },
    {
     "data": {
      "text/html": [
       "<span class=\"barcode\"; style=\"color: black; background-color: #a60f15\">&nbsp[CLS]&nbsp</span><span class=\"barcode\"; style=\"color: black; background-color: #67000d\">&nbspshe&nbsp</span><span class=\"barcode\"; style=\"color: black; background-color: #67000d\">&nbspare&nbsp</span><span class=\"barcode\"; style=\"color: black; background-color: #67000d\">&nbspgoing&nbsp</span><span class=\"barcode\"; style=\"color: black; background-color: #e02c26\">&nbspto&nbsp</span><span class=\"barcode\"; style=\"color: black; background-color: #fb7555\">&nbspthe&nbsp</span><span class=\"barcode\"; style=\"color: black; background-color: #fb6e4e\">&nbsppark&nbsp</span><span class=\"barcode\"; style=\"color: black; background-color: #79040f\">&nbsp.&nbsp</span><span class=\"barcode\"; style=\"color: black; background-color: #f6553c\">&nbsp[SEP]&nbsp</span>"
      ],
      "text/plain": [
       "<IPython.core.display.HTML object>"
      ]
     },
     "metadata": {},
     "output_type": "display_data"
    },
    {
     "name": "stdout",
     "output_type": "stream",
     "text": [
      "Head 8\n"
     ]
    },
    {
     "data": {
      "text/html": [
       "<span class=\"barcode\"; style=\"color: black; background-color: #940b13\">&nbsp[CLS]&nbsp</span><span class=\"barcode\"; style=\"color: black; background-color: #67000d\">&nbspshe&nbsp</span><span class=\"barcode\"; style=\"color: black; background-color: #67000d\">&nbspare&nbsp</span><span class=\"barcode\"; style=\"color: black; background-color: #b81419\">&nbspgoing&nbsp</span><span class=\"barcode\"; style=\"color: black; background-color: #fcc1a8\">&nbspto&nbsp</span><span class=\"barcode\"; style=\"color: black; background-color: #fc8262\">&nbspthe&nbsp</span><span class=\"barcode\"; style=\"color: black; background-color: #fca588\">&nbsppark&nbsp</span><span class=\"barcode\"; style=\"color: black; background-color: #d42121\">&nbsp.&nbsp</span><span class=\"barcode\"; style=\"color: black; background-color: #67000d\">&nbsp[SEP]&nbsp</span>"
      ],
      "text/plain": [
       "<IPython.core.display.HTML object>"
      ]
     },
     "metadata": {},
     "output_type": "display_data"
    },
    {
     "name": "stdout",
     "output_type": "stream",
     "text": [
      "Head 9\n"
     ]
    },
    {
     "data": {
      "text/html": [
       "<span class=\"barcode\"; style=\"color: black; background-color: #fc8b6b\">&nbsp[CLS]&nbsp</span><span class=\"barcode\"; style=\"color: black; background-color: #67000d\">&nbspshe&nbsp</span><span class=\"barcode\"; style=\"color: black; background-color: #67000d\">&nbspare&nbsp</span><span class=\"barcode\"; style=\"color: black; background-color: #67000d\">&nbspgoing&nbsp</span><span class=\"barcode\"; style=\"color: black; background-color: #f14130\">&nbspto&nbsp</span><span class=\"barcode\"; style=\"color: black; background-color: #fca78b\">&nbspthe&nbsp</span><span class=\"barcode\"; style=\"color: black; background-color: #f4503a\">&nbsppark&nbsp</span><span class=\"barcode\"; style=\"color: black; background-color: #a10e15\">&nbsp.&nbsp</span><span class=\"barcode\"; style=\"color: black; background-color: #fca588\">&nbsp[SEP]&nbsp</span>"
      ],
      "text/plain": [
       "<IPython.core.display.HTML object>"
      ]
     },
     "metadata": {},
     "output_type": "display_data"
    },
    {
     "name": "stdout",
     "output_type": "stream",
     "text": [
      "Head 10\n"
     ]
    },
    {
     "data": {
      "text/html": [
       "<span class=\"barcode\"; style=\"color: black; background-color: #67000d\">&nbsp[CLS]&nbsp</span><span class=\"barcode\"; style=\"color: black; background-color: #67000d\">&nbspshe&nbsp</span><span class=\"barcode\"; style=\"color: black; background-color: #67000d\">&nbspare&nbsp</span><span class=\"barcode\"; style=\"color: black; background-color: #67000d\">&nbspgoing&nbsp</span><span class=\"barcode\"; style=\"color: black; background-color: #ca181d\">&nbspto&nbsp</span><span class=\"barcode\"; style=\"color: black; background-color: #860811\">&nbspthe&nbsp</span><span class=\"barcode\"; style=\"color: black; background-color: #fca98c\">&nbsppark&nbsp</span><span class=\"barcode\"; style=\"color: black; background-color: #67000d\">&nbsp.&nbsp</span><span class=\"barcode\"; style=\"color: black; background-color: #f96245\">&nbsp[SEP]&nbsp</span>"
      ],
      "text/plain": [
       "<IPython.core.display.HTML object>"
      ]
     },
     "metadata": {},
     "output_type": "display_data"
    },
    {
     "name": "stdout",
     "output_type": "stream",
     "text": [
      "Head 11\n"
     ]
    },
    {
     "data": {
      "text/html": [
       "<span class=\"barcode\"; style=\"color: black; background-color: #fcb99f\">&nbsp[CLS]&nbsp</span><span class=\"barcode\"; style=\"color: black; background-color: #67000d\">&nbspshe&nbsp</span><span class=\"barcode\"; style=\"color: black; background-color: #67000d\">&nbspare&nbsp</span><span class=\"barcode\"; style=\"color: black; background-color: #67000d\">&nbspgoing&nbsp</span><span class=\"barcode\"; style=\"color: black; background-color: #f24633\">&nbspto&nbsp</span><span class=\"barcode\"; style=\"color: black; background-color: #f34935\">&nbspthe&nbsp</span><span class=\"barcode\"; style=\"color: black; background-color: #fdd4c2\">&nbsppark&nbsp</span><span class=\"barcode\"; style=\"color: black; background-color: #aa1016\">&nbsp.&nbsp</span><span class=\"barcode\"; style=\"color: black; background-color: #fb7151\">&nbsp[SEP]&nbsp</span>"
      ],
      "text/plain": [
       "<IPython.core.display.HTML object>"
      ]
     },
     "metadata": {},
     "output_type": "display_data"
    },
    {
     "name": "stdout",
     "output_type": "stream",
     "text": [
      "Head 12\n"
     ]
    },
    {
     "data": {
      "text/html": [
       "<span class=\"barcode\"; style=\"color: black; background-color: #f85d42\">&nbsp[CLS]&nbsp</span><span class=\"barcode\"; style=\"color: black; background-color: #67000d\">&nbspshe&nbsp</span><span class=\"barcode\"; style=\"color: black; background-color: #67000d\">&nbspare&nbsp</span><span class=\"barcode\"; style=\"color: black; background-color: #67000d\">&nbspgoing&nbsp</span><span class=\"barcode\"; style=\"color: black; background-color: #bf151b\">&nbspto&nbsp</span><span class=\"barcode\"; style=\"color: black; background-color: #bf151b\">&nbspthe&nbsp</span><span class=\"barcode\"; style=\"color: black; background-color: #fb7d5d\">&nbsppark&nbsp</span><span class=\"barcode\"; style=\"color: black; background-color: #e32f27\">&nbsp.&nbsp</span><span class=\"barcode\"; style=\"color: black; background-color: #b71319\">&nbsp[SEP]&nbsp</span>"
      ],
      "text/plain": [
       "<IPython.core.display.HTML object>"
      ]
     },
     "metadata": {},
     "output_type": "display_data"
    }
   ],
   "source": [
    "# Visualize the attention heatmaps for the CLS token\n",
    "tokens = bert_tokenizer.convert_ids_to_tokens(inputs.detach().cpu().numpy()[0])\n",
    "for l in range(12):\n",
    "  print(\"\\nLayer\", l+1)\n",
    "  attention = np.squeeze(norms[l][1].detach().cpu().numpy(), axis=0)\n",
    "  cls_attentions = []\n",
    "  for h, head in enumerate(attention):\n",
    "    print(\"Head\", h+1)\n",
    "    # Get the attention for the cls token\n",
    "    cls_attentions = head[0]\n",
    "    display(HTML(colorize(tokens, cls_attentions)))"
   ]
  },
  {
   "cell_type": "code",
   "execution_count": 104,
   "metadata": {},
   "outputs": [
    {
     "name": "stdout",
     "output_type": "stream",
     "text": [
      "output shape: 3\n",
      "All girl brings their own lunch. : 1\n"
     ]
    }
   ],
   "source": [
    "# Encode the second sentence\n",
    "encoded_sentence2 = bert_tokenizer.batch_encode_plus([sentence2], padding=True)\n",
    "\n",
    "# Give as input to the model and get the outputs\n",
    "inputs = torch.tensor(encoded_sentence2[\"input_ids\"]).to(device)\n",
    "att = torch.tensor(encoded_sentence2[\"attention_mask\"]).to(device)\n",
    "probs, attentions, norms = model_e(inputs, attention_mask=att, output_attentions=True, output_norms=True)\n",
    "\n",
    "# Get the predictions\n",
    "output_probs = softmax(probs.detach().cpu().numpy(), axis=1)\n",
    "predictions = (np.argmax(output_probs, axis=1))\n",
    "print(sentence2, \":\", predictions[0])\n"
   ]
  },
  {
   "cell_type": "code",
   "execution_count": 114,
   "metadata": {},
   "outputs": [
    {
     "name": "stdout",
     "output_type": "stream",
     "text": [
      "\n",
      "Layer 8\n",
      "Head 1\n"
     ]
    },
    {
     "data": {
      "text/html": [
       "<span class=\"barcode\"; style=\"color: black; background-color: #fff4ef\">&nbsp[CLS]&nbsp</span><span class=\"barcode\"; style=\"color: black; background-color: #ffebe2\">&nbspall&nbsp</span><span class=\"barcode\"; style=\"color: black; background-color: #ffece3\">&nbspgirl&nbsp</span><span class=\"barcode\"; style=\"color: black; background-color: #ffece4\">&nbspbrings&nbsp</span><span class=\"barcode\"; style=\"color: black; background-color: #fff2eb\">&nbsptheir&nbsp</span><span class=\"barcode\"; style=\"color: black; background-color: #fff4ee\">&nbspown&nbsp</span><span class=\"barcode\"; style=\"color: black; background-color: #fff2eb\">&nbsplunch&nbsp</span><span class=\"barcode\"; style=\"color: black; background-color: #fee7db\">&nbsp.&nbsp</span><span class=\"barcode\"; style=\"color: black; background-color: #de2b25\">&nbsp[SEP]&nbsp</span>"
      ],
      "text/plain": [
       "<IPython.core.display.HTML object>"
      ]
     },
     "metadata": {},
     "output_type": "display_data"
    },
    {
     "name": "stdout",
     "output_type": "stream",
     "text": [
      "Head 2\n"
     ]
    },
    {
     "data": {
      "text/html": [
       "<span class=\"barcode\"; style=\"color: black; background-color: #ffefe8\">&nbsp[CLS]&nbsp</span><span class=\"barcode\"; style=\"color: black; background-color: #fff2ec\">&nbspall&nbsp</span><span class=\"barcode\"; style=\"color: black; background-color: #ffebe2\">&nbspgirl&nbsp</span><span class=\"barcode\"; style=\"color: black; background-color: #fb7c5c\">&nbspbrings&nbsp</span><span class=\"barcode\"; style=\"color: black; background-color: #ffece3\">&nbsptheir&nbsp</span><span class=\"barcode\"; style=\"color: black; background-color: #fff0e8\">&nbspown&nbsp</span><span class=\"barcode\"; style=\"color: black; background-color: #ffefe8\">&nbsplunch&nbsp</span><span class=\"barcode\"; style=\"color: black; background-color: #fff0e8\">&nbsp.&nbsp</span><span class=\"barcode\"; style=\"color: black; background-color: #fcb296\">&nbsp[SEP]&nbsp</span>"
      ],
      "text/plain": [
       "<IPython.core.display.HTML object>"
      ]
     },
     "metadata": {},
     "output_type": "display_data"
    },
    {
     "name": "stdout",
     "output_type": "stream",
     "text": [
      "Head 3\n"
     ]
    },
    {
     "data": {
      "text/html": [
       "<span class=\"barcode\"; style=\"color: black; background-color: #ffebe2\">&nbsp[CLS]&nbsp</span><span class=\"barcode\"; style=\"color: black; background-color: #fee5d8\">&nbspall&nbsp</span><span class=\"barcode\"; style=\"color: black; background-color: #fee6da\">&nbspgirl&nbsp</span><span class=\"barcode\"; style=\"color: black; background-color: #ffede5\">&nbspbrings&nbsp</span><span class=\"barcode\"; style=\"color: black; background-color: #fff4ee\">&nbsptheir&nbsp</span><span class=\"barcode\"; style=\"color: black; background-color: #fff5f0\">&nbspown&nbsp</span><span class=\"barcode\"; style=\"color: black; background-color: #fff5f0\">&nbsplunch&nbsp</span><span class=\"barcode\"; style=\"color: black; background-color: #fff5f0\">&nbsp.&nbsp</span><span class=\"barcode\"; style=\"color: black; background-color: #dd2a25\">&nbsp[SEP]&nbsp</span>"
      ],
      "text/plain": [
       "<IPython.core.display.HTML object>"
      ]
     },
     "metadata": {},
     "output_type": "display_data"
    },
    {
     "name": "stdout",
     "output_type": "stream",
     "text": [
      "Head 4\n"
     ]
    },
    {
     "data": {
      "text/html": [
       "<span class=\"barcode\"; style=\"color: black; background-color: #fff4ef\">&nbsp[CLS]&nbsp</span><span class=\"barcode\"; style=\"color: black; background-color: #fff5f0\">&nbspall&nbsp</span><span class=\"barcode\"; style=\"color: black; background-color: #fff5f0\">&nbspgirl&nbsp</span><span class=\"barcode\"; style=\"color: black; background-color: #fff5f0\">&nbspbrings&nbsp</span><span class=\"barcode\"; style=\"color: black; background-color: #fff5f0\">&nbsptheir&nbsp</span><span class=\"barcode\"; style=\"color: black; background-color: #fff4ef\">&nbspown&nbsp</span><span class=\"barcode\"; style=\"color: black; background-color: #fff5f0\">&nbsplunch&nbsp</span><span class=\"barcode\"; style=\"color: black; background-color: #fff0e9\">&nbsp.&nbsp</span><span class=\"barcode\"; style=\"color: black; background-color: #7c0510\">&nbsp[SEP]&nbsp</span>"
      ],
      "text/plain": [
       "<IPython.core.display.HTML object>"
      ]
     },
     "metadata": {},
     "output_type": "display_data"
    },
    {
     "name": "stdout",
     "output_type": "stream",
     "text": [
      "Head 5\n"
     ]
    },
    {
     "data": {
      "text/html": [
       "<span class=\"barcode\"; style=\"color: black; background-color: #fff5f0\">&nbsp[CLS]&nbsp</span><span class=\"barcode\"; style=\"color: black; background-color: #fff4ee\">&nbspall&nbsp</span><span class=\"barcode\"; style=\"color: black; background-color: #fff5f0\">&nbspgirl&nbsp</span><span class=\"barcode\"; style=\"color: black; background-color: #fff4ee\">&nbspbrings&nbsp</span><span class=\"barcode\"; style=\"color: black; background-color: #fff5f0\">&nbsptheir&nbsp</span><span class=\"barcode\"; style=\"color: black; background-color: #fff4ef\">&nbspown&nbsp</span><span class=\"barcode\"; style=\"color: black; background-color: #fff5f0\">&nbsplunch&nbsp</span><span class=\"barcode\"; style=\"color: black; background-color: #fff3ed\">&nbsp.&nbsp</span><span class=\"barcode\"; style=\"color: black; background-color: #7c0510\">&nbsp[SEP]&nbsp</span>"
      ],
      "text/plain": [
       "<IPython.core.display.HTML object>"
      ]
     },
     "metadata": {},
     "output_type": "display_data"
    },
    {
     "name": "stdout",
     "output_type": "stream",
     "text": [
      "Head 6\n"
     ]
    },
    {
     "data": {
      "text/html": [
       "<span class=\"barcode\"; style=\"color: black; background-color: #fff2eb\">&nbsp[CLS]&nbsp</span><span class=\"barcode\"; style=\"color: black; background-color: #fff2eb\">&nbspall&nbsp</span><span class=\"barcode\"; style=\"color: black; background-color: #ffefe8\">&nbspgirl&nbsp</span><span class=\"barcode\"; style=\"color: black; background-color: #fed9c9\">&nbspbrings&nbsp</span><span class=\"barcode\"; style=\"color: black; background-color: #fff3ed\">&nbsptheir&nbsp</span><span class=\"barcode\"; style=\"color: black; background-color: #fff0e8\">&nbspown&nbsp</span><span class=\"barcode\"; style=\"color: black; background-color: #fff2eb\">&nbsplunch&nbsp</span><span class=\"barcode\"; style=\"color: black; background-color: #fff2ec\">&nbsp.&nbsp</span><span class=\"barcode\"; style=\"color: black; background-color: #dd2a25\">&nbsp[SEP]&nbsp</span>"
      ],
      "text/plain": [
       "<IPython.core.display.HTML object>"
      ]
     },
     "metadata": {},
     "output_type": "display_data"
    },
    {
     "name": "stdout",
     "output_type": "stream",
     "text": [
      "Head 7\n"
     ]
    },
    {
     "data": {
      "text/html": [
       "<span class=\"barcode\"; style=\"color: black; background-color: #ffede5\">&nbsp[CLS]&nbsp</span><span class=\"barcode\"; style=\"color: black; background-color: #fff4ee\">&nbspall&nbsp</span><span class=\"barcode\"; style=\"color: black; background-color: #fff4ee\">&nbspgirl&nbsp</span><span class=\"barcode\"; style=\"color: black; background-color: #ffefe8\">&nbspbrings&nbsp</span><span class=\"barcode\"; style=\"color: black; background-color: #fff4ee\">&nbsptheir&nbsp</span><span class=\"barcode\"; style=\"color: black; background-color: #fff2eb\">&nbspown&nbsp</span><span class=\"barcode\"; style=\"color: black; background-color: #fff5f0\">&nbsplunch&nbsp</span><span class=\"barcode\"; style=\"color: black; background-color: #fff0e9\">&nbsp.&nbsp</span><span class=\"barcode\"; style=\"color: black; background-color: #b11218\">&nbsp[SEP]&nbsp</span>"
      ],
      "text/plain": [
       "<IPython.core.display.HTML object>"
      ]
     },
     "metadata": {},
     "output_type": "display_data"
    },
    {
     "name": "stdout",
     "output_type": "stream",
     "text": [
      "Head 8\n"
     ]
    },
    {
     "data": {
      "text/html": [
       "<span class=\"barcode\"; style=\"color: black; background-color: #fff5f0\">&nbsp[CLS]&nbsp</span><span class=\"barcode\"; style=\"color: black; background-color: #fff5f0\">&nbspall&nbsp</span><span class=\"barcode\"; style=\"color: black; background-color: #fff5f0\">&nbspgirl&nbsp</span><span class=\"barcode\"; style=\"color: black; background-color: #fff5f0\">&nbspbrings&nbsp</span><span class=\"barcode\"; style=\"color: black; background-color: #fff5f0\">&nbsptheir&nbsp</span><span class=\"barcode\"; style=\"color: black; background-color: #fff5f0\">&nbspown&nbsp</span><span class=\"barcode\"; style=\"color: black; background-color: #fff5f0\">&nbsplunch&nbsp</span><span class=\"barcode\"; style=\"color: black; background-color: #800610\">&nbsp.&nbsp</span><span class=\"barcode\"; style=\"color: black; background-color: #ffeee6\">&nbsp[SEP]&nbsp</span>"
      ],
      "text/plain": [
       "<IPython.core.display.HTML object>"
      ]
     },
     "metadata": {},
     "output_type": "display_data"
    },
    {
     "name": "stdout",
     "output_type": "stream",
     "text": [
      "Head 9\n"
     ]
    },
    {
     "data": {
      "text/html": [
       "<span class=\"barcode\"; style=\"color: black; background-color: #ffece4\">&nbsp[CLS]&nbsp</span><span class=\"barcode\"; style=\"color: black; background-color: #fff0e8\">&nbspall&nbsp</span><span class=\"barcode\"; style=\"color: black; background-color: #fff3ed\">&nbspgirl&nbsp</span><span class=\"barcode\"; style=\"color: black; background-color: #ffeee7\">&nbspbrings&nbsp</span><span class=\"barcode\"; style=\"color: black; background-color: #ffece3\">&nbsptheir&nbsp</span><span class=\"barcode\"; style=\"color: black; background-color: #fff3ed\">&nbspown&nbsp</span><span class=\"barcode\"; style=\"color: black; background-color: #fff4ee\">&nbsplunch&nbsp</span><span class=\"barcode\"; style=\"color: black; background-color: #f85d42\">&nbsp.&nbsp</span><span class=\"barcode\"; style=\"color: black; background-color: #fcbca2\">&nbsp[SEP]&nbsp</span>"
      ],
      "text/plain": [
       "<IPython.core.display.HTML object>"
      ]
     },
     "metadata": {},
     "output_type": "display_data"
    },
    {
     "name": "stdout",
     "output_type": "stream",
     "text": [
      "Head 10\n"
     ]
    },
    {
     "data": {
      "text/html": [
       "<span class=\"barcode\"; style=\"color: black; background-color: #fff4ef\">&nbsp[CLS]&nbsp</span><span class=\"barcode\"; style=\"color: black; background-color: #fff5f0\">&nbspall&nbsp</span><span class=\"barcode\"; style=\"color: black; background-color: #fff5f0\">&nbspgirl&nbsp</span><span class=\"barcode\"; style=\"color: black; background-color: #fff4ef\">&nbspbrings&nbsp</span><span class=\"barcode\"; style=\"color: black; background-color: #fff5f0\">&nbsptheir&nbsp</span><span class=\"barcode\"; style=\"color: black; background-color: #fff5f0\">&nbspown&nbsp</span><span class=\"barcode\"; style=\"color: black; background-color: #fff4ee\">&nbsplunch&nbsp</span><span class=\"barcode\"; style=\"color: black; background-color: #fff2eb\">&nbsp.&nbsp</span><span class=\"barcode\"; style=\"color: black; background-color: #820711\">&nbsp[SEP]&nbsp</span>"
      ],
      "text/plain": [
       "<IPython.core.display.HTML object>"
      ]
     },
     "metadata": {},
     "output_type": "display_data"
    },
    {
     "name": "stdout",
     "output_type": "stream",
     "text": [
      "Head 11\n"
     ]
    },
    {
     "data": {
      "text/html": [
       "<span class=\"barcode\"; style=\"color: black; background-color: #fff3ed\">&nbsp[CLS]&nbsp</span><span class=\"barcode\"; style=\"color: black; background-color: #fee5d9\">&nbspall&nbsp</span><span class=\"barcode\"; style=\"color: black; background-color: #fff3ed\">&nbspgirl&nbsp</span><span class=\"barcode\"; style=\"color: black; background-color: #fee7db\">&nbspbrings&nbsp</span><span class=\"barcode\"; style=\"color: black; background-color: #fff4ef\">&nbsptheir&nbsp</span><span class=\"barcode\"; style=\"color: black; background-color: #fff0e9\">&nbspown&nbsp</span><span class=\"barcode\"; style=\"color: black; background-color: #ffeee7\">&nbsplunch&nbsp</span><span class=\"barcode\"; style=\"color: black; background-color: #fff4ef\">&nbsp.&nbsp</span><span class=\"barcode\"; style=\"color: black; background-color: #d72322\">&nbsp[SEP]&nbsp</span>"
      ],
      "text/plain": [
       "<IPython.core.display.HTML object>"
      ]
     },
     "metadata": {},
     "output_type": "display_data"
    },
    {
     "name": "stdout",
     "output_type": "stream",
     "text": [
      "Head 12\n"
     ]
    },
    {
     "data": {
      "text/html": [
       "<span class=\"barcode\"; style=\"color: black; background-color: #fff5f0\">&nbsp[CLS]&nbsp</span><span class=\"barcode\"; style=\"color: black; background-color: #fff4ef\">&nbspall&nbsp</span><span class=\"barcode\"; style=\"color: black; background-color: #fff5f0\">&nbspgirl&nbsp</span><span class=\"barcode\"; style=\"color: black; background-color: #fff5f0\">&nbspbrings&nbsp</span><span class=\"barcode\"; style=\"color: black; background-color: #fff5f0\">&nbsptheir&nbsp</span><span class=\"barcode\"; style=\"color: black; background-color: #fff5f0\">&nbspown&nbsp</span><span class=\"barcode\"; style=\"color: black; background-color: #fff5f0\">&nbsplunch&nbsp</span><span class=\"barcode\"; style=\"color: black; background-color: #7c0510\">&nbsp.&nbsp</span><span class=\"barcode\"; style=\"color: black; background-color: #fff0e8\">&nbsp[SEP]&nbsp</span>"
      ],
      "text/plain": [
       "<IPython.core.display.HTML object>"
      ]
     },
     "metadata": {},
     "output_type": "display_data"
    }
   ],
   "source": [
    "# Visualize the attention heatmaps for the CLS token\n",
    "tokens = bert_tokenizer.convert_ids_to_tokens(inputs.detach().cpu().numpy()[0])\n",
    "for l in range(7,8):\n",
    "  print(\"\\nLayer\", l+1)\n",
    "  attention = np.squeeze(attentions[l].detach().cpu().numpy(), axis=0)\n",
    "  cls_attentions = []\n",
    "  for h, head in enumerate(attention):\n",
    "    print(\"Head\", h+1)\n",
    "    # Get the attention for the cls token\n",
    "    cls_attentions = head[0]\n",
    "    display(HTML(colorize(tokens, cls_attentions)))"
   ]
  },
  {
   "cell_type": "code",
   "execution_count": 115,
   "metadata": {},
   "outputs": [
    {
     "name": "stdout",
     "output_type": "stream",
     "text": [
      "\n",
      "Layer 8\n",
      "Head 1\n"
     ]
    },
    {
     "data": {
      "text/html": [
       "<span class=\"barcode\"; style=\"color: black; background-color: #fff3ed\">&nbsp[CLS]&nbsp</span><span class=\"barcode\"; style=\"color: black; background-color: #fcae92\">&nbspall&nbsp</span><span class=\"barcode\"; style=\"color: black; background-color: #fcbca2\">&nbspgirl&nbsp</span><span class=\"barcode\"; style=\"color: black; background-color: #fcb89e\">&nbspbrings&nbsp</span><span class=\"barcode\"; style=\"color: black; background-color: #fee6da\">&nbsptheir&nbsp</span><span class=\"barcode\"; style=\"color: black; background-color: #ffece3\">&nbspown&nbsp</span><span class=\"barcode\"; style=\"color: black; background-color: #fee7db\">&nbsplunch&nbsp</span><span class=\"barcode\"; style=\"color: black; background-color: #fcb99f\">&nbsp.&nbsp</span><span class=\"barcode\"; style=\"color: black; background-color: #fcc2aa\">&nbsp[SEP]&nbsp</span>"
      ],
      "text/plain": [
       "<IPython.core.display.HTML object>"
      ]
     },
     "metadata": {},
     "output_type": "display_data"
    },
    {
     "name": "stdout",
     "output_type": "stream",
     "text": [
      "Head 2\n"
     ]
    },
    {
     "data": {
      "text/html": [
       "<span class=\"barcode\"; style=\"color: black; background-color: #fdcdb9\">&nbsp[CLS]&nbsp</span><span class=\"barcode\"; style=\"color: black; background-color: #fee5d8\">&nbspall&nbsp</span><span class=\"barcode\"; style=\"color: black; background-color: #fcad90\">&nbspgirl&nbsp</span><span class=\"barcode\"; style=\"color: black; background-color: #67000d\">&nbspbrings&nbsp</span><span class=\"barcode\"; style=\"color: black; background-color: #fca588\">&nbsptheir&nbsp</span><span class=\"barcode\"; style=\"color: black; background-color: #fcc2aa\">&nbspown&nbsp</span><span class=\"barcode\"; style=\"color: black; background-color: #fdd3c1\">&nbsplunch&nbsp</span><span class=\"barcode\"; style=\"color: black; background-color: #fdd2bf\">&nbsp.&nbsp</span><span class=\"barcode\"; style=\"color: black; background-color: #feeae0\">&nbsp[SEP]&nbsp</span>"
      ],
      "text/plain": [
       "<IPython.core.display.HTML object>"
      ]
     },
     "metadata": {},
     "output_type": "display_data"
    },
    {
     "name": "stdout",
     "output_type": "stream",
     "text": [
      "Head 3\n"
     ]
    },
    {
     "data": {
      "text/html": [
       "<span class=\"barcode\"; style=\"color: black; background-color: #fedbcc\">&nbsp[CLS]&nbsp</span><span class=\"barcode\"; style=\"color: black; background-color: #fc8e6e\">&nbspall&nbsp</span><span class=\"barcode\"; style=\"color: black; background-color: #fc9272\">&nbspgirl&nbsp</span><span class=\"barcode\"; style=\"color: black; background-color: #fed9c9\">&nbspbrings&nbsp</span><span class=\"barcode\"; style=\"color: black; background-color: #ffefe8\">&nbsptheir&nbsp</span><span class=\"barcode\"; style=\"color: black; background-color: #fff4ef\">&nbspown&nbsp</span><span class=\"barcode\"; style=\"color: black; background-color: #fff3ed\">&nbsplunch&nbsp</span><span class=\"barcode\"; style=\"color: black; background-color: #fff4ee\">&nbsp.&nbsp</span><span class=\"barcode\"; style=\"color: black; background-color: #fdcebb\">&nbsp[SEP]&nbsp</span>"
      ],
      "text/plain": [
       "<IPython.core.display.HTML object>"
      ]
     },
     "metadata": {},
     "output_type": "display_data"
    },
    {
     "name": "stdout",
     "output_type": "stream",
     "text": [
      "Head 4\n"
     ]
    },
    {
     "data": {
      "text/html": [
       "<span class=\"barcode\"; style=\"color: black; background-color: #fff1ea\">&nbsp[CLS]&nbsp</span><span class=\"barcode\"; style=\"color: black; background-color: #fff4ef\">&nbspall&nbsp</span><span class=\"barcode\"; style=\"color: black; background-color: #fff5f0\">&nbspgirl&nbsp</span><span class=\"barcode\"; style=\"color: black; background-color: #fff2ec\">&nbspbrings&nbsp</span><span class=\"barcode\"; style=\"color: black; background-color: #fff5f0\">&nbsptheir&nbsp</span><span class=\"barcode\"; style=\"color: black; background-color: #fff0e9\">&nbspown&nbsp</span><span class=\"barcode\"; style=\"color: black; background-color: #fff3ed\">&nbsplunch&nbsp</span><span class=\"barcode\"; style=\"color: black; background-color: #fee3d7\">&nbsp.&nbsp</span><span class=\"barcode\"; style=\"color: black; background-color: #fdc9b3\">&nbsp[SEP]&nbsp</span>"
      ],
      "text/plain": [
       "<IPython.core.display.HTML object>"
      ]
     },
     "metadata": {},
     "output_type": "display_data"
    },
    {
     "name": "stdout",
     "output_type": "stream",
     "text": [
      "Head 5\n"
     ]
    },
    {
     "data": {
      "text/html": [
       "<span class=\"barcode\"; style=\"color: black; background-color: #fff4ef\">&nbsp[CLS]&nbsp</span><span class=\"barcode\"; style=\"color: black; background-color: #fff2eb\">&nbspall&nbsp</span><span class=\"barcode\"; style=\"color: black; background-color: #fff4ee\">&nbspgirl&nbsp</span><span class=\"barcode\"; style=\"color: black; background-color: #fff2ec\">&nbspbrings&nbsp</span><span class=\"barcode\"; style=\"color: black; background-color: #fff4ef\">&nbsptheir&nbsp</span><span class=\"barcode\"; style=\"color: black; background-color: #fff3ed\">&nbspown&nbsp</span><span class=\"barcode\"; style=\"color: black; background-color: #fff5f0\">&nbsplunch&nbsp</span><span class=\"barcode\"; style=\"color: black; background-color: #fff1ea\">&nbsp.&nbsp</span><span class=\"barcode\"; style=\"color: black; background-color: #fc9e80\">&nbsp[SEP]&nbsp</span>"
      ],
      "text/plain": [
       "<IPython.core.display.HTML object>"
      ]
     },
     "metadata": {},
     "output_type": "display_data"
    },
    {
     "name": "stdout",
     "output_type": "stream",
     "text": [
      "Head 6\n"
     ]
    },
    {
     "data": {
      "text/html": [
       "<span class=\"barcode\"; style=\"color: black; background-color: #fee7dc\">&nbsp[CLS]&nbsp</span><span class=\"barcode\"; style=\"color: black; background-color: #fee3d7\">&nbspall&nbsp</span><span class=\"barcode\"; style=\"color: black; background-color: #fdcdb9\">&nbspgirl&nbsp</span><span class=\"barcode\"; style=\"color: black; background-color: #7e0610\">&nbspbrings&nbsp</span><span class=\"barcode\"; style=\"color: black; background-color: #ffebe2\">&nbsptheir&nbsp</span><span class=\"barcode\"; style=\"color: black; background-color: #fdcdb9\">&nbspown&nbsp</span><span class=\"barcode\"; style=\"color: black; background-color: #fedbcc\">&nbsplunch&nbsp</span><span class=\"barcode\"; style=\"color: black; background-color: #ffece4\">&nbsp.&nbsp</span><span class=\"barcode\"; style=\"color: black; background-color: #fdd4c2\">&nbsp[SEP]&nbsp</span>"
      ],
      "text/plain": [
       "<IPython.core.display.HTML object>"
      ]
     },
     "metadata": {},
     "output_type": "display_data"
    },
    {
     "name": "stdout",
     "output_type": "stream",
     "text": [
      "Head 7\n"
     ]
    },
    {
     "data": {
      "text/html": [
       "<span class=\"barcode\"; style=\"color: black; background-color: #fdd0bc\">&nbsp[CLS]&nbsp</span><span class=\"barcode\"; style=\"color: black; background-color: #ffebe2\">&nbspall&nbsp</span><span class=\"barcode\"; style=\"color: black; background-color: #ffeee6\">&nbspgirl&nbsp</span><span class=\"barcode\"; style=\"color: black; background-color: #fdd0bc\">&nbspbrings&nbsp</span><span class=\"barcode\"; style=\"color: black; background-color: #ffede5\">&nbsptheir&nbsp</span><span class=\"barcode\"; style=\"color: black; background-color: #fdd3c1\">&nbspown&nbsp</span><span class=\"barcode\"; style=\"color: black; background-color: #fff2ec\">&nbsplunch&nbsp</span><span class=\"barcode\"; style=\"color: black; background-color: #fed8c7\">&nbsp.&nbsp</span><span class=\"barcode\"; style=\"color: black; background-color: #fdcbb6\">&nbsp[SEP]&nbsp</span>"
      ],
      "text/plain": [
       "<IPython.core.display.HTML object>"
      ]
     },
     "metadata": {},
     "output_type": "display_data"
    },
    {
     "name": "stdout",
     "output_type": "stream",
     "text": [
      "Head 8\n"
     ]
    },
    {
     "data": {
      "text/html": [
       "<span class=\"barcode\"; style=\"color: black; background-color: #fff4ee\">&nbsp[CLS]&nbsp</span><span class=\"barcode\"; style=\"color: black; background-color: #fff5f0\">&nbspall&nbsp</span><span class=\"barcode\"; style=\"color: black; background-color: #fff3ed\">&nbspgirl&nbsp</span><span class=\"barcode\"; style=\"color: black; background-color: #fff5f0\">&nbspbrings&nbsp</span><span class=\"barcode\"; style=\"color: black; background-color: #fff5f0\">&nbsptheir&nbsp</span><span class=\"barcode\"; style=\"color: black; background-color: #fff5f0\">&nbspown&nbsp</span><span class=\"barcode\"; style=\"color: black; background-color: #fff5f0\">&nbsplunch&nbsp</span><span class=\"barcode\"; style=\"color: black; background-color: #67000d\">&nbsp.&nbsp</span><span class=\"barcode\"; style=\"color: black; background-color: #fff4ee\">&nbsp[SEP]&nbsp</span>"
      ],
      "text/plain": [
       "<IPython.core.display.HTML object>"
      ]
     },
     "metadata": {},
     "output_type": "display_data"
    },
    {
     "name": "stdout",
     "output_type": "stream",
     "text": [
      "Head 9\n"
     ]
    },
    {
     "data": {
      "text/html": [
       "<span class=\"barcode\"; style=\"color: black; background-color: #fdc9b3\">&nbsp[CLS]&nbsp</span><span class=\"barcode\"; style=\"color: black; background-color: #fedccd\">&nbspall&nbsp</span><span class=\"barcode\"; style=\"color: black; background-color: #fee8dd\">&nbspgirl&nbsp</span><span class=\"barcode\"; style=\"color: black; background-color: #fdc7b2\">&nbspbrings&nbsp</span><span class=\"barcode\"; style=\"color: black; background-color: #fc9c7d\">&nbsptheir&nbsp</span><span class=\"barcode\"; style=\"color: black; background-color: #feeae0\">&nbspown&nbsp</span><span class=\"barcode\"; style=\"color: black; background-color: #ffeee7\">&nbsplunch&nbsp</span><span class=\"barcode\"; style=\"color: black; background-color: #67000d\">&nbsp.&nbsp</span><span class=\"barcode\"; style=\"color: black; background-color: #fee8de\">&nbsp[SEP]&nbsp</span>"
      ],
      "text/plain": [
       "<IPython.core.display.HTML object>"
      ]
     },
     "metadata": {},
     "output_type": "display_data"
    },
    {
     "name": "stdout",
     "output_type": "stream",
     "text": [
      "Head 10\n"
     ]
    },
    {
     "data": {
      "text/html": [
       "<span class=\"barcode\"; style=\"color: black; background-color: #fff1ea\">&nbsp[CLS]&nbsp</span><span class=\"barcode\"; style=\"color: black; background-color: #fff3ed\">&nbspall&nbsp</span><span class=\"barcode\"; style=\"color: black; background-color: #fff3ed\">&nbspgirl&nbsp</span><span class=\"barcode\"; style=\"color: black; background-color: #fff0e9\">&nbspbrings&nbsp</span><span class=\"barcode\"; style=\"color: black; background-color: #fff3ed\">&nbsptheir&nbsp</span><span class=\"barcode\"; style=\"color: black; background-color: #fff3ed\">&nbspown&nbsp</span><span class=\"barcode\"; style=\"color: black; background-color: #fff0e8\">&nbsplunch&nbsp</span><span class=\"barcode\"; style=\"color: black; background-color: #ffebe2\">&nbsp.&nbsp</span><span class=\"barcode\"; style=\"color: black; background-color: #fcbca2\">&nbsp[SEP]&nbsp</span>"
      ],
      "text/plain": [
       "<IPython.core.display.HTML object>"
      ]
     },
     "metadata": {},
     "output_type": "display_data"
    },
    {
     "name": "stdout",
     "output_type": "stream",
     "text": [
      "Head 11\n"
     ]
    },
    {
     "data": {
      "text/html": [
       "<span class=\"barcode\"; style=\"color: black; background-color: #fff0e8\">&nbsp[CLS]&nbsp</span><span class=\"barcode\"; style=\"color: black; background-color: #fc9070\">&nbspall&nbsp</span><span class=\"barcode\"; style=\"color: black; background-color: #fee9df\">&nbspgirl&nbsp</span><span class=\"barcode\"; style=\"color: black; background-color: #fcae92\">&nbspbrings&nbsp</span><span class=\"barcode\"; style=\"color: black; background-color: #fff2eb\">&nbsptheir&nbsp</span><span class=\"barcode\"; style=\"color: black; background-color: #fedccd\">&nbspown&nbsp</span><span class=\"barcode\"; style=\"color: black; background-color: #fdc9b3\">&nbsplunch&nbsp</span><span class=\"barcode\"; style=\"color: black; background-color: #fff2ec\">&nbsp.&nbsp</span><span class=\"barcode\"; style=\"color: black; background-color: #fedbcc\">&nbsp[SEP]&nbsp</span>"
      ],
      "text/plain": [
       "<IPython.core.display.HTML object>"
      ]
     },
     "metadata": {},
     "output_type": "display_data"
    },
    {
     "name": "stdout",
     "output_type": "stream",
     "text": [
      "Head 12\n"
     ]
    },
    {
     "data": {
      "text/html": [
       "<span class=\"barcode\"; style=\"color: black; background-color: #fff5f0\">&nbsp[CLS]&nbsp</span><span class=\"barcode\"; style=\"color: black; background-color: #fff2eb\">&nbspall&nbsp</span><span class=\"barcode\"; style=\"color: black; background-color: #fff4ee\">&nbspgirl&nbsp</span><span class=\"barcode\"; style=\"color: black; background-color: #fff5f0\">&nbspbrings&nbsp</span><span class=\"barcode\"; style=\"color: black; background-color: #fff5f0\">&nbsptheir&nbsp</span><span class=\"barcode\"; style=\"color: black; background-color: #fff5f0\">&nbspown&nbsp</span><span class=\"barcode\"; style=\"color: black; background-color: #fff5f0\">&nbsplunch&nbsp</span><span class=\"barcode\"; style=\"color: black; background-color: #67000d\">&nbsp.&nbsp</span><span class=\"barcode\"; style=\"color: black; background-color: #fff4ef\">&nbsp[SEP]&nbsp</span>"
      ],
      "text/plain": [
       "<IPython.core.display.HTML object>"
      ]
     },
     "metadata": {},
     "output_type": "display_data"
    }
   ],
   "source": [
    "# Visualize the attention heatmaps for the CLS token\n",
    "tokens = bert_tokenizer.convert_ids_to_tokens(inputs.detach().cpu().numpy()[0])\n",
    "for l in range(7,8):\n",
    "  print(\"\\nLayer\", l+1)\n",
    "  attention = np.squeeze(norms[l][1].detach().cpu().numpy(), axis=0)\n",
    "  cls_attentions = []\n",
    "  for h, head in enumerate(attention):\n",
    "    print(\"Head\", h+1)\n",
    "    # Get the attention for the cls token\n",
    "    cls_attentions = head[0]\n",
    "    display(HTML(colorize(tokens, cls_attentions)))"
   ]
  }
 ],
 "metadata": {
  "kernelspec": {
   "display_name": "Python 3",
   "language": "python",
   "name": "python3"
  },
  "language_info": {
   "codemirror_mode": {
    "name": "ipython",
    "version": 3
   },
   "file_extension": ".py",
   "mimetype": "text/x-python",
   "name": "python",
   "nbconvert_exporter": "python",
   "pygments_lexer": "ipython3",
   "version": "3.8.7"
  }
 },
 "nbformat": 4,
 "nbformat_minor": 4
}
